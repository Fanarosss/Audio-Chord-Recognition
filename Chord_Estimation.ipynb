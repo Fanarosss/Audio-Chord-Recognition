{
 "cells": [
  {
   "cell_type": "markdown",
   "metadata": {},
   "source": [
    "<h1>Chord Estimation</h1>\n",
    "<br>\n",
    "In this Notebook we are going to explore a different representation for the chords, similarly as used in a paper from mirex\n",
    "<br>"
   ]
  },
  {
   "cell_type": "code",
   "execution_count": 1,
   "metadata": {},
   "outputs": [],
   "source": [
    "import sys\n",
    "# do this only once\n",
    "sys.path.append('./src/audio_processing/')\n",
    "sys.path.append('./src/data_processing/')\n",
    "sys.path.append('./src/chord_parser/')\n",
    "sys.path.append('./src/metrics/')"
   ]
  },
  {
   "cell_type": "code",
   "execution_count": 2,
   "metadata": {},
   "outputs": [],
   "source": [
    "import pandas as pd\n",
    "import numpy as np\n",
    "import matplotlib.pyplot as plt\n",
    "\n",
    "#python input/output and regex\n",
    "import re\n",
    "import os\n",
    "from pathlib import Path\n",
    "\n",
    "#visuals\n",
    "import seaborn as sns\n",
    "\n",
    "#chord info\n",
    "import pychord as pc\n",
    "\n",
    "#signal processing libraries\n",
    "from scipy.io import wavfile\n",
    "from scipy import signal\n",
    "\n",
    "#sklearn for normalization\n",
    "from sklearn.preprocessing import StandardScaler, OneHotEncoder\n",
    "\n",
    "#tensorflow\n",
    "import tensorflow as tf\n",
    "from tensorflow import keras\n",
    "\n",
    "#librosa\n",
    "import librosa\n",
    "import librosa.display\n",
    "\n",
    "#mirex\n",
    "import mir_eval\n",
    "\n",
    "#import custom modules\n",
    "import filters\n",
    "import spectrograms\n",
    "import audiofiles\n",
    "from annotation_processing import chords_to_onehot"
   ]
  },
  {
   "cell_type": "markdown",
   "metadata": {},
   "source": [
    "## CQT\n",
    "- number of bins = 192\n",
    "- bins per octave = 24\n",
    "- sample rate = 22050 Hz\n",
    "- min frequency = C1 (~31Hz)\n",
    "- hop_length = 2048"
   ]
  },
  {
   "cell_type": "code",
   "execution_count": 3,
   "metadata": {},
   "outputs": [],
   "source": [
    "nbins=192\n",
    "bins_per_octave=24\n",
    "hop_length=2048\n",
    "audiofiles_path = 'Audiofiles/The Beatles/original'\n",
    "input_features = nbins\n",
    "Artist = 'The Beatles'\n",
    "\n",
    "Timeseries = {'The Beatles': {}}\n",
    "Timestamps = {'The Beatles': {}}"
   ]
  },
  {
   "cell_type": "code",
   "execution_count": 4,
   "metadata": {},
   "outputs": [],
   "source": [
    "## cqt on isophonics\n",
    "for filename in Path(audiofiles_path).glob('**/*.wav'):\n",
    "\n",
    "    path, track = os.path.split(filename)\n",
    "    path, album = os.path.split(path)\n",
    "\n",
    "    track_no = re.search('([0-9].).', track).group(1)\n",
    "\n",
    "    # read wav and create spectrogram\n",
    "    track, sample_rate = librosa.load(filename, sr = 22050)\n",
    "    track_time = librosa.get_duration(y=track, sr=sample_rate)\n",
    "#     n_fft = int(track_time // (hop_length / sample_rate))\n",
    "    \n",
    "    spectrogram = librosa.cqt(track, sr=sample_rate, n_bins=nbins, bins_per_octave=bins_per_octave, hop_length=hop_length)\n",
    "\n",
    "    frames = list(range(0, spectrogram.shape[1]))\n",
    "    times = librosa.frames_to_time(frames, sr=sample_rate, hop_length=hop_length)\n",
    "\n",
    "    if album not in Timeseries[Artist]:\n",
    "        Timeseries[Artist][album] = {}\n",
    "        Timestamps[Artist][album] = {}\n",
    "\n",
    "    Timeseries[Artist][album][track_no] = librosa.amplitude_to_db(abs(spectrogram), ref=np.max).T\n",
    "    Timestamps[Artist][album][track_no] = times"
   ]
  },
  {
   "cell_type": "code",
   "execution_count": 6,
   "metadata": {},
   "outputs": [],
   "source": [
    "# Scale Spectrogram Data\n",
    "for album in Timeseries[Artist].keys():\n",
    "    for track_no in Timeseries[Artist][album]:\n",
    "        Timeseries[Artist][album][track_no] += 80"
   ]
  },
  {
   "cell_type": "markdown",
   "metadata": {},
   "source": [
    "Only if in possesion of billboard **GLOBAL z-normalization**"
   ]
  },
  {
   "cell_type": "code",
   "execution_count": 36,
   "metadata": {},
   "outputs": [],
   "source": [
    "## OPTIONAL !!\n",
    "\n",
    "global_Scaler = StandardScaler()\n",
    "\n",
    "for artist in Timeseries.keys():\n",
    "    for album in Timeseries[artist].keys():\n",
    "        for track_no, track_data in Timeseries[artist][album].items():\n",
    "            global_Scaler.fit(track_data)\n",
    "            \n",
    "for track_no, track_data in Timeseries_Billboard.items():\n",
    "    global_Scaler.fit(track_data)\n",
    "            \n",
    "for artist in Timeseries.keys():\n",
    "    for album in Timeseries[artist].keys():\n",
    "        for track_no, track_data in Timeseries[artist][album].items():\n",
    "            Timeseries[artist][album][track_no] = global_Scaler.transform(track_data)\n",
    "            \n",
    "for track_no, track_data in Timeseries_Billboard.items():\n",
    "    Timeseries_Billboard[track_no] = global_Scaler.transform(track_data)"
   ]
  },
  {
   "cell_type": "markdown",
   "metadata": {},
   "source": [
    "## Annotations"
   ]
  },
  {
   "cell_type": "markdown",
   "metadata": {},
   "source": [
    "#### Isophonics"
   ]
  },
  {
   "cell_type": "code",
   "execution_count": 4,
   "metadata": {},
   "outputs": [],
   "source": [
    "### get all chordlab files\n",
    "Chordlab = {'The Beatles': {}}\n",
    "for filename in Path('Big-Dataset/The Beatles').glob('**/scratch/**/*.lab'):\n",
    "    \n",
    "    path, track = os.path.split(filename)\n",
    "    path, album = os.path.split(path)\n",
    "    track_no = re.search('([0-9].)_-_',track).group(1)\n",
    "    \n",
    "    if (album not in Chordlab['The Beatles']): \n",
    "        Chordlab['The Beatles'][album] = {}\n",
    "        \n",
    "    Chordlab['The Beatles'][album][track_no] = pd.read_csv(filename, names=['Starts', 'Ends', 'Chord'], sep=' ', header=None)"
   ]
  },
  {
   "cell_type": "markdown",
   "metadata": {},
   "source": [
    "<br>"
   ]
  },
  {
   "cell_type": "markdown",
   "metadata": {},
   "source": [
    "## Data Augmentation"
   ]
  },
  {
   "cell_type": "markdown",
   "metadata": {},
   "source": [
    "### Audio"
   ]
  },
  {
   "cell_type": "code",
   "execution_count": 7,
   "metadata": {},
   "outputs": [],
   "source": [
    "## cqt on isophonics\n",
    "for nshift, shift in [(1, 'up1'), (-1, 'down1'), (2, 'up2'), (-2, 'down2'),(3, 'up3'), (-3, 'down3'), (4, 'up4'), (-4, 'down4'), (5, 'up5'), (-5, 'down5'), (6, 'up6')]:\n",
    "    for filename in Path(audiofiles_path).glob('**/*.wav'):\n",
    "\n",
    "        path, track = os.path.split(filename)\n",
    "        path, album = os.path.split(path)\n",
    "\n",
    "        track_no = re.search('([0-9].).', track).group(1)\n",
    "\n",
    "        # read wav\n",
    "        track, sample_rate = librosa.load(filename, sr = 22050)\n",
    "        # create gaussian noise\n",
    "        mean = np.mean(track)\n",
    "        var = np.var(track)\n",
    "        noise = np.random.normal(mean, var, track.shape)\n",
    "        # add noise\n",
    "        track += noise\n",
    "        # pitch shift\n",
    "        y_shifted = librosa.effects.pitch_shift(track, sample_rate, n_steps=nshift)\n",
    "        # create cqt\n",
    "        spectrogram = librosa.cqt(y_shifted, sr=sample_rate, n_bins=nbins, bins_per_octave=bins_per_octave, hop_length=hop_length)\n",
    "        # timesteps\n",
    "        frames = list(range(0, spectrogram.shape[1]))\n",
    "        times = librosa.frames_to_time(frames, sr=sample_rate, hop_length=hop_length)\n",
    "        \n",
    "        # output\n",
    "        new_album = album + '_' + shift\n",
    "        if new_album not in Timeseries['The Beatles']:\n",
    "            Timeseries['The Beatles'][new_album] = {}\n",
    "            Timestamps['The Beatles'][new_album] = {}\n",
    "\n",
    "        new_track = track_no + '_' + shift\n",
    "        Timeseries['The Beatles'][new_album][new_track] = librosa.amplitude_to_db(abs(spectrogram), ref=np.max).T\n",
    "        Timestamps['The Beatles'][new_album][new_track] = times"
   ]
  },
  {
   "cell_type": "code",
   "execution_count": 8,
   "metadata": {},
   "outputs": [],
   "source": [
    "# Scale Spectrogram Data\n",
    "for album in Timeseries[Artist].keys():\n",
    "    for track_no in Timeseries[Artist][album]:\n",
    "        if album.find('_down') != -1 or album.find('_up') != -1:\n",
    "            Timeseries[Artist][album][track_no] += 80"
   ]
  },
  {
   "cell_type": "markdown",
   "metadata": {},
   "source": [
    "### Annotations"
   ]
  },
  {
   "cell_type": "code",
   "execution_count": 5,
   "metadata": {},
   "outputs": [],
   "source": [
    "ChordLib = {'C' : 0, 'C#': 1, 'Db' : 1, 'D' : 2, 'D#' : 3, 'Eb' : 3, 'E' : 4, 'Fb' : 4,\n",
    "            'F' : 5, 'F#' : 6, 'Gb' : 6, 'G' : 7, 'G#' : 8, 'Ab' : 8, 'A' : 9, 'A#' : 10,\n",
    "            'Bb' : 10, 'B' : 11, 'Cb' : 11, 'N' : 12, 'X' : 13}\n",
    "Harmonic_Equivalents = {'A#' : 'Bb', 'C#' : 'Db', 'D#' : 'Eb', 'F#' : 'Gb', 'G#' : 'Ab'}\n",
    "Semitone_List = ['C', 'C#', 'D', 'Eb', 'E', 'F', 'F#', 'G', 'G#', 'A', 'Bb', 'B']"
   ]
  },
  {
   "cell_type": "code",
   "execution_count": 6,
   "metadata": {},
   "outputs": [],
   "source": [
    "for filename in Path('Big-Dataset/The Beatles').glob('**/scratch/**/*.lab'):\n",
    "    \n",
    "    path, track = os.path.split(filename)\n",
    "    path, album = os.path.split(path)\n",
    "    track_no = re.search('([0-9].)_-_',track).group(1)\n",
    "    \n",
    "    for pitch_shift, nshift in [('up1', 1), ('down1', 1), ('up2', 2), ('down2', 2),('up3', 3), ('down3', 3), ('up4', 4), ('down4', 4), ('up5', 5), ('down5', 5), ('up6', 6)]:\n",
    "        new_album = album + '_' + pitch_shift\n",
    "        new_track = track_no + '_' + pitch_shift\n",
    "        \n",
    "        if (new_album not in Chordlab['The Beatles']): \n",
    "            Chordlab['The Beatles'][new_album] = {}\n",
    "        \n",
    "        if pitch_shift.find('down') != -1:\n",
    "            chord_list = []\n",
    "            for _, starts, ends, chord in Chordlab['The Beatles'][album][track_no].itertuples():\n",
    "                rest = ''\n",
    "                if chord != 'N':\n",
    "                    if chord.find(':') != -1:\n",
    "                        chord, rest = chord.split(':')\n",
    "                        rest = ':' + rest\n",
    "                    if chord.find('/') != -1:\n",
    "                        chord, rest = chord.split('/')\n",
    "                        rest = '/' + rest\n",
    "                    chord_list.append([starts, ends, Semitone_List[ChordLib[chord] - nshift] + rest])\n",
    "                else:\n",
    "                    chord_list.append([starts, ends, chord])\n",
    "\n",
    "            df = pd.DataFrame(chord_list, columns = ['Starts', 'Ends', 'Chord'])\n",
    "            Chordlab[Artist][new_album][new_track] = df\n",
    "        else:\n",
    "            chord_list = []\n",
    "            for _, starts, ends, chord in Chordlab['The Beatles'][album][track_no].itertuples():\n",
    "                rest = ''\n",
    "                if chord != 'N':\n",
    "                    if chord.find(':') != -1:\n",
    "                        chord, rest = chord.split(':')\n",
    "                        rest = ':' + rest\n",
    "                    if chord.find('/') != -1:\n",
    "                        chord, rest = chord.split('/')\n",
    "                        rest = '/' + rest\n",
    "                    chord_list.append([starts, ends, Semitone_List[(ChordLib[chord] + nshift)%12] + rest])\n",
    "                else:\n",
    "                    chord_list.append([starts, ends, chord])\n",
    "\n",
    "            df = pd.DataFrame(chord_list, columns = ['Starts', 'Ends', 'Chord'])\n",
    "            Chordlab[Artist][new_album][new_track] = df"
   ]
  },
  {
   "cell_type": "code",
   "execution_count": 7,
   "metadata": {},
   "outputs": [],
   "source": [
    "import pickle\n",
    "\n",
    "with open('timeseries.pickle', 'rb') as handle:\n",
    "    Timeseries = pickle.load(handle)\n",
    "    \n",
    "with open('timestamps.pickle', 'rb') as handle:\n",
    "    Timestamps = pickle.load(handle)"
   ]
  },
  {
   "cell_type": "markdown",
   "metadata": {},
   "source": [
    "## Chord Vocab"
   ]
  },
  {
   "cell_type": "code",
   "execution_count": 8,
   "metadata": {},
   "outputs": [
    {
     "name": "stdout",
     "output_type": "stream",
     "text": [
      "Unique Chords in our Dataset:  1672\n"
     ]
    }
   ],
   "source": [
    "### Load all chords in a dictionary\n",
    "Chords = []\n",
    "Appearances = {}\n",
    "for album in Chordlab['The Beatles'].keys():\n",
    "    for track_no in Chordlab['The Beatles'][album].keys():\n",
    "        for index, row in Chordlab['The Beatles'][album][track_no].iterrows():\n",
    "            if row['Chord'] not in Chords: \n",
    "                Chords.append(row['Chord'])\n",
    "                Appearances[row['Chord']] = 0\n",
    "            else: \n",
    "                Appearances[row['Chord']] += 1\n",
    "            \n",
    "### How many chords do we have in our dataset?\n",
    "print (\"Unique Chords in our Dataset: \",len(Chords))"
   ]
  },
  {
   "cell_type": "markdown",
   "metadata": {},
   "source": [
    "## Chord Analysis"
   ]
  },
  {
   "cell_type": "code",
   "execution_count": 13,
   "metadata": {},
   "outputs": [],
   "source": [
    "Analytic_Library = {}\n",
    "Simple_Library = {}\n",
    "Mode_Library = {}\n",
    "Extra_Chords_Appearances = 0\n",
    "Total_Chords_Appearances = 0\n",
    "for album in Chordlab['The Beatles'].keys():\n",
    "    for track_no in Chordlab['The Beatles'][album].keys():\n",
    "        for index, row in Chordlab['The Beatles'][album][track_no].iterrows():\n",
    "            Total_Chords_Appearances += 1\n",
    "            # full chord\n",
    "            if row['Chord'] in Simple_Library.keys():\n",
    "                Simple_Library[row['Chord']] += 1\n",
    "            else:\n",
    "                Simple_Library[row['Chord']] = 1\n",
    "            # break chord\n",
    "            root, quality, extra, bass = mir_eval.chord.split(row['Chord'])\n",
    "            # total count of root\n",
    "            if root not in Analytic_Library.keys():\n",
    "                Analytic_Library[root] = {}\n",
    "                Analytic_Library[root]['Total'] = 0\n",
    "            Analytic_Library[root]['Total'] += 1\n",
    "            # quality\n",
    "            if quality == '': quality = 'maj'\n",
    "            if quality not in Mode_Library.keys():\n",
    "                Mode_Library[quality] = 1\n",
    "            else:\n",
    "                Mode_Library[quality] += 1\n",
    "                \n",
    "            if quality in Analytic_Library[root].keys():\n",
    "                Analytic_Library[root][quality] += 1\n",
    "            else:\n",
    "                Analytic_Library[root][quality] = 1\n",
    "            # extra\n",
    "            if len(extra) > 0:\n",
    "                Extra_Chords_Appearances += 1"
   ]
  },
  {
   "cell_type": "code",
   "execution_count": 14,
   "metadata": {},
   "outputs": [
    {
     "data": {
      "image/png": "[encoded data removed]",
      "text/plain": [
       "<Figure size 2160x1200 with 1 Axes>"
      ]
     },
     "metadata": {},
     "output_type": "display_data"
    }
   ],
   "source": [
    "import squarify\n",
    "import matplotlib\n",
    "\n",
    "my_values = [value for value in Mode_Library.values()]\n",
    "cmap = plt.cm.GnBu\n",
    "mini=min(my_values)\n",
    "maxi=max(my_values)\n",
    "\n",
    "norm = matplotlib.colors.Normalize(vmin=mini, vmax=maxi)\n",
    "colors = [cmap(norm(value)) for value in my_values]\n",
    " \n",
    "# Change color\n",
    "plt.figure(num=None, figsize=(18, 10), dpi=120, facecolor='w', edgecolor='k')\n",
    "squarify.plot(label=[key for key in Mode_Library.keys()], sizes=my_values, alpha=0.7, color=colors, bar_kwargs=dict(linewidth=1, edgecolor=\"#222222\"))\n",
    "plt.title(\"Chord Modes\",fontsize=15,fontweight=\"bold\")\n",
    "plt.axis('off')\n",
    "plt.savefig('ChordModes.png')"
   ]
  },
  {
   "cell_type": "code",
   "execution_count": 15,
   "metadata": {},
   "outputs": [
    {
     "data": {
      "image/png": "[encoded data removed]",
      "text/plain": [
       "<Figure size 2160x1200 with 1 Axes>"
      ]
     },
     "metadata": {},
     "output_type": "display_data"
    }
   ],
   "source": [
    "height = [Analytic_Library[key]['Total'] for key in Analytic_Library.keys()]\n",
    "\n",
    "norm = matplotlib.colors.Normalize(vmin=mini, vmax=maxi)\n",
    "colors = [cmap(norm(value)) for value in my_values]\n",
    "bars = [key for key in Analytic_Library.keys()]\n",
    "y_pos = np.arange(len(bars))\n",
    "\n",
    "plt.figure(num=None, figsize=(18, 10), dpi=120, facecolor='w', edgecolor='k')\n",
    "plt.bar(y_pos, height, color=(0.2, 0.4, 0.6, 0.6))\n",
    "plt.xticks(y_pos, bars)\n",
    "plt.title(\"Root Chords\",fontsize=15,fontweight=\"bold\")\n",
    "plt.savefig(\"RootChords.png\")"
   ]
  },
  {
   "cell_type": "code",
   "execution_count": 16,
   "metadata": {},
   "outputs": [
    {
     "data": {
      "image/png": "[encoded data removed]",
      "text/plain": [
       "<Figure size 2160x1200 with 1 Axes>"
      ]
     },
     "metadata": {},
     "output_type": "display_data"
    }
   ],
   "source": [
    "height = [value for value in Mode_Library.values()]\n",
    "\n",
    "norm = matplotlib.colors.Normalize(vmin=mini, vmax=maxi)\n",
    "colors = [cmap(norm(value)) for value in my_values]\n",
    "bars = [key for key in Mode_Library.keys()]\n",
    "bars.pop(0)\n",
    "height.pop(0)\n",
    "bars.pop(1)\n",
    "height.pop(1)\n",
    "y_pos = np.arange(len(bars))\n",
    "\n",
    "plt.figure(num=None, figsize=(18, 10), dpi=120, facecolor='w', edgecolor='k')\n",
    "plt.bar(y_pos, height, color=(0.2, 0.4, 0.6, 0.6))\n",
    "for i in range(len(height)):\n",
    "    plt.text(x = i-0.2 , y = height[i]+40, s = height[i], size = 10, weight=\"bold\")\n",
    "plt.xticks(y_pos, bars, weight=\"bold\")\n",
    "plt.title(\"Non-popular modes\",fontsize=15,fontweight=\"bold\")\n",
    "plt.savefig(\"ChordModesNumbers.png\")"
   ]
  },
  {
   "cell_type": "code",
   "execution_count": 17,
   "metadata": {},
   "outputs": [
    {
     "data": {
      "text/plain": [
       "(175452, 4236, 0.0241433554476438)"
      ]
     },
     "execution_count": 17,
     "metadata": {},
     "output_type": "execute_result"
    }
   ],
   "source": [
    "Total_Chords_Appearances, Extra_Chords_Appearances, Extra_Chords_Appearances / Total_Chords_Appearances"
   ]
  },
  {
   "cell_type": "code",
   "execution_count": 18,
   "metadata": {},
   "outputs": [
    {
     "name": "stdout",
     "output_type": "stream",
     "text": [
      "Major Chords:  118344 \n",
      "Minor Chords:  29952\n"
     ]
    }
   ],
   "source": [
    "print ('Major Chords: ', Mode_Library['maj'], '\\nMinor Chords: ', Mode_Library['min'])"
   ]
  },
  {
   "cell_type": "markdown",
   "metadata": {},
   "source": [
    "Major Chords = 4*Minor Chords -> \n",
    "1. We need to increment the number of minor chords\n",
    "2. Or we can punish harder for the predictions on minor chords"
   ]
  },
  {
   "cell_type": "markdown",
   "metadata": {},
   "source": [
    "## Dataset Annotations Transformation"
   ]
  },
  {
   "cell_type": "code",
   "execution_count": 9,
   "metadata": {},
   "outputs": [],
   "source": [
    "ChordLib = {'C' : 0, 'C#': 1, 'Db' : 1, 'D' : 2, 'D#' : 3, 'Eb' : 3, 'E' : 4, 'Fb' : 4, 'F' : 5, 'F#' : 6, 'Gb' : 6, 'G' : 7, 'G#' : 8, 'Ab' : 8, 'A' : 9, 'A#' : 10, 'Bb' : 10, 'B' : 11, 'Cb' : 11, 'N' : 12, 'X' : 13}"
   ]
  },
  {
   "cell_type": "markdown",
   "metadata": {},
   "source": [
    "<img src=\"images/intervals.png\" width=\"400\" />\n",
    "\n",
    "<caption><center> <b>Figure 2</b>: Semitones to Intervals.</center></caption>"
   ]
  },
  {
   "cell_type": "code",
   "execution_count": 10,
   "metadata": {},
   "outputs": [],
   "source": [
    "def interval_to_semitone(interval):\n",
    "    if interval == '2':\n",
    "        return 2\n",
    "    elif interval == 'b2':\n",
    "        return 1\n",
    "    if interval == '3':\n",
    "        return 4\n",
    "    elif interval == 'b3':\n",
    "        return 3\n",
    "    if interval == '4':\n",
    "        return 5\n",
    "    if interval == '5':\n",
    "        return 7\n",
    "    elif interval == 'b5':\n",
    "        return 6\n",
    "    if interval == '6':\n",
    "        return 9\n",
    "    elif interval == 'b6':\n",
    "        return 8\n",
    "    if interval == '7':\n",
    "        return 11\n",
    "    elif interval == 'b7':\n",
    "        return 10\n",
    "    if interval == '9':\n",
    "        return 14\n",
    "    \n",
    "    return 0"
   ]
  },
  {
   "cell_type": "code",
   "execution_count": 11,
   "metadata": {},
   "outputs": [],
   "source": [
    "def Semitonize(interval, mode):\n",
    "    if interval == '0':\n",
    "        return 0\n",
    "    \n",
    "    if mode == 'Major':\n",
    "        return interval_to_semitone(interval)\n",
    "    elif mode == 'Minor':\n",
    "        return interval_to_semitone(interval)\n",
    "    elif mode == 'Dim':\n",
    "        return interval_to_semitone(interval)\n",
    "    elif mode == 'Aug':\n",
    "        return interval_to_semitone(interval)\n",
    "    else:\n",
    "        return 0"
   ]
  },
  {
   "cell_type": "code",
   "execution_count": 12,
   "metadata": {},
   "outputs": [],
   "source": [
    "Fourths = {'N' : 0, 'dim7' : 1, 'min7' : 2, 'maj7' : 3, 'maj6' : 4, 'X' : 5}\n",
    "Triads = {'N' : 0, 'Major' : 1, 'Minor' : 2, 'Dim' : 3, 'Aug' : 4, 'Sus2' : 5, 'Sus4' : 6, 'X' : 7}"
   ]
  },
  {
   "cell_type": "code",
   "execution_count": 13,
   "metadata": {},
   "outputs": [],
   "source": [
    "Semitones = ['C', 'C#', 'D', 'D#', 'E', 'F', 'F#', 'G', 'G#', 'A', 'A#', 'B']"
   ]
  },
  {
   "cell_type": "code",
   "execution_count": 14,
   "metadata": {},
   "outputs": [],
   "source": [
    "def parse_chords(Chords, df):\n",
    "    # silence\n",
    "    df['Root'].append(ChordLib['N'])\n",
    "    df['Bass'].append(ChordLib['N'])\n",
    "    df['Unknown'].append(0)\n",
    "    df['Triad'].append(Triads['N'])\n",
    "    df['Fourth Note'].append(Fourths['N'])\n",
    "    # for all chords in vocab\n",
    "    for chord in Chords:\n",
    "        if chord == 'N':\n",
    "            continue\n",
    "        \n",
    "        root, quality, extra, bass = mir_eval.chord.split(chord)\n",
    "        # initialize\n",
    "        Mode = 'Major'\n",
    "        fourth_note = ''\n",
    "        fourth_note_mode = ''\n",
    "        Unknown = False\n",
    "\n",
    "        if quality == '7':\n",
    "            #Dominant seventh\n",
    "            Mode = 'Major'\n",
    "            fourth_note = '7'\n",
    "            fourth_note_mode = 'min'\n",
    "        elif quality[:3] == 'min':\n",
    "            Mode = 'Minor'\n",
    "            if quality != 'min':\n",
    "                if quality[3] == '7':\n",
    "                    fourth_note = '7'\n",
    "                    fourth_note_mode = 'min'\n",
    "        elif quality[:3] == 'dim':\n",
    "            Mode = 'Dim'\n",
    "            if quality != 'dim':\n",
    "                fourth_note = quality[3]\n",
    "                fourth_note_mode = 'dim'\n",
    "        elif quality[:3] == 'aug':\n",
    "            # Root + Major third + Augmented fifth + Minor seventh\n",
    "            Mode = 'Aug'\n",
    "            if quality != 'aug':\n",
    "                fourth_note = quality[3]\n",
    "                fourth_note_mode = 'min'\n",
    "        elif quality[:3] == 'maj':\n",
    "            Mode = 'Major'\n",
    "            if quality != 'maj':\n",
    "                quality = quality[3:]\n",
    "                fourth_note_mode = 'maj'\n",
    "                fourth_note = quality[0]\n",
    "        elif quality[:4] == 'sus2':\n",
    "            Mode = 'Sus2'\n",
    "        elif quality[:4] == 'sus4':\n",
    "            Mode = 'Sus4'\n",
    "        elif quality[:4] == 'sus7':\n",
    "            Mode = 'X'\n",
    "            fourth_note = '7'\n",
    "            fourth_note_mode = 'min'\n",
    "        elif quality[:4] == 'sus9':\n",
    "            Mode = 'X'\n",
    "            fourth_note = '7'\n",
    "            fourth_note_mode = 'min'\n",
    "            Unknown = True\n",
    "        elif quality[:4] == 'hdim':\n",
    "            #half diminished\n",
    "            Mode ='Dim'\n",
    "            fourth_note_mode = 'min'\n",
    "            fourth_note = quality[4]\n",
    "        elif quality == '9':\n",
    "            #Dominant seventh\n",
    "            Mode = 'Major'\n",
    "            fourth_note = '7'\n",
    "            fourth_note_mode = 'min'\n",
    "        else:\n",
    "            Unknown = True\n",
    "\n",
    "        # find bass\n",
    "        if bass == '1':\n",
    "            bass = root\n",
    "        else:\n",
    "            bass = Semitones[(ChordLib[root] + interval_to_semitone(bass))%12]\n",
    "        \n",
    "        if not Unknown:\n",
    "            #print(root, bass, Mode, fourth_note)\n",
    "            df['Root'].append(ChordLib[root])\n",
    "            df['Bass'].append(ChordLib[bass])\n",
    "            df['Unknown'].append(0)\n",
    "            df['Triad'].append(Triads[Mode])\n",
    "            if (fourth_note != '7' and fourth_note != '6'):\n",
    "                fourth_note = 'N'\n",
    "                fourth_note_mode = ''\n",
    "            df['Fourth Note'].append(Fourths[fourth_note_mode + fourth_note])\n",
    "        else:\n",
    "            df['Root'].append(ChordLib[root])\n",
    "            df['Bass'].append(ChordLib[bass])\n",
    "            df['Unknown'].append(1)\n",
    "            df['Triad'].append(Triads[Mode])\n",
    "            df['Fourth Note'].append(Fourths['X'])"
   ]
  },
  {
   "cell_type": "code",
   "execution_count": 15,
   "metadata": {
    "scrolled": false
   },
   "outputs": [],
   "source": [
    "df = pd.DataFrame(columns=('Root', 'Bass', 'Unknown', 'Triad', 'Fourth Note'))\n",
    "representations = {'Root' : [], 'Bass' : [], 'Unknown' : [], 'Triad' : [], 'Fourth Note' : []}"
   ]
  },
  {
   "cell_type": "code",
   "execution_count": 16,
   "metadata": {},
   "outputs": [],
   "source": [
    "parse_chords(Chords, representations)"
   ]
  },
  {
   "cell_type": "markdown",
   "metadata": {},
   "source": [
    "**Convert the dictionary to dataframe**"
   ]
  },
  {
   "cell_type": "code",
   "execution_count": 17,
   "metadata": {},
   "outputs": [
    {
     "data": {
      "text/html": [
       "<div>\n",
       "<style scoped>\n",
       "    .dataframe tbody tr th:only-of-type {\n",
       "        vertical-align: middle;\n",
       "    }\n",
       "\n",
       "    .dataframe tbody tr th {\n",
       "        vertical-align: top;\n",
       "    }\n",
       "\n",
       "    .dataframe thead th {\n",
       "        text-align: right;\n",
       "    }\n",
       "</style>\n",
       "<table border=\"1\" class=\"dataframe\">\n",
       "  <thead>\n",
       "    <tr style=\"text-align: right;\">\n",
       "      <th>Chord</th>\n",
       "      <th>Root</th>\n",
       "      <th>Bass</th>\n",
       "      <th>Unknown</th>\n",
       "      <th>Triad</th>\n",
       "      <th>Fourth Note</th>\n",
       "    </tr>\n",
       "  </thead>\n",
       "  <tbody>\n",
       "    <tr>\n",
       "      <td>N</td>\n",
       "      <td>12</td>\n",
       "      <td>12</td>\n",
       "      <td>0</td>\n",
       "      <td>0</td>\n",
       "      <td>0</td>\n",
       "    </tr>\n",
       "    <tr>\n",
       "      <td>F:maj6</td>\n",
       "      <td>5</td>\n",
       "      <td>5</td>\n",
       "      <td>0</td>\n",
       "      <td>1</td>\n",
       "      <td>4</td>\n",
       "    </tr>\n",
       "    <tr>\n",
       "      <td>C</td>\n",
       "      <td>0</td>\n",
       "      <td>0</td>\n",
       "      <td>0</td>\n",
       "      <td>1</td>\n",
       "      <td>0</td>\n",
       "    </tr>\n",
       "    <tr>\n",
       "      <td>G</td>\n",
       "      <td>7</td>\n",
       "      <td>7</td>\n",
       "      <td>0</td>\n",
       "      <td>1</td>\n",
       "      <td>0</td>\n",
       "    </tr>\n",
       "    <tr>\n",
       "      <td>A:min</td>\n",
       "      <td>9</td>\n",
       "      <td>9</td>\n",
       "      <td>0</td>\n",
       "      <td>2</td>\n",
       "      <td>0</td>\n",
       "    </tr>\n",
       "    <tr>\n",
       "      <td>D:min7/4</td>\n",
       "      <td>2</td>\n",
       "      <td>7</td>\n",
       "      <td>0</td>\n",
       "      <td>2</td>\n",
       "      <td>2</td>\n",
       "    </tr>\n",
       "    <tr>\n",
       "      <td>F:maj/9</td>\n",
       "      <td>5</td>\n",
       "      <td>7</td>\n",
       "      <td>0</td>\n",
       "      <td>1</td>\n",
       "      <td>0</td>\n",
       "    </tr>\n",
       "    <tr>\n",
       "      <td>C/7</td>\n",
       "      <td>0</td>\n",
       "      <td>11</td>\n",
       "      <td>0</td>\n",
       "      <td>1</td>\n",
       "      <td>0</td>\n",
       "    </tr>\n",
       "    <tr>\n",
       "      <td>C/5</td>\n",
       "      <td>0</td>\n",
       "      <td>7</td>\n",
       "      <td>0</td>\n",
       "      <td>1</td>\n",
       "      <td>0</td>\n",
       "    </tr>\n",
       "    <tr>\n",
       "      <td>F</td>\n",
       "      <td>5</td>\n",
       "      <td>5</td>\n",
       "      <td>0</td>\n",
       "      <td>1</td>\n",
       "      <td>0</td>\n",
       "    </tr>\n",
       "    <tr>\n",
       "      <td>Ab</td>\n",
       "      <td>8</td>\n",
       "      <td>8</td>\n",
       "      <td>0</td>\n",
       "      <td>1</td>\n",
       "      <td>0</td>\n",
       "    </tr>\n",
       "    <tr>\n",
       "      <td>Bb</td>\n",
       "      <td>10</td>\n",
       "      <td>10</td>\n",
       "      <td>0</td>\n",
       "      <td>1</td>\n",
       "      <td>0</td>\n",
       "    </tr>\n",
       "    <tr>\n",
       "      <td>Ab/7</td>\n",
       "      <td>8</td>\n",
       "      <td>7</td>\n",
       "      <td>0</td>\n",
       "      <td>1</td>\n",
       "      <td>0</td>\n",
       "    </tr>\n",
       "    <tr>\n",
       "      <td>Ab/b7</td>\n",
       "      <td>8</td>\n",
       "      <td>6</td>\n",
       "      <td>0</td>\n",
       "      <td>1</td>\n",
       "      <td>0</td>\n",
       "    </tr>\n",
       "    <tr>\n",
       "      <td>F:7</td>\n",
       "      <td>5</td>\n",
       "      <td>5</td>\n",
       "      <td>0</td>\n",
       "      <td>1</td>\n",
       "      <td>2</td>\n",
       "    </tr>\n",
       "    <tr>\n",
       "      <td>B</td>\n",
       "      <td>11</td>\n",
       "      <td>11</td>\n",
       "      <td>0</td>\n",
       "      <td>1</td>\n",
       "      <td>0</td>\n",
       "    </tr>\n",
       "    <tr>\n",
       "      <td>A</td>\n",
       "      <td>9</td>\n",
       "      <td>9</td>\n",
       "      <td>0</td>\n",
       "      <td>1</td>\n",
       "      <td>0</td>\n",
       "    </tr>\n",
       "    <tr>\n",
       "      <td>E</td>\n",
       "      <td>4</td>\n",
       "      <td>4</td>\n",
       "      <td>0</td>\n",
       "      <td>1</td>\n",
       "      <td>0</td>\n",
       "    </tr>\n",
       "    <tr>\n",
       "      <td>E:7</td>\n",
       "      <td>4</td>\n",
       "      <td>4</td>\n",
       "      <td>0</td>\n",
       "      <td>1</td>\n",
       "      <td>2</td>\n",
       "    </tr>\n",
       "    <tr>\n",
       "      <td>D</td>\n",
       "      <td>2</td>\n",
       "      <td>2</td>\n",
       "      <td>0</td>\n",
       "      <td>1</td>\n",
       "      <td>0</td>\n",
       "    </tr>\n",
       "    <tr>\n",
       "      <td>D:7</td>\n",
       "      <td>2</td>\n",
       "      <td>2</td>\n",
       "      <td>0</td>\n",
       "      <td>1</td>\n",
       "      <td>2</td>\n",
       "    </tr>\n",
       "    <tr>\n",
       "      <td>A/b7</td>\n",
       "      <td>9</td>\n",
       "      <td>7</td>\n",
       "      <td>0</td>\n",
       "      <td>1</td>\n",
       "      <td>0</td>\n",
       "    </tr>\n",
       "    <tr>\n",
       "      <td>F#:min7</td>\n",
       "      <td>6</td>\n",
       "      <td>6</td>\n",
       "      <td>0</td>\n",
       "      <td>2</td>\n",
       "      <td>2</td>\n",
       "    </tr>\n",
       "    <tr>\n",
       "      <td>D:maj(11)</td>\n",
       "      <td>2</td>\n",
       "      <td>2</td>\n",
       "      <td>0</td>\n",
       "      <td>1</td>\n",
       "      <td>0</td>\n",
       "    </tr>\n",
       "    <tr>\n",
       "      <td>D:maj(9)</td>\n",
       "      <td>2</td>\n",
       "      <td>2</td>\n",
       "      <td>0</td>\n",
       "      <td>1</td>\n",
       "      <td>0</td>\n",
       "    </tr>\n",
       "    <tr>\n",
       "      <td>C:maj(#11)</td>\n",
       "      <td>0</td>\n",
       "      <td>0</td>\n",
       "      <td>0</td>\n",
       "      <td>1</td>\n",
       "      <td>0</td>\n",
       "    </tr>\n",
       "    <tr>\n",
       "      <td>G/3</td>\n",
       "      <td>7</td>\n",
       "      <td>11</td>\n",
       "      <td>0</td>\n",
       "      <td>1</td>\n",
       "      <td>0</td>\n",
       "    </tr>\n",
       "    <tr>\n",
       "      <td>D#:dim7</td>\n",
       "      <td>3</td>\n",
       "      <td>3</td>\n",
       "      <td>0</td>\n",
       "      <td>3</td>\n",
       "      <td>1</td>\n",
       "    </tr>\n",
       "    <tr>\n",
       "      <td>D/b7</td>\n",
       "      <td>2</td>\n",
       "      <td>0</td>\n",
       "      <td>0</td>\n",
       "      <td>1</td>\n",
       "      <td>0</td>\n",
       "    </tr>\n",
       "    <tr>\n",
       "      <td>G:min(9)/b3</td>\n",
       "      <td>7</td>\n",
       "      <td>10</td>\n",
       "      <td>0</td>\n",
       "      <td>2</td>\n",
       "      <td>0</td>\n",
       "    </tr>\n",
       "    <tr>\n",
       "      <td>D/5</td>\n",
       "      <td>2</td>\n",
       "      <td>9</td>\n",
       "      <td>0</td>\n",
       "      <td>1</td>\n",
       "      <td>0</td>\n",
       "    </tr>\n",
       "    <tr>\n",
       "      <td>G#:(1)</td>\n",
       "      <td>8</td>\n",
       "      <td>8</td>\n",
       "      <td>1</td>\n",
       "      <td>1</td>\n",
       "      <td>5</td>\n",
       "    </tr>\n",
       "    <tr>\n",
       "      <td>D:min</td>\n",
       "      <td>2</td>\n",
       "      <td>2</td>\n",
       "      <td>0</td>\n",
       "      <td>2</td>\n",
       "      <td>0</td>\n",
       "    </tr>\n",
       "    <tr>\n",
       "      <td>G:7</td>\n",
       "      <td>7</td>\n",
       "      <td>7</td>\n",
       "      <td>0</td>\n",
       "      <td>1</td>\n",
       "      <td>2</td>\n",
       "    </tr>\n",
       "    <tr>\n",
       "      <td>C:7</td>\n",
       "      <td>0</td>\n",
       "      <td>0</td>\n",
       "      <td>0</td>\n",
       "      <td>1</td>\n",
       "      <td>2</td>\n",
       "    </tr>\n",
       "    <tr>\n",
       "      <td>F#:dim</td>\n",
       "      <td>6</td>\n",
       "      <td>6</td>\n",
       "      <td>0</td>\n",
       "      <td>3</td>\n",
       "      <td>0</td>\n",
       "    </tr>\n",
       "    <tr>\n",
       "      <td>A:min/5</td>\n",
       "      <td>9</td>\n",
       "      <td>4</td>\n",
       "      <td>0</td>\n",
       "      <td>2</td>\n",
       "      <td>0</td>\n",
       "    </tr>\n",
       "    <tr>\n",
       "      <td>A:dim/b5</td>\n",
       "      <td>9</td>\n",
       "      <td>3</td>\n",
       "      <td>0</td>\n",
       "      <td>3</td>\n",
       "      <td>0</td>\n",
       "    </tr>\n",
       "    <tr>\n",
       "      <td>Eb</td>\n",
       "      <td>3</td>\n",
       "      <td>3</td>\n",
       "      <td>0</td>\n",
       "      <td>1</td>\n",
       "      <td>0</td>\n",
       "    </tr>\n",
       "    <tr>\n",
       "      <td>A:dim7/b3</td>\n",
       "      <td>9</td>\n",
       "      <td>0</td>\n",
       "      <td>0</td>\n",
       "      <td>3</td>\n",
       "      <td>1</td>\n",
       "    </tr>\n",
       "    <tr>\n",
       "      <td>G:min/5</td>\n",
       "      <td>7</td>\n",
       "      <td>2</td>\n",
       "      <td>0</td>\n",
       "      <td>2</td>\n",
       "      <td>0</td>\n",
       "    </tr>\n",
       "    <tr>\n",
       "      <td>F/5</td>\n",
       "      <td>5</td>\n",
       "      <td>0</td>\n",
       "      <td>0</td>\n",
       "      <td>1</td>\n",
       "      <td>0</td>\n",
       "    </tr>\n",
       "    <tr>\n",
       "      <td>Eb/5</td>\n",
       "      <td>3</td>\n",
       "      <td>10</td>\n",
       "      <td>0</td>\n",
       "      <td>1</td>\n",
       "      <td>0</td>\n",
       "    </tr>\n",
       "    <tr>\n",
       "      <td>F:min</td>\n",
       "      <td>5</td>\n",
       "      <td>5</td>\n",
       "      <td>0</td>\n",
       "      <td>2</td>\n",
       "      <td>0</td>\n",
       "    </tr>\n",
       "    <tr>\n",
       "      <td>F:maj7</td>\n",
       "      <td>5</td>\n",
       "      <td>5</td>\n",
       "      <td>0</td>\n",
       "      <td>1</td>\n",
       "      <td>3</td>\n",
       "    </tr>\n",
       "    <tr>\n",
       "      <td>G:min</td>\n",
       "      <td>7</td>\n",
       "      <td>7</td>\n",
       "      <td>0</td>\n",
       "      <td>2</td>\n",
       "      <td>0</td>\n",
       "    </tr>\n",
       "    <tr>\n",
       "      <td>F/3</td>\n",
       "      <td>5</td>\n",
       "      <td>9</td>\n",
       "      <td>0</td>\n",
       "      <td>1</td>\n",
       "      <td>0</td>\n",
       "    </tr>\n",
       "    <tr>\n",
       "      <td>F:min/b7</td>\n",
       "      <td>5</td>\n",
       "      <td>3</td>\n",
       "      <td>0</td>\n",
       "      <td>2</td>\n",
       "      <td>0</td>\n",
       "    </tr>\n",
       "    <tr>\n",
       "      <td>D:dim</td>\n",
       "      <td>2</td>\n",
       "      <td>2</td>\n",
       "      <td>0</td>\n",
       "      <td>3</td>\n",
       "      <td>0</td>\n",
       "    </tr>\n",
       "    <tr>\n",
       "      <td>F:7/b7</td>\n",
       "      <td>5</td>\n",
       "      <td>3</td>\n",
       "      <td>0</td>\n",
       "      <td>1</td>\n",
       "      <td>2</td>\n",
       "    </tr>\n",
       "    <tr>\n",
       "      <td>Eb:dim</td>\n",
       "      <td>3</td>\n",
       "      <td>3</td>\n",
       "      <td>0</td>\n",
       "      <td>3</td>\n",
       "      <td>0</td>\n",
       "    </tr>\n",
       "    <tr>\n",
       "      <td>G:min/b7</td>\n",
       "      <td>7</td>\n",
       "      <td>5</td>\n",
       "      <td>0</td>\n",
       "      <td>2</td>\n",
       "      <td>0</td>\n",
       "    </tr>\n",
       "    <tr>\n",
       "      <td>Eb/3</td>\n",
       "      <td>3</td>\n",
       "      <td>7</td>\n",
       "      <td>0</td>\n",
       "      <td>1</td>\n",
       "      <td>0</td>\n",
       "    </tr>\n",
       "    <tr>\n",
       "      <td>F:(1)</td>\n",
       "      <td>5</td>\n",
       "      <td>5</td>\n",
       "      <td>1</td>\n",
       "      <td>1</td>\n",
       "      <td>5</td>\n",
       "    </tr>\n",
       "    <tr>\n",
       "      <td>Eb/2</td>\n",
       "      <td>3</td>\n",
       "      <td>5</td>\n",
       "      <td>0</td>\n",
       "      <td>1</td>\n",
       "      <td>0</td>\n",
       "    </tr>\n",
       "    <tr>\n",
       "      <td>A:dim/b3</td>\n",
       "      <td>9</td>\n",
       "      <td>0</td>\n",
       "      <td>0</td>\n",
       "      <td>3</td>\n",
       "      <td>0</td>\n",
       "    </tr>\n",
       "    <tr>\n",
       "      <td>G:(1)</td>\n",
       "      <td>7</td>\n",
       "      <td>7</td>\n",
       "      <td>1</td>\n",
       "      <td>1</td>\n",
       "      <td>5</td>\n",
       "    </tr>\n",
       "    <tr>\n",
       "      <td>F:min7</td>\n",
       "      <td>5</td>\n",
       "      <td>5</td>\n",
       "      <td>0</td>\n",
       "      <td>2</td>\n",
       "      <td>2</td>\n",
       "    </tr>\n",
       "    <tr>\n",
       "      <td>G/5</td>\n",
       "      <td>7</td>\n",
       "      <td>2</td>\n",
       "      <td>0</td>\n",
       "      <td>1</td>\n",
       "      <td>0</td>\n",
       "    </tr>\n",
       "    <tr>\n",
       "      <td>Bb/b7</td>\n",
       "      <td>10</td>\n",
       "      <td>8</td>\n",
       "      <td>0</td>\n",
       "      <td>1</td>\n",
       "      <td>0</td>\n",
       "    </tr>\n",
       "  </tbody>\n",
       "</table>\n",
       "</div>"
      ],
      "text/plain": [
       "Chord        Root  Bass  Unknown  Triad  Fourth Note\n",
       "N              12    12        0      0            0\n",
       "F:maj6          5     5        0      1            4\n",
       "C               0     0        0      1            0\n",
       "G               7     7        0      1            0\n",
       "A:min           9     9        0      2            0\n",
       "D:min7/4        2     7        0      2            2\n",
       "F:maj/9         5     7        0      1            0\n",
       "C/7             0    11        0      1            0\n",
       "C/5             0     7        0      1            0\n",
       "F               5     5        0      1            0\n",
       "Ab              8     8        0      1            0\n",
       "Bb             10    10        0      1            0\n",
       "Ab/7            8     7        0      1            0\n",
       "Ab/b7           8     6        0      1            0\n",
       "F:7             5     5        0      1            2\n",
       "B              11    11        0      1            0\n",
       "A               9     9        0      1            0\n",
       "E               4     4        0      1            0\n",
       "E:7             4     4        0      1            2\n",
       "D               2     2        0      1            0\n",
       "D:7             2     2        0      1            2\n",
       "A/b7            9     7        0      1            0\n",
       "F#:min7         6     6        0      2            2\n",
       "D:maj(11)       2     2        0      1            0\n",
       "D:maj(9)        2     2        0      1            0\n",
       "C:maj(#11)      0     0        0      1            0\n",
       "G/3             7    11        0      1            0\n",
       "D#:dim7         3     3        0      3            1\n",
       "D/b7            2     0        0      1            0\n",
       "G:min(9)/b3     7    10        0      2            0\n",
       "D/5             2     9        0      1            0\n",
       "G#:(1)          8     8        1      1            5\n",
       "D:min           2     2        0      2            0\n",
       "G:7             7     7        0      1            2\n",
       "C:7             0     0        0      1            2\n",
       "F#:dim          6     6        0      3            0\n",
       "A:min/5         9     4        0      2            0\n",
       "A:dim/b5        9     3        0      3            0\n",
       "Eb              3     3        0      1            0\n",
       "A:dim7/b3       9     0        0      3            1\n",
       "G:min/5         7     2        0      2            0\n",
       "F/5             5     0        0      1            0\n",
       "Eb/5            3    10        0      1            0\n",
       "F:min           5     5        0      2            0\n",
       "F:maj7          5     5        0      1            3\n",
       "G:min           7     7        0      2            0\n",
       "F/3             5     9        0      1            0\n",
       "F:min/b7        5     3        0      2            0\n",
       "D:dim           2     2        0      3            0\n",
       "F:7/b7          5     3        0      1            2\n",
       "Eb:dim          3     3        0      3            0\n",
       "G:min/b7        7     5        0      2            0\n",
       "Eb/3            3     7        0      1            0\n",
       "F:(1)           5     5        1      1            5\n",
       "Eb/2            3     5        0      1            0\n",
       "A:dim/b3        9     0        0      3            0\n",
       "G:(1)           7     7        1      1            5\n",
       "F:min7          5     5        0      2            2\n",
       "G/5             7     2        0      1            0\n",
       "Bb/b7          10     8        0      1            0"
      ]
     },
     "execution_count": 17,
     "metadata": {},
     "output_type": "execute_result"
    }
   ],
   "source": [
    "df = pd.DataFrame(data=representations, index=Chords).rename_axis('Chord', axis = 1)\n",
    "df.iloc[0:60]"
   ]
  },
  {
   "cell_type": "markdown",
   "metadata": {},
   "source": [
    "Now this is a dictionary for every chord<br>\n",
    "I'm going to index every chord with its timestep just liek before, but instead of a one hot of size 407, we will have the above representation<br>"
   ]
  },
  {
   "cell_type": "markdown",
   "metadata": {},
   "source": [
    "## Preprocessing"
   ]
  },
  {
   "cell_type": "code",
   "execution_count": 18,
   "metadata": {},
   "outputs": [
    {
     "data": {
      "text/plain": [
       "OneHotEncoder(categorical_features=None, categories='auto', drop=None,\n",
       "              dtype=<class 'numpy.float64'>, handle_unknown='error',\n",
       "              n_values=None, sparse=True)"
      ]
     },
     "execution_count": 18,
     "metadata": {},
     "output_type": "execute_result"
    }
   ],
   "source": [
    "encoder = OneHotEncoder(categories='auto')\n",
    "encoder.fit(np.array(list(range(0,14))).reshape(-1,1))"
   ]
  },
  {
   "cell_type": "code",
   "execution_count": 19,
   "metadata": {},
   "outputs": [
    {
     "data": {
      "text/plain": [
       "OneHotEncoder(categorical_features=None, categories='auto', drop=None,\n",
       "              dtype=<class 'numpy.float64'>, handle_unknown='error',\n",
       "              n_values=None, sparse=True)"
      ]
     },
     "execution_count": 19,
     "metadata": {},
     "output_type": "execute_result"
    }
   ],
   "source": [
    "encoder_triads = OneHotEncoder(categories='auto')\n",
    "encoder_triads.fit(np.array(list(range(0,8))).reshape(-1,1))"
   ]
  },
  {
   "cell_type": "code",
   "execution_count": 20,
   "metadata": {},
   "outputs": [
    {
     "data": {
      "text/plain": [
       "OneHotEncoder(categorical_features=None, categories='auto', drop=None,\n",
       "              dtype=<class 'numpy.float64'>, handle_unknown='error',\n",
       "              n_values=None, sparse=True)"
      ]
     },
     "execution_count": 20,
     "metadata": {},
     "output_type": "execute_result"
    }
   ],
   "source": [
    "encoder_fourth = OneHotEncoder(categories='auto')\n",
    "encoder_fourth.fit(np.array(list(range(0,6))).reshape(-1,1))"
   ]
  },
  {
   "cell_type": "code",
   "execution_count": 21,
   "metadata": {},
   "outputs": [
    {
     "name": "stdout",
     "output_type": "stream",
     "text": [
      "09_-_Magical_Mystery_Tour  completed\n",
      "12_-_Let_It_Be  completed\n",
      "04_-_Beatles_for_Sale  completed\n",
      "10CD2_-_The_Beatles  completed\n",
      "05_-_Help!  completed\n",
      "03_-_A_Hard_Day's_Night  completed\n",
      "07_-_Revolver  completed\n",
      "10CD1_-_The_Beatles  completed\n",
      "08_-_Sgt._Pepper's_Lonely_Hearts_Club_Band  completed\n",
      "01_-_Please_Please_Me  completed\n",
      "06_-_Rubber_Soul  completed\n",
      "11_-_Abbey_Road  completed\n",
      "02_-_With_the_Beatles  completed\n",
      "09_-_Magical_Mystery_Tour_up1  completed\n",
      "09_-_Magical_Mystery_Tour_down1  completed\n",
      "09_-_Magical_Mystery_Tour_up2  completed\n",
      "09_-_Magical_Mystery_Tour_down2  completed\n",
      "09_-_Magical_Mystery_Tour_up3  completed\n",
      "09_-_Magical_Mystery_Tour_down3  completed\n",
      "09_-_Magical_Mystery_Tour_up4  completed\n",
      "09_-_Magical_Mystery_Tour_down4  completed\n",
      "09_-_Magical_Mystery_Tour_up5  completed\n",
      "09_-_Magical_Mystery_Tour_down5  completed\n",
      "09_-_Magical_Mystery_Tour_up6  completed\n",
      "12_-_Let_It_Be_up1  completed\n",
      "12_-_Let_It_Be_down1  completed\n",
      "12_-_Let_It_Be_up2  completed\n",
      "12_-_Let_It_Be_down2  completed\n",
      "12_-_Let_It_Be_up3  completed\n",
      "12_-_Let_It_Be_down3  completed\n",
      "12_-_Let_It_Be_up4  completed\n",
      "12_-_Let_It_Be_down4  completed\n",
      "12_-_Let_It_Be_up5  completed\n",
      "12_-_Let_It_Be_down5  completed\n",
      "12_-_Let_It_Be_up6  completed\n",
      "04_-_Beatles_for_Sale_up1  completed\n",
      "04_-_Beatles_for_Sale_down1  completed\n",
      "04_-_Beatles_for_Sale_up2  completed\n",
      "04_-_Beatles_for_Sale_down2  completed\n",
      "04_-_Beatles_for_Sale_up3  completed\n",
      "04_-_Beatles_for_Sale_down3  completed\n",
      "04_-_Beatles_for_Sale_up4  completed\n",
      "04_-_Beatles_for_Sale_down4  completed\n",
      "04_-_Beatles_for_Sale_up5  completed\n",
      "04_-_Beatles_for_Sale_down5  completed\n",
      "04_-_Beatles_for_Sale_up6  completed\n",
      "10CD2_-_The_Beatles_up1  completed\n",
      "10CD2_-_The_Beatles_down1  completed\n",
      "10CD2_-_The_Beatles_up2  completed\n",
      "10CD2_-_The_Beatles_down2  completed\n",
      "10CD2_-_The_Beatles_up3  completed\n",
      "10CD2_-_The_Beatles_down3  completed\n",
      "10CD2_-_The_Beatles_up4  completed\n",
      "10CD2_-_The_Beatles_down4  completed\n",
      "10CD2_-_The_Beatles_up5  completed\n",
      "10CD2_-_The_Beatles_down5  completed\n",
      "10CD2_-_The_Beatles_up6  completed\n",
      "05_-_Help!_up1  completed\n",
      "05_-_Help!_down1  completed\n",
      "05_-_Help!_up2  completed\n",
      "05_-_Help!_down2  completed\n",
      "05_-_Help!_up3  completed\n",
      "05_-_Help!_down3  completed\n",
      "05_-_Help!_up4  completed\n",
      "05_-_Help!_down4  completed\n",
      "05_-_Help!_up5  completed\n",
      "05_-_Help!_down5  completed\n",
      "05_-_Help!_up6  completed\n",
      "03_-_A_Hard_Day's_Night_up1  completed\n",
      "03_-_A_Hard_Day's_Night_down1  completed\n",
      "03_-_A_Hard_Day's_Night_up2  completed\n",
      "03_-_A_Hard_Day's_Night_down2  completed\n",
      "03_-_A_Hard_Day's_Night_up3  completed\n",
      "03_-_A_Hard_Day's_Night_down3  completed\n",
      "03_-_A_Hard_Day's_Night_up4  completed\n",
      "03_-_A_Hard_Day's_Night_down4  completed\n",
      "03_-_A_Hard_Day's_Night_up5  completed\n",
      "03_-_A_Hard_Day's_Night_down5  completed\n",
      "03_-_A_Hard_Day's_Night_up6  completed\n",
      "07_-_Revolver_up1  completed\n",
      "07_-_Revolver_down1  completed\n",
      "07_-_Revolver_up2  completed\n",
      "07_-_Revolver_down2  completed\n",
      "07_-_Revolver_up3  completed\n",
      "07_-_Revolver_down3  completed\n",
      "07_-_Revolver_up4  completed\n",
      "07_-_Revolver_down4  completed\n",
      "07_-_Revolver_up5  completed\n",
      "07_-_Revolver_down5  completed\n",
      "07_-_Revolver_up6  completed\n",
      "10CD1_-_The_Beatles_up1  completed\n",
      "10CD1_-_The_Beatles_down1  completed\n",
      "10CD1_-_The_Beatles_up2  completed\n",
      "10CD1_-_The_Beatles_down2  completed\n",
      "10CD1_-_The_Beatles_up3  completed\n",
      "10CD1_-_The_Beatles_down3  completed\n",
      "10CD1_-_The_Beatles_up4  completed\n",
      "10CD1_-_The_Beatles_down4  completed\n",
      "10CD1_-_The_Beatles_up5  completed\n",
      "10CD1_-_The_Beatles_down5  completed\n",
      "10CD1_-_The_Beatles_up6  completed\n",
      "08_-_Sgt._Pepper's_Lonely_Hearts_Club_Band_up1  completed\n",
      "08_-_Sgt._Pepper's_Lonely_Hearts_Club_Band_down1  completed\n",
      "08_-_Sgt._Pepper's_Lonely_Hearts_Club_Band_up2  completed\n",
      "08_-_Sgt._Pepper's_Lonely_Hearts_Club_Band_down2  completed\n",
      "08_-_Sgt._Pepper's_Lonely_Hearts_Club_Band_up3  completed\n",
      "08_-_Sgt._Pepper's_Lonely_Hearts_Club_Band_down3  completed\n",
      "08_-_Sgt._Pepper's_Lonely_Hearts_Club_Band_up4  completed\n",
      "08_-_Sgt._Pepper's_Lonely_Hearts_Club_Band_down4  completed\n",
      "08_-_Sgt._Pepper's_Lonely_Hearts_Club_Band_up5  completed\n",
      "08_-_Sgt._Pepper's_Lonely_Hearts_Club_Band_down5  completed\n",
      "08_-_Sgt._Pepper's_Lonely_Hearts_Club_Band_up6  completed\n",
      "01_-_Please_Please_Me_up1  completed\n",
      "01_-_Please_Please_Me_down1  completed\n",
      "01_-_Please_Please_Me_up2  completed\n",
      "01_-_Please_Please_Me_down2  completed\n",
      "01_-_Please_Please_Me_up3  completed\n",
      "01_-_Please_Please_Me_down3  completed\n",
      "01_-_Please_Please_Me_up4  completed\n",
      "01_-_Please_Please_Me_down4  completed\n",
      "01_-_Please_Please_Me_up5  completed\n",
      "01_-_Please_Please_Me_down5  completed\n",
      "01_-_Please_Please_Me_up6  completed\n",
      "06_-_Rubber_Soul_up1  completed\n",
      "06_-_Rubber_Soul_down1  completed\n",
      "06_-_Rubber_Soul_up2  completed\n",
      "06_-_Rubber_Soul_down2  completed\n",
      "06_-_Rubber_Soul_up3  completed\n",
      "06_-_Rubber_Soul_down3  completed\n",
      "06_-_Rubber_Soul_up4  completed\n",
      "06_-_Rubber_Soul_down4  completed\n",
      "06_-_Rubber_Soul_up5  completed\n",
      "06_-_Rubber_Soul_down5  completed\n",
      "06_-_Rubber_Soul_up6  completed\n",
      "11_-_Abbey_Road_up1  completed\n",
      "11_-_Abbey_Road_down1  completed\n",
      "11_-_Abbey_Road_up2  completed\n",
      "11_-_Abbey_Road_down2  completed\n",
      "11_-_Abbey_Road_up3  completed\n",
      "11_-_Abbey_Road_down3  completed\n",
      "11_-_Abbey_Road_up4  completed\n",
      "11_-_Abbey_Road_down4  completed\n",
      "11_-_Abbey_Road_up5  completed\n",
      "11_-_Abbey_Road_down5  completed\n",
      "11_-_Abbey_Road_up6  completed\n",
      "02_-_With_the_Beatles_up1  completed\n",
      "02_-_With_the_Beatles_down1  completed\n",
      "02_-_With_the_Beatles_up2  completed\n",
      "02_-_With_the_Beatles_down2  completed\n",
      "02_-_With_the_Beatles_up3  completed\n",
      "02_-_With_the_Beatles_down3  completed\n",
      "02_-_With_the_Beatles_up4  completed\n",
      "02_-_With_the_Beatles_down4  completed\n",
      "02_-_With_the_Beatles_up5  completed\n",
      "02_-_With_the_Beatles_down5  completed\n",
      "02_-_With_the_Beatles_up6  completed\n"
     ]
    }
   ],
   "source": [
    "### Annotations\n",
    "Artist='The Beatles'\n",
    "root_vec = {}\n",
    "bass_vec = {}\n",
    "quality_vec = {}\n",
    "for album in Chordlab[Artist].keys():\n",
    "    root_vec[album] = {}\n",
    "    bass_vec[album] = {}\n",
    "    quality_vec[album] = {}\n",
    "    for track_no in Chordlab[Artist][album].keys():\n",
    "        df_rows = Chordlab[Artist][album][track_no].itertuples()\n",
    "        index = 0\n",
    "        max_len = len(Chordlab[Artist][album][track_no])\n",
    "        root = np.empty((14,))\n",
    "        bass = np.empty((14,))\n",
    "        quality = np.empty((15,)) # 1 + 8 + 6\n",
    "        row = next(df_rows)\n",
    "        for timestamp in Timestamps[Artist][album][track_no]:\n",
    "            if ((index + 1) < max_len) & (timestamp >= row[2]):\n",
    "                index += 1\n",
    "                row = next(df_rows)\n",
    "            root = np.column_stack((root, encoder.transform([[df.loc[row[3]]['Root']]]).toarray()[0]))\n",
    "            bass = np.column_stack((bass, encoder.transform([[df.loc[row[3]]['Bass']]]).toarray()[0]))\n",
    "            quality = np.column_stack((quality, np.append(np.append(df.loc[row[3]][2], encoder_triads.transform([[df.loc[row[3]][3]]]).toarray()[0]), encoder_fourth.transform([[df.loc[row[3]][4]]]).toarray()[0])))\n",
    "        root_vec[album][track_no] = root\n",
    "        bass_vec[album][track_no] = bass\n",
    "        quality_vec[album][track_no] = quality\n",
    "    print(album, ' completed')"
   ]
  },
  {
   "cell_type": "code",
   "execution_count": 22,
   "metadata": {},
   "outputs": [],
   "source": [
    "# Take care fo the one extra row in the beginning of the array\n",
    "for album in root_vec.keys():\n",
    "    for track_no in root_vec[album].keys():\n",
    "        root_vec[album][track_no] = np.delete(root_vec[album][track_no], 0, 1)\n",
    "        bass_vec[album][track_no] = np.delete(bass_vec[album][track_no], 0, 1)\n",
    "        quality_vec[album][track_no] = np.delete(quality_vec[album][track_no], 0, 1)"
   ]
  },
  {
   "cell_type": "code",
   "execution_count": 26,
   "metadata": {},
   "outputs": [],
   "source": [
    "### STORE\n",
    "import pickle\n",
    "\n",
    "with open('root_vec.pickle', 'wb') as handle:\n",
    "    pickle.dump(root_vec, handle, protocol=pickle.HIGHEST_PROTOCOL)  \n",
    "\n",
    "with open('bass_vec.pickle', 'wb') as handle:\n",
    "    pickle.dump(bass_vec, handle, protocol=pickle.HIGHEST_PROTOCOL)     \n",
    "    \n",
    "with open('quality_vec.pickle', 'wb') as handle:\n",
    "    pickle.dump(quality_vec, handle, protocol=pickle.HIGHEST_PROTOCOL)"
   ]
  },
  {
   "cell_type": "code",
   "execution_count": 21,
   "metadata": {},
   "outputs": [],
   "source": [
    "### LOAD\n",
    "import pickle\n",
    "\n",
    "with open('root_vec.pickle', 'rb') as handle:\n",
    "    root_vec = pickle.load(handle)\n",
    "\n",
    "with open('bass_vec.pickle', 'rb') as handle:\n",
    "    bass_vec = pickle.load(handle)\n",
    "\n",
    "with open('quality_vec.pickle', 'rb') as handle:\n",
    "    quality_vec = pickle.load(handle)"
   ]
  },
  {
   "cell_type": "markdown",
   "metadata": {},
   "source": [
    "### Constructing numpy arrays\n",
    "chunk_size = slicing window (~22 secs)\n",
    "<br>\n",
    "input_features = nbins"
   ]
  },
  {
   "cell_type": "code",
   "execution_count": 86,
   "metadata": {},
   "outputs": [],
   "source": [
    "# create test train splits sets\n",
    "from sklearn.model_selection import train_test_split\n",
    "\n",
    "df_tracks = pd.read_csv('ListFileNames.csv', sep='\\t', header=None)\n",
    "track_indexes = list(df_tracks.index)\n",
    "X_ixtrain, X_ixtest = train_test_split(track_indexes, test_size=0.10, shuffle=True)\n",
    "X_tracks_train = [(re.search('([0-9].)_-_',df_tracks.iloc[ix][0]).group(1), df_tracks.iloc[ix][1]) for ix in X_ixtrain]\n",
    "X_tracks_test = [(re.search('([0-9].)_-_',df_tracks.iloc[ix][0]).group(1), df_tracks.iloc[ix][1]) for ix in X_ixtest]"
   ]
  },
  {
   "cell_type": "markdown",
   "metadata": {},
   "source": [
    "#### CD1"
   ]
  },
  {
   "cell_type": "code",
   "execution_count": 93,
   "metadata": {},
   "outputs": [],
   "source": [
    "df_tracks = pd.read_csv('CD1_files.csv', sep='\\t', header=None)\n",
    "X_ixtest = list(df_tracks.index)\n",
    "X_tracks_test = [(re.search('([0-9].)_-_',df_tracks.iloc[ix][0]).group(1), df_tracks.iloc[ix][1]) for ix in X_ixtest]"
   ]
  },
  {
   "cell_type": "code",
   "execution_count": 24,
   "metadata": {},
   "outputs": [],
   "source": [
    "with open('./train_data/X_tracks_train.pickle', 'wb') as handle:\n",
    "    pickle.dump(X_tracks_train, handle, protocol=pickle.HIGHEST_PROTOCOL)     \n",
    "    \n",
    "with open('./train_data/X_tracks_test.pickle', 'wb') as handle:\n",
    "    pickle.dump(X_tracks_test, handle, protocol=pickle.HIGHEST_PROTOCOL)"
   ]
  },
  {
   "cell_type": "code",
   "execution_count": 22,
   "metadata": {},
   "outputs": [],
   "source": [
    "with open('./train_data/X_tracks_train.pickle', 'rb') as handle:\n",
    "    X_tracks_train = pickle.load(handle)\n",
    "\n",
    "with open('./train_data/X_tracks_test.pickle', 'rb') as handle:\n",
    "    X_tracks_test = pickle.load(handle)"
   ]
  },
  {
   "cell_type": "code",
   "execution_count": 26,
   "metadata": {},
   "outputs": [],
   "source": [
    "chunk_size = 300"
   ]
  },
  {
   "cell_type": "code",
   "execution_count": 24,
   "metadata": {},
   "outputs": [
    {
     "name": "stdout",
     "output_type": "stream",
     "text": [
      "(13082, 300, 192) (13082, 300, 14) (13082, 300, 14) (102, 300, 192) (102, 300, 14) (102, 300, 14)\n"
     ]
    }
   ],
   "source": [
    "# train set\n",
    "x_train = np.zeros((1,chunk_size,input_features)) #num of frequencies\n",
    "y_train_root = np.zeros((1,chunk_size,14))\n",
    "y_train_bass = np.zeros((1,chunk_size,14))\n",
    "# test set\n",
    "x_test = np.zeros((1,chunk_size,input_features)) #num of frequencies\n",
    "y_test_root = np.zeros((1,chunk_size,14))\n",
    "y_test_bass = np.zeros((1,chunk_size,14))\n",
    "\n",
    "for album in root_vec.keys():\n",
    "    for track_no in root_vec[album].keys():\n",
    "        if len([(tr,alb) for tr, alb in X_tracks_test if album.find(alb) and tr == track_no]) > 0:\n",
    "            continue\n",
    "        timestep = 0\n",
    "        # size of the current track\n",
    "        chunks = len(Timestamps['The Beatles'][album][track_no])\n",
    "        # track frequencies\n",
    "        timeseries = Timeseries['The Beatles'][album][track_no]\n",
    "        # track annotations\n",
    "        annotations_root = root_vec[album][track_no].T\n",
    "        annotations_bass = bass_vec[album][track_no].T\n",
    "        # slice and stack train\n",
    "        while timestep < chunks :\n",
    "            if (chunks - timestep) > chunk_size:\n",
    "                batch_x = np.resize(timeseries[timestep:timestep+chunk_size,:], (1, chunk_size, input_features)) #num of frequencies\n",
    "                x_train = np.append(x_train, batch_x, axis = 0)\n",
    "                batch_y = np.resize(annotations_root[timestep:timestep+chunk_size,:], (1, chunk_size, 14))\n",
    "                y_train_root = np.append(y_train_root, batch_y, axis = 0)\n",
    "                batch_y = np.resize(annotations_bass[timestep:timestep+chunk_size,:], (1, chunk_size, 14))\n",
    "                y_train_bass = np.append(y_train_bass, batch_y, axis = 0)\n",
    "            else:\n",
    "                batch_x = timeseries[timestep:,:]\n",
    "                batch_y_root = annotations_root[timestep:,:]\n",
    "                batch_y_bass = annotations_bass[timestep:,:]\n",
    "                for step in range (0, chunk_size + timestep - chunks):\n",
    "                    batch_x = np.vstack((batch_x, np.zeros((1,input_features))))\n",
    "                    batch_y_root = np.vstack((batch_y_root, encoder.transform([[df.loc['N']['Root']]]).toarray()[0]))\n",
    "                    batch_y_bass = np.vstack((batch_y_bass, encoder.transform([[df.loc['N']['Root']]]).toarray()[0]))\n",
    "                x_train = np.append(x_train, np.array([batch_x]), axis = 0)\n",
    "                y_train_root = np.append(y_train_root, np.array([batch_y_root]), axis = 0)\n",
    "                y_train_bass = np.append(y_train_bass, np.array([batch_y_bass]), axis = 0)\n",
    "            timestep += chunk_size\n",
    "\n",
    "        \n",
    "for track_no,album in X_tracks_test:\n",
    "    timestep = 0\n",
    "    # size of the current track\n",
    "    chunks = len(Timestamps['The Beatles'][album][track_no])\n",
    "    # track frequencies\n",
    "    timeseries = Timeseries['The Beatles'][album][track_no]\n",
    "    # track annotations\n",
    "    annotations_root = root_vec[album][track_no].T\n",
    "    annotations_bass = bass_vec[album][track_no].T\n",
    "    # slice and stack test\n",
    "    while timestep < chunks :\n",
    "        if (chunks - timestep) > chunk_size:\n",
    "            batch_x = np.resize(timeseries[timestep:timestep+chunk_size,:], (1, chunk_size, input_features)) #num of frequencies\n",
    "            x_test = np.append(x_test, batch_x, axis = 0)\n",
    "            batch_y = np.resize(annotations_root[timestep:timestep+chunk_size,:], (1, chunk_size, 14))\n",
    "            y_test_root = np.append(y_test_root, batch_y, axis = 0)\n",
    "            batch_y = np.resize(annotations_bass[timestep:timestep+chunk_size,:], (1, chunk_size, 14))\n",
    "            y_test_bass = np.append(y_test_bass, batch_y, axis = 0)\n",
    "        else:\n",
    "            batch_x = timeseries[timestep:,:]\n",
    "            batch_y_root = annotations_root[timestep:,:]\n",
    "            batch_y_bass = annotations_bass[timestep:,:]\n",
    "            for step in range (0, chunk_size + timestep - chunks):\n",
    "                batch_x = np.vstack((batch_x, np.zeros((1,input_features))))\n",
    "                batch_y_root = np.vstack((batch_y_root, encoder.transform([[df.loc['N']['Root']]]).toarray()[0]))\n",
    "                batch_y_bass = np.vstack((batch_y_bass, encoder.transform([[df.loc['N']['Root']]]).toarray()[0]))\n",
    "            x_test = np.append(x_test, np.array([batch_x]), axis = 0)\n",
    "            y_test_root = np.append(y_test_root, np.array([batch_y_root]), axis = 0)\n",
    "            y_test_bass = np.append(y_test_bass, np.array([batch_y_bass]), axis = 0)\n",
    "        # augment timesteps\n",
    "        timestep += chunk_size\n",
    "\n",
    "print (x_train.shape, y_train_root.shape, y_train_bass.shape, x_test.shape, y_test_root.shape, y_test_bass.shape)"
   ]
  },
  {
   "cell_type": "markdown",
   "metadata": {},
   "source": [
    "**annotations quality**"
   ]
  },
  {
   "cell_type": "code",
   "execution_count": 25,
   "metadata": {},
   "outputs": [
    {
     "name": "stdout",
     "output_type": "stream",
     "text": [
      "(13082, 300, 15) (102, 300, 15)\n"
     ]
    }
   ],
   "source": [
    "y_train_quality = np.zeros((1,chunk_size,15))\n",
    "y_test_quality = np.zeros((1,chunk_size,15))\n",
    "\n",
    "for album in root_vec.keys():\n",
    "    for track_no in root_vec[album].keys():\n",
    "        if len([(tr,alb) for tr, alb in X_tracks_test if album.find(alb) and tr == track_no]) > 0:\n",
    "            continue\n",
    "        timestep = 0\n",
    "        # size of the current track\n",
    "        chunks = len(Timestamps['The Beatles'][album][track_no])\n",
    "        # track frequencies\n",
    "        timeseries = Timeseries['The Beatles'][album][track_no]\n",
    "        # track annotations\n",
    "        annotations_quality = quality_vec[album][track_no].T\n",
    "        # slice and stack train data\n",
    "        while timestep < chunks :\n",
    "            if (chunks - timestep) > chunk_size:\n",
    "                batch_y = np.resize(annotations_quality[timestep:timestep+chunk_size,:], (1, chunk_size, 15))\n",
    "                y_train_quality = np.append(y_train_quality, batch_y, axis = 0)\n",
    "            else:\n",
    "                batch_y = annotations_quality[timestep:,:]\n",
    "                for step in range (0, chunk_size + timestep - chunks):\n",
    "                    batch_y = np.vstack((batch_y, np.append(np.append(df.loc['N'][1], encoder_triads.transform([[df.loc['N'][2]]]).toarray()[0]), encoder_fourth.transform([[df.loc['N'][3]]]).toarray()[0])))\n",
    "                y_train_quality = np.append(y_train_quality, np.array([batch_y]), axis = 0)\n",
    "            timestep += chunk_size\n",
    "            \n",
    "for track_no,album in X_tracks_test:\n",
    "    timestep = 0\n",
    "    # size of the current track\n",
    "    chunks = len(Timestamps['The Beatles'][album][track_no])\n",
    "    # track frequencies\n",
    "    timeseries = Timeseries['The Beatles'][album][track_no]\n",
    "    # track annotations\n",
    "    annotations_quality = quality_vec[album][track_no].T\n",
    "    # slice and stack test\n",
    "    while timestep < chunks :\n",
    "        if (chunks - timestep) > chunk_size:\n",
    "            batch_y = np.resize(annotations_quality[timestep:timestep+chunk_size,:], (1, chunk_size, 15))\n",
    "            y_test_quality = np.append(y_test_quality, batch_y, axis = 0)\n",
    "        else: \n",
    "            batch_y = annotations_quality[timestep:,:]\n",
    "            for step in range (0, chunk_size + timestep - chunks):\n",
    "                batch_y = np.vstack((batch_y, np.append(np.append(df.loc['N'][1], encoder_triads.transform([[df.loc['N'][2]]]).toarray()[0]), encoder_fourth.transform([[df.loc['N'][3]]]).toarray()[0])))\n",
    "            y_test_quality = np.append(y_test_quality, np.array([batch_y]), axis = 0)\n",
    "        timestep += chunk_size\n",
    "\n",
    "print (y_train_quality.shape, y_test_quality.shape)"
   ]
  },
  {
   "cell_type": "markdown",
   "metadata": {},
   "source": [
    "Delete the first row from every array because of the append, which left it all zeros."
   ]
  },
  {
   "cell_type": "code",
   "execution_count": 26,
   "metadata": {},
   "outputs": [],
   "source": [
    "x_train = np.delete(x_train,0,0)\n",
    "x_test = np.delete(x_test,0,0)\n",
    "\n",
    "y_train_root = np.delete(y_train_root,0,0)\n",
    "y_test_root = np.delete(y_test_root,0,0)\n",
    "\n",
    "y_train_bass = np.delete(y_train_bass,0,0)\n",
    "y_test_bass = np.delete(y_test_bass,0,0)\n",
    "\n",
    "y_train_quality = np.delete(y_train_quality,0,0)\n",
    "y_test_quality = np.delete(y_test_quality,0,0)"
   ]
  },
  {
   "cell_type": "markdown",
   "metadata": {},
   "source": [
    "### MIREX TEST"
   ]
  },
  {
   "cell_type": "code",
   "execution_count": 94,
   "metadata": {},
   "outputs": [],
   "source": [
    "# validation set\n",
    "x_mirex_test = {}\n",
    "y_mirex_test_root = {}\n",
    "y_mirex_test_bass = {}\n",
    "\n",
    "for track_no,album in X_tracks_test:\n",
    "    x_temp = np.zeros((1,chunk_size,input_features)) #num of frequencies\n",
    "    y_temp_root = np.zeros((1,chunk_size,14))\n",
    "    y_temp_bass = np.zeros((1,chunk_size,14))\n",
    "    timestep = 0\n",
    "    # size of the current track\n",
    "    chunks = len(Timestamps['The Beatles'][album][track_no])\n",
    "    # track frequencies\n",
    "    timeseries = Timeseries['The Beatles'][album][track_no]\n",
    "    # track annotations\n",
    "    annotations_root = root_vec[album][track_no].T\n",
    "    annotations_bass = bass_vec[album][track_no].T\n",
    "    # test tracks\n",
    "    while timestep < chunks :\n",
    "        if (chunks - timestep) > chunk_size:\n",
    "            batch_x = np.resize(timeseries[timestep:timestep+chunk_size,:], (1, chunk_size, input_features)) #num of frequencies\n",
    "            x_temp = np.append(x_temp, batch_x, axis = 0)\n",
    "            batch_y = np.resize(annotations_root[timestep:timestep+chunk_size,:], (1, chunk_size, 14))\n",
    "            y_temp_root = np.append(y_temp_root, batch_y, axis = 0)\n",
    "            batch_y = np.resize(annotations_bass[timestep:timestep+chunk_size,:], (1, chunk_size, 14))\n",
    "            y_temp_bass = np.append(y_temp_bass, batch_y, axis = 0)\n",
    "        else:\n",
    "            batch_x = timeseries[timestep:,:]\n",
    "            batch_y_root = annotations_root[timestep:,:]\n",
    "            batch_y_bass = annotations_bass[timestep:,:]\n",
    "            for step in range (0, chunk_size + timestep - chunks):\n",
    "                batch_x = np.vstack((batch_x, np.zeros((1,input_features))))\n",
    "                batch_y_root = np.vstack((batch_y_root, encoder.transform([[df.loc['N']['Root']]]).toarray()[0]))\n",
    "                batch_y_bass = np.vstack((batch_y_bass, encoder.transform([[df.loc['N']['Root']]]).toarray()[0]))\n",
    "            x_temp = np.append(x_temp, np.array([batch_x]), axis = 0)\n",
    "            y_temp_root = np.append(y_temp_root, np.array([batch_y_root]), axis = 0)\n",
    "            y_temp_bass = np.append(y_temp_bass, np.array([batch_y_bass]), axis = 0)\n",
    "        # augment timesteps\n",
    "        timestep += chunk_size\n",
    "    x_temp = np.delete(x_temp,0,0)\n",
    "    x_temp = np.reshape(x_temp, (x_temp.shape[0], x_temp.shape[1], x_temp.shape[2], 1))\n",
    "    #x_temp = np.reshape(x_temp, (x_temp.shape[0], x_temp.shape[1], x_temp.shape[2]))\n",
    "    y_temp_root = np.delete(y_temp_root,0,0)\n",
    "    y_temp_bass = np.delete(y_temp_bass,0,0)\n",
    "    x_mirex_test[(track_no,album)] = x_temp\n",
    "    y_mirex_test_root[(track_no,album)] = y_temp_root\n",
    "    y_mirex_test_bass[(track_no,album)] = y_temp_bass"
   ]
  },
  {
   "cell_type": "code",
   "execution_count": 95,
   "metadata": {},
   "outputs": [],
   "source": [
    "y_mirex_test_quality = {}\n",
    "for track_no,album in X_tracks_test:\n",
    "    y_temp_quality = np.zeros((1,chunk_size,15))\n",
    "    timestep = 0\n",
    "    # size of the current track\n",
    "    chunks = len(Timestamps['The Beatles'][album][track_no])\n",
    "    # track frequencies\n",
    "    timeseries = Timeseries['The Beatles'][album][track_no]\n",
    "    # track annotations\n",
    "    annotations_quality = quality_vec[album][track_no].T\n",
    "    # test tracks\n",
    "    while timestep < chunks :\n",
    "        if (chunks - timestep) > chunk_size:\n",
    "            batch_y = np.resize(annotations_quality[timestep:timestep+chunk_size,:], (1, chunk_size, 15))\n",
    "            y_temp_quality = np.append(y_temp_quality, batch_y, axis = 0)\n",
    "        else:\n",
    "            batch_y = annotations_quality[timestep:,:]\n",
    "            for step in range (0, chunk_size + timestep - chunks):\n",
    "                batch_y = np.vstack((batch_y, np.append(np.append(df.loc['N'][1], encoder_triads.transform([[df.loc['N'][2]]]).toarray()[0]), encoder_fourth.transform([[df.loc['N'][3]]]).toarray()[0])))\n",
    "            y_temp_quality = np.append(y_temp_quality, np.array([batch_y]), axis = 0)\n",
    "        timestep += chunk_size\n",
    "    y_temp_quality = np.delete(y_temp_quality,0,0)\n",
    "    y_mirex_test_quality[(track_no,album)] = y_temp_quality"
   ]
  },
  {
   "cell_type": "code",
   "execution_count": 96,
   "metadata": {},
   "outputs": [],
   "source": [
    "y_mirex_test_triad = {}\n",
    "y_mirex_test_fourth = {}\n",
    "for track_no,album in X_tracks_test:\n",
    "    _, y_mirex_test_triad[(track_no,album)], y_mirex_test_fourth[(track_no,album)] = np.dsplit(y_mirex_test_quality[(track_no,album)], [1,9,15])[0:3]"
   ]
  },
  {
   "cell_type": "markdown",
   "metadata": {},
   "source": [
    "#### Test Set Analytics on Triads and Fourths"
   ]
  },
  {
   "cell_type": "code",
   "execution_count": 97,
   "metadata": {},
   "outputs": [
    {
     "name": "stdout",
     "output_type": "stream",
     "text": [
      "{'N': 25893, 'dim7': 205, 'min7': 4953, 'maj7': 612, 'maj6': 119, 'X': 18}\n",
      "{'N': 2539, 'Major': 21315, 'Minor': 7015, 'Dim': 423, 'Aug': 109, 'Sus2': 24, 'Sus4': 375, 'X': 0}\n"
     ]
    }
   ],
   "source": [
    "Fourths_Appearances = {'N' : 0, 'dim7' : 0, 'min7' : 0, 'maj7' : 0, 'maj6' : 0, 'X' : 0}\n",
    "Triads_Appearances = {'N' : 0, 'Major' : 0, 'Minor' : 0, 'Dim' : 0, 'Aug' : 0, 'Sus2' : 0, 'Sus4' : 0, 'X' : 0}\n",
    "for y_train_fourth in y_mirex_test_fourth.values():\n",
    "    for chunk in y_train_fourth:\n",
    "        for label in chunk:\n",
    "            Fourths_Appearances[InverseLibFourth[encoder_fourth.inverse_transform([label]).reshape(1,)[0]]] += 1\n",
    "\n",
    "for y_train_triad in y_mirex_test_triad.values():        \n",
    "    for chunk in y_train_triad:\n",
    "        for label in chunk:\n",
    "            Triads_Appearances[InverseLibTriad[encoder_triads.inverse_transform([label]).reshape(1,)[0]]] += 1 \n",
    "            \n",
    "print (Fourths_Appearances)\n",
    "print (Triads_Appearances)"
   ]
  },
  {
   "cell_type": "markdown",
   "metadata": {},
   "source": [
    "#### Saved Data"
   ]
  },
  {
   "cell_type": "code",
   "execution_count": 30,
   "metadata": {},
   "outputs": [],
   "source": [
    "# Save data\n",
    "import pickle\n",
    "\n",
    "# x data\n",
    "with open('./train_data/x_train_big.pickle', 'wb') as handle:\n",
    "    pickle.dump(x_train, handle, protocol=pickle.HIGHEST_PROTOCOL)  \n",
    "    \n",
    "with open('./train_data/x_test_big.pickle', 'wb') as handle:\n",
    "    pickle.dump(x_test, handle, protocol=pickle.HIGHEST_PROTOCOL)\n",
    "\n",
    "# y data\n",
    "with open('./train_data/y_train_root_big.pickle', 'wb') as handle:\n",
    "    pickle.dump(y_train_root, handle, protocol=pickle.HIGHEST_PROTOCOL)\n",
    "    \n",
    "with open('./train_data/y_test_root_big.pickle', 'wb') as handle:\n",
    "    pickle.dump(y_test_root, handle, protocol=pickle.HIGHEST_PROTOCOL)\n",
    "    \n",
    "with open('./train_data/y_train_bass_big.pickle', 'wb') as handle:\n",
    "    pickle.dump(y_train_bass, handle, protocol=pickle.HIGHEST_PROTOCOL)\n",
    "    \n",
    "with open('./train_data/y_test_bass_big.pickle', 'wb') as handle:\n",
    "    pickle.dump(y_test_bass, handle, protocol=pickle.HIGHEST_PROTOCOL)\n",
    "    \n",
    "with open('./train_data/y_train_quality_big.pickle', 'wb') as handle:\n",
    "    pickle.dump(y_train_quality, handle, protocol=pickle.HIGHEST_PROTOCOL) \n",
    "\n",
    "with open('./train_data/y_test_quality_big.pickle', 'wb') as handle:\n",
    "    pickle.dump(y_test_quality, handle, protocol=pickle.HIGHEST_PROTOCOL) \n",
    "    \n",
    "# mirex test\n",
    "with open('./train_data/x_mirex_test_big.pickle', 'wb') as handle:\n",
    "    pickle.dump(x_mirex_test, handle, protocol=pickle.HIGHEST_PROTOCOL)\n",
    "    \n",
    "with open('./train_data/y_mirex_test_bass_big.pickle', 'wb') as handle:\n",
    "    pickle.dump(y_mirex_test_bass, handle, protocol=pickle.HIGHEST_PROTOCOL)\n",
    "\n",
    "with open('./train_data/y_mirex_test_root_big.pickle', 'wb') as handle:\n",
    "    pickle.dump(y_mirex_test_root, handle, protocol=pickle.HIGHEST_PROTOCOL)\n",
    "\n",
    "with open('./train_data/y_mirex_test_quality_big.pickle', 'wb') as handle:\n",
    "    pickle.dump(y_mirex_test_quality, handle, protocol=pickle.HIGHEST_PROTOCOL)"
   ]
  },
  {
   "cell_type": "code",
   "execution_count": 14,
   "metadata": {},
   "outputs": [],
   "source": [
    "import pickle\n",
    "\n",
    "with open('./train_data/x_train_big.pickle', 'rb') as handle:\n",
    "    x_train = pickle.load(handle)   \n",
    "    \n",
    "with open('./train_data/x_test_big.pickle', 'rb') as handle:\n",
    "    x_test = pickle.load(handle)\n",
    "    \n",
    "with open('./train_data/y_train_root_big.pickle', 'rb') as handle:\n",
    "    y_train_root = pickle.load(handle)\n",
    "    \n",
    "with open('./train_data/y_test_root_big.pickle', 'rb') as handle:\n",
    "    y_test_root = pickle.load(handle)\n",
    "    \n",
    "with open('./train_data/y_train_bass_big.pickle', 'rb') as handle:\n",
    "    y_train_bass = pickle.load(handle)\n",
    "    \n",
    "with open('./train_data/y_test_bass_big.pickle', 'rb') as handle:\n",
    "    y_test_bass = pickle.load(handle)\n",
    "    \n",
    "with open('./train_data/y_train_quality_big.pickle', 'rb') as handle:\n",
    "    y_train_quality = pickle.load(handle)\n",
    "\n",
    "with open('./train_data/y_test_quality_big.pickle', 'rb') as handle:\n",
    "    y_test_quality = pickle.load(handle) \n",
    "    \n",
    "\n",
    "with open('./train_data/x_mirex_test_big.pickle', 'rb') as handle:\n",
    "     x_mirex_test = pickle.load(handle)\n",
    "    \n",
    "with open('./train_data/y_mirex_test_bass_big.pickle', 'rb') as handle:\n",
    "     y_mirex_test_bass = pickle.load(handle)\n",
    "\n",
    "with open('./train_data/y_mirex_test_root_big.pickle', 'rb') as handle:\n",
    "     y_mirex_test_root = pickle.load(handle)\n",
    "\n",
    "with open('./train_data/y_mirex_test_quality_big.pickle', 'rb') as handle:\n",
    "     y_mirex_test_quality = pickle.load(handle)"
   ]
  },
  {
   "cell_type": "code",
   "execution_count": 15,
   "metadata": {},
   "outputs": [],
   "source": [
    "y_test_unknown, y_test_triad, y_test_fourth = np.dsplit(y_test_quality, [1,9,15])[0:3]\n",
    "y_train_unknown, y_train_triad, y_train_fourth = np.dsplit(y_train_quality, [1,9,15])[0:3]"
   ]
  },
  {
   "cell_type": "markdown",
   "metadata": {},
   "source": [
    "## Imbalanced Classification\n",
    "In this project we built our own dataset from beatles, so raw data are accompanied by ireguralizations such as imbalanced classes. We come across X major chords, but only X/3 minor chords. Image for the rest of the classes. So in order to have a balanced classification, we need our model to balance all the classes, by <b> paying attention more to <u>certain samples</u> and not certain classes, beause our classification is <u>multi label</u> and <u>not multi class</u> !!</b><br>"
   ]
  },
  {
   "cell_type": "code",
   "execution_count": 47,
   "metadata": {},
   "outputs": [],
   "source": [
    "from sklearn.utils import class_weight\n",
    "\n",
    "InverseLib = {0 : 'C', 1 : 'C#', 2 : 'D', 3 : 'Eb', 4 : 'E', 5 : 'F', 6 : 'F#', 7 : 'G', 8 : 'G#', 9 : 'A', 10 : 'Bb', 11 : 'B', 12 : 'N'}\n",
    "InverseLibTriad = {0 : 'N', 1 : 'Major', 2 : 'Minor', 3 : 'Dim', 4 : 'Aug', 5 : 'Sus2', 6 : 'Sus4', 7 : 'X'}\n",
    "InverseLibFourth = {0 : 'N', 1 : 'dim7', 2 : 'min7', 3 : 'maj7', 4 : 'maj6', 5 : 'X'}"
   ]
  },
  {
   "cell_type": "markdown",
   "metadata": {},
   "source": [
    "#### Unique root chord appearances"
   ]
  },
  {
   "cell_type": "code",
   "execution_count": 11,
   "metadata": {},
   "outputs": [
    {
     "name": "stdout",
     "output_type": "stream",
     "text": [
      "A :\t 14194\n",
      "A# :\t 0\n",
      "Bb :\t 14194\n",
      "B :\t 14194\n",
      "C :\t 14194\n",
      "C# :\t 14096\n",
      "Db :\t 98\n",
      "D :\t 14194\n",
      "D# :\t 43\n",
      "Eb :\t 14151\n",
      "E :\t 14194\n",
      "F :\t 14194\n",
      "F# :\t 14154\n",
      "Gb :\t 40\n",
      "G :\t 14194\n",
      "G# :\t 13981\n",
      "Ab :\t 213\n",
      "N :\t 5124\n"
     ]
    }
   ],
   "source": [
    "Artist='The Beatles'\n",
    "Chord_Appearances = {'A' : 0, 'A#' : 0, 'Bb' : 0, 'B' : 0, 'C' : 0, 'C#' : 0, 'Db' : 0, 'D' : 0, 'D#' : 0, 'Eb' : 0,\n",
    "                    'E' : 0, 'F' : 0, 'F#' : 0, 'Gb' : 0, 'G' : 0, 'G#' : 0, 'Ab' : 0, 'N' : 0,}\n",
    "for album in Chordlab[Artist].keys():\n",
    "    for track_no in Chordlab[Artist][album].keys():\n",
    "        for index, starts, ends, chord in Chordlab[Artist][album][track_no].itertuples():\n",
    "            if chord.find(':') != -1:\n",
    "                chord, _ = chord.split(':')\n",
    "            if chord.find('/') != -1:\n",
    "                chord, _ = chord.split('/')\n",
    "            Chord_Appearances[chord] += 1\n",
    "            \n",
    "for root in Chord_Appearances.keys():\n",
    "    print(root, ':\\t', Chord_Appearances[root])"
   ]
  },
  {
   "cell_type": "code",
   "execution_count": 12,
   "metadata": {},
   "outputs": [],
   "source": [
    "Triads_Appearances = {'N' : 0, 'Major' : 0, 'Minor' : 0, 'Dim' : 0, 'Aug' : 0, 'Sus2' : 0, 'Sus4' : 0, 'X' : 0}\n",
    "Fourths_Appearances = {'N' : 0, 'dim7' : 0, 'min7' : 0, 'maj7' : 0, 'maj6' : 0, 'X' : 0}\n",
    "Root_Appearances = {'C' : 0, 'C#' : 0,'D' : 0, 'Eb' : 0, 'E' : 0, 'F' : 0, 'F#' : 0, 'G' : 0, 'G#' : 0, 'A' : 0, 'Bb' : 0, 'B' : 0, 'N' : 0}"
   ]
  },
  {
   "cell_type": "markdown",
   "metadata": {},
   "source": [
    "### Balance Root"
   ]
  },
  {
   "cell_type": "code",
   "execution_count": 35,
   "metadata": {},
   "outputs": [
    {
     "name": "stdout",
     "output_type": "stream",
     "text": [
      "{'C': 286222, 'C#': 297676, 'D': 282023, 'Eb': 300056, 'E': 279748, 'F': 292944, 'F#': 294018, 'G': 281466, 'G#': 299884, 'A': 276963, 'Bb': 298078, 'B': 293133, 'N': 442089}\n"
     ]
    }
   ],
   "source": [
    "for chunk in y_train_root:\n",
    "    for label in chunk:\n",
    "        Root_Appearances[InverseLib[encoder.inverse_transform([label]).reshape(1,)[0]]] += 1\n",
    "              \n",
    "print (Root_Appearances)"
   ]
  },
  {
   "cell_type": "code",
   "execution_count": 36,
   "metadata": {},
   "outputs": [],
   "source": [
    "# convert one hot to integers\n",
    "y_ints = [y.argmax() for chunk in y_train_root for y in chunk]\n",
    "# compute class weights\n",
    "root_class_weights = class_weight.compute_class_weight('balanced', np.unique(y_ints, axis=0), y_ints)"
   ]
  },
  {
   "cell_type": "markdown",
   "metadata": {},
   "source": [
    "### Balance Triads"
   ]
  },
  {
   "cell_type": "code",
   "execution_count": 21,
   "metadata": {},
   "outputs": [
    {
     "name": "stdout",
     "output_type": "stream",
     "text": [
      "{'N': 442089, 'Major': 2704808, 'Minor': 693286, 'Dim': 34928, 'Aug': 22048, 'Sus2': 2904, 'Sus4': 24237, 'X': 0}\n"
     ]
    }
   ],
   "source": [
    "for chunk in y_train_triad:\n",
    "    for label in chunk:\n",
    "        Triads_Appearances[InverseLibTriad[encoder_triads.inverse_transform([label]).reshape(1,)[0]]] += 1\n",
    "        \n",
    "print (Triads_Appearances)"
   ]
  },
  {
   "cell_type": "code",
   "execution_count": 22,
   "metadata": {},
   "outputs": [],
   "source": [
    "# convert one hot to integers\n",
    "y_ints = [y.argmax() for chunk in y_train_triad for y in chunk]\n",
    "# compute class weights\n",
    "triad_class_weights = class_weight.compute_class_weight('balanced', np.unique(y_ints, axis=0), y_ints)"
   ]
  },
  {
   "cell_type": "markdown",
   "metadata": {},
   "source": [
    "### Balance Fourths"
   ]
  },
  {
   "cell_type": "code",
   "execution_count": 19,
   "metadata": {},
   "outputs": [
    {
     "name": "stdout",
     "output_type": "stream",
     "text": [
      "{'N': 3428409, 'dim7': 12903, 'min7': 395489, 'maj7': 33906, 'maj6': 34927, 'X': 18666}\n"
     ]
    }
   ],
   "source": [
    "for chunk in y_train_fourth:\n",
    "    for label in chunk:\n",
    "        Fourths_Appearances[InverseLibFourth[encoder_fourth.inverse_transform([label]).reshape(1,)[0]]] += 1\n",
    "        \n",
    "print (Fourths_Appearances)"
   ]
  },
  {
   "cell_type": "code",
   "execution_count": 20,
   "metadata": {},
   "outputs": [],
   "source": [
    "# convert one hot to integers\n",
    "y_ints = [y.argmax() for chunk in y_train_fourth for y in chunk]\n",
    "# compute class weights\n",
    "fourth_class_weights = class_weight.compute_class_weight('balanced', np.unique(y_ints, axis=0), y_ints)"
   ]
  },
  {
   "cell_type": "markdown",
   "metadata": {},
   "source": [
    "### Balance Unknown"
   ]
  },
  {
   "cell_type": "code",
   "execution_count": 41,
   "metadata": {},
   "outputs": [],
   "source": [
    "# no need for balancing here\n",
    "unknown_class_weights = {0:1,1:1}"
   ]
  },
  {
   "cell_type": "markdown",
   "metadata": {},
   "source": [
    "### Build Sample Weights"
   ]
  },
  {
   "cell_type": "code",
   "execution_count": 42,
   "metadata": {},
   "outputs": [],
   "source": [
    "triad_sample_weights = np.ones((x_train.shape[0], x_train.shape[1]))\n",
    "\n",
    "y_ints = [y.argmax() for chunk in y_train_triad for y in chunk]\n",
    "i = 0\n",
    "j = 0\n",
    "for yi in y_ints:\n",
    "    triad_sample_weights[i][j] = min(triad_class_weights[yi], 2)\n",
    "    j += 1\n",
    "    if j == chunk_size:\n",
    "        i += 1\n",
    "        j = 0"
   ]
  },
  {
   "cell_type": "code",
   "execution_count": 30,
   "metadata": {},
   "outputs": [
    {
     "data": {
      "text/plain": [
       "array([ 0.19077362, 50.68976207,  1.65377545, 19.29009615, 18.72620036,\n",
       "       35.03964427])"
      ]
     },
     "execution_count": 30,
     "metadata": {},
     "output_type": "execute_result"
    }
   ],
   "source": [
    "fourth_class_weights"
   ]
  },
  {
   "cell_type": "code",
   "execution_count": 42,
   "metadata": {},
   "outputs": [],
   "source": [
    "fourth_sample_weights = np.ones((x_train.shape[0], x_train.shape[1]))\n",
    "\n",
    "y_ints = [y.argmax() for chunk in y_train_fourth for y in chunk]\n",
    "i = 0\n",
    "j = 0\n",
    "for yi in y_ints:\n",
    "    fourth_sample_weights[i][j] = np.log(fourth_class_weights[yi] + 1)\n",
    "    j += 1\n",
    "    if j == chunk_size:\n",
    "        i += 1\n",
    "        j = 0"
   ]
  },
  {
   "cell_type": "code",
   "execution_count": 44,
   "metadata": {},
   "outputs": [],
   "source": [
    "with open('fourth_sample_weights_log.pickle', 'wb') as handle:\n",
    "    pickle.dump(fourth_sample_weights, handle, protocol=pickle.HIGHEST_PROTOCOL)"
   ]
  },
  {
   "cell_type": "code",
   "execution_count": 45,
   "metadata": {},
   "outputs": [],
   "source": [
    "root_sample_weights = np.ones((x_train.shape[0], x_train.shape[1]))\n",
    "bass_sample_weights = np.ones((x_train.shape[0], x_train.shape[1]))\n",
    "unknown_sample_weights = np.ones((x_train.shape[0], x_train.shape[1]))"
   ]
  },
  {
   "cell_type": "code",
   "execution_count": 36,
   "metadata": {},
   "outputs": [],
   "source": [
    "fourth_sample_weights = np.ones((x_train.shape[0], x_train.shape[1]))"
   ]
  },
  {
   "cell_type": "code",
   "execution_count": 37,
   "metadata": {},
   "outputs": [],
   "source": [
    "triad_sample_weights = np.ones((x_train.shape[0], x_train.shape[1]))"
   ]
  },
  {
   "cell_type": "markdown",
   "metadata": {},
   "source": [
    "## Neural Network"
   ]
  },
  {
   "cell_type": "code",
   "execution_count": 33,
   "metadata": {},
   "outputs": [],
   "source": [
    "from tensorflow.keras.layers import Input, TimeDistributed, Embedding, LSTM, Bidirectional, Dropout, Dense, GRU, concatenate, Conv1D, Conv2D, Flatten,MaxPooling1D, MaxPooling2D, LocallyConnected1D, Activation, GaussianNoise, BatchNormalization\n",
    "from tensorflow.keras.models import Model\n",
    "from tensorflow.keras.initializers import RandomNormal, RandomUniform"
   ]
  },
  {
   "cell_type": "markdown",
   "metadata": {},
   "source": [
    "#### BLSTM_2Layer"
   ]
  },
  {
   "cell_type": "code",
   "execution_count": 34,
   "metadata": {},
   "outputs": [],
   "source": [
    "def BLSTM_2Layer(chords_num, input_features, timesteps, batch_size):\n",
    "    \n",
    "    main_input = Input(shape=(timesteps,input_features), name='main_input')\n",
    "    \n",
    "    #BLSTM\n",
    "    x = Bidirectional(LSTM(units = 96, \n",
    "                           batch_input_shape = (batch_size, timesteps, input_features),\n",
    "                           return_sequences = True))(main_input)\n",
    "    x = Dropout(0.4)(x)\n",
    "    #BLSTM on the concatanted output\n",
    "    x = Bidirectional(LSTM(units = 64,\n",
    "                           return_sequences=True))(x)\n",
    "    x = Dropout(0.4)(x)\n",
    "    \n",
    "    x = Dense(128)(x)\n",
    "    linear = Activation('sigmoid')(x)\n",
    "    #Dense for classification\n",
    "    r = TimeDistributed(Dense(chords_num))(linear)\n",
    "    root = Activation('softmax', name='root_output')(r)\n",
    "    \n",
    "    b = TimeDistributed(Dense(chords_num))(linear)\n",
    "    bass = Activation('softmax', name='bass_output')(b)\n",
    "    \n",
    "    t = TimeDistributed(Dense(8))(linear)\n",
    "    triad = Activation('softmax', name='triad_output')(t)\n",
    "    \n",
    "    f = TimeDistributed(Dense(6))(linear)\n",
    "    fourth = Activation('softmax', name='fourth_output')(f)\n",
    "    \n",
    "    #model\n",
    "    model = Model(inputs=[main_input], outputs=[root,bass,triad,fourth])\n",
    "\n",
    "    return model"
   ]
  },
  {
   "cell_type": "code",
   "execution_count": 35,
   "metadata": {},
   "outputs": [],
   "source": [
    "def RCNN_Net(chords_num, input_features, timesteps, batch_size):\n",
    "    \n",
    "    main_input = Input(shape=(timesteps,input_features,1), name='main_input')\n",
    "    \n",
    "    # Root part\n",
    "    #Convolutional Stack 1\n",
    "    c =  Conv2D(filters=16, \n",
    "            kernel_size=(3,3),\n",
    "            padding='same')(main_input)\n",
    "    c = Activation('relu')(c)\n",
    "    c = BatchNormalization()(c)\n",
    "    \n",
    "    c =  Conv2D(filters=16, \n",
    "            kernel_size=(3,3),\n",
    "            padding='same')(c)\n",
    "    c = Activation('relu')(c)\n",
    "    c = BatchNormalization()(c)\n",
    "    \n",
    "    c =  Conv2D(filters=16, \n",
    "            kernel_size=(3,3),\n",
    "            padding='same')(c)\n",
    "    c = Activation('relu')(c)\n",
    "    c = BatchNormalization()(c)\n",
    "    \n",
    "    c = MaxPooling2D(pool_size=(1,3))(c)\n",
    "    c = Dropout(0.25)(c)\n",
    "    \n",
    "    \n",
    "    c =  Conv2D(filters=32, \n",
    "            kernel_size=(3,3),\n",
    "            padding='same')(c)\n",
    "    c = Activation('relu')(c)\n",
    "    c = BatchNormalization()(c)\n",
    "    \n",
    "    c =  Conv2D(filters=32, \n",
    "            kernel_size=(3,3),\n",
    "            padding='same')(c)\n",
    "    c = Activation('relu')(c)\n",
    "    c = BatchNormalization()(c)\n",
    "    \n",
    "    c =  Conv2D(filters=32, \n",
    "            kernel_size=(3,3),\n",
    "            padding='same')(c)\n",
    "    c = Activation('relu')(c)\n",
    "    c = BatchNormalization()(c)\n",
    "    \n",
    "    c = MaxPooling2D(pool_size=(1,3))(c)\n",
    "    c = Dropout(0.25)(c)\n",
    "    \n",
    "    \n",
    "    c =  Conv2D(filters=64, \n",
    "            kernel_size=(3,3),\n",
    "            padding='same')(c)\n",
    "    c = Activation('relu')(c)\n",
    "    c = BatchNormalization()(c)\n",
    "    \n",
    "    c =  Conv2D(filters=64, \n",
    "            kernel_size=(3,3),\n",
    "            padding='same')(c)\n",
    "    c = Activation('relu')(c)\n",
    "    c = BatchNormalization()(c)\n",
    "    \n",
    "    \n",
    "    c = MaxPooling2D(pool_size=(1,4))(c)\n",
    "    c = Dropout(0.25)(c)\n",
    "    \n",
    "    \n",
    "    c =  Conv2D(filters=128, \n",
    "            kernel_size=(3,3),\n",
    "            padding='same')(c)\n",
    "    c = Activation('relu')(c)\n",
    "    c = BatchNormalization()(c)\n",
    "    \n",
    "    c =  Conv2D(filters=128, \n",
    "            kernel_size=(3,3),\n",
    "            padding='same')(c)\n",
    "    c = Activation('relu')(c)\n",
    "    c = BatchNormalization()(c)\n",
    "    \n",
    "    c =  Conv2D(filters=64, \n",
    "            kernel_size=(3,3),\n",
    "            padding='same')(c)\n",
    "    c = Activation('relu')(c)\n",
    "    c = BatchNormalization()(c)\n",
    "    \n",
    "    xc = TimeDistributed(Flatten())(c)\n",
    "    xc = BatchNormalization()(xc)\n",
    "\n",
    "    # Root Part\n",
    "    root = Bidirectional(LSTM(units = 128,\n",
    "                              return_sequences=True))(xc)\n",
    "    \n",
    "    linear = Dropout(0.4)(root)\n",
    "    #Dense for classification\n",
    "    r = TimeDistributed(Dense(chords_num))(linear)\n",
    "    root = Activation('softmax', name='root_output')(r)\n",
    "    \n",
    "    b = TimeDistributed(Dense(chords_num))(linear)\n",
    "    bass = Activation('softmax', name='bass_output')(b)\n",
    "    \n",
    "    t = TimeDistributed(Dense(8))(linear)\n",
    "    triad = Activation('softmax', name='triad_output')(t)\n",
    "    \n",
    "    f = TimeDistributed(Dense(6))(linear)\n",
    "    fourth = Activation('softmax', name='fourth_output')(f)\n",
    "    \n",
    "    #model\n",
    "    model = Model(inputs=[main_input], outputs=[root,bass,triad,fourth])\n",
    "\n",
    "    return model"
   ]
  },
  {
   "cell_type": "markdown",
   "metadata": {},
   "source": [
    "#### Summary"
   ]
  },
  {
   "cell_type": "code",
   "execution_count": 36,
   "metadata": {},
   "outputs": [],
   "source": [
    "batch_size = 32\n",
    "chunk_size = 300"
   ]
  },
  {
   "cell_type": "code",
   "execution_count": 37,
   "metadata": {},
   "outputs": [],
   "source": [
    "model = RCNN_Net(14, input_features, chunk_size, batch_size)"
   ]
  },
  {
   "cell_type": "code",
   "execution_count": 38,
   "metadata": {},
   "outputs": [],
   "source": [
    "losses = {\n",
    "    \"root_output\": \"categorical_crossentropy\",\n",
    "    \"bass_output\": \"categorical_crossentropy\",\n",
    "    \"triad_output\": \"categorical_crossentropy\",\n",
    "    \"fourth_output\": \"categorical_crossentropy\",\n",
    "}\n",
    "lossWeights = {\"root_output\": 1.0, \"bass_output\": 1.0, \"triad_output\": 1.0, \"fourth_output\": 1.0}\n",
    "opt = keras.optimizers.Adam(lr=0.0001)\n",
    "\n",
    "model.compile(optimizer=opt, loss=losses, loss_weights=lossWeights, metrics=[\"accuracy\"])"
   ]
  },
  {
   "cell_type": "code",
   "execution_count": 39,
   "metadata": {},
   "outputs": [
    {
     "name": "stdout",
     "output_type": "stream",
     "text": [
      "Model: \"model\"\n",
      "__________________________________________________________________________________________________\n",
      "Layer (type)                    Output Shape         Param #     Connected to                     \n",
      "==================================================================================================\n",
      "main_input (InputLayer)         [(None, 300, 192, 1) 0                                            \n",
      "__________________________________________________________________________________________________\n",
      "conv2d (Conv2D)                 (None, 300, 192, 16) 160         main_input[0][0]                 \n",
      "__________________________________________________________________________________________________\n",
      "activation (Activation)         (None, 300, 192, 16) 0           conv2d[0][0]                     \n",
      "__________________________________________________________________________________________________\n",
      "batch_normalization (BatchNorma (None, 300, 192, 16) 64          activation[0][0]                 \n",
      "__________________________________________________________________________________________________\n",
      "conv2d_1 (Conv2D)               (None, 300, 192, 16) 2320        batch_normalization[0][0]        \n",
      "__________________________________________________________________________________________________\n",
      "activation_1 (Activation)       (None, 300, 192, 16) 0           conv2d_1[0][0]                   \n",
      "__________________________________________________________________________________________________\n",
      "batch_normalization_1 (BatchNor (None, 300, 192, 16) 64          activation_1[0][0]               \n",
      "__________________________________________________________________________________________________\n",
      "conv2d_2 (Conv2D)               (None, 300, 192, 16) 2320        batch_normalization_1[0][0]      \n",
      "__________________________________________________________________________________________________\n",
      "activation_2 (Activation)       (None, 300, 192, 16) 0           conv2d_2[0][0]                   \n",
      "__________________________________________________________________________________________________\n",
      "batch_normalization_2 (BatchNor (None, 300, 192, 16) 64          activation_2[0][0]               \n",
      "__________________________________________________________________________________________________\n",
      "max_pooling2d (MaxPooling2D)    (None, 300, 64, 16)  0           batch_normalization_2[0][0]      \n",
      "__________________________________________________________________________________________________\n",
      "dropout (Dropout)               (None, 300, 64, 16)  0           max_pooling2d[0][0]              \n",
      "__________________________________________________________________________________________________\n",
      "conv2d_3 (Conv2D)               (None, 300, 64, 32)  4640        dropout[0][0]                    \n",
      "__________________________________________________________________________________________________\n",
      "activation_3 (Activation)       (None, 300, 64, 32)  0           conv2d_3[0][0]                   \n",
      "__________________________________________________________________________________________________\n",
      "batch_normalization_3 (BatchNor (None, 300, 64, 32)  128         activation_3[0][0]               \n",
      "__________________________________________________________________________________________________\n",
      "conv2d_4 (Conv2D)               (None, 300, 64, 32)  9248        batch_normalization_3[0][0]      \n",
      "__________________________________________________________________________________________________\n",
      "activation_4 (Activation)       (None, 300, 64, 32)  0           conv2d_4[0][0]                   \n",
      "__________________________________________________________________________________________________\n",
      "batch_normalization_4 (BatchNor (None, 300, 64, 32)  128         activation_4[0][0]               \n",
      "__________________________________________________________________________________________________\n",
      "conv2d_5 (Conv2D)               (None, 300, 64, 32)  9248        batch_normalization_4[0][0]      \n",
      "__________________________________________________________________________________________________\n",
      "activation_5 (Activation)       (None, 300, 64, 32)  0           conv2d_5[0][0]                   \n",
      "__________________________________________________________________________________________________\n",
      "batch_normalization_5 (BatchNor (None, 300, 64, 32)  128         activation_5[0][0]               \n",
      "__________________________________________________________________________________________________\n",
      "max_pooling2d_1 (MaxPooling2D)  (None, 300, 21, 32)  0           batch_normalization_5[0][0]      \n",
      "__________________________________________________________________________________________________\n",
      "dropout_1 (Dropout)             (None, 300, 21, 32)  0           max_pooling2d_1[0][0]            \n",
      "__________________________________________________________________________________________________\n",
      "conv2d_6 (Conv2D)               (None, 300, 21, 64)  18496       dropout_1[0][0]                  \n",
      "__________________________________________________________________________________________________\n",
      "activation_6 (Activation)       (None, 300, 21, 64)  0           conv2d_6[0][0]                   \n",
      "__________________________________________________________________________________________________\n",
      "batch_normalization_6 (BatchNor (None, 300, 21, 64)  256         activation_6[0][0]               \n",
      "__________________________________________________________________________________________________\n",
      "conv2d_7 (Conv2D)               (None, 300, 21, 64)  36928       batch_normalization_6[0][0]      \n",
      "__________________________________________________________________________________________________\n",
      "activation_7 (Activation)       (None, 300, 21, 64)  0           conv2d_7[0][0]                   \n",
      "__________________________________________________________________________________________________\n",
      "batch_normalization_7 (BatchNor (None, 300, 21, 64)  256         activation_7[0][0]               \n",
      "__________________________________________________________________________________________________\n",
      "max_pooling2d_2 (MaxPooling2D)  (None, 300, 5, 64)   0           batch_normalization_7[0][0]      \n",
      "__________________________________________________________________________________________________\n",
      "dropout_2 (Dropout)             (None, 300, 5, 64)   0           max_pooling2d_2[0][0]            \n",
      "__________________________________________________________________________________________________\n",
      "conv2d_8 (Conv2D)               (None, 300, 5, 128)  73856       dropout_2[0][0]                  \n",
      "__________________________________________________________________________________________________\n",
      "activation_8 (Activation)       (None, 300, 5, 128)  0           conv2d_8[0][0]                   \n",
      "__________________________________________________________________________________________________\n",
      "batch_normalization_8 (BatchNor (None, 300, 5, 128)  512         activation_8[0][0]               \n",
      "__________________________________________________________________________________________________\n",
      "conv2d_9 (Conv2D)               (None, 300, 5, 128)  147584      batch_normalization_8[0][0]      \n",
      "__________________________________________________________________________________________________\n",
      "activation_9 (Activation)       (None, 300, 5, 128)  0           conv2d_9[0][0]                   \n",
      "__________________________________________________________________________________________________\n",
      "batch_normalization_9 (BatchNor (None, 300, 5, 128)  512         activation_9[0][0]               \n",
      "__________________________________________________________________________________________________\n",
      "conv2d_10 (Conv2D)              (None, 300, 5, 64)   73792       batch_normalization_9[0][0]      \n",
      "__________________________________________________________________________________________________\n",
      "activation_10 (Activation)      (None, 300, 5, 64)   0           conv2d_10[0][0]                  \n",
      "__________________________________________________________________________________________________\n",
      "batch_normalization_10 (BatchNo (None, 300, 5, 64)   256         activation_10[0][0]              \n",
      "__________________________________________________________________________________________________\n",
      "time_distributed (TimeDistribut (None, 300, 320)     0           batch_normalization_10[0][0]     \n",
      "__________________________________________________________________________________________________\n",
      "batch_normalization_11 (BatchNo (None, 300, 320)     1280        time_distributed[0][0]           \n",
      "__________________________________________________________________________________________________\n",
      "bidirectional (Bidirectional)   (None, 300, 256)     459776      batch_normalization_11[0][0]     \n",
      "__________________________________________________________________________________________________\n",
      "dropout_3 (Dropout)             (None, 300, 256)     0           bidirectional[0][0]              \n",
      "__________________________________________________________________________________________________\n",
      "time_distributed_1 (TimeDistrib (None, 300, 14)      3598        dropout_3[0][0]                  \n",
      "__________________________________________________________________________________________________\n",
      "time_distributed_2 (TimeDistrib (None, 300, 14)      3598        dropout_3[0][0]                  \n",
      "__________________________________________________________________________________________________\n",
      "time_distributed_3 (TimeDistrib (None, 300, 8)       2056        dropout_3[0][0]                  \n",
      "__________________________________________________________________________________________________\n",
      "time_distributed_4 (TimeDistrib (None, 300, 6)       1542        dropout_3[0][0]                  \n",
      "__________________________________________________________________________________________________\n",
      "root_output (Activation)        (None, 300, 14)      0           time_distributed_1[0][0]         \n",
      "__________________________________________________________________________________________________\n",
      "bass_output (Activation)        (None, 300, 14)      0           time_distributed_2[0][0]         \n",
      "__________________________________________________________________________________________________\n",
      "triad_output (Activation)       (None, 300, 8)       0           time_distributed_3[0][0]         \n",
      "__________________________________________________________________________________________________\n",
      "fourth_output (Activation)      (None, 300, 6)       0           time_distributed_4[0][0]         \n",
      "==================================================================================================\n",
      "Total params: 852,810\n",
      "Trainable params: 850,986\n",
      "Non-trainable params: 1,824\n",
      "__________________________________________________________________________________________________\n"
     ]
    }
   ],
   "source": [
    "model.summary()"
   ]
  },
  {
   "cell_type": "code",
   "execution_count": 98,
   "metadata": {},
   "outputs": [],
   "source": [
    "model.load_weights('./model_weights/model_weights_CRNN_9_40epochs_0001.h5')"
   ]
  },
  {
   "cell_type": "code",
   "execution_count": 244,
   "metadata": {},
   "outputs": [],
   "source": [
    "# to use the hybrid model\n",
    "x_train = np.reshape(x_train, (x_train.shape[0], x_train.shape[1], x_train.shape[2], 1))\n",
    "x_test = np.reshape(x_test, (x_test.shape[0], x_test.shape[1], x_test.shape[2], 1))"
   ]
  },
  {
   "cell_type": "code",
   "execution_count": 86,
   "metadata": {},
   "outputs": [],
   "source": [
    "x_train = np.reshape(x_train, (x_train.shape[0], x_train.shape[1], x_train.shape[2]))\n",
    "x_test = np.reshape(x_test, (x_test.shape[0], x_test.shape[1], x_test.shape[2]))"
   ]
  },
  {
   "cell_type": "markdown",
   "metadata": {},
   "source": [
    "**Fit**"
   ]
  },
  {
   "cell_type": "code",
   "execution_count": 52,
   "metadata": {},
   "outputs": [
    {
     "name": "stdout",
     "output_type": "stream",
     "text": [
      "Train on 13081 samples, validate on 101 samples\n",
      "Epoch 1/80\n",
      "13081/13081 [==============================] - 85s 6ms/sample - loss: 5.9455 - root_output_loss: 2.3607 - bass_output_loss: 2.3623 - triad_output_loss: 0.7247 - fourth_output_loss: 0.4979 - root_output_accuracy: 0.1587 - bass_output_accuracy: 0.1590 - triad_output_accuracy: 0.7616 - fourth_output_accuracy: 0.8662 - val_loss: 5.7361 - val_root_output_loss: 2.2851 - val_bass_output_loss: 2.2855 - val_triad_output_loss: 0.6130 - val_fourth_output_loss: 0.4245 - val_root_output_accuracy: 0.1748 - val_bass_output_accuracy: 0.1814 - val_triad_output_accuracy: 0.8125 - val_fourth_output_accuracy: 0.8488\n",
      "Epoch 2/80\n",
      "13081/13081 [==============================] - 80s 6ms/sample - loss: 5.8165 - root_output_loss: 2.3313 - bass_output_loss: 2.3319 - triad_output_loss: 0.6864 - fourth_output_loss: 0.4667 - root_output_accuracy: 0.1642 - bass_output_accuracy: 0.1636 - triad_output_accuracy: 0.7727 - fourth_output_accuracy: 0.8736 - val_loss: 5.7226 - val_root_output_loss: 2.2964 - val_bass_output_loss: 2.2979 - val_triad_output_loss: 0.6078 - val_fourth_output_loss: 0.4243 - val_root_output_accuracy: 0.1599 - val_bass_output_accuracy: 0.1713 - val_triad_output_accuracy: 0.8120 - val_fourth_output_accuracy: 0.8488\n",
      "Epoch 3/80\n",
      "13081/13081 [==============================] - 80s 6ms/sample - loss: 5.8041 - root_output_loss: 2.3275 - bass_output_loss: 2.3277 - triad_output_loss: 0.6825 - fourth_output_loss: 0.4662 - root_output_accuracy: 0.1631 - bass_output_accuracy: 0.1624 - triad_output_accuracy: 0.7730 - fourth_output_accuracy: 0.8736 - val_loss: 5.5950 - val_root_output_loss: 2.2595 - val_bass_output_loss: 2.2563 - val_triad_output_loss: 0.6004 - val_fourth_output_loss: 0.4228 - val_root_output_accuracy: 0.1603 - val_bass_output_accuracy: 0.1702 - val_triad_output_accuracy: 0.8119 - val_fourth_output_accuracy: 0.8488\n",
      "Epoch 4/80\n",
      "13081/13081 [==============================] - 80s 6ms/sample - loss: 5.7807 - root_output_loss: 2.3196 - bass_output_loss: 2.3199 - triad_output_loss: 0.6760 - fourth_output_loss: 0.4652 - root_output_accuracy: 0.1673 - bass_output_accuracy: 0.1683 - triad_output_accuracy: 0.7729 - fourth_output_accuracy: 0.8736 - val_loss: 5.6966 - val_root_output_loss: 2.2825 - val_bass_output_loss: 2.2836 - val_triad_output_loss: 0.6089 - val_fourth_output_loss: 0.4228 - val_root_output_accuracy: 0.1125 - val_bass_output_accuracy: 0.1171 - val_triad_output_accuracy: 0.8126 - val_fourth_output_accuracy: 0.8488\n",
      "Epoch 5/80\n",
      "13081/13081 [==============================] - 80s 6ms/sample - loss: 5.7619 - root_output_loss: 2.3131 - bass_output_loss: 2.3135 - triad_output_loss: 0.6703 - fourth_output_loss: 0.4649 - root_output_accuracy: 0.1714 - bass_output_accuracy: 0.1705 - triad_output_accuracy: 0.7736 - fourth_output_accuracy: 0.8736 - val_loss: 5.6835 - val_root_output_loss: 2.2871 - val_bass_output_loss: 2.2830 - val_triad_output_loss: 0.6104 - val_fourth_output_loss: 0.4241 - val_root_output_accuracy: 0.1476 - val_bass_output_accuracy: 0.1535 - val_triad_output_accuracy: 0.8123 - val_fourth_output_accuracy: 0.8488\n",
      "Epoch 6/80\n",
      "13081/13081 [==============================] - 80s 6ms/sample - loss: 5.7338 - root_output_loss: 2.3007 - bass_output_loss: 2.3005 - triad_output_loss: 0.6686 - fourth_output_loss: 0.4641 - root_output_accuracy: 0.1806 - bass_output_accuracy: 0.1797 - triad_output_accuracy: 0.7739 - fourth_output_accuracy: 0.8736 - val_loss: 5.5884 - val_root_output_loss: 2.2288 - val_bass_output_loss: 2.2204 - val_triad_output_loss: 0.6017 - val_fourth_output_loss: 0.4189 - val_root_output_accuracy: 0.1628 - val_bass_output_accuracy: 0.1574 - val_triad_output_accuracy: 0.8122 - val_fourth_output_accuracy: 0.8488\n",
      "Epoch 7/80\n",
      "13081/13081 [==============================] - 80s 6ms/sample - loss: 5.4938 - root_output_loss: 2.1766 - bass_output_loss: 2.1759 - triad_output_loss: 0.6763 - fourth_output_loss: 0.4649 - root_output_accuracy: 0.2250 - bass_output_accuracy: 0.2234 - triad_output_accuracy: 0.7735 - fourth_output_accuracy: 0.8736 - val_loss: 5.1242 - val_root_output_loss: 1.9553 - val_bass_output_loss: 1.9332 - val_triad_output_loss: 0.5865 - val_fourth_output_loss: 0.4200 - val_root_output_accuracy: 0.2030 - val_bass_output_accuracy: 0.2100 - val_triad_output_accuracy: 0.8126 - val_fourth_output_accuracy: 0.8488\n",
      "Epoch 8/80\n",
      "13081/13081 [==============================] - 80s 6ms/sample - loss: 5.2106 - root_output_loss: 2.0375 - bass_output_loss: 2.0385 - triad_output_loss: 0.6694 - fourth_output_loss: 0.4653 - root_output_accuracy: 0.2560 - bass_output_accuracy: 0.2563 - triad_output_accuracy: 0.7731 - fourth_output_accuracy: 0.8736 - val_loss: 5.0294 - val_root_output_loss: 1.9006 - val_bass_output_loss: 1.8842 - val_triad_output_loss: 0.5801 - val_fourth_output_loss: 0.4322 - val_root_output_accuracy: 0.2658 - val_bass_output_accuracy: 0.2688 - val_triad_output_accuracy: 0.8129 - val_fourth_output_accuracy: 0.8488\n",
      "Epoch 9/80\n",
      "13081/13081 [==============================] - 80s 6ms/sample - loss: 5.1094 - root_output_loss: 1.9915 - bass_output_loss: 1.9940 - triad_output_loss: 0.6599 - fourth_output_loss: 0.4640 - root_output_accuracy: 0.2650 - bass_output_accuracy: 0.2651 - triad_output_accuracy: 0.7741 - fourth_output_accuracy: 0.8736 - val_loss: 5.0160 - val_root_output_loss: 1.8777 - val_bass_output_loss: 1.8623 - val_triad_output_loss: 0.5834 - val_fourth_output_loss: 0.4249 - val_root_output_accuracy: 0.2124 - val_bass_output_accuracy: 0.2156 - val_triad_output_accuracy: 0.8128 - val_fourth_output_accuracy: 0.8488\n",
      "Epoch 10/80\n",
      "13081/13081 [==============================] - 81s 6ms/sample - loss: 4.9930 - root_output_loss: 1.9351 - bass_output_loss: 1.9356 - triad_output_loss: 0.6581 - fourth_output_loss: 0.4640 - root_output_accuracy: 0.2830 - bass_output_accuracy: 0.2836 - triad_output_accuracy: 0.7745 - fourth_output_accuracy: 0.8736 - val_loss: 4.6014 - val_root_output_loss: 1.7180 - val_bass_output_loss: 1.6895 - val_triad_output_loss: 0.5870 - val_fourth_output_loss: 0.4212 - val_root_output_accuracy: 0.3184 - val_bass_output_accuracy: 0.3213 - val_triad_output_accuracy: 0.8133 - val_fourth_output_accuracy: 0.8488\n",
      "Epoch 11/80\n",
      "13081/13081 [==============================] - 80s 6ms/sample - loss: 4.7175 - root_output_loss: 1.8022 - bass_output_loss: 1.7998 - triad_output_loss: 0.6519 - fourth_output_loss: 0.4633 - root_output_accuracy: 0.3172 - bass_output_accuracy: 0.3181 - triad_output_accuracy: 0.7755 - fourth_output_accuracy: 0.8736 - val_loss: 4.4980 - val_root_output_loss: 1.6722 - val_bass_output_loss: 1.6346 - val_triad_output_loss: 0.5876 - val_fourth_output_loss: 0.4291 - val_root_output_accuracy: 0.3427 - val_bass_output_accuracy: 0.3553 - val_triad_output_accuracy: 0.8128 - val_fourth_output_accuracy: 0.8488\n",
      "Epoch 12/80\n",
      "13081/13081 [==============================] - 80s 6ms/sample - loss: 4.6324 - root_output_loss: 1.7637 - bass_output_loss: 1.7596 - triad_output_loss: 0.6463 - fourth_output_loss: 0.4629 - root_output_accuracy: 0.3267 - bass_output_accuracy: 0.3283 - triad_output_accuracy: 0.7758 - fourth_output_accuracy: 0.8736 - val_loss: 4.5310 - val_root_output_loss: 1.6743 - val_bass_output_loss: 1.6370 - val_triad_output_loss: 0.5995 - val_fourth_output_loss: 0.4239 - val_root_output_accuracy: 0.3254 - val_bass_output_accuracy: 0.3277 - val_triad_output_accuracy: 0.8125 - val_fourth_output_accuracy: 0.8488\n",
      "Epoch 13/80\n",
      "13081/13081 [==============================] - 80s 6ms/sample - loss: 4.5798 - root_output_loss: 1.7415 - bass_output_loss: 1.7357 - triad_output_loss: 0.6405 - fourth_output_loss: 0.4623 - root_output_accuracy: 0.3356 - bass_output_accuracy: 0.3378 - triad_output_accuracy: 0.7763 - fourth_output_accuracy: 0.8736 - val_loss: 4.4401 - val_root_output_loss: 1.6556 - val_bass_output_loss: 1.6178 - val_triad_output_loss: 0.5973 - val_fourth_output_loss: 0.4154 - val_root_output_accuracy: 0.3376 - val_bass_output_accuracy: 0.3414 - val_triad_output_accuracy: 0.8130 - val_fourth_output_accuracy: 0.8488\n",
      "Epoch 14/80\n",
      "13081/13081 [==============================] - 80s 6ms/sample - loss: 4.5240 - root_output_loss: 1.7155 - bass_output_loss: 1.7090 - triad_output_loss: 0.6379 - fourth_output_loss: 0.4615 - root_output_accuracy: 0.3459 - bass_output_accuracy: 0.3486 - triad_output_accuracy: 0.7766 - fourth_output_accuracy: 0.8736 - val_loss: 4.3945 - val_root_output_loss: 1.6121 - val_bass_output_loss: 1.5664 - val_triad_output_loss: 0.5935 - val_fourth_output_loss: 0.4213 - val_root_output_accuracy: 0.3641 - val_bass_output_accuracy: 0.3709 - val_triad_output_accuracy: 0.8081 - val_fourth_output_accuracy: 0.8488\n",
      "Epoch 15/80\n",
      "13081/13081 [==============================] - 80s 6ms/sample - loss: 4.4332 - root_output_loss: 1.6714 - bass_output_loss: 1.6643 - triad_output_loss: 0.6362 - fourth_output_loss: 0.4612 - root_output_accuracy: 0.3688 - bass_output_accuracy: 0.3720 - triad_output_accuracy: 0.7764 - fourth_output_accuracy: 0.8736 - val_loss: 4.2409 - val_root_output_loss: 1.5551 - val_bass_output_loss: 1.4925 - val_triad_output_loss: 0.5859 - val_fourth_output_loss: 0.4282 - val_root_output_accuracy: 0.4132 - val_bass_output_accuracy: 0.4191 - val_triad_output_accuracy: 0.8122 - val_fourth_output_accuracy: 0.8488\n",
      "Epoch 16/80\n",
      "13081/13081 [==============================] - 80s 6ms/sample - loss: 4.2876 - root_output_loss: 1.5957 - bass_output_loss: 1.5886 - triad_output_loss: 0.6411 - fourth_output_loss: 0.4621 - root_output_accuracy: 0.4097 - bass_output_accuracy: 0.4141 - triad_output_accuracy: 0.7746 - fourth_output_accuracy: 0.8736 - val_loss: 4.3145 - val_root_output_loss: 1.5652 - val_bass_output_loss: 1.4970 - val_triad_output_loss: 0.6203 - val_fourth_output_loss: 0.4281 - val_root_output_accuracy: 0.4236 - val_bass_output_accuracy: 0.4381 - val_triad_output_accuracy: 0.7891 - val_fourth_output_accuracy: 0.8488\n",
      "Epoch 17/80\n",
      "13081/13081 [==============================] - 80s 6ms/sample - loss: 4.1283 - root_output_loss: 1.5145 - bass_output_loss: 1.5084 - triad_output_loss: 0.6433 - fourth_output_loss: 0.4620 - root_output_accuracy: 0.4469 - bass_output_accuracy: 0.4511 - triad_output_accuracy: 0.7739 - fourth_output_accuracy: 0.8736 - val_loss: 3.6398 - val_root_output_loss: 1.2988 - val_bass_output_loss: 1.2363 - val_triad_output_loss: 0.5727 - val_fourth_output_loss: 0.4197 - val_root_output_accuracy: 0.5014 - val_bass_output_accuracy: 0.5192 - val_triad_output_accuracy: 0.8143 - val_fourth_output_accuracy: 0.8488\n",
      "Epoch 18/80\n",
      "13081/13081 [==============================] - 81s 6ms/sample - loss: 4.0131 - root_output_loss: 1.4588 - bass_output_loss: 1.4548 - triad_output_loss: 0.6373 - fourth_output_loss: 0.4623 - root_output_accuracy: 0.4703 - bass_output_accuracy: 0.4740 - triad_output_accuracy: 0.7745 - fourth_output_accuracy: 0.8736 - val_loss: 3.5895 - val_root_output_loss: 1.3104 - val_bass_output_loss: 1.2410 - val_triad_output_loss: 0.5766 - val_fourth_output_loss: 0.4225 - val_root_output_accuracy: 0.5484 - val_bass_output_accuracy: 0.5607 - val_triad_output_accuracy: 0.8164 - val_fourth_output_accuracy: 0.8488\n",
      "Epoch 19/80\n",
      "13081/13081 [==============================] - 80s 6ms/sample - loss: 3.9506 - root_output_loss: 1.4290 - bass_output_loss: 1.4255 - triad_output_loss: 0.6347 - fourth_output_loss: 0.4613 - root_output_accuracy: 0.4859 - bass_output_accuracy: 0.4890 - triad_output_accuracy: 0.7749 - fourth_output_accuracy: 0.8736 - val_loss: 3.5539 - val_root_output_loss: 1.2727 - val_bass_output_loss: 1.2108 - val_triad_output_loss: 0.5636 - val_fourth_output_loss: 0.4271 - val_root_output_accuracy: 0.5325 - val_bass_output_accuracy: 0.5494 - val_triad_output_accuracy: 0.8178 - val_fourth_output_accuracy: 0.8488\n",
      "Epoch 20/80\n",
      "13081/13081 [==============================] - 80s 6ms/sample - loss: 3.8631 - root_output_loss: 1.3895 - bass_output_loss: 1.3856 - triad_output_loss: 0.6273 - fourth_output_loss: 0.4610 - root_output_accuracy: 0.5020 - bass_output_accuracy: 0.5055 - triad_output_accuracy: 0.7757 - fourth_output_accuracy: 0.8736 - val_loss: 3.4569 - val_root_output_loss: 1.2109 - val_bass_output_loss: 1.1419 - val_triad_output_loss: 0.5441 - val_fourth_output_loss: 0.4179 - val_root_output_accuracy: 0.5522 - val_bass_output_accuracy: 0.5639 - val_triad_output_accuracy: 0.8181 - val_fourth_output_accuracy: 0.8488\n",
      "Epoch 21/80\n",
      "13081/13081 [==============================] - 81s 6ms/sample - loss: 3.7955 - root_output_loss: 1.3604 - bass_output_loss: 1.3566 - triad_output_loss: 0.6175 - fourth_output_loss: 0.4609 - root_output_accuracy: 0.5145 - bass_output_accuracy: 0.5178 - triad_output_accuracy: 0.7781 - fourth_output_accuracy: 0.8736 - val_loss: 3.7570 - val_root_output_loss: 1.3114 - val_bass_output_loss: 1.2490 - val_triad_output_loss: 0.5977 - val_fourth_output_loss: 0.4238 - val_root_output_accuracy: 0.5306 - val_bass_output_accuracy: 0.5480 - val_triad_output_accuracy: 0.7942 - val_fourth_output_accuracy: 0.8488\n",
      "Epoch 22/80\n",
      "13081/13081 [==============================] - 81s 6ms/sample - loss: 3.7392 - root_output_loss: 1.3343 - bass_output_loss: 1.3316 - triad_output_loss: 0.6132 - fourth_output_loss: 0.4601 - root_output_accuracy: 0.5246 - bass_output_accuracy: 0.5278 - triad_output_accuracy: 0.7794 - fourth_output_accuracy: 0.8736 - val_loss: 3.2982 - val_root_output_loss: 1.1339 - val_bass_output_loss: 1.0729 - val_triad_output_loss: 0.5426 - val_fourth_output_loss: 0.4228 - val_root_output_accuracy: 0.5920 - val_bass_output_accuracy: 0.6049 - val_triad_output_accuracy: 0.8174 - val_fourth_output_accuracy: 0.8488\n",
      "Epoch 23/80\n",
      "13081/13081 [==============================] - 81s 6ms/sample - loss: 3.6925 - root_output_loss: 1.3134 - bass_output_loss: 1.3108 - triad_output_loss: 0.6083 - fourth_output_loss: 0.4598 - root_output_accuracy: 0.5340 - bass_output_accuracy: 0.5372 - triad_output_accuracy: 0.7804 - fourth_output_accuracy: 0.8736 - val_loss: 3.2673 - val_root_output_loss: 1.1067 - val_bass_output_loss: 1.0391 - val_triad_output_loss: 0.5342 - val_fourth_output_loss: 0.4169 - val_root_output_accuracy: 0.5954 - val_bass_output_accuracy: 0.6178 - val_triad_output_accuracy: 0.8153 - val_fourth_output_accuracy: 0.8488\n",
      "Epoch 24/80\n",
      "13081/13081 [==============================] - 81s 6ms/sample - loss: 3.6834 - root_output_loss: 1.3108 - bass_output_loss: 1.3073 - triad_output_loss: 0.6058 - fourth_output_loss: 0.4595 - root_output_accuracy: 0.5353 - bass_output_accuracy: 0.5388 - triad_output_accuracy: 0.7812 - fourth_output_accuracy: 0.8736 - val_loss: 3.4606 - val_root_output_loss: 1.1554 - val_bass_output_loss: 1.0892 - val_triad_output_loss: 0.5666 - val_fourth_output_loss: 0.4367 - val_root_output_accuracy: 0.5824 - val_bass_output_accuracy: 0.6007 - val_triad_output_accuracy: 0.8073 - val_fourth_output_accuracy: 0.8488\n",
      "Epoch 25/80\n",
      "13081/13081 [==============================] - 81s 6ms/sample - loss: 3.6402 - root_output_loss: 1.2913 - bass_output_loss: 1.2871 - triad_output_loss: 0.6022 - fourth_output_loss: 0.4594 - root_output_accuracy: 0.5439 - bass_output_accuracy: 0.5476 - triad_output_accuracy: 0.7817 - fourth_output_accuracy: 0.8736 - val_loss: 3.4280 - val_root_output_loss: 1.1553 - val_bass_output_loss: 1.0763 - val_triad_output_loss: 0.5446 - val_fourth_output_loss: 0.4282 - val_root_output_accuracy: 0.5663 - val_bass_output_accuracy: 0.5856 - val_triad_output_accuracy: 0.8173 - val_fourth_output_accuracy: 0.8488\n",
      "Epoch 26/80\n",
      "13081/13081 [==============================] - 80s 6ms/sample - loss: 3.5914 - root_output_loss: 1.2700 - bass_output_loss: 1.2659 - triad_output_loss: 0.5969 - fourth_output_loss: 0.4587 - root_output_accuracy: 0.5521 - bass_output_accuracy: 0.5559 - triad_output_accuracy: 0.7837 - fourth_output_accuracy: 0.8736 - val_loss: 3.2194 - val_root_output_loss: 1.0667 - val_bass_output_loss: 1.0029 - val_triad_output_loss: 0.5199 - val_fourth_output_loss: 0.4249 - val_root_output_accuracy: 0.5937 - val_bass_output_accuracy: 0.6140 - val_triad_output_accuracy: 0.8306 - val_fourth_output_accuracy: 0.8488\n",
      "Epoch 27/80\n"
     ]
    },
    {
     "name": "stdout",
     "output_type": "stream",
     "text": [
      "13081/13081 [==============================] - 80s 6ms/sample - loss: 3.5549 - root_output_loss: 1.2527 - bass_output_loss: 1.2482 - triad_output_loss: 0.5957 - fourth_output_loss: 0.4585 - root_output_accuracy: 0.5605 - bass_output_accuracy: 0.5644 - triad_output_accuracy: 0.7834 - fourth_output_accuracy: 0.8736 - val_loss: 3.2808 - val_root_output_loss: 1.0867 - val_bass_output_loss: 1.0156 - val_triad_output_loss: 0.5385 - val_fourth_output_loss: 0.4240 - val_root_output_accuracy: 0.5888 - val_bass_output_accuracy: 0.6086 - val_triad_output_accuracy: 0.8148 - val_fourth_output_accuracy: 0.8488\n",
      "Epoch 28/80\n",
      "13081/13081 [==============================] - 81s 6ms/sample - loss: 3.4799 - root_output_loss: 1.2163 - bass_output_loss: 1.2131 - triad_output_loss: 0.5925 - fourth_output_loss: 0.4579 - root_output_accuracy: 0.5772 - bass_output_accuracy: 0.5806 - triad_output_accuracy: 0.7850 - fourth_output_accuracy: 0.8737 - val_loss: 3.4915 - val_root_output_loss: 1.1413 - val_bass_output_loss: 1.0922 - val_triad_output_loss: 0.5865 - val_fourth_output_loss: 0.4330 - val_root_output_accuracy: 0.5737 - val_bass_output_accuracy: 0.5829 - val_triad_output_accuracy: 0.7848 - val_fourth_output_accuracy: 0.8488\n",
      "Epoch 29/80\n",
      "13081/13081 [==============================] - 82s 6ms/sample - loss: 3.3581 - root_output_loss: 1.1564 - bass_output_loss: 1.1557 - triad_output_loss: 0.5874 - fourth_output_loss: 0.4585 - root_output_accuracy: 0.6045 - bass_output_accuracy: 0.6069 - triad_output_accuracy: 0.7865 - fourth_output_accuracy: 0.8736 - val_loss: 3.0605 - val_root_output_loss: 0.9689 - val_bass_output_loss: 0.9207 - val_triad_output_loss: 0.5321 - val_fourth_output_loss: 0.4349 - val_root_output_accuracy: 0.6341 - val_bass_output_accuracy: 0.6468 - val_triad_output_accuracy: 0.8353 - val_fourth_output_accuracy: 0.8488\n",
      "Epoch 30/80\n",
      "13081/13081 [==============================] - 80s 6ms/sample - loss: 3.2853 - root_output_loss: 1.1217 - bass_output_loss: 1.1230 - triad_output_loss: 0.5833 - fourth_output_loss: 0.4571 - root_output_accuracy: 0.6198 - bass_output_accuracy: 0.6218 - triad_output_accuracy: 0.7878 - fourth_output_accuracy: 0.8737 - val_loss: 3.0088 - val_root_output_loss: 0.9583 - val_bass_output_loss: 0.9041 - val_triad_output_loss: 0.5229 - val_fourth_output_loss: 0.4430 - val_root_output_accuracy: 0.6379 - val_bass_output_accuracy: 0.6541 - val_triad_output_accuracy: 0.8314 - val_fourth_output_accuracy: 0.8488\n",
      "Epoch 31/80\n",
      "13081/13081 [==============================] - 80s 6ms/sample - loss: 3.1766 - root_output_loss: 1.0713 - bass_output_loss: 1.0733 - triad_output_loss: 0.5747 - fourth_output_loss: 0.4572 - root_output_accuracy: 0.6381 - bass_output_accuracy: 0.6401 - triad_output_accuracy: 0.7900 - fourth_output_accuracy: 0.8737 - val_loss: 3.0982 - val_root_output_loss: 0.9936 - val_bass_output_loss: 0.9391 - val_triad_output_loss: 0.5194 - val_fourth_output_loss: 0.4302 - val_root_output_accuracy: 0.6155 - val_bass_output_accuracy: 0.6233 - val_triad_output_accuracy: 0.8402 - val_fourth_output_accuracy: 0.8488\n",
      "Epoch 32/80\n",
      "13081/13081 [==============================] - 81s 6ms/sample - loss: 3.1153 - root_output_loss: 1.0441 - bass_output_loss: 1.0460 - triad_output_loss: 0.5684 - fourth_output_loss: 0.4567 - root_output_accuracy: 0.6495 - bass_output_accuracy: 0.6514 - triad_output_accuracy: 0.7930 - fourth_output_accuracy: 0.8737 - val_loss: 3.0623 - val_root_output_loss: 0.9898 - val_bass_output_loss: 0.9300 - val_triad_output_loss: 0.5336 - val_fourth_output_loss: 0.4309 - val_root_output_accuracy: 0.6369 - val_bass_output_accuracy: 0.6530 - val_triad_output_accuracy: 0.8162 - val_fourth_output_accuracy: 0.8488\n",
      "Epoch 33/80\n",
      "13081/13081 [==============================] - 84s 6ms/sample - loss: 3.0617 - root_output_loss: 1.0207 - bass_output_loss: 1.0212 - triad_output_loss: 0.5637 - fourth_output_loss: 0.4562 - root_output_accuracy: 0.6582 - bass_output_accuracy: 0.6605 - triad_output_accuracy: 0.7935 - fourth_output_accuracy: 0.8737 - val_loss: 2.9706 - val_root_output_loss: 0.9318 - val_bass_output_loss: 0.8830 - val_triad_output_loss: 0.5276 - val_fourth_output_loss: 0.4319 - val_root_output_accuracy: 0.6567 - val_bass_output_accuracy: 0.6688 - val_triad_output_accuracy: 0.8298 - val_fourth_output_accuracy: 0.8488\n",
      "Epoch 34/80\n",
      "13081/13081 [==============================] - 81s 6ms/sample - loss: 3.0208 - root_output_loss: 1.0010 - bass_output_loss: 1.0030 - triad_output_loss: 0.5614 - fourth_output_loss: 0.4556 - root_output_accuracy: 0.6663 - bass_output_accuracy: 0.6683 - triad_output_accuracy: 0.7949 - fourth_output_accuracy: 0.8737 - val_loss: 2.9076 - val_root_output_loss: 0.9113 - val_bass_output_loss: 0.8668 - val_triad_output_loss: 0.5286 - val_fourth_output_loss: 0.4189 - val_root_output_accuracy: 0.6685 - val_bass_output_accuracy: 0.6782 - val_triad_output_accuracy: 0.8219 - val_fourth_output_accuracy: 0.8488\n",
      "Epoch 35/80\n",
      "10528/13081 [=======================>......] - ETA: 16s - loss: 2.9734 - root_output_loss: 0.9828 - bass_output_loss: 0.9836 - triad_output_loss: 0.5530 - fourth_output_loss: 0.4541 - root_output_accuracy: 0.6745 - bass_output_accuracy: 0.6764 - triad_output_accuracy: 0.7980 - fourth_output_accuracy: 0.8735"
     ]
    },
    {
     "ename": "KeyboardInterrupt",
     "evalue": "",
     "output_type": "error",
     "traceback": [
      "\u001b[0;31m---------------------------------------------------------------------------\u001b[0m",
      "\u001b[0;31mKeyboardInterrupt\u001b[0m                         Traceback (most recent call last)",
      "\u001b[0;32m<ipython-input-52-4e1b9574b039>\u001b[0m in \u001b[0;36m<module>\u001b[0;34m\u001b[0m\n\u001b[1;32m      7\u001b[0m                              \u001b[0mvalidation_data\u001b[0m\u001b[0;34m=\u001b[0m\u001b[0;34m(\u001b[0m\u001b[0mx_test\u001b[0m\u001b[0;34m,\u001b[0m \u001b[0;34m{\u001b[0m\u001b[0;34m\"root_output\"\u001b[0m\u001b[0;34m:\u001b[0m \u001b[0my_test_root\u001b[0m\u001b[0;34m,\u001b[0m \u001b[0;34m\"bass_output\"\u001b[0m\u001b[0;34m:\u001b[0m \u001b[0my_test_bass\u001b[0m\u001b[0;34m,\u001b[0m \u001b[0;34m\"triad_output\"\u001b[0m\u001b[0;34m:\u001b[0m \u001b[0my_test_triad\u001b[0m\u001b[0;34m,\u001b[0m\u001b[0;34m\"fourth_output\"\u001b[0m\u001b[0;34m:\u001b[0m \u001b[0my_test_fourth\u001b[0m\u001b[0;34m}\u001b[0m\u001b[0;34m)\u001b[0m\u001b[0;34m,\u001b[0m\u001b[0;34m\u001b[0m\u001b[0;34m\u001b[0m\u001b[0m\n\u001b[1;32m      8\u001b[0m                              \u001b[0mbatch_size\u001b[0m\u001b[0;34m=\u001b[0m\u001b[0mbatch_size\u001b[0m\u001b[0;34m,\u001b[0m\u001b[0;34m\u001b[0m\u001b[0;34m\u001b[0m\u001b[0m\n\u001b[0;32m----> 9\u001b[0;31m                              verbose=1)\n\u001b[0m",
      "\u001b[0;32m~/Programms/anaconda3/lib/python3.7/site-packages/tensorflow_core/python/keras/engine/training.py\u001b[0m in \u001b[0;36mfit\u001b[0;34m(self, x, y, batch_size, epochs, verbose, callbacks, validation_split, validation_data, shuffle, class_weight, sample_weight, initial_epoch, steps_per_epoch, validation_steps, validation_freq, max_queue_size, workers, use_multiprocessing, **kwargs)\u001b[0m\n\u001b[1;32m    726\u001b[0m         \u001b[0mmax_queue_size\u001b[0m\u001b[0;34m=\u001b[0m\u001b[0mmax_queue_size\u001b[0m\u001b[0;34m,\u001b[0m\u001b[0;34m\u001b[0m\u001b[0;34m\u001b[0m\u001b[0m\n\u001b[1;32m    727\u001b[0m         \u001b[0mworkers\u001b[0m\u001b[0;34m=\u001b[0m\u001b[0mworkers\u001b[0m\u001b[0;34m,\u001b[0m\u001b[0;34m\u001b[0m\u001b[0;34m\u001b[0m\u001b[0m\n\u001b[0;32m--> 728\u001b[0;31m         use_multiprocessing=use_multiprocessing)\n\u001b[0m\u001b[1;32m    729\u001b[0m \u001b[0;34m\u001b[0m\u001b[0m\n\u001b[1;32m    730\u001b[0m   def evaluate(self,\n",
      "\u001b[0;32m~/Programms/anaconda3/lib/python3.7/site-packages/tensorflow_core/python/keras/engine/training_v2.py\u001b[0m in \u001b[0;36mfit\u001b[0;34m(self, model, x, y, batch_size, epochs, verbose, callbacks, validation_split, validation_data, shuffle, class_weight, sample_weight, initial_epoch, steps_per_epoch, validation_steps, validation_freq, **kwargs)\u001b[0m\n\u001b[1;32m    322\u001b[0m                 \u001b[0mmode\u001b[0m\u001b[0;34m=\u001b[0m\u001b[0mModeKeys\u001b[0m\u001b[0;34m.\u001b[0m\u001b[0mTRAIN\u001b[0m\u001b[0;34m,\u001b[0m\u001b[0;34m\u001b[0m\u001b[0;34m\u001b[0m\u001b[0m\n\u001b[1;32m    323\u001b[0m                 \u001b[0mtraining_context\u001b[0m\u001b[0;34m=\u001b[0m\u001b[0mtraining_context\u001b[0m\u001b[0;34m,\u001b[0m\u001b[0;34m\u001b[0m\u001b[0;34m\u001b[0m\u001b[0m\n\u001b[0;32m--> 324\u001b[0;31m                 total_epochs=epochs)\n\u001b[0m\u001b[1;32m    325\u001b[0m             \u001b[0mcbks\u001b[0m\u001b[0;34m.\u001b[0m\u001b[0mmake_logs\u001b[0m\u001b[0;34m(\u001b[0m\u001b[0mmodel\u001b[0m\u001b[0;34m,\u001b[0m \u001b[0mepoch_logs\u001b[0m\u001b[0;34m,\u001b[0m \u001b[0mtraining_result\u001b[0m\u001b[0;34m,\u001b[0m \u001b[0mModeKeys\u001b[0m\u001b[0;34m.\u001b[0m\u001b[0mTRAIN\u001b[0m\u001b[0;34m)\u001b[0m\u001b[0;34m\u001b[0m\u001b[0;34m\u001b[0m\u001b[0m\n\u001b[1;32m    326\u001b[0m \u001b[0;34m\u001b[0m\u001b[0m\n",
      "\u001b[0;32m~/Programms/anaconda3/lib/python3.7/site-packages/tensorflow_core/python/keras/engine/training_v2.py\u001b[0m in \u001b[0;36mrun_one_epoch\u001b[0;34m(model, iterator, execution_function, dataset_size, batch_size, strategy, steps_per_epoch, num_samples, mode, training_context, total_epochs)\u001b[0m\n\u001b[1;32m    121\u001b[0m         step=step, mode=mode, size=current_batch_size) as batch_logs:\n\u001b[1;32m    122\u001b[0m       \u001b[0;32mtry\u001b[0m\u001b[0;34m:\u001b[0m\u001b[0;34m\u001b[0m\u001b[0;34m\u001b[0m\u001b[0m\n\u001b[0;32m--> 123\u001b[0;31m         \u001b[0mbatch_outs\u001b[0m \u001b[0;34m=\u001b[0m \u001b[0mexecution_function\u001b[0m\u001b[0;34m(\u001b[0m\u001b[0miterator\u001b[0m\u001b[0;34m)\u001b[0m\u001b[0;34m\u001b[0m\u001b[0;34m\u001b[0m\u001b[0m\n\u001b[0m\u001b[1;32m    124\u001b[0m       \u001b[0;32mexcept\u001b[0m \u001b[0;34m(\u001b[0m\u001b[0mStopIteration\u001b[0m\u001b[0;34m,\u001b[0m \u001b[0merrors\u001b[0m\u001b[0;34m.\u001b[0m\u001b[0mOutOfRangeError\u001b[0m\u001b[0;34m)\u001b[0m\u001b[0;34m:\u001b[0m\u001b[0;34m\u001b[0m\u001b[0;34m\u001b[0m\u001b[0m\n\u001b[1;32m    125\u001b[0m         \u001b[0;31m# TODO(kaftan): File bug about tf function and errors.OutOfRangeError?\u001b[0m\u001b[0;34m\u001b[0m\u001b[0;34m\u001b[0m\u001b[0;34m\u001b[0m\u001b[0m\n",
      "\u001b[0;32m~/Programms/anaconda3/lib/python3.7/site-packages/tensorflow_core/python/keras/engine/training_v2_utils.py\u001b[0m in \u001b[0;36mexecution_function\u001b[0;34m(input_fn)\u001b[0m\n\u001b[1;32m     84\u001b[0m     \u001b[0;31m# `numpy` translates Tensors to values in Eager mode.\u001b[0m\u001b[0;34m\u001b[0m\u001b[0;34m\u001b[0m\u001b[0;34m\u001b[0m\u001b[0m\n\u001b[1;32m     85\u001b[0m     return nest.map_structure(_non_none_constant_value,\n\u001b[0;32m---> 86\u001b[0;31m                               distributed_function(input_fn))\n\u001b[0m\u001b[1;32m     87\u001b[0m \u001b[0;34m\u001b[0m\u001b[0m\n\u001b[1;32m     88\u001b[0m   \u001b[0;32mreturn\u001b[0m \u001b[0mexecution_function\u001b[0m\u001b[0;34m\u001b[0m\u001b[0;34m\u001b[0m\u001b[0m\n",
      "\u001b[0;32m~/Programms/anaconda3/lib/python3.7/site-packages/tensorflow_core/python/eager/def_function.py\u001b[0m in \u001b[0;36m__call__\u001b[0;34m(self, *args, **kwds)\u001b[0m\n\u001b[1;32m    455\u001b[0m \u001b[0;34m\u001b[0m\u001b[0m\n\u001b[1;32m    456\u001b[0m     \u001b[0mtracing_count\u001b[0m \u001b[0;34m=\u001b[0m \u001b[0mself\u001b[0m\u001b[0;34m.\u001b[0m\u001b[0m_get_tracing_count\u001b[0m\u001b[0;34m(\u001b[0m\u001b[0;34m)\u001b[0m\u001b[0;34m\u001b[0m\u001b[0;34m\u001b[0m\u001b[0m\n\u001b[0;32m--> 457\u001b[0;31m     \u001b[0mresult\u001b[0m \u001b[0;34m=\u001b[0m \u001b[0mself\u001b[0m\u001b[0;34m.\u001b[0m\u001b[0m_call\u001b[0m\u001b[0;34m(\u001b[0m\u001b[0;34m*\u001b[0m\u001b[0margs\u001b[0m\u001b[0;34m,\u001b[0m \u001b[0;34m**\u001b[0m\u001b[0mkwds\u001b[0m\u001b[0;34m)\u001b[0m\u001b[0;34m\u001b[0m\u001b[0;34m\u001b[0m\u001b[0m\n\u001b[0m\u001b[1;32m    458\u001b[0m     \u001b[0;32mif\u001b[0m \u001b[0mtracing_count\u001b[0m \u001b[0;34m==\u001b[0m \u001b[0mself\u001b[0m\u001b[0;34m.\u001b[0m\u001b[0m_get_tracing_count\u001b[0m\u001b[0;34m(\u001b[0m\u001b[0;34m)\u001b[0m\u001b[0;34m:\u001b[0m\u001b[0;34m\u001b[0m\u001b[0;34m\u001b[0m\u001b[0m\n\u001b[1;32m    459\u001b[0m       \u001b[0mself\u001b[0m\u001b[0;34m.\u001b[0m\u001b[0m_call_counter\u001b[0m\u001b[0;34m.\u001b[0m\u001b[0mcalled_without_tracing\u001b[0m\u001b[0;34m(\u001b[0m\u001b[0;34m)\u001b[0m\u001b[0;34m\u001b[0m\u001b[0;34m\u001b[0m\u001b[0m\n",
      "\u001b[0;32m~/Programms/anaconda3/lib/python3.7/site-packages/tensorflow_core/python/eager/def_function.py\u001b[0m in \u001b[0;36m_call\u001b[0;34m(self, *args, **kwds)\u001b[0m\n\u001b[1;32m    485\u001b[0m       \u001b[0;31m# In this case we have created variables on the first call, so we run the\u001b[0m\u001b[0;34m\u001b[0m\u001b[0;34m\u001b[0m\u001b[0;34m\u001b[0m\u001b[0m\n\u001b[1;32m    486\u001b[0m       \u001b[0;31m# defunned version which is guaranteed to never create variables.\u001b[0m\u001b[0;34m\u001b[0m\u001b[0;34m\u001b[0m\u001b[0;34m\u001b[0m\u001b[0m\n\u001b[0;32m--> 487\u001b[0;31m       \u001b[0;32mreturn\u001b[0m \u001b[0mself\u001b[0m\u001b[0;34m.\u001b[0m\u001b[0m_stateless_fn\u001b[0m\u001b[0;34m(\u001b[0m\u001b[0;34m*\u001b[0m\u001b[0margs\u001b[0m\u001b[0;34m,\u001b[0m \u001b[0;34m**\u001b[0m\u001b[0mkwds\u001b[0m\u001b[0;34m)\u001b[0m  \u001b[0;31m# pylint: disable=not-callable\u001b[0m\u001b[0;34m\u001b[0m\u001b[0;34m\u001b[0m\u001b[0m\n\u001b[0m\u001b[1;32m    488\u001b[0m     \u001b[0;32melif\u001b[0m \u001b[0mself\u001b[0m\u001b[0;34m.\u001b[0m\u001b[0m_stateful_fn\u001b[0m \u001b[0;32mis\u001b[0m \u001b[0;32mnot\u001b[0m \u001b[0;32mNone\u001b[0m\u001b[0;34m:\u001b[0m\u001b[0;34m\u001b[0m\u001b[0;34m\u001b[0m\u001b[0m\n\u001b[1;32m    489\u001b[0m       \u001b[0;31m# Release the lock early so that multiple threads can perform the call\u001b[0m\u001b[0;34m\u001b[0m\u001b[0;34m\u001b[0m\u001b[0;34m\u001b[0m\u001b[0m\n",
      "\u001b[0;32m~/Programms/anaconda3/lib/python3.7/site-packages/tensorflow_core/python/eager/function.py\u001b[0m in \u001b[0;36m__call__\u001b[0;34m(self, *args, **kwargs)\u001b[0m\n\u001b[1;32m   1821\u001b[0m     \u001b[0;34m\"\"\"Calls a graph function specialized to the inputs.\"\"\"\u001b[0m\u001b[0;34m\u001b[0m\u001b[0;34m\u001b[0m\u001b[0m\n\u001b[1;32m   1822\u001b[0m     \u001b[0mgraph_function\u001b[0m\u001b[0;34m,\u001b[0m \u001b[0margs\u001b[0m\u001b[0;34m,\u001b[0m \u001b[0mkwargs\u001b[0m \u001b[0;34m=\u001b[0m \u001b[0mself\u001b[0m\u001b[0;34m.\u001b[0m\u001b[0m_maybe_define_function\u001b[0m\u001b[0;34m(\u001b[0m\u001b[0margs\u001b[0m\u001b[0;34m,\u001b[0m \u001b[0mkwargs\u001b[0m\u001b[0;34m)\u001b[0m\u001b[0;34m\u001b[0m\u001b[0;34m\u001b[0m\u001b[0m\n\u001b[0;32m-> 1823\u001b[0;31m     \u001b[0;32mreturn\u001b[0m \u001b[0mgraph_function\u001b[0m\u001b[0;34m.\u001b[0m\u001b[0m_filtered_call\u001b[0m\u001b[0;34m(\u001b[0m\u001b[0margs\u001b[0m\u001b[0;34m,\u001b[0m \u001b[0mkwargs\u001b[0m\u001b[0;34m)\u001b[0m  \u001b[0;31m# pylint: disable=protected-access\u001b[0m\u001b[0;34m\u001b[0m\u001b[0;34m\u001b[0m\u001b[0m\n\u001b[0m\u001b[1;32m   1824\u001b[0m \u001b[0;34m\u001b[0m\u001b[0m\n\u001b[1;32m   1825\u001b[0m   \u001b[0;34m@\u001b[0m\u001b[0mproperty\u001b[0m\u001b[0;34m\u001b[0m\u001b[0;34m\u001b[0m\u001b[0m\n",
      "\u001b[0;32m~/Programms/anaconda3/lib/python3.7/site-packages/tensorflow_core/python/eager/function.py\u001b[0m in \u001b[0;36m_filtered_call\u001b[0;34m(self, args, kwargs)\u001b[0m\n\u001b[1;32m   1139\u001b[0m          if isinstance(t, (ops.Tensor,\n\u001b[1;32m   1140\u001b[0m                            resource_variable_ops.BaseResourceVariable))),\n\u001b[0;32m-> 1141\u001b[0;31m         self.captured_inputs)\n\u001b[0m\u001b[1;32m   1142\u001b[0m \u001b[0;34m\u001b[0m\u001b[0m\n\u001b[1;32m   1143\u001b[0m   \u001b[0;32mdef\u001b[0m \u001b[0m_call_flat\u001b[0m\u001b[0;34m(\u001b[0m\u001b[0mself\u001b[0m\u001b[0;34m,\u001b[0m \u001b[0margs\u001b[0m\u001b[0;34m,\u001b[0m \u001b[0mcaptured_inputs\u001b[0m\u001b[0;34m,\u001b[0m \u001b[0mcancellation_manager\u001b[0m\u001b[0;34m=\u001b[0m\u001b[0;32mNone\u001b[0m\u001b[0;34m)\u001b[0m\u001b[0;34m:\u001b[0m\u001b[0;34m\u001b[0m\u001b[0;34m\u001b[0m\u001b[0m\n",
      "\u001b[0;32m~/Programms/anaconda3/lib/python3.7/site-packages/tensorflow_core/python/eager/function.py\u001b[0m in \u001b[0;36m_call_flat\u001b[0;34m(self, args, captured_inputs, cancellation_manager)\u001b[0m\n\u001b[1;32m   1222\u001b[0m     \u001b[0;32mif\u001b[0m \u001b[0mexecuting_eagerly\u001b[0m\u001b[0;34m:\u001b[0m\u001b[0;34m\u001b[0m\u001b[0;34m\u001b[0m\u001b[0m\n\u001b[1;32m   1223\u001b[0m       flat_outputs = forward_function.call(\n\u001b[0;32m-> 1224\u001b[0;31m           ctx, args, cancellation_manager=cancellation_manager)\n\u001b[0m\u001b[1;32m   1225\u001b[0m     \u001b[0;32melse\u001b[0m\u001b[0;34m:\u001b[0m\u001b[0;34m\u001b[0m\u001b[0;34m\u001b[0m\u001b[0m\n\u001b[1;32m   1226\u001b[0m       \u001b[0mgradient_name\u001b[0m \u001b[0;34m=\u001b[0m \u001b[0mself\u001b[0m\u001b[0;34m.\u001b[0m\u001b[0m_delayed_rewrite_functions\u001b[0m\u001b[0;34m.\u001b[0m\u001b[0mregister\u001b[0m\u001b[0;34m(\u001b[0m\u001b[0;34m)\u001b[0m\u001b[0;34m\u001b[0m\u001b[0;34m\u001b[0m\u001b[0m\n",
      "\u001b[0;32m~/Programms/anaconda3/lib/python3.7/site-packages/tensorflow_core/python/eager/function.py\u001b[0m in \u001b[0;36mcall\u001b[0;34m(self, ctx, args, cancellation_manager)\u001b[0m\n\u001b[1;32m    509\u001b[0m               \u001b[0minputs\u001b[0m\u001b[0;34m=\u001b[0m\u001b[0margs\u001b[0m\u001b[0;34m,\u001b[0m\u001b[0;34m\u001b[0m\u001b[0;34m\u001b[0m\u001b[0m\n\u001b[1;32m    510\u001b[0m               \u001b[0mattrs\u001b[0m\u001b[0;34m=\u001b[0m\u001b[0;34m(\u001b[0m\u001b[0;34m\"executor_type\"\u001b[0m\u001b[0;34m,\u001b[0m \u001b[0mexecutor_type\u001b[0m\u001b[0;34m,\u001b[0m \u001b[0;34m\"config_proto\"\u001b[0m\u001b[0;34m,\u001b[0m \u001b[0mconfig\u001b[0m\u001b[0;34m)\u001b[0m\u001b[0;34m,\u001b[0m\u001b[0;34m\u001b[0m\u001b[0;34m\u001b[0m\u001b[0m\n\u001b[0;32m--> 511\u001b[0;31m               ctx=ctx)\n\u001b[0m\u001b[1;32m    512\u001b[0m         \u001b[0;32melse\u001b[0m\u001b[0;34m:\u001b[0m\u001b[0;34m\u001b[0m\u001b[0;34m\u001b[0m\u001b[0m\n\u001b[1;32m    513\u001b[0m           outputs = execute.execute_with_cancellation(\n",
      "\u001b[0;32m~/Programms/anaconda3/lib/python3.7/site-packages/tensorflow_core/python/eager/execute.py\u001b[0m in \u001b[0;36mquick_execute\u001b[0;34m(op_name, num_outputs, inputs, attrs, ctx, name)\u001b[0m\n\u001b[1;32m     59\u001b[0m     tensors = pywrap_tensorflow.TFE_Py_Execute(ctx._handle, device_name,\n\u001b[1;32m     60\u001b[0m                                                \u001b[0mop_name\u001b[0m\u001b[0;34m,\u001b[0m \u001b[0minputs\u001b[0m\u001b[0;34m,\u001b[0m \u001b[0mattrs\u001b[0m\u001b[0;34m,\u001b[0m\u001b[0;34m\u001b[0m\u001b[0;34m\u001b[0m\u001b[0m\n\u001b[0;32m---> 61\u001b[0;31m                                                num_outputs)\n\u001b[0m\u001b[1;32m     62\u001b[0m   \u001b[0;32mexcept\u001b[0m \u001b[0mcore\u001b[0m\u001b[0;34m.\u001b[0m\u001b[0m_NotOkStatusException\u001b[0m \u001b[0;32mas\u001b[0m \u001b[0me\u001b[0m\u001b[0;34m:\u001b[0m\u001b[0;34m\u001b[0m\u001b[0;34m\u001b[0m\u001b[0m\n\u001b[1;32m     63\u001b[0m     \u001b[0;32mif\u001b[0m \u001b[0mname\u001b[0m \u001b[0;32mis\u001b[0m \u001b[0;32mnot\u001b[0m \u001b[0;32mNone\u001b[0m\u001b[0;34m:\u001b[0m\u001b[0;34m\u001b[0m\u001b[0;34m\u001b[0m\u001b[0m\n",
      "\u001b[0;31mKeyboardInterrupt\u001b[0m: "
     ]
    }
   ],
   "source": [
    "epochs = 80\n",
    "\n",
    "# train\n",
    "callback_history = model.fit(x_train, \n",
    "                             {\"root_output\": y_train_root, \"bass_output\": y_train_bass, \"triad_output\": y_train_triad,\"fourth_output\": y_train_fourth},\n",
    "                             epochs=epochs, \n",
    "                             validation_data=(x_test, {\"root_output\": y_test_root, \"bass_output\": y_test_bass, \"triad_output\": y_test_triad,\"fourth_output\": y_test_fourth}), \n",
    "                             batch_size=batch_size,\n",
    "                             verbose=1)"
   ]
  },
  {
   "cell_type": "code",
   "execution_count": null,
   "metadata": {},
   "outputs": [],
   "source": [
    "with open('rnn_balanced_callback_history_100epochs.pickle', 'wb') as handle:\n",
    "    pickle.dump(callback_history.history, handle, protocol=pickle.HIGHEST_PROTOCOL)"
   ]
  },
  {
   "cell_type": "code",
   "execution_count": 99,
   "metadata": {},
   "outputs": [
    {
     "name": "stdout",
     "output_type": "stream",
     "text": [
      "Track  10CD1_-_The_Beatles   01\n",
      "Accuracy root: \t\t 93.39 % \n",
      "Accuracy bass: \t\t 91.06 % \n",
      "Accuracy triad: \t 99.28 % \n",
      "Accuracy fourth: \t 93.17 % \n",
      "\n",
      "Track  10CD1_-_The_Beatles   02\n",
      "Accuracy root: \t\t 64.96 % \n",
      "Accuracy bass: \t\t 53.07 % \n",
      "Accuracy triad: \t 78.30 % \n",
      "Accuracy fourth: \t 73.00 % \n",
      "\n",
      "Track  10CD1_-_The_Beatles   03\n",
      "Accuracy root: \t\t 77.93 % \n",
      "Accuracy bass: \t\t 79.40 % \n",
      "Accuracy triad: \t 84.47 % \n",
      "Accuracy fourth: \t 67.67 % \n",
      "\n",
      "Track  10CD1_-_The_Beatles   04\n",
      "Accuracy root: \t\t 94.52 % \n",
      "Accuracy bass: \t\t 92.10 % \n",
      "Accuracy triad: \t 95.43 % \n",
      "Accuracy fourth: \t 98.24 % \n",
      "\n",
      "Track  10CD1_-_The_Beatles   05\n",
      "Accuracy root: \t\t 28.33 % \n",
      "Accuracy bass: \t\t 24.17 % \n",
      "Accuracy triad: \t 68.00 % \n",
      "Accuracy fourth: \t 44.50 % \n",
      "\n",
      "Track  10CD1_-_The_Beatles   06\n",
      "Accuracy root: \t\t 90.90 % \n",
      "Accuracy bass: \t\t 89.57 % \n",
      "Accuracy triad: \t 81.95 % \n",
      "Accuracy fourth: \t 93.29 % \n",
      "\n",
      "Track  10CD1_-_The_Beatles   07\n",
      "Accuracy root: \t\t 84.03 % \n",
      "Accuracy bass: \t\t 84.33 % \n",
      "Accuracy triad: \t 82.58 % \n",
      "Accuracy fourth: \t 90.33 % \n",
      "\n",
      "Track  10CD1_-_The_Beatles   08\n",
      "Accuracy root: \t\t 97.11 % \n",
      "Accuracy bass: \t\t 93.67 % \n",
      "Accuracy triad: \t 91.78 % \n",
      "Accuracy fourth: \t 86.83 % \n",
      "\n",
      "Track  10CD1_-_The_Beatles   09\n",
      "Accuracy root: \t\t 89.28 % \n",
      "Accuracy bass: \t\t 88.89 % \n",
      "Accuracy triad: \t 93.22 % \n",
      "Accuracy fourth: \t 67.06 % \n",
      "\n",
      "Track  10CD1_-_The_Beatles   10\n",
      "Accuracy root: \t\t 94.33 % \n",
      "Accuracy bass: \t\t 94.47 % \n",
      "Accuracy triad: \t 96.20 % \n",
      "Accuracy fourth: \t 93.20 % \n",
      "\n",
      "Track  10CD1_-_The_Beatles   11\n",
      "Accuracy root: \t\t 68.07 % \n",
      "Accuracy bass: \t\t 58.93 % \n",
      "Accuracy triad: \t 76.20 % \n",
      "Accuracy fourth: \t 76.67 % \n",
      "\n",
      "Track  10CD1_-_The_Beatles   12\n",
      "Accuracy root: \t\t 91.87 % \n",
      "Accuracy bass: \t\t 91.87 % \n",
      "Accuracy triad: \t 93.20 % \n",
      "Accuracy fourth: \t 94.20 % \n",
      "\n",
      "Track  10CD1_-_The_Beatles   13\n",
      "Accuracy root: \t\t 89.83 % \n",
      "Accuracy bass: \t\t 92.58 % \n",
      "Accuracy triad: \t 90.17 % \n",
      "Accuracy fourth: \t 58.13 % \n",
      "\n",
      "Track  10CD1_-_The_Beatles   14\n",
      "Accuracy root: \t\t 94.93 % \n",
      "Accuracy bass: \t\t 89.89 % \n",
      "Accuracy triad: \t 98.07 % \n",
      "Accuracy fourth: \t 96.41 % \n",
      "\n",
      "Track  10CD1_-_The_Beatles   15\n",
      "Accuracy root: \t\t 98.67 % \n",
      "Accuracy bass: \t\t 98.33 % \n",
      "Accuracy triad: \t 98.67 % \n",
      "Accuracy fourth: \t 66.33 % \n",
      "\n",
      "Track  10CD1_-_The_Beatles   16\n",
      "Accuracy root: \t\t 84.08 % \n",
      "Accuracy bass: \t\t 79.25 % \n",
      "Accuracy triad: \t 93.00 % \n",
      "Accuracy fourth: \t 59.33 % \n",
      "\n",
      "Track  10CD1_-_The_Beatles   17\n",
      "Accuracy root: \t\t 83.90 % \n",
      "Accuracy bass: \t\t 79.14 % \n",
      "Accuracy triad: \t 84.14 % \n",
      "Accuracy fourth: \t 63.33 % \n",
      "\n"
     ]
    }
   ],
   "source": [
    "# evaluate on test set\n",
    "for track_no,album in X_tracks_test:\n",
    "    loss, _, _, _, _, accuracy_root, accuracy_bass, accuracy_triad, accuracy_fourth = model.evaluate(x_mirex_test[(track_no,album)], [y_mirex_test_root[(track_no,album)], y_mirex_test_bass[(track_no,album)], y_mirex_test_triad[(track_no,album)], y_mirex_test_fourth[(track_no,album)]], batch_size=batch_size, verbose=0)\n",
    "    print(\"Track \", album , ' ', track_no)\n",
    "    print(\"Accuracy root: \\t\\t% 3.2f %% \\nAccuracy bass: \\t\\t% 3.2f %% \\nAccuracy triad: \\t% 3.2f %% \\nAccuracy fourth: \\t% 3.2f %% \" %(100*accuracy_root, 100*accuracy_bass, 100*accuracy_triad, 100*accuracy_fourth))\n",
    "    print(\"\")"
   ]
  },
  {
   "cell_type": "markdown",
   "metadata": {},
   "source": [
    "**Predictions -> Chords**"
   ]
  },
  {
   "cell_type": "code",
   "execution_count": 100,
   "metadata": {},
   "outputs": [
    {
     "data": {
      "image/png": "[encoded data removed]",
      "text/plain": [
       "<Figure size 1152x576 with 2 Axes>"
      ]
     },
     "metadata": {},
     "output_type": "display_data"
    }
   ],
   "source": [
    "from sklearn.metrics import confusion_matrix\n",
    "# predict root\n",
    "sns.set(font_scale=1.5)\n",
    "root_predictions = {}\n",
    "bass_predictions = {}\n",
    "triad_predictions = {}\n",
    "fourth_predictions = {}\n",
    "y_true_categorical = {'fourths': [], 'triads': [], 'root': [], 'bass': []}\n",
    "y_pred_categorical = {'fourths': [], 'triads': [], 'root': [], 'bass': []}\n",
    "f, ax = plt.subplots(1,1,figsize=(16, 8))\n",
    "for track_no,album in X_tracks_test:\n",
    "    root_predictions[(track_no,album)], bass_predictions[(track_no,album)], triad_predictions[(track_no,album)], fourth_predictions[(track_no,album)] = model.predict(x_mirex_test[(track_no,album)], batch_size=batch_size, use_multiprocessing=True)\n",
    "    # reshape data\n",
    "    reshaped_data_true = y_mirex_test_fourth[(track_no,album)].reshape(y_mirex_test_fourth[(track_no,album)].shape[:-3] + (-1, 6))\n",
    "    reshaped_data_pred = fourth_predictions[(track_no,album)].reshape(fourth_predictions[(track_no,album)].shape[:-3] + (-1, 6))\n",
    "    # convert to integer categorical\n",
    "    y_true_categorical['fourths'] += [ np.argmax(t) for t in reshaped_data_true ]\n",
    "    y_pred_categorical['fourths'] += [ np.argmax(t) for t in reshaped_data_pred ]\n",
    "    # reshape data\n",
    "    reshaped_data_true = y_mirex_test_triad[(track_no,album)].reshape(y_mirex_test_triad[(track_no,album)].shape[:-3] + (-1, 8))\n",
    "    reshaped_data_pred = triad_predictions[(track_no,album)].reshape(triad_predictions[(track_no,album)].shape[:-3] + (-1, 8))\n",
    "    # convert to integer categorical\n",
    "    y_true_categorical['triads'] += [ np.argmax(t) for t in reshaped_data_true ]\n",
    "    y_pred_categorical['triads'] += [ np.argmax(t) for t in reshaped_data_pred ]\n",
    "    # reshape data\n",
    "    reshaped_data_true = y_mirex_test_root[(track_no,album)].reshape(y_mirex_test_root[(track_no,album)].shape[:-3] + (-1, 14))\n",
    "    reshaped_data_pred = root_predictions[(track_no,album)].reshape(root_predictions[(track_no,album)].shape[:-3] + (-1, 14))\n",
    "    # convert to integer categorical\n",
    "    y_true_categorical['root'] += [ np.argmax(t) for t in reshaped_data_true ]\n",
    "    y_pred_categorical['root'] += [ np.argmax(t) for t in reshaped_data_pred ]\n",
    "    # reshape data\n",
    "    reshaped_data_true = y_mirex_test_bass[(track_no,album)].reshape(y_mirex_test_bass[(track_no,album)].shape[:-3] + (-1, 14))\n",
    "    reshaped_data_pred = bass_predictions[(track_no,album)].reshape(bass_predictions[(track_no,album)].shape[:-3] + (-1, 14))\n",
    "    # convert to integer categorical\n",
    "    y_true_categorical['bass'] += [ np.argmax(t) for t in reshaped_data_true ]\n",
    "    y_pred_categorical['bass'] += [ np.argmax(t) for t in reshaped_data_pred ]\n",
    "\n",
    "# category_names\n",
    "categories_true = [InverseLibFourth[i] for i in list(set(y_true_categorical['fourths']))]\n",
    "# build confusion matrix\n",
    "cfm = confusion_matrix(y_true_categorical['fourths'], y_pred_categorical['fourths'])\n",
    "# Draw a heatmap with the numeric values in each cell\n",
    "conf_matrix = sns.heatmap(cfm, \n",
    "                          annot=True, \n",
    "                          fmt=\"d\", \n",
    "                          linewidths=.5,\n",
    "                          xticklabels=categories_true,\n",
    "                          yticklabels=categories_true,\n",
    "                          ax=ax)\n",
    "ax.xaxis.tick_top()\n",
    "ax.xaxis.set_label_position('top')\n",
    "conf_matrix.set_ylabel('True')\n",
    "conf_matrix.set_xlabel('Predictions')\n",
    "plt.show()"
   ]
  },
  {
   "cell_type": "markdown",
   "metadata": {},
   "source": [
    "**Qualities:**<br>\n",
    "Unknown | Major | Minor | Minor Seventh | Major Seventh | Augmented | Diminished | Ninth | Major Sixth"
   ]
  },
  {
   "cell_type": "code",
   "execution_count": 114,
   "metadata": {},
   "outputs": [],
   "source": [
    "estimations_root = {}\n",
    "estimations_triad = {}\n",
    "estimations_fourth = {}\n",
    "estimations_bass = {}\n",
    "\n",
    "for track_set in X_tracks_test:\n",
    "    estimations_root[track_set] = []\n",
    "    for batch_chords in root_predictions[track_set]:\n",
    "        for chord in batch_chords:\n",
    "            estimations_root[track_set].append(InverseLib[encoder.inverse_transform([chord]).reshape(1,)[0]])\n",
    "\n",
    "    estimations_bass[track_set] = []            \n",
    "    for batch_chords in bass_predictions[track_set]:\n",
    "        for chord in batch_chords:\n",
    "            estimations_bass[track_set].append(InverseLib[encoder.inverse_transform([chord]).reshape(1,)[0]])\n",
    "    \n",
    "    estimations_triad[track_set] = []  \n",
    "    for quality in triad_predictions[track_set]:\n",
    "        for s in quality:\n",
    "            estimations_triad[track_set].append(InverseLibTriad[encoder_triads.inverse_transform([s]).reshape(1,)[0]])\n",
    "    \n",
    "    estimations_fourth[track_set] = []  \n",
    "    for quality in fourth_predictions[track_set]:\n",
    "        for s in quality:\n",
    "            estimations_fourth[track_set].append(InverseLibFourth[encoder_fourth.inverse_transform([s]).reshape(1,)[0]])"
   ]
  },
  {
   "cell_type": "markdown",
   "metadata": {},
   "source": [
    "### Plot Efficiency of model"
   ]
  },
  {
   "cell_type": "code",
   "execution_count": 40,
   "metadata": {},
   "outputs": [],
   "source": [
    "with open('rnn_callback_history_100epochs.pickle', 'rb') as handle:\n",
    "    callback_history.history = pickle.load(handle)"
   ]
  },
  {
   "cell_type": "code",
   "execution_count": 48,
   "metadata": {},
   "outputs": [
    {
     "data": {
      "image/png": "[encoded data removed]",
      "text/plain": [
       "<Figure size 1152x648 with 1 Axes>"
      ]
     },
     "metadata": {
      "needs_background": "light"
     },
     "output_type": "display_data"
    },
    {
     "data": {
      "image/png": "[encoded data removed]",
      "text/plain": [
       "<Figure size 1152x648 with 1 Axes>"
      ]
     },
     "metadata": {
      "needs_background": "light"
     },
     "output_type": "display_data"
    }
   ],
   "source": [
    "plt.figure(figsize=(16,9))\n",
    "# summarize history for accuracy\n",
    "plt.plot(callback_history.history['root_output_accuracy'])\n",
    "plt.plot(callback_history.history['val_root_output_accuracy'])\n",
    "plt.plot(callback_history.history['bass_output_accuracy'])\n",
    "plt.plot(callback_history.history['val_bass_output_accuracy'])\n",
    "plt.plot(callback_history.history['triad_output_accuracy'])\n",
    "plt.plot(callback_history.history['val_triad_output_accuracy'])\n",
    "plt.plot(callback_history.history['fourth_output_accuracy'])\n",
    "plt.plot(callback_history.history['val_fourth_output_accuracy'])\n",
    "plt.title('model accuracy')\n",
    "plt.ylabel('accuracy')\n",
    "plt.xlabel('epoch')\n",
    "plt.legend(['root train', 'root val', 'bass train', 'bass val', 'triad train', 'triad val', 'fourth train', 'fourth val'], loc='upper left')\n",
    "plt.show()\n",
    "plt.figure(figsize=(16,9))\n",
    "# summarize history for loss\n",
    "plt.plot(callback_history.history['loss'])\n",
    "plt.plot(callback_history.history['val_loss'])\n",
    "plt.title('model total loss')\n",
    "plt.ylabel('loss')\n",
    "plt.xlabel('epoch')\n",
    "plt.legend(['train', 'test'], loc='upper left')\n",
    "plt.show()"
   ]
  },
  {
   "cell_type": "markdown",
   "metadata": {},
   "source": [
    "## Post Processing"
   ]
  },
  {
   "cell_type": "markdown",
   "metadata": {},
   "source": [
    "Build function to transform **Root + Unknown + Triad + Fourth** -> **Full Chord**"
   ]
  },
  {
   "cell_type": "markdown",
   "metadata": {},
   "source": [
    "Function to identify chord:\n",
    "- feed the separate intervals -> return the full chord"
   ]
  },
  {
   "cell_type": "code",
   "execution_count": 229,
   "metadata": {},
   "outputs": [],
   "source": [
    "# build a chordifier as a structure -> maybe a tree\n",
    "def Chordify(mode = 'full', root = 'N', triad = 'N', fourth = 'N', bass = 'N', unknown = 'null'):\n",
    "    # silence\n",
    "    if root == 'N': return root\n",
    "    \n",
    "    inverse = ''\n",
    "    chord = root\n",
    "    \n",
    "    doubledot_add = True\n",
    "    \n",
    "    if mode == 'full':\n",
    "        if triad in ['Major','N'] and (fourth in ['N', 'X']):\n",
    "            doubledot_add = False\n",
    "    elif mode == 'majmin' and triad in ['Major', 'N', 'X']:\n",
    "        doubledot_add = False\n",
    "    \n",
    "    if doubledot_add:\n",
    "        chord += ':'\n",
    "        \n",
    "    if triad == 'Aug' and fourth != 'min7':\n",
    "        chord += 'aug'\n",
    "    # mir eval doesnt support aug7\n",
    "    elif triad == 'Aug' and fourth == 'min7':\n",
    "        chord = 'X'\n",
    "        \n",
    "    if triad == 'Sus2':\n",
    "        chord += 'sus2'\n",
    "        \n",
    "    if triad == 'Sus4':\n",
    "        chord += 'sus4'\n",
    "    \n",
    "    if fourth == 'min7' and triad == 'Minor':\n",
    "        chord += 'min7'\n",
    "    elif fourth == 'min7' and triad == 'Dim':\n",
    "        chord += 'hdim7'\n",
    "    elif triad == 'Minor':\n",
    "        chord += 'min'\n",
    "    elif fourth == 'min7' and triad == 'Major':\n",
    "        chord += '7'\n",
    "    elif fourth == 'min7':\n",
    "        chord += 'min7'\n",
    "        \n",
    "    if triad == 'Dim' and fourth not in ['dim7','min7']:\n",
    "        chord += 'dim'\n",
    "        \n",
    "    if fourth == 'dim7' and triad == 'Dim':\n",
    "        chord += 'dim7'\n",
    "    \n",
    "    if fourth == 'maj7':\n",
    "        chord += 'maj7'\n",
    "        \n",
    "    if fourth == 'maj6':\n",
    "        chord += 'maj6'\n",
    "    \n",
    "    # bass inversions\n",
    "    if bass != 'N':\n",
    "        if root != bass:\n",
    "            semitones = (12 - ChordLib[root]) - (12 - ChordLib[bass])\n",
    "            if semitones < 0:\n",
    "                semitones += 12\n",
    "            if semitones != 0:\n",
    "                if semitones == 2:\n",
    "                    inverse = '/2'\n",
    "                elif semitones == 1:\n",
    "                    inverse = '/b2'\n",
    "                elif semitones == 3:\n",
    "                    inverse = '/b3'\n",
    "                elif semitones == 4:\n",
    "                    inverse = '/3'\n",
    "                elif semitones == 5:\n",
    "                    inverse = '/4'\n",
    "                elif semitones == 6:\n",
    "                    inverse = '/b5'\n",
    "                elif semitones == 7:\n",
    "                    inverse = '/5'\n",
    "                elif semitones == 9:\n",
    "                    inverse = '/b7'\n",
    "                elif semitones == 10:\n",
    "                    inverse = '/7'\n",
    "                elif semitones == 11:\n",
    "                    inverse = '/#7'\n",
    "            chord += inverse\n",
    "    \n",
    "    if chord.find(':'):\n",
    "        if len(chord.split(':')) == 1:\n",
    "            return root\n",
    "        if chord.split(':')[1] not in ['min', 'dim', 'min7', 'maj6', 'maj7', 'dim7', '7', 'sus2', 'sus4', 'hdim7', 'minmaj7', 'aug', 'majmin']:\n",
    "            return root\n",
    "        \n",
    "    return chord"
   ]
  },
  {
   "cell_type": "markdown",
   "metadata": {},
   "source": [
    "## Smoothing results"
   ]
  },
  {
   "cell_type": "markdown",
   "metadata": {},
   "source": [
    "Heuristic solution to find the chord changes and smooth results"
   ]
  },
  {
   "cell_type": "code",
   "execution_count": 230,
   "metadata": {},
   "outputs": [],
   "source": [
    "for track_no in X_tracks_test:\n",
    "    estimated_root_list = estimations_root[track_no]\n",
    "    estimated_bass_list = estimations_bass[track_no]\n",
    "    estimated_triad_list = estimations_triad[track_no]\n",
    "    estimated_fourth_list = estimations_fourth[track_no]\n",
    "    # initializations\n",
    "    min_frames = 4\n",
    "    current_chord_index = 0\n",
    "    current_chord = estimated_root_list[0]\n",
    "    current_mode = estimated_triad_list[0]\n",
    "    current_bass = estimated_bass_list[0]\n",
    "    current_fourth = estimated_fourth_list[0]\n",
    "    previous_chord = estimated_root_list[0]\n",
    "    previous_bass = estimated_bass_list[0]\n",
    "    previous_mode = estimated_triad_list[0]\n",
    "    previous_fourth = estimated_fourth_list[0]\n",
    "    # 0 where chord is same, 1 where the chord changes\n",
    "    chord_change = list(np.zeros((len(estimated_root_list),)))\n",
    "    appearances = 1\n",
    "    # scan root for lstm noise\n",
    "    for i in range(1, len(estimated_root_list)):\n",
    "        chord_root = estimated_root_list[i]\n",
    "        if previous_chord != chord_root:\n",
    "            previous_chord = chord_root\n",
    "            if appearances <= min_frames:\n",
    "                for j in range(i-appearances, i):\n",
    "                    estimated_root_list[j] = previous_chord\n",
    "            appearances = 1\n",
    "        else:\n",
    "            appearances += 1\n",
    "    # re-scan root, and when root changes -> chord change = 1\n",
    "    previous_chord = estimated_root_list[0]\n",
    "    chord_change[0] = 1\n",
    "    for i in range(1, len(estimated_root_list)):\n",
    "        chord_root = estimated_root_list[i]\n",
    "        if previous_chord != chord_root:\n",
    "            chord_change[i] = 1\n",
    "            previous_chord = chord_root\n",
    "    # scan triads and fourths on chord change, to smooth lstm noise\n",
    "    appearances_triad = 0\n",
    "    appearances_fourth = 0\n",
    "    appearances_bass = 0\n",
    "    for i in range(0, len(estimated_root_list)):\n",
    "        mode = estimated_triad_list[i]\n",
    "        fourth = estimated_fourth_list[i]\n",
    "        bass = estimated_bass_list[i]\n",
    "        if chord_change[i]:\n",
    "            if appearances_triad <= min_frames:\n",
    "                for j in range(i-appearances_triad, i):\n",
    "                    estimated_triad_list[j-1] = previous_mode\n",
    "            if appearances_fourth <= min_frames:\n",
    "                for j in range(i-appearances_fourth, i):\n",
    "                    estimated_fourth_list[j-1] = previous_fourth\n",
    "            if appearances_bass <= min_frames:\n",
    "                for j in range(i-appearances_bass, i):\n",
    "                    estimated_bass_list[j-1] = previous_bass\n",
    "            appearances_triad = 0\n",
    "            appearances_fourth = 0\n",
    "            appearances_bass = 0\n",
    "            previous_mode = mode\n",
    "            previous_fourth = fourth\n",
    "            previous_bass = bass\n",
    "        # triad\n",
    "        if current_mode != mode:\n",
    "            if appearances_triad <= min_frames:\n",
    "                for j in range(i-appearances_triad, i):\n",
    "                    estimated_triad_list[j] = previous_mode\n",
    "            else:\n",
    "                previous_mode = current_mode\n",
    "            current_mode = mode\n",
    "            appearances_triad = 1\n",
    "        else:\n",
    "            appearances_triad += 1\n",
    "        # fourth\n",
    "        if current_fourth != fourth:\n",
    "            if appearances_fourth <= min_frames:\n",
    "                for j in range(i-appearances_fourth, i):\n",
    "                    estimated_fourth_list[j] = previous_fourth\n",
    "            else:\n",
    "                previous_fourth = current_fourth\n",
    "            current_fourth = fourth\n",
    "            appearances_fourth = 1\n",
    "        else:\n",
    "            appearances_fourth += 1\n",
    "        # bass\n",
    "        if current_bass != bass:\n",
    "            if appearances_bass <= min_frames:\n",
    "                for j in range(i-appearances_bass, i):\n",
    "                    estimated_bass_list[j] = previous_bass\n",
    "            else:\n",
    "                previous_bass = current_bass\n",
    "            current_bass = bass\n",
    "            appearances_bass = 1\n",
    "        else:\n",
    "            appearances_bass += 1\n",
    "    #update\n",
    "    estimations_root[track_no] = estimated_root_list\n",
    "    estimations_bass[track_no] = estimated_bass_list\n",
    "    estimations_triad[track_no] = estimated_triad_list\n",
    "    estimations_fourth[track_no] = estimated_fourth_list "
   ]
  },
  {
   "cell_type": "markdown",
   "metadata": {},
   "source": [
    "#### Full Chord list"
   ]
  },
  {
   "cell_type": "code",
   "execution_count": 231,
   "metadata": {},
   "outputs": [],
   "source": [
    "estimations_majmin = {}\n",
    "estimations_inversion = {}\n",
    "estimations_inversion_majmin = {}\n",
    "estimations_fullchord = {}\n",
    "\n",
    "for track_no in X_tracks_test:\n",
    "    estimated_root_list = estimations_root[track_no]\n",
    "    estimated_bass_list = estimations_bass[track_no]\n",
    "    estimated_triad_list = estimations_triad[track_no]\n",
    "    estimated_fourth_list = estimations_fourth[track_no]\n",
    "    estimations_majmin[track_no] = []\n",
    "    estimations_fullchord[track_no] = []\n",
    "    tr = 0\n",
    "    for chord in estimated_root_list:\n",
    "        triad = estimated_triad_list[tr]\n",
    "        fourth = estimated_fourth_list[tr]\n",
    "        estimations_majmin[track_no].append(Chordify(mode='majmin', root=chord, triad=triad))\n",
    "        estimations_fullchord[track_no].append(Chordify(mode = 'full', root=chord, triad=triad, fourth=fourth, bass=bass))\n",
    "        tr += 1"
   ]
  },
  {
   "cell_type": "markdown",
   "metadata": {},
   "source": [
    "# MIREX Metrics"
   ]
  },
  {
   "cell_type": "code",
   "execution_count": 232,
   "metadata": {},
   "outputs": [],
   "source": [
    "# library for mirex metrics\n",
    "import mir_eval"
   ]
  },
  {
   "cell_type": "code",
   "execution_count": 233,
   "metadata": {},
   "outputs": [],
   "source": [
    "# delete inversion tool for accuracy\n",
    "def delete_inversion(chord):\n",
    "    if chord.find('/') != -1:\n",
    "        chord, _ = chord.split('/')\n",
    "    return chord"
   ]
  },
  {
   "cell_type": "markdown",
   "metadata": {},
   "source": [
    "### Create the reference labels"
   ]
  },
  {
   "cell_type": "code",
   "execution_count": 234,
   "metadata": {},
   "outputs": [],
   "source": [
    "segments_true_chords = {}\n",
    "for track_no,album in X_tracks_test:\n",
    "    times = Timestamps[Artist][album][track_no]\n",
    "    df_rows = Chordlab[Artist][album][track_no].itertuples()\n",
    "    index = 0\n",
    "    max_len = len(Chordlab[Artist][album][track_no])\n",
    "    segments_true_chords[(track_no,album)] = []\n",
    "    row = next(df_rows)\n",
    "    for timestamp in times:\n",
    "        if ((index + 1) < max_len) & (timestamp >= row[2]):\n",
    "            index += 1\n",
    "            row = next(df_rows)\n",
    "        segments_true_chords[(track_no,album)].append(row[3])"
   ]
  },
  {
   "cell_type": "markdown",
   "metadata": {},
   "source": [
    "Total time segments"
   ]
  },
  {
   "cell_type": "code",
   "execution_count": 235,
   "metadata": {},
   "outputs": [],
   "source": [
    "TotalTime = 0\n",
    "for track_set in X_tracks_test:\n",
    "    track_no,album = track_set\n",
    "    #total time of segments        \n",
    "    total_time_of_segments = len(Timestamps[Artist][album][track_no])\n",
    "    #TLT\n",
    "    TotalTime += total_time_of_segments"
   ]
  },
  {
   "cell_type": "markdown",
   "metadata": {},
   "source": [
    "### Root accuracy"
   ]
  },
  {
   "cell_type": "code",
   "execution_count": 236,
   "metadata": {},
   "outputs": [
    {
     "name": "stdout",
     "output_type": "stream",
     "text": [
      "Root Accuracy:  84.894 %\n"
     ]
    }
   ],
   "source": [
    "mir_eval_root = {}\n",
    "acc_mean = 0\n",
    "root_acc = {}\n",
    "for track_no in X_tracks_test:\n",
    "    reference_len = len(segments_true_chords[track_no])\n",
    "    mir_eval_root[track_no] = mir_eval.chord.root(segments_true_chords[track_no], estimations_root[track_no][0:reference_len])\n",
    "    root_acc[track_no] = np.sum(mir_eval_root[track_no])\n",
    "    acc_mean += root_acc[track_no]/TotalTime\n",
    "\n",
    "print(\"Root Accuracy: % 3.3f %%\" %(100*acc_mean))"
   ]
  },
  {
   "cell_type": "markdown",
   "metadata": {},
   "source": [
    "### Thirds accuracy"
   ]
  },
  {
   "cell_type": "code",
   "execution_count": 237,
   "metadata": {},
   "outputs": [
    {
     "name": "stdout",
     "output_type": "stream",
     "text": [
      "Third Accuracy:  81.935 %\n"
     ]
    }
   ],
   "source": [
    "mir_eval_thirds = {}\n",
    "acc_mean = 0\n",
    "thirds_acc = {}\n",
    "for track_no in X_tracks_test:\n",
    "    reference_len = len(segments_true_chords[track_no])\n",
    "    mir_eval_thirds[track_no] = mir_eval.chord.thirds(segments_true_chords[track_no], estimations_majmin[track_no][0:reference_len])\n",
    "    thirds_acc[track_no] = np.sum(mir_eval_thirds[track_no])\n",
    "    acc_mean += thirds_acc[track_no]/TotalTime\n",
    "\n",
    "print(\"Third Accuracy: % 3.3f %%\" %(100*acc_mean))"
   ]
  },
  {
   "cell_type": "markdown",
   "metadata": {},
   "source": [
    "### MajMin accuracy"
   ]
  },
  {
   "cell_type": "code",
   "execution_count": 238,
   "metadata": {},
   "outputs": [
    {
     "name": "stdout",
     "output_type": "stream",
     "text": [
      "MajMin Accuracy:  75.342 %\n"
     ]
    }
   ],
   "source": [
    "mir_eval_majmin = {}\n",
    "acc_mean = 0\n",
    "majmin_acc = {}\n",
    "for track_no in X_tracks_test:\n",
    "    reference_len = len(segments_true_chords[track_no])\n",
    "    mir_eval_majmin[track_no] = mir_eval.chord.majmin(segments_true_chords[track_no], estimations_majmin[track_no][0:reference_len])\n",
    "    majmin_acc[track_no] = np.sum(mir_eval_majmin[track_no])\n",
    "    acc_mean += majmin_acc[track_no]/TotalTime\n",
    "\n",
    "print(\"MajMin Accuracy: % 3.3f %%\" %(100*acc_mean))"
   ]
  },
  {
   "cell_type": "markdown",
   "metadata": {},
   "source": [
    "### MIREX accuracy\n",
    "**(at least three correct notes between reference and estimated chord)**"
   ]
  },
  {
   "cell_type": "code",
   "execution_count": 239,
   "metadata": {},
   "outputs": [
    {
     "name": "stdout",
     "output_type": "stream",
     "text": [
      "Mirex Accuracy:  83.038 %\n"
     ]
    }
   ],
   "source": [
    "mir_eval_mirex = {}\n",
    "acc_mean = 0\n",
    "mirex_acc = {}\n",
    "for track_no in X_tracks_test:\n",
    "    reference_len = len(segments_true_chords[track_no])\n",
    "    mir_eval_mirex[track_no] = mir_eval.chord.mirex(segments_true_chords[track_no], estimations_fullchord[track_no][0:reference_len])\n",
    "    mirex_acc[track_no] = np.sum(mir_eval_mirex[track_no])\n",
    "    acc_mean += mirex_acc[track_no]/TotalTime\n",
    "\n",
    "print(\"Mirex Accuracy: % 3.3f %%\" %(100*acc_mean))"
   ]
  },
  {
   "cell_type": "markdown",
   "metadata": {},
   "source": [
    "### Sevenths accuracy"
   ]
  },
  {
   "cell_type": "code",
   "execution_count": 240,
   "metadata": {},
   "outputs": [
    {
     "name": "stdout",
     "output_type": "stream",
     "text": [
      "Sevenths Accuracy:  57.233 %\n"
     ]
    }
   ],
   "source": [
    "mir_eval_sevenths = {}\n",
    "acc_mean = 0\n",
    "sevenths_acc = {}\n",
    "for track_no in X_tracks_test:\n",
    "    reference_len = len(segments_true_chords[track_no])\n",
    "    mir_eval_sevenths[track_no] = mir_eval.chord.sevenths(segments_true_chords[track_no], estimations_fullchord[track_no][0:reference_len])\n",
    "    sevenths_acc[track_no] = np.sum(mir_eval_sevenths[track_no])\n",
    "    acc_mean += sevenths_acc[track_no]/TotalTime\n",
    "\n",
    "print(\"Sevenths Accuracy: % 3.3f %%\" %(100*acc_mean))"
   ]
  },
  {
   "cell_type": "markdown",
   "metadata": {},
   "source": [
    "### Triads Inversion accuracy"
   ]
  },
  {
   "cell_type": "code",
   "execution_count": 241,
   "metadata": {},
   "outputs": [
    {
     "name": "stdout",
     "output_type": "stream",
     "text": [
      "Triads Inverse Accuracy:  76.065 %\n"
     ]
    }
   ],
   "source": [
    "mir_eval_triads_inv = {}\n",
    "acc_mean = 0\n",
    "triads_inv_acc = {}\n",
    "for track_no in X_tracks_test:\n",
    "    reference_len = len(segments_true_chords[track_no])\n",
    "    mir_eval_triads_inv[track_no] = mir_eval.chord.triads_inv(segments_true_chords[track_no], estimations_fullchord[track_no][0:reference_len])\n",
    "    triads_inv_acc[track_no] = np.sum(mir_eval_triads_inv[track_no])\n",
    "    acc_mean += triads_inv_acc[track_no]/TotalTime\n",
    "\n",
    "print(\"Triads Inverse Accuracy: % 3.3f %%\" %(100*acc_mean))"
   ]
  },
  {
   "cell_type": "markdown",
   "metadata": {},
   "source": [
    "### MajMin Inversion accuracy"
   ]
  },
  {
   "cell_type": "code",
   "execution_count": 242,
   "metadata": {},
   "outputs": [
    {
     "name": "stdout",
     "output_type": "stream",
     "text": [
      "MajMin Inverse Accuracy:  71.323 %\n"
     ]
    }
   ],
   "source": [
    "mir_eval_majmin_inv = {}\n",
    "acc_mean = 0\n",
    "majmin_inv_acc = {}\n",
    "for track_no in X_tracks_test:\n",
    "    reference_len = len(segments_true_chords[track_no])\n",
    "    mir_eval_majmin_inv[track_no] = mir_eval.chord.majmin_inv(segments_true_chords[track_no], estimations_fullchord[track_no][0:reference_len])\n",
    "    majmin_inv_acc[track_no] = np.sum(mir_eval_majmin_inv[track_no])\n",
    "    acc_mean += majmin_inv_acc[track_no]/TotalTime\n",
    "\n",
    "print(\"MajMin Inverse Accuracy: % 3.3f %%\" %(100*acc_mean))"
   ]
  },
  {
   "cell_type": "markdown",
   "metadata": {},
   "source": [
    "### CSR accuracy"
   ]
  },
  {
   "cell_type": "code",
   "execution_count": 243,
   "metadata": {},
   "outputs": [
    {
     "name": "stdout",
     "output_type": "stream",
     "text": [
      "Accuracy Achieved by MIREX metric CSR =  61.071 %\n"
     ]
    }
   ],
   "source": [
    "#CSR\n",
    "CSR = 0\n",
    "TotalTime = 0\n",
    "for track_set in X_tracks_test:\n",
    "    track_no,album = track_set\n",
    "    #segments of audio data\n",
    "    segments = Timestamps[Artist][album][track_no]\n",
    "\n",
    "    #compute total time of correct estimations\n",
    "    step = 0\n",
    "    total_time_of_correct_estimation = 0\n",
    "    for time in segments:\n",
    "        true_chord = segments_true_chords[track_set][step]\n",
    "        estimated_chord = estimations_fullchord[track_set][step]\n",
    "        if (estimated_chord == true_chord):\n",
    "            total_time_of_correct_estimation += 1\n",
    "        step += 1\n",
    "\n",
    "    #total time of segments        \n",
    "    total_time_of_segments = len(Timestamps[Artist][album][track_no])\n",
    "\n",
    "    #CSR\n",
    "    CSR += total_time_of_correct_estimation\n",
    "    TotalTime += total_time_of_segments\n",
    "CSR /= TotalTime\n",
    "print (\"Accuracy Achieved by MIREX metric CSR = % 3.3f %%\" %(CSR*100))"
   ]
  },
  {
   "cell_type": "code",
   "execution_count": null,
   "metadata": {},
   "outputs": [],
   "source": []
  }
 ],
 "metadata": {
  "kernelspec": {
   "display_name": "Python 3",
   "language": "python",
   "name": "python3"
  },
  "language_info": {
   "codemirror_mode": {
    "name": "ipython",
    "version": 3
   },
   "file_extension": ".py",
   "mimetype": "text/x-python",
   "name": "python",
   "nbconvert_exporter": "python",
   "pygments_lexer": "ipython3",
   "version": "3.7.4"
  }
 },
 "nbformat": 4,
 "nbformat_minor": 2
}
