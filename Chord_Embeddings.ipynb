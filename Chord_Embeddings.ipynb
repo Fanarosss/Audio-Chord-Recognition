{
 "cells": [
  {
   "cell_type": "markdown",
   "metadata": {},
   "source": [
    "<h2>Chord Embeddings</h2>\n",
    "<br>\n",
    "In this notebook we will try to create chord embeddings the same way we do at NLP with Word Embeddings.<br>\n"
   ]
  },
  {
   "cell_type": "code",
   "execution_count": 1,
   "metadata": {},
   "outputs": [],
   "source": [
    "import pandas as pd\n",
    "import numpy as np\n",
    "import matplotlib.pyplot as plt\n",
    "\n",
    "#python input/output and regex\n",
    "import re\n",
    "import os\n",
    "from pathlib import Path\n",
    "\n",
    "#chord info\n",
    "import pychord as pc\n",
    "\n",
    "#librosa\n",
    "import librosa \n",
    "\n",
    "#signal processing libraries\n",
    "from scipy.io import wavfile\n",
    "from scipy import signal\n",
    "\n",
    "#dimensionality reduction\n",
    "from sklearn.manifold import TSNE\n",
    "\n",
    "#embeddings\n",
    "from gensim.models import Word2Vec"
   ]
  },
  {
   "cell_type": "markdown",
   "metadata": {},
   "source": [
    "Create my <b>\"Sentences\"</b>\n",
    "<hr>\n",
    "1. Load chordlab files with annotations<br>\n",
    "Load all bands chordlab, but the Annotations are different, so I load them seperately<br>"
   ]
  },
  {
   "cell_type": "code",
   "execution_count": 2,
   "metadata": {},
   "outputs": [],
   "source": [
    "Chordlab = {'The Beatles': {}, 'Queen': {}, 'Carole King': {}, 'Zweieck': {}}"
   ]
  },
  {
   "cell_type": "code",
   "execution_count": 3,
   "metadata": {},
   "outputs": [],
   "source": [
    "Band = 'The Beatles'\n",
    "### get all chordlab files\n",
    "for filename in Path('Big-Dataset/The Beatles').glob('**/chordlab/**/*.lab'):\n",
    "    \n",
    "    path, track = os.path.split(filename)\n",
    "    path, album = os.path.split(path)\n",
    "    track_no = re.search('([0-9].)_-_',track).group(1)\n",
    "    \n",
    "    if (album not in Chordlab[Band]): \n",
    "        Chordlab[Band][album] = {}\n",
    "        \n",
    "    Chordlab[Band][album][track_no] = pd.read_csv(filename, names=['Starts', 'Ends', 'Chord'], sep=' ', header=None)"
   ]
  },
  {
   "cell_type": "code",
   "execution_count": 4,
   "metadata": {},
   "outputs": [],
   "source": [
    "Band = 'Queen'\n",
    "### get all chordlab files\n",
    "for filename in Path('Big-Dataset/Queen').glob('**/chordlab/**/*.lab'):\n",
    "    \n",
    "    path, track = os.path.split(filename)\n",
    "    path, album = os.path.split(path)\n",
    "    track_no = re.search('([0-9].)',track).group(1)\n",
    "    \n",
    "    if (album not in Chordlab[Band]): \n",
    "        Chordlab[Band][album] = {}\n",
    "        \n",
    "    Chordlab[Band][album][track_no] = pd.read_csv(filename, names=['Starts', 'Ends', 'Chord'], sep='\\t', header=None)"
   ]
  },
  {
   "cell_type": "code",
   "execution_count": 5,
   "metadata": {},
   "outputs": [],
   "source": [
    "Band = 'Zweieck'\n",
    "### get all chordlab files\n",
    "for filename in Path('Big-Dataset/Zweieck').glob('**/chordlab/**/*.lab'):\n",
    "    \n",
    "    path, track = os.path.split(filename)\n",
    "    path, album = os.path.split(path)\n",
    "    track_no = re.search('([0-9].)_-_',track).group(1)\n",
    "    \n",
    "    if (album not in Chordlab[Band]): \n",
    "        Chordlab[Band][album] = {}\n",
    "        \n",
    "    Chordlab[Band][album][track_no] = pd.read_csv(filename, names=['Starts', 'Ends', 'Chord'], sep='\\t', header=None)"
   ]
  },
  {
   "cell_type": "code",
   "execution_count": 6,
   "metadata": {},
   "outputs": [],
   "source": [
    "Band = 'Carole King'\n",
    "### get all chordlab files\n",
    "for filename in Path('Big-Dataset/Carole King').glob('**/chordlab/**/*.lab'):\n",
    "    \n",
    "    path, track = os.path.split(filename)\n",
    "    path, album = os.path.split(path)\n",
    "    track_no = re.search('([0-9].)',track).group(1)\n",
    "    \n",
    "    if (album not in Chordlab[Band]): \n",
    "        Chordlab[Band][album] = {}\n",
    "    \n",
    "    Chordlab[Band][album][track_no] = pd.read_csv(filename, names=['Starts', 'Ends', 'Chord'], sep='\\t', header=None)"
   ]
  },
  {
   "cell_type": "markdown",
   "metadata": {},
   "source": [
    "2. Transform annotations to chord progressions - or else sentences.<br>"
   ]
  },
  {
   "cell_type": "code",
   "execution_count": 7,
   "metadata": {},
   "outputs": [],
   "source": [
    "Chord_Progressions = []\n",
    "for band in Chordlab.keys():\n",
    "    for album in Chordlab[band].keys():\n",
    "        for track_no in Chordlab[band][album].keys():\n",
    "            progression = []\n",
    "            for index, row in Chordlab[band][album][track_no].iterrows():\n",
    "                # filter out silences (N)\n",
    "                if (row['Chord'] != 'N'):\n",
    "                    progression.append(row['Chord'])\n",
    "            Chord_Progressions.append(progression)"
   ]
  },
  {
   "cell_type": "markdown",
   "metadata": {},
   "source": [
    "<b>Vocabulary</b>"
   ]
  },
  {
   "cell_type": "code",
   "execution_count": 8,
   "metadata": {},
   "outputs": [
    {
     "name": "stdout",
     "output_type": "stream",
     "text": [
      "Vocab Size:  545\n"
     ]
    }
   ],
   "source": [
    "### Load all chords in a dictionary\n",
    "Chords = []\n",
    "for band in Chordlab.keys():\n",
    "    for album in Chordlab[band].keys():\n",
    "        for track_no in Chordlab[band][album].keys():\n",
    "            for index, row in Chordlab[band][album][track_no].iterrows():\n",
    "                if row['Chord'] not in Chords: \n",
    "                    Chords.append(row['Chord'])\n",
    "### How many chords do we have in our dataset?\n",
    "vocab_size = len(Chords)\n",
    "print (\"Vocab Size: \",vocab_size)"
   ]
  },
  {
   "cell_type": "markdown",
   "metadata": {},
   "source": [
    "<h3>Train chord embeddings by progressions</h3>\n",
    "<br>\n",
    "Let's build some Chord embeddings, just by looking at chord progressions as text, without looking at any notes or harmony beneath.<br>\n"
   ]
  },
  {
   "cell_type": "code",
   "execution_count": 12,
   "metadata": {},
   "outputs": [
    {
     "data": {
      "text/plain": [
       "[('D:min', 0.9692307114601135),\n",
       " ('G:7', 0.9679584503173828),\n",
       " ('C:7', 0.9638105034828186),\n",
       " ('C', 0.9554000496864319),\n",
       " ('C/7', 0.9307130575180054),\n",
       " ('D:7', 0.9302701950073242),\n",
       " ('A:min', 0.925139307975769),\n",
       " ('A:min7', 0.9207347631454468),\n",
       " ('C/5', 0.9101278781890869),\n",
       " ('G/3', 0.9033534526824951)]"
      ]
     },
     "execution_count": 12,
     "metadata": {},
     "output_type": "execute_result"
    }
   ],
   "source": [
    "# easy embeddings with gensim\n",
    "model = Word2Vec(Chord_Progressions, size=200, window=4, min_count=1, negative=5, workers=4)\n",
    "\n",
    "model.train(Chord_Progressions, total_examples=len(Chord_Progressions), epochs=3)\n",
    "\n",
    "model.wv.most_similar(positive='F')"
   ]
  },
  {
   "cell_type": "markdown",
   "metadata": {},
   "source": [
    "<b>Results: </b>As we can see, it responded quite well. All those good results, are chords that are seen before-after <b>F</b> -> Dmin always appears on top, which is the relative minor of F.\n",
    "<br>\n",
    "Now, let's plot the chords vectors with <b>TSNE for dimensionality reduction</b><br>"
   ]
  },
  {
   "cell_type": "code",
   "execution_count": 15,
   "metadata": {},
   "outputs": [],
   "source": [
    "def tsne_plot(model, w2v):\n",
    "    \"Creates and TSNE model and plots it\"\n",
    "    labels = []\n",
    "    tokens = []\n",
    "\n",
    "    for word, val in model:\n",
    "        tokens.append(w2v.wv[word])\n",
    "        labels.append(word)\n",
    "    \n",
    "    tsne_model = TSNE(perplexity=40, n_components=2, init='pca', n_iter=2500, random_state=23)\n",
    "    new_values = tsne_model.fit_transform(tokens)\n",
    "\n",
    "    x = []\n",
    "    y = []\n",
    "    for value in new_values:\n",
    "        x.append(value[0])\n",
    "        y.append(value[1])\n",
    "        \n",
    "    plt.figure(figsize=(15,6)) \n",
    "    for i in range(len(x)):\n",
    "        plt.scatter(x[i],y[i])\n",
    "        plt.annotate(labels[i],\n",
    "                     xy=(x[i], y[i]),\n",
    "                     xytext=(5, 2),\n",
    "                     textcoords='offset points',\n",
    "                     ha='right',\n",
    "                     va='bottom')\n",
    "    plt.show()\n"
   ]
  },
  {
   "cell_type": "code",
   "execution_count": 16,
   "metadata": {},
   "outputs": [
    {
     "data": {
      "image/png": "[encoded data removed]",
      "text/plain": [
       "<Figure size 1080x432 with 1 Axes>"
      ]
     },
     "metadata": {
      "needs_background": "light"
     },
     "output_type": "display_data"
    }
   ],
   "source": [
    "#plot\n",
    "tsne_plot(model.wv.most_similar(positive='F', topn = 5), model)"
   ]
  },
  {
   "cell_type": "markdown",
   "metadata": {},
   "source": [
    "<h3>Chord Embeddings with Notes</h3>"
   ]
  },
  {
   "cell_type": "code",
   "execution_count": null,
   "metadata": {},
   "outputs": [],
   "source": []
  }
 ],
 "metadata": {
  "kernelspec": {
   "display_name": "Python 3",
   "language": "python",
   "name": "python3"
  },
  "language_info": {
   "codemirror_mode": {
    "name": "ipython",
    "version": 3
   },
   "file_extension": ".py",
   "mimetype": "text/x-python",
   "name": "python",
   "nbconvert_exporter": "python",
   "pygments_lexer": "ipython3",
   "version": "3.7.4"
  }
 },
 "nbformat": 4,
 "nbformat_minor": 2
}
