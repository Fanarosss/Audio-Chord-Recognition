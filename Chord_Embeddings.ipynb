{
 "cells": [
  {
   "cell_type": "markdown",
   "metadata": {},
   "source": [
    "<h2>Chord Embeddings</h2>\n",
    "<br>\n",
    "In this notebook we will try to create chord embeddings the same way we do at NLP with Word Embeddings.<br>\n"
   ]
  },
  {
   "cell_type": "code",
   "execution_count": 59,
   "metadata": {},
   "outputs": [],
   "source": [
    "import pandas as pd\n",
    "import numpy as np\n",
    "import matplotlib.pyplot as plt\n",
    "\n",
    "#python input/output and regex\n",
    "import re\n",
    "import os\n",
    "from pathlib import Path\n",
    "\n",
    "#chord info\n",
    "import pychord as pc\n",
    "\n",
    "#librosa\n",
    "import librosa \n",
    "\n",
    "#signal processing libraries\n",
    "from scipy.io import wavfile\n",
    "from scipy import signal\n",
    "\n",
    "#dimensionality reduction\n",
    "from sklearn.manifold import TSNE\n",
    "\n",
    "#embeddings\n",
    "from gensim.models import Word2Vec"
   ]
  },
  {
   "cell_type": "markdown",
   "metadata": {},
   "source": [
    "Create my <b>\"Sentences\"</b>\n",
    "<hr>\n",
    "1. Load chordlab files with annotations<br>"
   ]
  },
  {
   "cell_type": "code",
   "execution_count": 40,
   "metadata": {},
   "outputs": [],
   "source": [
    "Band = 'The Beatles'\n",
    "### get all chordlab files\n",
    "Chordlab = {'The Beatles': {}}\n",
    "for filename in Path('Big-Dataset/The Beatles').glob('**/chordlab/**/*.lab'):\n",
    "    \n",
    "    path, track = os.path.split(filename)\n",
    "    path, album = os.path.split(path)\n",
    "    track_no = re.search('([0-9].)_-_',track).group(1)\n",
    "    \n",
    "    if (album not in Chordlab[Band]): \n",
    "        Chordlab[Band][album] = {}\n",
    "        \n",
    "    Chordlab[Band][album][track_no] = pd.read_csv(filename, names=['Starts', 'Ends', 'Chord'], sep=' ', header=None)"
   ]
  },
  {
   "cell_type": "markdown",
   "metadata": {},
   "source": [
    "2. Transform annotations to chord progressions - or else sentences.<br>"
   ]
  },
  {
   "cell_type": "code",
   "execution_count": 41,
   "metadata": {},
   "outputs": [],
   "source": [
    "Chord_Progressions = []\n",
    "for album in Chordlab[Band].keys():\n",
    "    for track_no in Chordlab[Band][album].keys():\n",
    "        progression = []\n",
    "        for index, row in Chordlab[Band][album][track_no].iterrows():\n",
    "            # filter out silences (N)\n",
    "            if (row['Chord'] != 'N'):\n",
    "                progression.append(row['Chord'])\n",
    "        Chord_Progressions.append(progression)"
   ]
  },
  {
   "cell_type": "markdown",
   "metadata": {},
   "source": [
    "<b>Vocabulary</b>"
   ]
  },
  {
   "cell_type": "code",
   "execution_count": 42,
   "metadata": {},
   "outputs": [
    {
     "name": "stdout",
     "output_type": "stream",
     "text": [
      "Vocab Size:  407\n"
     ]
    }
   ],
   "source": [
    "### Load all chords in a dictionary\n",
    "Chords = []\n",
    "for album in Chordlab['The Beatles'].keys():\n",
    "    for track_no in Chordlab['The Beatles'][album].keys():\n",
    "        for index, row in Chordlab['The Beatles'][album][track_no].iterrows():\n",
    "            if row['Chord'] not in Chords: Chords.append(row['Chord'])\n",
    "                \n",
    "### How many chords do we have in our dataset?\n",
    "vocab_size = len(Chords)\n",
    "print (\"Vocab Size: \",vocab_size)"
   ]
  },
  {
   "cell_type": "markdown",
   "metadata": {},
   "source": [
    "<h2>Chord Embeddings</h2>\n",
    "<br>\n",
    "Let's build some Chord embeddings, just by looking at chord progressions as text, without looking at any notes or harmony beneath.<br>\n"
   ]
  },
  {
   "cell_type": "code",
   "execution_count": 73,
   "metadata": {},
   "outputs": [
    {
     "data": {
      "text/plain": [
       "[('A:min', 0.9433127641677856),\n",
       " ('C', 0.9350109100341797),\n",
       " ('F:7', 0.8986030220985413),\n",
       " ('D:min', 0.8935830593109131),\n",
       " ('G:min', 0.8932269215583801),\n",
       " ('C:7', 0.8883724212646484),\n",
       " ('A:min7', 0.8853769302368164),\n",
       " ('C/5', 0.8850188255310059),\n",
       " ('E/b6', 0.8834120631217957),\n",
       " ('Bb', 0.8792223334312439)]"
      ]
     },
     "execution_count": 73,
     "metadata": {},
     "output_type": "execute_result"
    }
   ],
   "source": [
    "# easy embeddings with gensim\n",
    "model = Word2Vec(Chord_Progressions, size=100, window=5, min_count=1, negative=5, workers=4)\n",
    "\n",
    "model.train(Chord_Progressions, total_examples=len(Chord_Progressions), epochs=2)\n",
    "\n",
    "model.wv.most_similar(positive='F')"
   ]
  },
  {
   "cell_type": "markdown",
   "metadata": {},
   "source": [
    "<b>Results: </b>As we can see, it responded quite well. All those good results, are chords that are seen before-after <b>F</b>\n",
    "<br>\n",
    "Now, let's plot the chords vectors with <b>TSNE for dimensionality reduction</b><br>"
   ]
  },
  {
   "cell_type": "code",
   "execution_count": 74,
   "metadata": {},
   "outputs": [],
   "source": [
    "def tsne_plot(model, w2v):\n",
    "    \"Creates and TSNE model and plots it\"\n",
    "    labels = []\n",
    "    tokens = []\n",
    "\n",
    "    for word, val in model:\n",
    "        tokens.append(w2v.wv[word])\n",
    "        labels.append(word)\n",
    "    \n",
    "    tsne_model = TSNE(perplexity=40, n_components=2, init='pca', n_iter=2500, random_state=23)\n",
    "    new_values = tsne_model.fit_transform(tokens)\n",
    "\n",
    "    x = []\n",
    "    y = []\n",
    "    for value in new_values:\n",
    "        x.append(value[0])\n",
    "        y.append(value[1])\n",
    "        \n",
    "    plt.figure(figsize=(15,6)) \n",
    "    for i in range(len(x)):\n",
    "        plt.scatter(x[i],y[i])\n",
    "        plt.annotate(labels[i],\n",
    "                     xy=(x[i], y[i]),\n",
    "                     xytext=(5, 2),\n",
    "                     textcoords='offset points',\n",
    "                     ha='right',\n",
    "                     va='bottom')\n",
    "    plt.show()\n"
   ]
  },
  {
   "cell_type": "code",
   "execution_count": 79,
   "metadata": {},
   "outputs": [
    {
     "data": {
      "image/png": "[encoded data removed]",
      "text/plain": [
       "<Figure size 1080x432 with 1 Axes>"
      ]
     },
     "metadata": {
      "needs_background": "light"
     },
     "output_type": "display_data"
    }
   ],
   "source": [
    "#plot\n",
    "tsne_plot(model.wv.most_similar(positive='F'), model)"
   ]
  },
  {
   "cell_type": "code",
   "execution_count": null,
   "metadata": {},
   "outputs": [],
   "source": []
  }
 ],
 "metadata": {
  "kernelspec": {
   "display_name": "Python 3",
   "language": "python",
   "name": "python3"
  },
  "language_info": {
   "codemirror_mode": {
    "name": "ipython",
    "version": 3
   },
   "file_extension": ".py",
   "mimetype": "text/x-python",
   "name": "python",
   "nbconvert_exporter": "python",
   "pygments_lexer": "ipython3",
   "version": "3.7.4"
  }
 },
 "nbformat": 4,
 "nbformat_minor": 2
}
