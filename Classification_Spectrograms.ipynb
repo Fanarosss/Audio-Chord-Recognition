{
 "cells": [
  {
   "cell_type": "markdown",
   "metadata": {},
   "source": [
    "<h1>Audio Chord Estimation using Neural Networks</h1>\n",
    "<h4>Theofanis Aslanidis</h4>\n",
    "    "
   ]
  },
  {
   "cell_type": "markdown",
   "metadata": {},
   "source": [
    "<h3>Abstract</h3>\n",
    "In this project, we are going to explore the use of deep neural networks for recognizing audio chords, using the Isophonics dataset - the one that is used on MIREX.<br>\n",
    "For the first steps of the implementation, I'm using a test-dataset only with one album, because the memory needed is very large, due to the one hot representation. So I'm using only the album \"<i>Let it Be</i>\" until I implement a batch training, where I won't need to load all data on memory at once.<br><br>\n",
    "<i>In order to run the notebook you will need my dataset, and ~32GB ram</i>"
   ]
  },
  {
   "cell_type": "code",
   "execution_count": 1,
   "metadata": {},
   "outputs": [],
   "source": [
    "import sys\n",
    "# do this only once\n",
    "sys.path.append('./src/audio-processing/')\n",
    "sys.path.append('./src/data-processing/')"
   ]
  },
  {
   "cell_type": "code",
   "execution_count": 2,
   "metadata": {},
   "outputs": [],
   "source": [
    "import pandas as pd\n",
    "import numpy as np\n",
    "import matplotlib.pyplot as plt\n",
    "\n",
    "#python input/output and regex\n",
    "import re\n",
    "import os\n",
    "from pathlib import Path\n",
    "\n",
    "#signal processing libraries\n",
    "from scipy.io import wavfile\n",
    "from scipy import signal\n",
    "\n",
    "#sklearn for normalization\n",
    "from sklearn.preprocessing import StandardScaler, OneHotEncoder\n",
    "\n",
    "#tensorflow\n",
    "import tensorflow as tf\n",
    "from tensorflow import keras\n",
    "\n",
    "#padding\n",
    "from tensorflow.keras.preprocessing.sequence import pad_sequences\n",
    "from tensorflow.keras.preprocessing.text import one_hot\n",
    "\n",
    "#librosa\n",
    "import librosa\n",
    "\n",
    "#import custom modules\n",
    "import filters\n",
    "import spectrograms\n",
    "import audiofiles\n",
    "import annotation_processing"
   ]
  },
  {
   "cell_type": "markdown",
   "metadata": {},
   "source": [
    "<h3>Audio File pre-processing</h3>"
   ]
  },
  {
   "cell_type": "markdown",
   "metadata": {},
   "source": [
    "Script to Convert <b>mp3 files to wav</b>"
   ]
  },
  {
   "cell_type": "code",
   "execution_count": 4,
   "metadata": {},
   "outputs": [],
   "source": [
    "audiofiles.mp3_to_wav()"
   ]
  },
  {
   "cell_type": "markdown",
   "metadata": {},
   "source": [
    "Script to Convert files from <b>stereo to mono</b>"
   ]
  },
  {
   "cell_type": "code",
   "execution_count": 81,
   "metadata": {},
   "outputs": [],
   "source": [
    "audiofiles.stereo_to_mono()"
   ]
  },
  {
   "cell_type": "markdown",
   "metadata": {},
   "source": [
    "<h3>Loading Datasets</h3>\n",
    "<h4>Annotations</h4>"
   ]
  },
  {
   "cell_type": "markdown",
   "metadata": {},
   "source": [
    "From the <b>isophonics</b> dataset, in the chordlab folder, there are all the annotations we need.<br>\n",
    "Read all those chordlab files as <b>pandas dataframes</b> and store them in a dictionary of dataframes."
   ]
  },
  {
   "cell_type": "code",
   "execution_count": 3,
   "metadata": {},
   "outputs": [],
   "source": [
    "### get all chordlab files\n",
    "Chordlab = {'The Beatles': {}}\n",
    "for filename in Path('Big-Dataset/The Beatles').glob('**/scratch/**/*.lab'):\n",
    "    \n",
    "    path, track = os.path.split(filename)\n",
    "    path, album = os.path.split(path)\n",
    "    track_no = re.search('([0-9].)_-_',track).group(1)\n",
    "    \n",
    "    if (album not in Chordlab['The Beatles']): \n",
    "        Chordlab['The Beatles'][album] = {}\n",
    "        \n",
    "    Chordlab['The Beatles'][album][track_no] = pd.read_csv(filename, names=['Starts', 'Ends', 'Chord'], sep=' ', header=None)"
   ]
  },
  {
   "cell_type": "markdown",
   "metadata": {},
   "source": [
    "For all the tracks we have the annotations, we need to load the appropriate audio track for each one, create the spectrogram, and store the (time, frequency, power) vector.<br>\n",
    "<b>Steps:</b>\n",
    "<ul>\n",
    "    <li> Browse to those wav files\n",
    "    <li> Read with wavfile from SciPy\n",
    "    <li> Create spectrogram with signal spectrogram\n",
    "</ul>"
   ]
  },
  {
   "cell_type": "markdown",
   "metadata": {},
   "source": [
    "### Spectrograms"
   ]
  },
  {
   "cell_type": "markdown",
   "metadata": {},
   "source": [
    "- Creating Spectrograms with different timesteps\n",
    "- Creating Spectrograms with more timesteps\n",
    "- Creating Spectrograms with neighborhoods on chords changes"
   ]
  },
  {
   "cell_type": "code",
   "execution_count": 4,
   "metadata": {
    "scrolled": false
   },
   "outputs": [],
   "source": [
    "### get all audio files and create spectrogram for each track\n",
    "audiofiles_path='Audiofiles/The Beatles'\n",
    "n_fft=2048\n",
    "nperseg=2048\n",
    "Spectrograms, frequencies_num = spectrograms.create_spectrograms(n_fft, nperseg, audiofiles_path)"
   ]
  },
  {
   "cell_type": "code",
   "execution_count": 5,
   "metadata": {},
   "outputs": [
    {
     "name": "stdout",
     "output_type": "stream",
     "text": [
      "Number of unique frequncies:  1025\n"
     ]
    }
   ],
   "source": [
    "print ('Number of unique frequncies: ', frequencies_num)"
   ]
  },
  {
   "cell_type": "markdown",
   "metadata": {},
   "source": [
    "Resulting spectrograms contain info for 1025 frequency range"
   ]
  },
  {
   "cell_type": "markdown",
   "metadata": {},
   "source": [
    "## Data preprocessing\n",
    "**Convert data into input that I can feed in the neural network**\n",
    "<br>\n",
    "### 2 Ways of handling annotations:\n",
    "- **One Hot Encodings**<br><br>\n",
    "Just like NLP, every chord will have a one hot vector representation.<br>\n",
    "<br>\n",
    "- **Chord/Mode/Sus**<br><br>\n",
    "Try an encoding(hashing) for each chord, and when we stumble upon each chord we hash it to a unique combination.<br>\n",
    "<br>**Example**:<br>\n",
    "<ol>\n",
    "    <li> Find the chord between the 12 chords</li>\n",
    "    <b>Chords:</b> C, C#, Db, D, D#, E, F, etc.<br>\n",
    "    <li>Find the mode of the chord (major/minor)</li>\n",
    "    <b>Mode:</b><br>\n",
    "    Minor Chord: 0<br>\n",
    "    Major Chord: 1<br>\n",
    "    <li>Find any notes outside of the basic tonic triad</li>\n",
    "    <b>Sustained: </b>\n",
    "    4,6,7,9,11,13<br>\n",
    "    </ol>"
   ]
  },
  {
   "cell_type": "code",
   "execution_count": 6,
   "metadata": {},
   "outputs": [
    {
     "name": "stdout",
     "output_type": "stream",
     "text": [
      "Unique Chords in our Dataset:  407\n"
     ]
    }
   ],
   "source": [
    "### Load all chords in a dictionary\n",
    "Chords = []\n",
    "for album in Chordlab['The Beatles'].keys():\n",
    "    for track_no in Chordlab['The Beatles'][album].keys():\n",
    "        for index, row in Chordlab['The Beatles'][album][track_no].iterrows():\n",
    "            if row['Chord'] not in Chords: Chords.append(row['Chord'])\n",
    "                \n",
    "### How many chords do we have in our dataset?\n",
    "print (\"Unique Chords in our Dataset: \",len(Chords))"
   ]
  },
  {
   "cell_type": "markdown",
   "metadata": {},
   "source": [
    "For one album we have 68 Chords, so our vectors are going to be <b>one hot vectors</b> of 68 size. (67 zeros and 1 one)<br>\n",
    "Create one hot encodings of the chords, with <b>pandas Series + get_dummies</b><br>\n",
    "#### One Hot Encodings\n",
    "<br>\n",
    "With <b>pandas</b>:"
   ]
  },
  {
   "cell_type": "code",
   "execution_count": 6,
   "metadata": {},
   "outputs": [],
   "source": [
    "num_chords = len(Chords)\n",
    "s = pd.Series(Chords)\n",
    "OneHotEncodings = pd.get_dummies(s)"
   ]
  },
  {
   "cell_type": "markdown",
   "metadata": {},
   "source": [
    "With <b>Sklearn</b>:<br>\n",
    "<i>(which provides us with inverse transformation, for the results.)</i>"
   ]
  },
  {
   "cell_type": "code",
   "execution_count": 7,
   "metadata": {},
   "outputs": [
    {
     "data": {
      "text/plain": [
       "OneHotEncoder(categorical_features=None, categories=None, drop=None,\n",
       "              dtype=<class 'numpy.float64'>, handle_unknown='error',\n",
       "              n_values=None, sparse=True)"
      ]
     },
     "execution_count": 7,
     "metadata": {},
     "output_type": "execute_result"
    }
   ],
   "source": [
    "encoder = OneHotEncoder()\n",
    "encoder.fit(np.array(pd.Series(Chords)).reshape(-1,1))"
   ]
  },
  {
   "cell_type": "markdown",
   "metadata": {},
   "source": [
    "<h3>Indexing chords with timestamps</h3>"
   ]
  },
  {
   "cell_type": "markdown",
   "metadata": {},
   "source": [
    "<img src=\"images/Vector_flow.png\" width=\"800\" />\n",
    "\n",
    "<caption><center> <b>Figure 1</b>: Annotation Data Processing.</center></caption>"
   ]
  },
  {
   "cell_type": "markdown",
   "metadata": {},
   "source": [
    "Now we have to align the <b>timing of the chords</b> with the <b>times array</b><br>\n",
    "To achieve that lets try to convert the timing - chords data of the .lab files in the same representation as the spectrograms data.<br>\n",
    "We will keep the same timeline (times), and using the timing<br>\n",
    "<b><font color='red'>Warning</font>: This is computational expensive for the cpu. If you have it ready, you can load it below with pickle.</b><br> "
   ]
  },
  {
   "cell_type": "code",
   "execution_count": null,
   "metadata": {},
   "outputs": [],
   "source": [
    "Artist='The Beatles'\n",
    "Timeseries=Spectrograms\n",
    "chords2vec = {}\n",
    "for album in Chordlab[Artist].keys():\n",
    "    chords2vec[album] = {}\n",
    "    for track_no in Chordlab[Artist][album].keys():\n",
    "        times = Timeseries[Artist][album][track_no]['times']\n",
    "        df_rows = Chordlab[Artist][album][track_no].itertuples()\n",
    "        index = 0\n",
    "        max_len = len(Chordlab[Artist][album][track_no])\n",
    "        vector = np.empty((len(Chords),))\n",
    "        row = next(df_rows)\n",
    "        for timestamp in times:\n",
    "            if ((index + 1) < max_len) & (timestamp >= row[2]):\n",
    "                index += 1\n",
    "                row = next(df_rows)\n",
    "            vector = np.column_stack((vector, encoder.transform([[row[3]]]).toarray()[0]))\n",
    "        chords2vec[album][track_no] = vector\n",
    "        print(album, ': track ', track_no, ' completed')\n",
    "\n",
    "# Take care fo the one extra row in the beginning of the array\n",
    "for album in chords2vec.keys():\n",
    "    for track_no in chords2vec[album].keys():\n",
    "        chords2vec[album][track_no] = np.delete(chords2vec[album][track_no], 0, 1)"
   ]
  },
  {
   "cell_type": "markdown",
   "metadata": {},
   "source": [
    "Now we have our 4D data ready in a dictionary to go into our model for training.<br>\n",
    "3 dimensions (times, frequencies, power) will go as X_train and chords2vec will go as Y_train<br><br>"
   ]
  },
  {
   "cell_type": "markdown",
   "metadata": {},
   "source": [
    "<b>Store - Load Data with pickle</b>"
   ]
  },
  {
   "cell_type": "code",
   "execution_count": 14,
   "metadata": {},
   "outputs": [],
   "source": [
    "### STORE\n",
    "import pickle\n",
    "\n",
    "with open('full_indexed.pickle', 'wb') as handle:\n",
    "    pickle.dump(chords2vec, handle, protocol=pickle.HIGHEST_PROTOCOL)"
   ]
  },
  {
   "cell_type": "code",
   "execution_count": 8,
   "metadata": {},
   "outputs": [],
   "source": [
    "### LOAD\n",
    "import pickle\n",
    "\n",
    "with open('full_indexed.pickle', 'rb') as handle:\n",
    "    chords2vec = pickle.load(handle)"
   ]
  },
  {
   "cell_type": "markdown",
   "metadata": {},
   "source": [
    "## Train/Test Data Initialization\n",
    "<br>\n",
    "After appending all the data together, we slice them into batches, as shown below:<br>\n",
    "(Example is for the X_train, we do exactly the same for the Y_train - chord annotations.)\n",
    "<br>"
   ]
  },
  {
   "cell_type": "markdown",
   "metadata": {},
   "source": [
    "### Approach 1\n",
    "- Batch per song with padding sequences"
   ]
  },
  {
   "cell_type": "code",
   "execution_count": 9,
   "metadata": {},
   "outputs": [],
   "source": [
    "x_train = []\n",
    "y_train = []\n",
    "test_track_no = '06'\n",
    "for album in chords2vec.keys():\n",
    "    for track_no in chords2vec[album].keys():\n",
    "        # test data\n",
    "        if track_no == test_track_no and album == '12_-_Let_It_Be':\n",
    "            x_test = Spectrograms['The Beatles'][album][track_no]['powerSpectrum'].T\n",
    "            y_test = chords2vec[album][track_no].T\n",
    "            continue\n",
    "        # train data\n",
    "        x_train.append(Spectrograms['The Beatles'][album][track_no]['powerSpectrum'].T)\n",
    "        y_train.append(chords2vec[album][track_no].T)\n",
    "        \n",
    "maxlen = len(max(x_train, key=len))\n",
    "\n",
    "x_train = pad_sequences(x_train, maxlen=maxlen, padding='post')\n",
    "y_train = pad_sequences(y_train, maxlen=maxlen, padding='post')\n",
    "x_test = pad_sequences([x_test], maxlen=maxlen, padding='post')\n",
    "y_test = pad_sequences([y_test], maxlen=maxlen, padding='post')"
   ]
  },
  {
   "cell_type": "markdown",
   "metadata": {},
   "source": [
    "<h4>Normalization</h4>"
   ]
  },
  {
   "cell_type": "code",
   "execution_count": 10,
   "metadata": {},
   "outputs": [],
   "source": [
    "scalers = {}\n",
    "for i in range(x_train.shape[0]):\n",
    "    scalers[i] = StandardScaler()\n",
    "    x_train[i, :, :] = scalers[i].fit_transform(x_train[i, :, :]) \n",
    "\n",
    "test_scaler = StandardScaler()\n",
    "x_test[0, :, :] = test_scaler.fit_transform(x_test[0, :, :])\n",
    "\n",
    "# due to some error in matmul\n",
    "x_test = tf.cast(x_test, tf.float32)"
   ]
  },
  {
   "cell_type": "code",
   "execution_count": 11,
   "metadata": {},
   "outputs": [],
   "source": [
    "chunk_size = maxlen"
   ]
  },
  {
   "cell_type": "markdown",
   "metadata": {},
   "source": [
    "### Approach 2\n",
    "- Stack all data and then slice them into chunks"
   ]
  },
  {
   "cell_type": "markdown",
   "metadata": {},
   "source": [
    "<img src=\"images/slicing.png\" width=\"800\" />\n",
    "\n",
    "<caption><center> <b>Figure 2</b>: Slicing data into Batches.</center></caption>"
   ]
  },
  {
   "cell_type": "markdown",
   "metadata": {},
   "source": [
    "In this article the following is stated.<br>\n",
    "https://tm3.ghost.io/2018/09/05/building-lstms-for-time-series-forecasting/<br>\n",
    "<i>\"Instead of one sequence of 1870, you could have many sequences of let's say 20. Your sequences should be overlapping windows `[0-20], [1-21], [2-22]`, etc, so your final shape would be something like `(1850, 20, 14)`.Same process for your test data. Break into subsequences of the same length as training. You will have to play around with finding what a good subsequence length is. It is extremely important to have many different ways of slicing your data. If you train on just one super long sequence it will probably not learn anything interesting.\"</i>"
   ]
  },
  {
   "cell_type": "markdown",
   "metadata": {},
   "source": [
    "<h4>1. Constructing numpy arrays</h4>"
   ]
  },
  {
   "cell_type": "code",
   "execution_count": 9,
   "metadata": {},
   "outputs": [],
   "source": [
    "# Find the chunk size\n",
    "chunk_size = 500"
   ]
  },
  {
   "cell_type": "code",
   "execution_count": 14,
   "metadata": {},
   "outputs": [
    {
     "name": "stdout",
     "output_type": "stream",
     "text": [
      "(1520, 500, 1025) (1520, 500, 407) (10, 500, 1025) (10, 500, 407)\n"
     ]
    }
   ],
   "source": [
    "x_train = np.zeros((1,chunk_size,frequencies_num)) #num of frequencies\n",
    "y_train = np.zeros((1,chunk_size,len(Chords)))\n",
    "x_test = np.zeros((1,chunk_size,frequencies_num)) #num of frequencies\n",
    "y_test = np.zeros((1,chunk_size,len(Chords)))\n",
    "\n",
    "#test track\n",
    "test_track_no = '01'\n",
    "album_test_track = '09_-_Magical_Mystery_Tour'\n",
    "\n",
    "for album in chords2vec.keys():\n",
    "    for track_no in chords2vec[album].keys():\n",
    "        timestep = 0\n",
    "        # size of the current track\n",
    "        chunks = chords2vec[album][track_no].T.shape[0]\n",
    "        # track frequencies\n",
    "        spectrogram = Spectrograms['The Beatles'][album][track_no]['powerSpectrum'].T\n",
    "        # track annotations\n",
    "        annotations = chords2vec[album][track_no].T\n",
    "        # slice and stack train-test data\n",
    "        if track_no != test_track_no or album != album_test_track:\n",
    "            # train tracks\n",
    "            while timestep < chunks :\n",
    "                if (chunks - timestep) > chunk_size:\n",
    "                    batch_x = np.resize(spectrogram[timestep:timestep+chunk_size,:], (1, chunk_size, frequencies_num)) #num of frequencies\n",
    "                    x_train = np.append(x_train, batch_x, axis = 0)\n",
    "                    batch_y = np.resize(annotations[timestep:timestep+chunk_size,:], (1, chunk_size, len(Chords)))\n",
    "                    y_train = np.append(y_train, batch_y, axis = 0)\n",
    "                else:\n",
    "                    batch_x = spectrogram[timestep:,:]\n",
    "                    batch_y = annotations[timestep:,:]\n",
    "                    for step in range (0, chunk_size + timestep - chunks):\n",
    "                        batch_x = np.vstack((batch_x, np.zeros((1,frequencies_num))))\n",
    "                        batch_y = np.vstack((batch_y, encoder.transform([['N']]).toarray()[0]))\n",
    "                    x_train = np.append(x_train, np.array([batch_x]), axis = 0)\n",
    "                    y_train = np.append(y_train, np.array([batch_y]), axis = 0)\n",
    "                timestep += chunk_size\n",
    "        else:\n",
    "            # test tracks\n",
    "            while timestep < chunks :\n",
    "                if (chunks - timestep) > chunk_size:\n",
    "                    batch_x = np.resize(spectrogram[timestep:timestep+chunk_size,:], (1, chunk_size, frequencies_num)) #num of frequencies\n",
    "                    x_test = np.append(x_test, batch_x, axis = 0)\n",
    "                    batch_y = np.resize(annotations[timestep:timestep+chunk_size,:], (1, chunk_size, len(Chords)))\n",
    "                    y_test = np.append(y_test, batch_y, axis = 0)\n",
    "                else:\n",
    "                    batch_x = spectrogram[timestep:,:]\n",
    "                    batch_y = annotations[timestep:,:]\n",
    "                    for step in range (0, chunk_size + timestep - chunks):\n",
    "                        batch_x = np.vstack((batch_x, np.zeros((1,frequencies_num))))\n",
    "                        batch_y = np.vstack((batch_y, encoder.transform([['N']]).toarray()[0]))\n",
    "                    x_test = np.append(x_test, np.array([batch_x]), axis = 0)\n",
    "                    y_test = np.append(y_test, np.array([batch_y]), axis = 0)\n",
    "                # augment timesteps\n",
    "                timestep += chunk_size\n",
    "\n",
    "print (x_train.shape, y_train.shape, x_test.shape, y_test.shape)"
   ]
  },
  {
   "cell_type": "markdown",
   "metadata": {},
   "source": [
    "Delete the first row from every array because of the append, which left it all zeros."
   ]
  },
  {
   "cell_type": "code",
   "execution_count": 15,
   "metadata": {},
   "outputs": [],
   "source": [
    "#delete first line batch of array because its zeros\n",
    "x_train = np.delete(x_train,0,0)\n",
    "y_train = np.delete(y_train,0,0)\n",
    "x_test = np.delete(x_test,0,0)\n",
    "y_test = np.delete(y_test,0,0)"
   ]
  },
  {
   "cell_type": "code",
   "execution_count": 16,
   "metadata": {},
   "outputs": [
    {
     "name": "stdout",
     "output_type": "stream",
     "text": [
      "(1519, 500, 1025)\n",
      "(1519, 500, 407)\n",
      "(9, 500, 1025)\n",
      "(9, 500, 407)\n"
     ]
    }
   ],
   "source": [
    "print(x_train.shape)\n",
    "print(y_train.shape)\n",
    "print(x_test.shape)\n",
    "print(y_test.shape)"
   ]
  },
  {
   "cell_type": "markdown",
   "metadata": {},
   "source": [
    "<h4>2. Normalization</h4>"
   ]
  },
  {
   "cell_type": "code",
   "execution_count": null,
   "metadata": {},
   "outputs": [],
   "source": [
    "scalers_train = {}\n",
    "scalers_test = {}\n",
    "for i in range(x_train.shape[0]):\n",
    "    scalers_train[i] = StandardScaler()\n",
    "    x_train[i, :, :] = scalers_train[i].fit_transform(x_train[i, :, :]) \n",
    "\n",
    "for i in range(x_test.shape[0]):\n",
    "    scalers_test[i] = StandardScaler()\n",
    "    x_test[i, :, :] = scalers_test[i].fit_transform(x_test[i, :, :]) "
   ]
  },
  {
   "cell_type": "markdown",
   "metadata": {},
   "source": [
    "## Chord Embeddings"
   ]
  },
  {
   "cell_type": "code",
   "execution_count": 23,
   "metadata": {},
   "outputs": [],
   "source": [
    "def chord_embeddings(Chordlab, Timeseries):\n",
    "    Chord_Progressions = []\n",
    "    slice_count = 0\n",
    "    progression = []\n",
    "    for Artist in Chordlab.keys():\n",
    "        for album in Chordlab[Artist].keys():\n",
    "            for track_no in Chordlab[Artist][album].keys():\n",
    "                if ((track_no == test_track_no) and (album == '12_-_Let_It_Be')): continue\n",
    "                times = Timeseries[Artist][album][track_no]['times']\n",
    "                df_rows = Chordlab[Artist][album][track_no].itertuples()\n",
    "                index = 0\n",
    "                max_len = len(Chordlab[Artist][album][track_no])\n",
    "                vector = np.empty((len(Chords),))\n",
    "                row = next(df_rows)\n",
    "                for timestamp in times:\n",
    "                    \n",
    "                    if ((index + 1) < max_len) & (timestamp >= row[2]):\n",
    "                        index += 1\n",
    "                        row = next(df_rows)\n",
    "                       \n",
    "                    #not filtering silences\n",
    "                    slice_count += 1\n",
    "                    progression.append(row[3])\n",
    "                    \n",
    "                    if slice_count % chunk_size == 0:\n",
    "                        Chord_Progressions.append(progression)\n",
    "                        progression = []\n",
    "    \n",
    "    return Chord_Progressions"
   ]
  },
  {
   "cell_type": "markdown",
   "metadata": {},
   "source": [
    "#### Build chord progressions"
   ]
  },
  {
   "cell_type": "code",
   "execution_count": 24,
   "metadata": {},
   "outputs": [],
   "source": [
    "Chord_Progressions = chord_embeddings(Chordlab, Spectrograms)"
   ]
  },
  {
   "cell_type": "markdown",
   "metadata": {},
   "source": [
    "**List of sequences**\n",
    "\n",
    "Transform <'list of lists'> with the progressions into a <'ist of sentences'> separated by whitespace."
   ]
  },
  {
   "cell_type": "code",
   "execution_count": 25,
   "metadata": {},
   "outputs": [],
   "source": [
    "Chord_Sentences = []\n",
    "for progression_set in Chord_Progressions:\n",
    "    progression_sentence = ' '.join(progression_set)\n",
    "    Chord_Sentences.append(progression_sentence)"
   ]
  },
  {
   "cell_type": "markdown",
   "metadata": {},
   "source": [
    "**From sentences of 'C G D' -> sentences of one hot representation**"
   ]
  },
  {
   "cell_type": "code",
   "execution_count": 26,
   "metadata": {},
   "outputs": [],
   "source": [
    "embedded_progressions = [one_hot(progression_sentence, len(Chords)) for progression_sentence in Chord_Sentences]"
   ]
  },
  {
   "cell_type": "markdown",
   "metadata": {},
   "source": [
    "**Padding**"
   ]
  },
  {
   "cell_type": "code",
   "execution_count": 27,
   "metadata": {},
   "outputs": [],
   "source": [
    "#padding\n",
    "maxLen = chunk_size\n",
    "embeddings_train = pad_sequences(embedded_progressions, maxlen=maxLen, padding='post')\n",
    "embeddings_test = np.zeros((20,chunk_size))"
   ]
  },
  {
   "cell_type": "code",
   "execution_count": 28,
   "metadata": {},
   "outputs": [],
   "source": [
    "# there is a bug where it comes one row short, temporary fix\n",
    "embeddings_train = np.vstack((embeddings_train, np.zeros((1,chunk_size))))"
   ]
  },
  {
   "cell_type": "code",
   "execution_count": 29,
   "metadata": {},
   "outputs": [
    {
     "name": "stdout",
     "output_type": "stream",
     "text": [
      "(2377, 300)\n",
      "(20, 300)\n"
     ]
    }
   ],
   "source": [
    "print (embeddings_train.shape)\n",
    "print (embeddings_test.shape)"
   ]
  },
  {
   "cell_type": "markdown",
   "metadata": {},
   "source": [
    "<b>If you have limited RAM clear this 4GB dictionary for memory issues !</b>"
   ]
  },
  {
   "cell_type": "code",
   "execution_count": 16,
   "metadata": {},
   "outputs": [],
   "source": [
    "#spectrogram dict is no longer necessary\n",
    "Spectrograms.clear()"
   ]
  },
  {
   "cell_type": "markdown",
   "metadata": {},
   "source": [
    "# Neural Network"
   ]
  },
  {
   "cell_type": "markdown",
   "metadata": {},
   "source": [
    "Let's play with various RNNs with tensorflow, we will play with combinations of:\n",
    "- LSTM\n",
    "- Bidirectional LSTM\n",
    "- GRU\n",
    "- Convolutional Neural Net\n",
    "- Embeddings"
   ]
  },
  {
   "cell_type": "code",
   "execution_count": 17,
   "metadata": {},
   "outputs": [],
   "source": [
    "from tensorflow.keras.layers import Input, Embedding, LSTM, Bidirectional, Dropout, Dense, BatchNormalization, GRU, concatenate, Conv1D, Conv2D, Flatten,MaxPooling1D, LocallyConnected1D, Activation, TimeDistributed, GaussianNoise\n",
    "from tensorflow.keras.models import Model\n",
    "from tensorflow.keras.initializers import RandomNormal, RandomUniform"
   ]
  },
  {
   "cell_type": "markdown",
   "metadata": {},
   "source": [
    "***\n",
    "- Reshape in order to apply Time Distributed Convolutions"
   ]
  },
  {
   "cell_type": "code",
   "execution_count": 17,
   "metadata": {},
   "outputs": [],
   "source": [
    "# Reshaping\n",
    "x_train = np.reshape(x_train,(x_train.shape[0], x_train.shape[1], x_train.shape[2], 1))\n",
    "x_test = np.reshape(x_test,(x_test.shape[0], x_test.shape[1], x_test.shape[2], 1))"
   ]
  },
  {
   "cell_type": "markdown",
   "metadata": {},
   "source": [
    "- Reshape to its original shape"
   ]
  },
  {
   "cell_type": "code",
   "execution_count": 45,
   "metadata": {},
   "outputs": [],
   "source": [
    "#Reshape back\n",
    "x_train = np.reshape(x_train,(x_train.shape[0], x_train.shape[1], x_train.shape[2]))\n",
    "x_test = np.reshape(x_test,(x_test.shape[0], x_test.shape[1], x_test.shape[2]))"
   ]
  },
  {
   "cell_type": "markdown",
   "metadata": {},
   "source": [
    "### Single Input Models"
   ]
  },
  {
   "cell_type": "markdown",
   "metadata": {},
   "source": [
    "> **Simple 2 Layer Bidirectional LSTM**\n",
    "1. Data -> 2 Layers BLSTM\n",
    "2. output -> Dense -> predictions"
   ]
  },
  {
   "cell_type": "code",
   "execution_count": 18,
   "metadata": {},
   "outputs": [],
   "source": [
    "def BLSTM_2Layer(chords_num, frequencies_num, timesteps, batch_size):\n",
    "    \n",
    "    main_input = Input(shape=(timesteps,frequencies_num), name='main_input')\n",
    "    \n",
    "    #BLSTM\n",
    "    x = Bidirectional(LSTM(units = 64, \n",
    "                           batch_input_shape = (batch_size, timesteps, frequencies_num),\n",
    "                           kernel_initializer = 'glorot_uniform',\n",
    "                           bias_initializer = RandomNormal(),\n",
    "                           recurrent_activation='sigmoid',\n",
    "                           recurrent_regularizer='l2',\n",
    "                           recurrent_dropout = 0.25,\n",
    "                           return_sequences = True))(main_input)\n",
    "    x = Dropout(0.5)(x)\n",
    "    \n",
    "    #BLSTM on the concatanted output\n",
    "    x = Bidirectional(LSTM(units = 64,\n",
    "                           kernel_initializer = 'glorot_uniform',\n",
    "                           bias_initializer = RandomNormal(),\n",
    "                           recurrent_activation='sigmoid',\n",
    "                           recurrent_regularizer='l2',\n",
    "                           recurrent_dropout = 0.25,\n",
    "                           return_sequences=True))(x)\n",
    "    x = Dropout(0.5)(x)\n",
    "    \n",
    "    x = Dense(256)(x)\n",
    "    x = Activation('sigmoid')(x)\n",
    "    \n",
    "    #Dense for classification\n",
    "    x = Dense(chords_num)(x)\n",
    "    main_output = Activation('softmax')(x)\n",
    "    #model\n",
    "    model = Model(inputs=[main_input], outputs=[main_output])\n",
    "\n",
    "    return model"
   ]
  },
  {
   "cell_type": "markdown",
   "metadata": {},
   "source": [
    "> **Timeseries Sequence to Conv**\n",
    "1. Data -> Convolutions -> c\n",
    "2. c pass through 2 Layers of BLSTM\n",
    "3. x -> Dense -> predictions"
   ]
  },
  {
   "cell_type": "code",
   "execution_count": 18,
   "metadata": {},
   "outputs": [],
   "source": [
    "def TS_Conv1D_BLSTM_2Layer(chords_num, frequencies_num, timesteps, batch_size):\n",
    "    \n",
    "    main_input = Input(shape=(timesteps,frequencies_num,1), name='main_input')\n",
    "    \n",
    "    \n",
    "    #CNN 1\n",
    "    c = TimeDistributed(Conv1D(filters=32, \n",
    "                   kernel_size=8, \n",
    "                   padding='same'))(main_input)\n",
    "    \n",
    "    c = TimeDistributed(Activation('relu'))(c)\n",
    "    #CNN 2\n",
    "    c = TimeDistributed(Conv1D(filters=32, \n",
    "                   kernel_size=8, \n",
    "                   padding='same'))(c)\n",
    "    \n",
    "    c = TimeDistributed(Activation('relu'))(c)\n",
    "    \n",
    "    c = TimeDistributed(MaxPooling1D(2,2))(c)\n",
    "    c = Dropout(0.5)(c)\n",
    "    \n",
    "    \n",
    "    #CNN 1 \n",
    "    c = TimeDistributed(Conv1D(filters=64, \n",
    "                   kernel_size=8, \n",
    "                   padding='same'))(c)\n",
    "    \n",
    "    c = TimeDistributed(Activation('relu'))(c)\n",
    "    #CNN 2\n",
    "    c = TimeDistributed(Conv1D(filters=64, \n",
    "                   kernel_size=8, \n",
    "                   padding='same'))(c)\n",
    "    \n",
    "    c = TimeDistributed(Activation('relu'))(c)\n",
    "    \n",
    "    c = TimeDistributed(MaxPooling1D(2,2))(c)\n",
    "    c = Dropout(0.5)(c)\n",
    "    \n",
    "    #x = TimeDistributed(BatchNormalization())(c)\n",
    "    \n",
    "    x = TimeDistributed(Flatten())(c)\n",
    "    \n",
    "    x = Dense(64)(x)\n",
    "    x = Activation('sigmoid')(x)\n",
    "    \n",
    "    #BLSTM\n",
    "    x = Bidirectional(LSTM(units = 64, return_sequences = True))(x)\n",
    "    x = Dropout(0.5)(x)\n",
    "    #BLSTM on the concatanted output\n",
    "    x = Bidirectional(LSTM(units = 64, return_sequences=True))(x)\n",
    "    x = Dropout(0.5)(x)\n",
    "    #Dense for classification\n",
    "    x = Dense(chords_num)(x)\n",
    "    main_output = Activation('softmax')(x)\n",
    "    \n",
    "    #model\n",
    "    model = Model(inputs=[main_input], outputs=[main_output])\n",
    "\n",
    "    return model"
   ]
  },
  {
   "cell_type": "markdown",
   "metadata": {},
   "source": [
    "### Double input models\n",
    "> **Embedding with BLSTM**\n",
    "1. Data -> Embeddings -> e\n",
    "2. Data -> BLSTM -> x\n",
    "3. x, e -> BLSTM -> output1\n",
    "4. output1 -> Dense -> predictions"
   ]
  },
  {
   "cell_type": "code",
   "execution_count": 118,
   "metadata": {},
   "outputs": [],
   "source": [
    "# model with full concatenation\n",
    "def Embeddings_BLSTM_2Layer(chords_num, frequencies_num, timesteps, batch_size):\n",
    "    \n",
    "    main_input = Input(shape=(timesteps,frequencies_num), name='main_input')\n",
    "    embeddings_input = Input(shape=(maxLen,), name='embeddings_input')\n",
    "    \n",
    "    #Embedding layer\n",
    "    e = Embedding(input_dim=chords_num, \n",
    "                  output_dim=150, \n",
    "                  input_length=maxLen)(embeddings_input)\n",
    "    #BLSTM\n",
    "    x = Bidirectional(LSTM(units=60, \n",
    "                           batch_input_shape = (batch_size, timesteps, frequencies_num),\n",
    "                           kernel_initializer = 'glorot_uniform',\n",
    "                           bias_initializer = RandomNormal(),\n",
    "                           recurrent_activation='sigmoid',\n",
    "                           return_sequences=True))(main_input)\n",
    "    x = Dropout(0.5)(x)\n",
    "    \n",
    "    #merge input with embeddings\n",
    "    merged = concatenate([x, e], axis=-1)\n",
    "    \n",
    "    #BLSTM on the concatanted output\n",
    "    x = Bidirectional(LSTM(units=60,\n",
    "                           kernel_initializer = 'glorot_uniform',\n",
    "                           bias_initializer = RandomNormal(),\n",
    "                           recurrent_activation='sigmoid',\n",
    "                           return_sequences=True))(merged)\n",
    "    x = Dropout(0.5)(x)\n",
    "    #Dense for classification\n",
    "    main_output = Dense(chords_num, activation='softmax')(x)\n",
    "    \n",
    "    #model\n",
    "    model = Model(inputs=[main_input, embeddings_input], outputs=[main_output])\n",
    "\n",
    "    return model"
   ]
  },
  {
   "cell_type": "markdown",
   "metadata": {},
   "source": [
    "### Executions\n",
    "#### Single Input Model Call"
   ]
  },
  {
   "cell_type": "code",
   "execution_count": 19,
   "metadata": {},
   "outputs": [
    {
     "name": "stdout",
     "output_type": "stream",
     "text": [
      "Model: \"model\"\n",
      "_________________________________________________________________\n",
      "Layer (type)                 Output Shape              Param #   \n",
      "=================================================================\n",
      "main_input (InputLayer)      [(None, 500, 1025, 1)]    0         \n",
      "_________________________________________________________________\n",
      "time_distributed (TimeDistri (None, 500, 1025, 32)     288       \n",
      "_________________________________________________________________\n",
      "time_distributed_1 (TimeDist (None, 500, 1025, 32)     0         \n",
      "_________________________________________________________________\n",
      "time_distributed_2 (TimeDist (None, 500, 1025, 32)     8224      \n",
      "_________________________________________________________________\n",
      "time_distributed_3 (TimeDist (None, 500, 1025, 32)     0         \n",
      "_________________________________________________________________\n",
      "time_distributed_4 (TimeDist (None, 500, 512, 32)      0         \n",
      "_________________________________________________________________\n",
      "dropout (Dropout)            (None, 500, 512, 32)      0         \n",
      "_________________________________________________________________\n",
      "time_distributed_5 (TimeDist (None, 500, 512, 64)      16448     \n",
      "_________________________________________________________________\n",
      "time_distributed_6 (TimeDist (None, 500, 512, 64)      0         \n",
      "_________________________________________________________________\n",
      "time_distributed_7 (TimeDist (None, 500, 512, 64)      32832     \n",
      "_________________________________________________________________\n",
      "time_distributed_8 (TimeDist (None, 500, 512, 64)      0         \n",
      "_________________________________________________________________\n",
      "time_distributed_9 (TimeDist (None, 500, 256, 64)      0         \n",
      "_________________________________________________________________\n",
      "dropout_1 (Dropout)          (None, 500, 256, 64)      0         \n",
      "_________________________________________________________________\n",
      "time_distributed_10 (TimeDis (None, 500, 16384)        0         \n",
      "_________________________________________________________________\n",
      "dense (Dense)                (None, 500, 64)           1048640   \n",
      "_________________________________________________________________\n",
      "activation_4 (Activation)    (None, 500, 64)           0         \n",
      "_________________________________________________________________\n",
      "bidirectional (Bidirectional (None, 500, 128)          66048     \n",
      "_________________________________________________________________\n",
      "dropout_2 (Dropout)          (None, 500, 128)          0         \n",
      "_________________________________________________________________\n",
      "bidirectional_1 (Bidirection (None, 500, 128)          98816     \n",
      "_________________________________________________________________\n",
      "dropout_3 (Dropout)          (None, 500, 128)          0         \n",
      "_________________________________________________________________\n",
      "dense_1 (Dense)              (None, 500, 407)          52503     \n",
      "_________________________________________________________________\n",
      "activation_5 (Activation)    (None, 500, 407)          0         \n",
      "=================================================================\n",
      "Total params: 1,323,799\n",
      "Trainable params: 1,323,799\n",
      "Non-trainable params: 0\n",
      "_________________________________________________________________\n"
     ]
    }
   ],
   "source": [
    "# MODEL SUMMARY\n",
    "epochs = 10\n",
    "batch_size = 32\n",
    "\n",
    "model = TS_Conv1D_BLSTM_2Layer(len(Chords), frequencies_num, chunk_size, batch_size)\n",
    "\n",
    "SGD_Optimizer = keras.optimizers.SGD(lr=0.01, momentum=0.9)\n",
    "Adam_Optimizer = keras.optimizers.Adam()\n",
    "AdaGrad_Optimizer = keras.optimizers.Adagrad()\n",
    "\n",
    "model.compile(optimizer=Adam_Optimizer,\n",
    "              loss=keras.losses.categorical_crossentropy,\n",
    "              metrics=['accuracy'])\n",
    "\n",
    "model.summary()"
   ]
  },
  {
   "cell_type": "code",
   "execution_count": 19,
   "metadata": {},
   "outputs": [
    {
     "name": "stdout",
     "output_type": "stream",
     "text": [
      "Train on 1519 samples, validate on 9 samples\n",
      "Epoch 1/10\n",
      "1519/1519 [==============================] - 36s 24ms/sample - loss: 5.6124 - accuracy: 0.1748 - val_loss: 3.5809 - val_accuracy: 0.4453\n",
      "Epoch 2/10\n",
      "1519/1519 [==============================] - 31s 21ms/sample - loss: 3.7117 - accuracy: 0.3401 - val_loss: 2.7069 - val_accuracy: 0.5002\n",
      "Epoch 3/10\n",
      "1519/1519 [==============================] - 30s 20ms/sample - loss: 3.1662 - accuracy: 0.3811 - val_loss: 2.2503 - val_accuracy: 0.5631\n",
      "Epoch 4/10\n",
      "1519/1519 [==============================] - 31s 20ms/sample - loss: 2.9134 - accuracy: 0.4024 - val_loss: 2.0470 - val_accuracy: 0.5878\n",
      "Epoch 5/10\n",
      "1519/1519 [==============================] - 30s 20ms/sample - loss: 2.7583 - accuracy: 0.4161 - val_loss: 1.9038 - val_accuracy: 0.6156\n",
      "Epoch 6/10\n",
      "1519/1519 [==============================] - 30s 20ms/sample - loss: 2.6420 - accuracy: 0.4317 - val_loss: 1.8255 - val_accuracy: 0.6216\n",
      "Epoch 7/10\n",
      "1519/1519 [==============================] - 30s 20ms/sample - loss: 2.5398 - accuracy: 0.4428 - val_loss: 1.8079 - val_accuracy: 0.6207\n",
      "Epoch 8/10\n",
      "1519/1519 [==============================] - 30s 20ms/sample - loss: 2.4621 - accuracy: 0.4578 - val_loss: 1.8264 - val_accuracy: 0.6047\n",
      "Epoch 9/10\n",
      "1519/1519 [==============================] - 30s 20ms/sample - loss: 2.4091 - accuracy: 0.4650 - val_loss: 1.6790 - val_accuracy: 0.6469\n",
      "Epoch 10/10\n",
      "1519/1519 [==============================] - 30s 20ms/sample - loss: 2.3741 - accuracy: 0.4676 - val_loss: 1.6870 - val_accuracy: 0.6318\n"
     ]
    }
   ],
   "source": [
    "# MODEL FIT\n",
    "epochs = 10\n",
    "batch_size = 32\n",
    "\n",
    "model = BLSTM_2Layer(len(Chords), frequencies_num, chunk_size, batch_size)\n",
    "\n",
    "SGD_Optimizer = keras.optimizers.SGD(lr=0.01, momentum=0.9)\n",
    "Adam_Optimizer = keras.optimizers.Adam()\n",
    "AdaGrad_Optimizer = keras.optimizers.Adagrad()\n",
    "\n",
    "model.compile(optimizer=Adam_Optimizer,\n",
    "              loss=keras.losses.categorical_crossentropy,\n",
    "              metrics=['accuracy'])\n",
    "\n",
    "\n",
    "# train\n",
    "test_data = x_test\n",
    "history_callback = model.fit(x_train, y_train, epochs=epochs,\n",
    "          validation_data=(x_test, y_test), batch_size=batch_size, verbose=1)"
   ]
  },
  {
   "cell_type": "code",
   "execution_count": 20,
   "metadata": {},
   "outputs": [
    {
     "name": "stdout",
     "output_type": "stream",
     "text": [
      "Final test loss:  1.6870399713516235  and accuracy : 63.17777633666992 %\n"
     ]
    }
   ],
   "source": [
    "# evaluate on test set\n",
    "loss, accuracy = model.evaluate([x_test], y_test, verbose=0)\n",
    "print(\"Final test loss: \", loss, \" and accuracy :\", 100*accuracy, \"%\")"
   ]
  },
  {
   "cell_type": "markdown",
   "metadata": {},
   "source": [
    "#### Double Input Model Call"
   ]
  },
  {
   "cell_type": "code",
   "execution_count": 67,
   "metadata": {},
   "outputs": [
    {
     "name": "stdout",
     "output_type": "stream",
     "text": [
      "Train on 2377 samples, validate on 20 samples\n",
      "Epoch 1/10\n",
      "2377/2377 [==============================] - 54s 23ms/sample - loss: 3.3307 - accuracy: 0.3379 - val_loss: 4.5198 - val_accuracy: 0.0862\n",
      "Epoch 2/10\n",
      "2377/2377 [==============================] - 50s 21ms/sample - loss: 2.0400 - accuracy: 0.5395 - val_loss: 4.9935 - val_accuracy: 0.1132\n",
      "Epoch 3/10\n",
      "2377/2377 [==============================] - 50s 21ms/sample - loss: 1.6208 - accuracy: 0.6095 - val_loss: 5.1442 - val_accuracy: 0.1338\n",
      "Epoch 4/10\n",
      "2377/2377 [==============================] - 50s 21ms/sample - loss: 1.3640 - accuracy: 0.6556 - val_loss: 4.9540 - val_accuracy: 0.1673\n",
      "Epoch 5/10\n",
      "2377/2377 [==============================] - 50s 21ms/sample - loss: 1.2150 - accuracy: 0.6826 - val_loss: 4.0196 - val_accuracy: 0.2512\n",
      "Epoch 6/10\n",
      "2377/2377 [==============================] - 50s 21ms/sample - loss: 1.0535 - accuracy: 0.7201 - val_loss: 4.8207 - val_accuracy: 0.1900\n",
      "Epoch 7/10\n",
      "2377/2377 [==============================] - 50s 21ms/sample - loss: 0.9245 - accuracy: 0.7487 - val_loss: 5.2041 - val_accuracy: 0.1767\n",
      "Epoch 8/10\n",
      "2377/2377 [==============================] - 50s 21ms/sample - loss: 0.8374 - accuracy: 0.7681 - val_loss: 5.0683 - val_accuracy: 0.1613\n",
      "Epoch 9/10\n",
      "2377/2377 [==============================] - 50s 21ms/sample - loss: 0.7441 - accuracy: 0.7926 - val_loss: 4.9240 - val_accuracy: 0.2075\n",
      "Epoch 10/10\n",
      "2377/2377 [==============================] - 50s 21ms/sample - loss: 0.6717 - accuracy: 0.8105 - val_loss: 4.7670 - val_accuracy: 0.2385\n",
      "Model: \"model_14\"\n",
      "__________________________________________________________________________________________________\n",
      "Layer (type)                    Output Shape         Param #     Connected to                     \n",
      "==================================================================================================\n",
      "main_input (InputLayer)         [(None, 300, 1025)]  0                                            \n",
      "__________________________________________________________________________________________________\n",
      "embeddings_input (InputLayer)   [(None, 300)]        0                                            \n",
      "__________________________________________________________________________________________________\n",
      "bidirectional_42 (Bidirectional (None, 300, 240)     1100160     main_input[0][0]                 \n",
      "__________________________________________________________________________________________________\n",
      "embedding_15 (Embedding)        (None, 300, 100)     40700       embeddings_input[0][0]           \n",
      "__________________________________________________________________________________________________\n",
      "dropout_37 (Dropout)            (None, 300, 240)     0           bidirectional_42[0][0]           \n",
      "__________________________________________________________________________________________________\n",
      "conv1d_12 (Conv1D)              (None, 300, 100)     307600      main_input[0][0]                 \n",
      "__________________________________________________________________________________________________\n",
      "bidirectional_43 (Bidirectional (None, 300, 240)     212160      embedding_15[0][0]               \n",
      "__________________________________________________________________________________________________\n",
      "dense_14 (Dense)                (None, 300, 407)     98087       dropout_37[0][0]                 \n",
      "__________________________________________________________________________________________________\n",
      "dense_15 (Dense)                (None, 300, 407)     41107       conv1d_12[0][0]                  \n",
      "__________________________________________________________________________________________________\n",
      "dense_16 (Dense)                (None, 300, 407)     98087       bidirectional_43[0][0]           \n",
      "__________________________________________________________________________________________________\n",
      "concatenate_21 (Concatenate)    (None, 300, 1221)    0           dense_14[0][0]                   \n",
      "                                                                 dense_15[0][0]                   \n",
      "                                                                 dense_16[0][0]                   \n",
      "__________________________________________________________________________________________________\n",
      "dense_17 (Dense)                (None, 300, 407)     497354      concatenate_21[0][0]             \n",
      "==================================================================================================\n",
      "Total params: 2,395,255\n",
      "Trainable params: 2,395,255\n",
      "Non-trainable params: 0\n",
      "__________________________________________________________________________________________________\n"
     ]
    }
   ],
   "source": [
    "epochs = 10\n",
    "batch_size = 32\n",
    "\n",
    "model = Embeddings_Conv1D_Concat_BLSTM_2Layer(len(Chords), frequencies_num, chunk_size, batch_size)\n",
    "\n",
    "model.compile(optimizer=keras.optimizers.Adam(),\n",
    "              loss=keras.losses.categorical_crossentropy,\n",
    "              metrics=['accuracy'])\n",
    "\n",
    "# train\n",
    "test_data = [x_test, embeddings_test]\n",
    "history_callback_embeddings = model.fit([x_train, embeddings_train], [y_train], epochs=epochs,\n",
    "          validation_data=([x_test, embeddings_test], y_test), batch_size=batch_size, verbose=1)\n",
    "\n",
    "model.summary()"
   ]
  },
  {
   "cell_type": "code",
   "execution_count": 40,
   "metadata": {},
   "outputs": [
    {
     "name": "stdout",
     "output_type": "stream",
     "text": [
      "Final test loss:  3.4828646183013916  and accuracy : 28.949999809265137 %\n"
     ]
    }
   ],
   "source": [
    "# evaluate on test set\n",
    "loss, accuracy = model.evaluate(test_data, y_test, verbose=0)\n",
    "print(\"Final test loss: \", loss, \" and accuracy :\", 100*accuracy, \"%\")"
   ]
  },
  {
   "cell_type": "markdown",
   "metadata": {},
   "source": [
    "<h3>Transform predictions into Chords</h3>\n",
    "<br>\n",
    "Get the resulting one hot encodings, map to the appropriate chords and write the result<br>"
   ]
  },
  {
   "cell_type": "code",
   "execution_count": 22,
   "metadata": {},
   "outputs": [],
   "source": [
    "predictions = model.predict(test_data, batch_size=batch_size, use_multiprocessing=True)"
   ]
  },
  {
   "cell_type": "code",
   "execution_count": 26,
   "metadata": {
    "scrolled": false
   },
   "outputs": [
    {
     "data": {
      "text/html": [
       "<div>\n",
       "<style scoped>\n",
       "    .dataframe tbody tr th:only-of-type {\n",
       "        vertical-align: middle;\n",
       "    }\n",
       "\n",
       "    .dataframe tbody tr th {\n",
       "        vertical-align: top;\n",
       "    }\n",
       "\n",
       "    .dataframe thead th {\n",
       "        text-align: right;\n",
       "    }\n",
       "</style>\n",
       "<table border=\"1\" class=\"dataframe\">\n",
       "  <thead>\n",
       "    <tr style=\"text-align: right;\">\n",
       "      <th></th>\n",
       "      <th>Estimated Chords</th>\n",
       "    </tr>\n",
       "  </thead>\n",
       "  <tbody>\n",
       "    <tr>\n",
       "      <td>0</td>\n",
       "      <td>N</td>\n",
       "    </tr>\n",
       "    <tr>\n",
       "      <td>1</td>\n",
       "      <td>N</td>\n",
       "    </tr>\n",
       "    <tr>\n",
       "      <td>2</td>\n",
       "      <td>N</td>\n",
       "    </tr>\n",
       "    <tr>\n",
       "      <td>3</td>\n",
       "      <td>N</td>\n",
       "    </tr>\n",
       "    <tr>\n",
       "      <td>4</td>\n",
       "      <td>N</td>\n",
       "    </tr>\n",
       "    <tr>\n",
       "      <td>...</td>\n",
       "      <td>...</td>\n",
       "    </tr>\n",
       "    <tr>\n",
       "      <td>4495</td>\n",
       "      <td>N</td>\n",
       "    </tr>\n",
       "    <tr>\n",
       "      <td>4496</td>\n",
       "      <td>N</td>\n",
       "    </tr>\n",
       "    <tr>\n",
       "      <td>4497</td>\n",
       "      <td>N</td>\n",
       "    </tr>\n",
       "    <tr>\n",
       "      <td>4498</td>\n",
       "      <td>N</td>\n",
       "    </tr>\n",
       "    <tr>\n",
       "      <td>4499</td>\n",
       "      <td>N</td>\n",
       "    </tr>\n",
       "  </tbody>\n",
       "</table>\n",
       "<p>4500 rows × 1 columns</p>\n",
       "</div>"
      ],
      "text/plain": [
       "     Estimated Chords\n",
       "0                   N\n",
       "1                   N\n",
       "2                   N\n",
       "3                   N\n",
       "4                   N\n",
       "...               ...\n",
       "4495                N\n",
       "4496                N\n",
       "4497                N\n",
       "4498                N\n",
       "4499                N\n",
       "\n",
       "[4500 rows x 1 columns]"
      ]
     },
     "metadata": {},
     "output_type": "display_data"
    }
   ],
   "source": [
    "estimated_chord_list = []\n",
    "real_chord_list = Chordlab['The Beatles'][album_test_track][test_track_no]\n",
    "\n",
    "for batch_chords in predictions:\n",
    "    for chord in batch_chords:\n",
    "        estimated_chord_list.append(encoder.inverse_transform([chord]).reshape(1,)[0])\n",
    "        \n",
    "df_predictions = pd.DataFrame({'Estimated Chords' : estimated_chord_list})\n",
    "# TODO: build a function that converts these predictions to real annotations\n",
    "display(df_predictions)"
   ]
  },
  {
   "cell_type": "markdown",
   "metadata": {},
   "source": [
    "### Plot Model Efficiency"
   ]
  },
  {
   "cell_type": "markdown",
   "metadata": {},
   "source": [
    "#### Single Input model"
   ]
  },
  {
   "cell_type": "code",
   "execution_count": 27,
   "metadata": {},
   "outputs": [
    {
     "data": {
      "image/png": "[encoded data removed]",
      "text/plain": [
       "<Figure size 1152x360 with 1 Axes>"
      ]
     },
     "metadata": {
      "needs_background": "light"
     },
     "output_type": "display_data"
    },
    {
     "data": {
      "image/png": "[encoded data removed]",
      "text/plain": [
       "<Figure size 1152x360 with 1 Axes>"
      ]
     },
     "metadata": {
      "needs_background": "light"
     },
     "output_type": "display_data"
    }
   ],
   "source": [
    "plt.figure(figsize=(16,5))\n",
    "# summarize history for accuracy\n",
    "plt.plot(history_callback.history['accuracy'])\n",
    "plt.plot(history_callback.history['val_accuracy'])\n",
    "plt.title('model accuracy')\n",
    "plt.ylabel('accuracy')\n",
    "plt.xlabel('epoch')\n",
    "plt.legend(['train', 'test'], loc='upper left')\n",
    "plt.show()\n",
    "plt.figure(figsize=(16,5))\n",
    "# summarize history for loss\n",
    "plt.plot(history_callback.history['loss'])\n",
    "plt.plot(history_callback.history['val_loss'])\n",
    "plt.title('model loss')\n",
    "plt.ylabel('loss')\n",
    "plt.xlabel('epoch')\n",
    "plt.legend(['train', 'test'], loc='upper left')\n",
    "plt.show()"
   ]
  },
  {
   "cell_type": "markdown",
   "metadata": {},
   "source": [
    "### Double input with embeddings"
   ]
  },
  {
   "cell_type": "code",
   "execution_count": 47,
   "metadata": {},
   "outputs": [
    {
     "data": {
      "image/png": "[encoded data removed]",
      "text/plain": [
       "<Figure size 1152x360 with 1 Axes>"
      ]
     },
     "metadata": {
      "needs_background": "light"
     },
     "output_type": "display_data"
    },
    {
     "data": {
      "image/png": "[encoded data removed]",
      "text/plain": [
       "<Figure size 1152x360 with 1 Axes>"
      ]
     },
     "metadata": {
      "needs_background": "light"
     },
     "output_type": "display_data"
    }
   ],
   "source": [
    "plt.figure(figsize=(16,5))\n",
    "# summarize history for accuracy\n",
    "plt.plot(history_callback_embeddigns.history['accuracy'])\n",
    "plt.plot(history_callback_embeddigns.history['val_accuracy'])\n",
    "plt.title('model accuracy')\n",
    "plt.ylabel('accuracy')\n",
    "plt.xlabel('epoch')\n",
    "plt.legend(['train', 'test'], loc='upper left')\n",
    "plt.show()\n",
    "plt.figure(figsize=(16,5))\n",
    "# summarize history for loss\n",
    "plt.plot(history_callback_embeddigns.history['loss'])\n",
    "plt.plot(history_callback_embeddigns.history['val_loss'])\n",
    "plt.title('model loss')\n",
    "plt.ylabel('loss')\n",
    "plt.xlabel('epoch')\n",
    "plt.legend(['train', 'test'], loc='upper left')\n",
    "plt.show()"
   ]
  },
  {
   "cell_type": "markdown",
   "metadata": {},
   "source": [
    "# Data Pre-Processing Part 2\n",
    "\n",
    "### Appraoch 2 on annotation processing\n",
    "\n",
    "- **Chord/Mode/Sus**<br><br>\n",
    "Try an encoding(hashing) for each chord, and when we stumble upon each chord we hash it to a unique combination.<br>\n",
    "<br>**Example**:<br>\n",
    "<ol>\n",
    "    <li> Find the chord between the 12 chords</li>\n",
    "    <b>Chords:</b> C, C#, Db, D, D#, E, F, etc.<br>\n",
    "    <li>Find the mode of the chord (major/minor)</li>\n",
    "    <b>Mode:</b><br>\n",
    "    Minor Chord: 0<br>\n",
    "    Major Chord: 1<br>\n",
    "    Diminished Chord: 2<br>\n",
    "    Augmented Chord: 3<br>\n",
    "    <li>Find any notes outside of the basic tonic triad</li>\n",
    "    <b>Sustained: </b>\n",
    "    0,4,6,7,9,11,13<br>\n",
    "    </ol>\n",
    "<br>\n",
    "<br>\n",
    "Triads: major, minor, diminished, augmented, suspended4<br>\n",
    " Quads: major-major 7, major-minor 7, major add9, major maj7/#5 <br>\n",
    "        minor-major 7, minor-minor 7, minor add9, minor 7/b5<br>\n",
    "        maj7/sus4, 7/sus4<br>"
   ]
  },
  {
   "cell_type": "markdown",
   "metadata": {},
   "source": [
    "**For this implementation we will need:**<br>\n",
    "Variables with: <br>\n",
    "Dimension 1 = 3 [Chord, Mode, Sustained]<br>\n",
    "Dimension 2 = [One hot encodings for 12 classes of chords, 4 classes for modes, auxiliary tones]<br><br>\n",
    "***Example:***<br>\n",
    "**Dmajor7** = [[000100000000],[0100],[0001000]]<br>\n",
    "**C** = [[100000000000],[0100],[10000000]]<br>\n",
    "*Data* = [[[000100000000],[0100],[0001000]], ... , [[100000000000],[0100],[1000000]]]<br>"
   ]
  },
  {
   "cell_type": "markdown",
   "metadata": {},
   "source": [
    "So our model is going to have **3 outputs**, *one for each segment* and **1 input** for the spectrograms"
   ]
  },
  {
   "cell_type": "code",
   "execution_count": null,
   "metadata": {},
   "outputs": [],
   "source": []
  }
 ],
 "metadata": {
  "kernelspec": {
   "display_name": "Python 3",
   "language": "python",
   "name": "python3"
  },
  "language_info": {
   "codemirror_mode": {
    "name": "ipython",
    "version": 3
   },
   "file_extension": ".py",
   "mimetype": "text/x-python",
   "name": "python",
   "nbconvert_exporter": "python",
   "pygments_lexer": "ipython3",
   "version": "3.7.4"
  }
 },
 "nbformat": 4,
 "nbformat_minor": 2
}
