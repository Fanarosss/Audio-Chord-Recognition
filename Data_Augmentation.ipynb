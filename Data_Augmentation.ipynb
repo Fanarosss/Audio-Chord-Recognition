{
 "cells": [
  {
   "cell_type": "markdown",
   "metadata": {},
   "source": [
    "# Data Augmentation\n",
    "There are classes of chords that doesn't appear very often, so in order to balance our dataset, we will have to replicate the existing data in other pitches.\n",
    "<br><br> In this notebook,there are some simple scripts, to <b>pitch shift audio tracks and their chord transcriptions.</b>\n",
    "### Note:\n",
    "After careful obersvation of the results of this type of data augmentation, I came to the conclusion that:\n",
    "- It is very valuable, because my net can see chords that didn't see before\n",
    "- By augmenting **ALL** of the data, doesn't resolve the **imbalance of the dataset**"
   ]
  },
  {
   "cell_type": "code",
   "execution_count": 1,
   "metadata": {},
   "outputs": [],
   "source": [
    "import sys\n",
    "# do this only once\n",
    "sys.path.append('./src/audio_processing/')\n",
    "sys.path.append('./src/data_processing/')\n",
    "sys.path.append('./src/chord_parser/')\n",
    "sys.path.append('./src/metrics/')"
   ]
  },
  {
   "cell_type": "code",
   "execution_count": 2,
   "metadata": {},
   "outputs": [],
   "source": [
    "import pandas as pd\n",
    "import numpy as np\n",
    "import matplotlib.pyplot as plt\n",
    "\n",
    "#python input/output and regex\n",
    "import re\n",
    "import os\n",
    "from pathlib import Path\n",
    "\n",
    "#chord info\n",
    "import pychord as pc\n",
    "\n",
    "#librosa\n",
    "import librosa\n",
    "import librosa.display"
   ]
  },
  {
   "cell_type": "markdown",
   "metadata": {},
   "source": [
    "## Cqt spectrograms\n",
    "- same features as we do in classification"
   ]
  },
  {
   "cell_type": "code",
   "execution_count": 3,
   "metadata": {},
   "outputs": [],
   "source": [
    "nbins=192\n",
    "bins_per_octave=24\n",
    "hop_length=2048\n",
    "sampling_rate= 22050\n",
    "\n",
    "audiofiles_path = 'Audiofiles/The Beatles/original'\n",
    "shifted_audiofiles_path = 'Audiofiles/The Beatles/'"
   ]
  },
  {
   "cell_type": "code",
   "execution_count": null,
   "metadata": {},
   "outputs": [],
   "source": [
    "# script for audio pitch shifts\n",
    "for pitch_shift, nshift in [('up1', 1), ('up2', 2), ('up3', 3), ('up4', 4), ('up5', 5), ('down1', -1), ('down2', -2), ('down3', -3), ('down4', -4), ('down5', -5)]:\n",
    "    \n",
    "    for filename in Path(audiofiles_path).glob('**/*.wav'):\n",
    "\n",
    "        path, track = os.path.split(filename)\n",
    "        path, album = os.path.split(path)\n",
    "\n",
    "        track_no = re.search('([0-9].).', track).group(1)\n",
    "\n",
    "        y, sr = librosa.load(filename, sr=sampling_rate)\n",
    "\n",
    "        y_shifted = librosa.effects.pitch_shift(y, sr, n_steps=nshift, bins_per_octave=24)\n",
    "\n",
    "        librosa.output.write_wav(shifted_audiofiles_path + pitch_shift + '/' + album + '_' + pitch_shift + '/' + track_no + '.'+ pitch_shift + '.wav', y_shifted, sr=sampling_rate, norm=False)"
   ]
  },
  {
   "cell_type": "markdown",
   "metadata": {},
   "source": [
    "## Chord Transposer by Interval"
   ]
  },
  {
   "cell_type": "code",
   "execution_count": 5,
   "metadata": {},
   "outputs": [],
   "source": [
    "target = 'Big-Dataset/The Beatles/scratch/'"
   ]
  },
  {
   "cell_type": "code",
   "execution_count": 16,
   "metadata": {},
   "outputs": [],
   "source": [
    "ChordLib = {'C' : 0, 'C#': 1, 'Db' : 1, 'D' : 2, 'D#' : 3, 'Eb' : 3, 'E' : 4, 'Fb' : 4,\n",
    "            'F' : 5, 'F#' : 6, 'Gb' : 6, 'G' : 7, 'G#' : 8, 'Ab' : 8, 'A' : 9, 'A#' : 10,\n",
    "            'Bb' : 10, 'B' : 11, 'Cb' : 11, 'N' : 12, 'X' : 13}\n",
    "Harmonic_Equivalents = {'A#' : 'Bb', 'C#' : 'Db', 'D#' : 'Eb', 'F#' : 'Gb', 'G#' : 'Ab'}\n",
    "Semitone_List = ['C', 'C#', 'D', 'Eb', 'E', 'F', 'F#', 'G', 'G#', 'A', 'Bb', 'B']"
   ]
  },
  {
   "cell_type": "code",
   "execution_count": 17,
   "metadata": {},
   "outputs": [],
   "source": [
    "### get all chordlab files\n",
    "Chordlab = {'The Beatles': {}}\n",
    "for filename in Path('Big-Dataset/The Beatles').glob('**/scratch/original/*/*.lab'):\n",
    "    \n",
    "    path, track = os.path.split(filename)\n",
    "    path, album = os.path.split(path)\n",
    "    track_no = re.search('([0-9].)_-_',track).group(1)\n",
    "    \n",
    "    if (album not in Chordlab['The Beatles']): \n",
    "        Chordlab['The Beatles'][album] = {}\n",
    "        \n",
    "    Chordlab['The Beatles'][album][track_no] = pd.read_csv(filename, names=['Starts', 'Ends', 'Chord'], sep=' ', header=None)\n",
    "    \n",
    "    for pitch_shift, nshift in [('up1', 1), ('up2', 2), ('up3', 3), ('up4', 4), ('up5', 5), ('down1', 1), ('down2', 2), ('down3', 3), ('down4', 4), ('down5', 5)]:\n",
    "        \n",
    "        if pitch_shift.find('down'):\n",
    "            chord_list = []\n",
    "            for _, starts, ends, chord in Chordlab['The Beatles'][album][track_no].itertuples():\n",
    "                rest = ''\n",
    "                if chord != 'N':\n",
    "                    if chord.find(':') != -1:\n",
    "                        chord, rest = chord.split(':')\n",
    "                        rest = ':' + rest\n",
    "                    if chord.find('/') != -1:\n",
    "                        chord, rest = chord.split('/')\n",
    "                        rest = '/' + rest\n",
    "                    chord_list.append([starts, ends, Semitone_List[ChordLib[chord] - nshift] + rest])\n",
    "                else:\n",
    "                    chord_list.append([starts, ends, chord])\n",
    "\n",
    "            df = pd.DataFrame(chord_list, columns = ['Starts', 'Ends', 'Chord'])\n",
    "            newfilename = target + pitch_shift + '/' + album + '_' + pitch_shift + '/' + track\n",
    "            df.to_csv(newfilename, sep = ' ', index=False, header=False)\n",
    "        else:\n",
    "            chord_list = []\n",
    "            for _, starts, ends, chord in Chordlab['The Beatles'][album][track_no].itertuples():\n",
    "                rest = ''\n",
    "                if chord != 'N':\n",
    "                    if chord.find(':') != -1:\n",
    "                        chord, rest = chord.split(':')\n",
    "                        rest = ':' + rest\n",
    "                    if chord.find('/') != -1:\n",
    "                        chord, rest = chord.split('/')\n",
    "                        rest = '/' + rest\n",
    "                    chord_list.append([starts, ends, Semitone_List[(ChordLib[chord] + nshift)%12] + rest])\n",
    "                else:\n",
    "                    chord_list.append([starts, ends, chord])\n",
    "\n",
    "            df = pd.DataFrame(chord_list, columns = ['Starts', 'Ends', 'Chord'])\n",
    "            newfilename = target + pitch_shift + '/' + album + '_' + pitch_shift + '/' + track\n",
    "            df.to_csv(newfilename, sep = ' ', index=False, header=False)"
   ]
  },
  {
   "cell_type": "code",
   "execution_count": null,
   "metadata": {},
   "outputs": [],
   "source": []
  }
 ],
 "metadata": {
  "kernelspec": {
   "display_name": "Python 3",
   "language": "python",
   "name": "python3"
  },
  "language_info": {
   "codemirror_mode": {
    "name": "ipython",
    "version": 3
   },
   "file_extension": ".py",
   "mimetype": "text/x-python",
   "name": "python",
   "nbconvert_exporter": "python",
   "pygments_lexer": "ipython3",
   "version": "3.7.4"
  }
 },
 "nbformat": 4,
 "nbformat_minor": 2
}
