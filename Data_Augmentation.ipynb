{
 "cells": [
  {
   "cell_type": "code",
   "execution_count": 1,
   "metadata": {},
   "outputs": [],
   "source": [
    "import sys\n",
    "# do this only once\n",
    "sys.path.append('./src/audio_processing/')\n",
    "sys.path.append('./src/data_processing/')\n",
    "sys.path.append('./src/chord_parser/')\n",
    "sys.path.append('./src/metrics/')"
   ]
  },
  {
   "cell_type": "code",
   "execution_count": 2,
   "metadata": {},
   "outputs": [],
   "source": [
    "import pandas as pd\n",
    "import numpy as np\n",
    "import matplotlib.pyplot as plt\n",
    "\n",
    "#python input/output and regex\n",
    "import re\n",
    "import os\n",
    "from pathlib import Path\n",
    "\n",
    "#chord info\n",
    "import pychord as pc\n",
    "\n",
    "#signal processing libraries\n",
    "from scipy.io import wavfile\n",
    "from scipy import signal\n",
    "\n",
    "#sklearn for normalization\n",
    "from sklearn.preprocessing import StandardScaler, OneHotEncoder\n",
    "\n",
    "#tensorflow\n",
    "import tensorflow as tf\n",
    "from tensorflow import keras\n",
    "\n",
    "#librosa\n",
    "import librosa\n",
    "import librosa.display\n",
    "\n",
    "#import custom modules\n",
    "import filters\n",
    "import spectrograms\n",
    "import audiofiles\n",
    "import chord_parser\n",
    "import annotation_processing\n",
    "import metrics"
   ]
  },
  {
   "cell_type": "markdown",
   "metadata": {},
   "source": [
    "## Data Augmentation\n",
    "There are classes of chords that doesn't appear very ofter, so in order to balance our dataset, we will have to replicate the existing data in other pitches"
   ]
  },
  {
   "cell_type": "code",
   "execution_count": null,
   "metadata": {},
   "outputs": [],
   "source": [
    "nbins=192\n",
    "bins_per_octave=24\n",
    "hop_length=2048\n",
    "sampling_rate= 22050\n",
    "\n",
    "audiofiles_path = 'Audiofiles/The Beatles/original'\n",
    "shifted_audiofiles_path = 'Audiofiles/The Beatles/'"
   ]
  },
  {
   "cell_type": "code",
   "execution_count": 5,
   "metadata": {},
   "outputs": [],
   "source": [
    "for filename in Path(audiofiles_path).glob('**/wav/*.wav'):\n",
    "\n",
    "    path, track = os.path.split(filename)\n",
    "    path, wav = os.path.split(path)\n",
    "    path, album = os.path.split(path)\n",
    "\n",
    "    track_no = re.search('([0-9].).', track).group(1)\n",
    "\n",
    "    y, sr = librosa.load(filename, sr=sampling_rate)\n",
    "\n",
    "    y_shifted = librosa.effects.pitch_shift(y, sr, n_steps=-3, bins_per_octave=24)\n",
    "    \n",
    "    librosa.output.write_wav(shifted_audiofiles_path + 'down3' + '/' + album + '/' + track_no + '_down3.wav', y_shifted, sr=sampling_rate, norm=False)"
   ]
  },
  {
   "cell_type": "code",
   "execution_count": null,
   "metadata": {},
   "outputs": [],
   "source": [
    "for filename in Path(audiofiles_path).glob('**/wav/*.wav'):\n",
    "\n",
    "    path, track = os.path.split(filename)\n",
    "    path, wav = os.path.split(path)\n",
    "    path, album = os.path.split(path)\n",
    "\n",
    "    track_no = re.search('([0-9].).', track).group(1)\n",
    "\n",
    "    y, sr = librosa.load(filename, sr=sampling_rate)\n",
    "\n",
    "    y_shifted = librosa.effects.pitch_shift(y, sr, n_steps=-2, bins_per_octave=24)\n",
    "    \n",
    "    librosa.output.write_wav(shifted_audiofiles_path + '/' + album + '/' + track_no + '_down2.wav', y_shifted, sr=sampling_rate, norm=False)"
   ]
  },
  {
   "cell_type": "code",
   "execution_count": null,
   "metadata": {},
   "outputs": [],
   "source": [
    "for filename in Path(audiofiles_path).glob('**/wav/*.wav'):\n",
    "\n",
    "    path, track = os.path.split(filename)\n",
    "    path, wav = os.path.split(path)\n",
    "    path, album = os.path.split(path)\n",
    "\n",
    "    track_no = re.search('([0-9].).', track).group(1)\n",
    "\n",
    "    y, sr = librosa.load(filename, sr=sampling_rate)\n",
    "\n",
    "    y_shifted = librosa.effects.pitch_shift(y, sr, n_steps=-1, bins_per_octave=24)\n",
    "    \n",
    "    librosa.output.write_wav(shifted_audiofiles_path + '/' + album + '/' + track_no + '_down1.wav', y_shifted, sr=sampling_rate, norm=False)"
   ]
  },
  {
   "cell_type": "code",
   "execution_count": null,
   "metadata": {},
   "outputs": [],
   "source": [
    "for filename in Path(audiofiles_path).glob('**/wav/*.wav'):\n",
    "\n",
    "    path, track = os.path.split(filename)\n",
    "    path, wav = os.path.split(path)\n",
    "    path, album = os.path.split(path)\n",
    "\n",
    "    track_no = re.search('([0-9].).', track).group(1)\n",
    "\n",
    "    y, sr = librosa.load(filename, sr=sampling_rate)\n",
    "\n",
    "    y_shifted = librosa.effects.pitch_shift(y, sr, n_steps=1, bins_per_octave=24)\n",
    "    \n",
    "    librosa.output.write_wav(shifted_audiofiles_path + '/' + album + '/' + track_no + '_up1.wav', y_shifted, sr=sampling_rate, norm=False)"
   ]
  },
  {
   "cell_type": "code",
   "execution_count": null,
   "metadata": {},
   "outputs": [],
   "source": [
    "for filename in Path(audiofiles_path).glob('**/wav/*.wav'):\n",
    "\n",
    "    path, track = os.path.split(filename)\n",
    "    path, wav = os.path.split(path)\n",
    "    path, album = os.path.split(path)\n",
    "\n",
    "    track_no = re.search('([0-9].).', track).group(1)\n",
    "\n",
    "    y, sr = librosa.load(filename, sr=sampling_rate)\n",
    "\n",
    "    y_shifted = librosa.effects.pitch_shift(y, sr, n_steps=2, bins_per_octave=24)\n",
    "    \n",
    "    librosa.output.write_wav(shifted_audiofiles_path + '/' + album + '/' + track_no + '_up2.wav', y_shifted, sr=sampling_rate, norm=False)"
   ]
  },
  {
   "cell_type": "code",
   "execution_count": 6,
   "metadata": {},
   "outputs": [],
   "source": [
    "for filename in Path(audiofiles_path).glob('**/wav/*.wav'):\n",
    "\n",
    "    path, track = os.path.split(filename)\n",
    "    path, wav = os.path.split(path)\n",
    "    path, album = os.path.split(path)\n",
    "\n",
    "    track_no = re.search('([0-9].).', track).group(1)\n",
    "\n",
    "    y, sr = librosa.load(filename, sr=sampling_rate)\n",
    "\n",
    "    y_shifted = librosa.effects.pitch_shift(y, sr, n_steps=3, bins_per_octave=24)\n",
    "    \n",
    "    librosa.output.write_wav(shifted_audiofiles_path + 'up3' + '/' + album + '/' + track_no + '_up3.wav', y_shifted, sr=sampling_rate, norm=False)"
   ]
  },
  {
   "cell_type": "markdown",
   "metadata": {},
   "source": [
    "### Transcriptions"
   ]
  },
  {
   "cell_type": "code",
   "execution_count": 7,
   "metadata": {},
   "outputs": [],
   "source": [
    "target = 'Big-Dataset/The Beatles/scratch/'"
   ]
  },
  {
   "cell_type": "code",
   "execution_count": 29,
   "metadata": {},
   "outputs": [],
   "source": [
    "ChordLib = {'C' : 0, 'C#': 1, 'Db' : 1, 'D' : 2, 'D#' : 3, 'Eb' : 3, 'E' : 4, 'Fb' : 4, 'F' : 5, 'F#' : 6, 'Gb' : 6, 'G' : 7, 'G#' : 8, 'Ab' : 8, 'A' : 9, 'A#' : 10, 'Bb' : 10, 'B' : 11, 'Cb' : 11, 'N' : 12, 'X' : 13}\n",
    "semitone_list = ['C', 'Db', 'D', 'Eb', 'E', 'F', 'Gb', 'G', 'Ab', 'A', 'Bb', 'B']"
   ]
  },
  {
   "cell_type": "code",
   "execution_count": 38,
   "metadata": {},
   "outputs": [],
   "source": [
    "### get all chordlab files\n",
    "Chordlab = {'The Beatles': {}}\n",
    "for filename in Path('Big-Dataset/The Beatles').glob('**/scratch/original/*/*.lab'):\n",
    "    \n",
    "    path, track = os.path.split(filename)\n",
    "    path, album = os.path.split(path)\n",
    "    track_no = re.search('([0-9].)_-_',track).group(1)\n",
    "    \n",
    "    if (album not in Chordlab['The Beatles']): \n",
    "        Chordlab['The Beatles'][album] = {}\n",
    "        \n",
    "    Chordlab['The Beatles'][album][track_no] = pd.read_csv(filename, names=['Starts', 'Ends', 'Chord'], sep=' ', header=None)\n",
    "    \n",
    "    # down 3\n",
    "    chord_list = []\n",
    "    for _, starts, ends, chord in Chordlab['The Beatles'][album][track_no].itertuples():\n",
    "        rest = ''\n",
    "        if chord != 'N':\n",
    "            if chord.find(':') != -1:\n",
    "                chord, rest = chord.split(':')\n",
    "                rest = ':' + rest\n",
    "            if chord.find('/') != -1:\n",
    "                chord, rest = chord.split('/')\n",
    "                rest = '/' + rest\n",
    "            chord_list.append([starts, ends, semitone_list[ChordLib[chord] - 3] + rest])\n",
    "        else:\n",
    "            chord_list.append([starts, ends, chord])\n",
    "    \n",
    "    df = pd.DataFrame(chord_list, columns = ['Starts', 'Ends', 'Chord'])\n",
    "    newfilename = target + 'down3' + '/' + album + '_down3/' + track\n",
    "    df.to_csv(newfilename, sep = ' ', index=False, header=False)\n",
    "    \n",
    "    # up 3\n",
    "    chord_list = []\n",
    "    for _, starts, ends, chord in Chordlab['The Beatles'][album][track_no].itertuples():\n",
    "        rest = ''\n",
    "        if chord != 'N':\n",
    "            if chord.find(':') != -1:\n",
    "                chord, rest = chord.split(':')\n",
    "                rest = ':' + rest\n",
    "            if chord.find('/') != -1:\n",
    "                chord, rest = chord.split('/')\n",
    "                rest = '/' + rest\n",
    "            chord_list.append([starts, ends, semitone_list[(ChordLib[chord] + 3)%12] + rest])\n",
    "        else:\n",
    "            chord_list.append([starts, ends, chord])\n",
    "    \n",
    "    df = pd.DataFrame(chord_list, columns = ['Starts', 'Ends', 'Chord'])\n",
    "    newfilename = target + 'up3' + '/' + album + '_up3/' + track\n",
    "    df.to_csv(newfilename, sep = ' ', index=False, header=False)"
   ]
  },
  {
   "cell_type": "code",
   "execution_count": null,
   "metadata": {},
   "outputs": [],
   "source": []
  }
 ],
 "metadata": {
  "kernelspec": {
   "display_name": "Python 3",
   "language": "python",
   "name": "python3"
  },
  "language_info": {
   "codemirror_mode": {
    "name": "ipython",
    "version": 3
   },
   "file_extension": ".py",
   "mimetype": "text/x-python",
   "name": "python",
   "nbconvert_exporter": "python",
   "pygments_lexer": "ipython3",
   "version": "3.7.4"
  }
 },
 "nbformat": 4,
 "nbformat_minor": 2
}
