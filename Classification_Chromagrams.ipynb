{
 "cells": [
  {
   "cell_type": "markdown",
   "metadata": {},
   "source": [
    "<h1>Chord Representation and Indexing with Chromagrams</h1>\n",
    "<br>\n",
    "In this Notebook we are going to explore a different approach on the preprocessing of chord annotations and spectrogramms.<br>\n",
    "We used one hot encodings for every timestep of the spectrogram, and saw the enormous amount of memory that was needed.<br>\n",
    "<br>"
   ]
  },
  {
   "cell_type": "code",
   "execution_count": 1,
   "metadata": {},
   "outputs": [],
   "source": [
    "import sys\n",
    "# do this only once\n",
    "sys.path.append('./src/audio-processing/')\n",
    "sys.path.append('./src/data-processing/')"
   ]
  },
  {
   "cell_type": "code",
   "execution_count": 2,
   "metadata": {},
   "outputs": [],
   "source": [
    "import pandas as pd\n",
    "import numpy as np\n",
    "import matplotlib.pyplot as plt\n",
    "\n",
    "#python input/output and regex\n",
    "import re\n",
    "import os\n",
    "from pathlib import Path\n",
    "\n",
    "#chord info\n",
    "import pychord as pc\n",
    "\n",
    "#signal processing libraries\n",
    "from scipy.io import wavfile\n",
    "from scipy import signal\n",
    "\n",
    "#sklearn for normalization\n",
    "from sklearn.preprocessing import StandardScaler, OneHotEncoder\n",
    "\n",
    "#tensorflow\n",
    "import tensorflow as tf\n",
    "from tensorflow import keras\n",
    "\n",
    "#librosa\n",
    "import librosa\n",
    "import librosa.display\n",
    "\n",
    "#import custom modules\n",
    "import filters\n",
    "import spectrograms\n",
    "import audiofiles\n",
    "from annotation_processing import chords_to_onehot"
   ]
  },
  {
   "cell_type": "markdown",
   "metadata": {},
   "source": [
    "<h2>Chord Representations</h2><br>\n",
    "<b>Idea: </b> Instead of having one hot vectors of size N, where N is the number of unique chords in the dataset, we will connect the notes with the chords. Meaning, a <b>G</b> chord is comprised of a G, B and a D. <b>G7</b> is comprised of G,B,D,F. <b>C#</b> is comprised of C#,E#(F),G#. Etc.<br>\n",
    "<br><b>Explore the use of Chromagrams instead of spectrograms</b><br>\n",
    "https://musicinformationretrieval.com/chroma.html<br>\n",
    "<br>\n",
    "So, let's build a tool, that will <u>map</u> <b>Chords to Notes</b> and <b>Notes to Chords</b><br>"
   ]
  },
  {
   "cell_type": "code",
   "execution_count": 3,
   "metadata": {},
   "outputs": [],
   "source": [
    "Semitones = ['C', 'C#', 'D', 'D#', 'E', 'F', 'F#', 'G', 'G#', 'A', 'A#', 'B']"
   ]
  },
  {
   "cell_type": "code",
   "execution_count": 4,
   "metadata": {},
   "outputs": [],
   "source": [
    "def Chord_to_Notes(chord):\n",
    "    if chord == 'N':\n",
    "        return []\n",
    "    if chord in Semitones:\n",
    "        c = pc.Chord(chord)\n",
    "        return c.components()\n",
    "    #to get here means, this chord is augmented/diminished or inversed\n",
    "    #I need to build smthing here for them\n",
    "    return Semitones"
   ]
  },
  {
   "cell_type": "code",
   "execution_count": 5,
   "metadata": {},
   "outputs": [],
   "source": [
    "def Notes_to_Chord(Notes):\n",
    "    Chords = []\n",
    "    for Note_Set in Notes:\n",
    "        Chords.append(pc.note_to_chord(Note_Set))\n",
    "    return Chords"
   ]
  },
  {
   "cell_type": "code",
   "execution_count": 6,
   "metadata": {},
   "outputs": [],
   "source": [
    "def Extend_Annotations(filename):\n",
    "    chordlab = pd.read_csv(filename, names=['Starts', 'Ends', 'Chord'], sep=' ', header=None)\n",
    "    #init list\n",
    "    notes = []\n",
    "    for counter in range(len(Semitones)):\n",
    "        notes.append([])\n",
    "    #loop over annotation chords\n",
    "    for Annotation in chordlab['Chord']:\n",
    "        Notes_exist = Chord_to_Notes(Annotation)\n",
    "        counter = 0\n",
    "        for note in Semitones:\n",
    "            if note not in Notes_exist:\n",
    "                notes[counter].append(0)\n",
    "            else:\n",
    "                notes[counter].append(1)\n",
    "            counter += 1 \n",
    "    #append note lists on pandas dataframe\n",
    "    counter = 0\n",
    "    for note in Semitones:\n",
    "        chordlab[note] = notes[counter]\n",
    "        counter += 1\n",
    "        \n",
    "    return chordlab"
   ]
  },
  {
   "cell_type": "markdown",
   "metadata": {},
   "source": [
    "After we built these tools, we will create a dataset, where the encodings of each chord won't be of size (407,1) but of (#NumberOfNotes,1)"
   ]
  },
  {
   "cell_type": "code",
   "execution_count": 7,
   "metadata": {},
   "outputs": [],
   "source": [
    "### get all chordlab files\n",
    "Chordlab = {'The Beatles': {}}\n",
    "for filename in Path('Big-Dataset/The Beatles').glob('**/scratch/**/*.lab'):\n",
    "    \n",
    "    path, track = os.path.split(filename)\n",
    "    path, album = os.path.split(path)\n",
    "    track_no = re.search('([0-9].)_-_',track).group(1)\n",
    "    \n",
    "    if (album not in Chordlab['The Beatles']): \n",
    "        Chordlab['The Beatles'][album] = {}\n",
    "        \n",
    "    Chordlab['The Beatles'][album][track_no] = Extend_Annotations(filename)"
   ]
  },
  {
   "cell_type": "code",
   "execution_count": 8,
   "metadata": {},
   "outputs": [
    {
     "data": {
      "text/html": [
       "<div>\n",
       "<style scoped>\n",
       "    .dataframe tbody tr th:only-of-type {\n",
       "        vertical-align: middle;\n",
       "    }\n",
       "\n",
       "    .dataframe tbody tr th {\n",
       "        vertical-align: top;\n",
       "    }\n",
       "\n",
       "    .dataframe thead th {\n",
       "        text-align: right;\n",
       "    }\n",
       "</style>\n",
       "<table border=\"1\" class=\"dataframe\">\n",
       "  <thead>\n",
       "    <tr style=\"text-align: right;\">\n",
       "      <th></th>\n",
       "      <th>Starts</th>\n",
       "      <th>Ends</th>\n",
       "      <th>Chord</th>\n",
       "      <th>C</th>\n",
       "      <th>C#</th>\n",
       "      <th>D</th>\n",
       "      <th>D#</th>\n",
       "      <th>E</th>\n",
       "      <th>F</th>\n",
       "      <th>F#</th>\n",
       "      <th>G</th>\n",
       "      <th>G#</th>\n",
       "      <th>A</th>\n",
       "      <th>A#</th>\n",
       "      <th>B</th>\n",
       "    </tr>\n",
       "  </thead>\n",
       "  <tbody>\n",
       "    <tr>\n",
       "      <td>0</td>\n",
       "      <td>0.000000</td>\n",
       "      <td>0.511897</td>\n",
       "      <td>N</td>\n",
       "      <td>0</td>\n",
       "      <td>0</td>\n",
       "      <td>0</td>\n",
       "      <td>0</td>\n",
       "      <td>0</td>\n",
       "      <td>0</td>\n",
       "      <td>0</td>\n",
       "      <td>0</td>\n",
       "      <td>0</td>\n",
       "      <td>0</td>\n",
       "      <td>0</td>\n",
       "      <td>0</td>\n",
       "    </tr>\n",
       "    <tr>\n",
       "      <td>1</td>\n",
       "      <td>0.511897</td>\n",
       "      <td>3.376166</td>\n",
       "      <td>D</td>\n",
       "      <td>0</td>\n",
       "      <td>0</td>\n",
       "      <td>1</td>\n",
       "      <td>0</td>\n",
       "      <td>0</td>\n",
       "      <td>0</td>\n",
       "      <td>1</td>\n",
       "      <td>0</td>\n",
       "      <td>0</td>\n",
       "      <td>1</td>\n",
       "      <td>0</td>\n",
       "      <td>0</td>\n",
       "    </tr>\n",
       "    <tr>\n",
       "      <td>2</td>\n",
       "      <td>3.376166</td>\n",
       "      <td>6.178742</td>\n",
       "      <td>E:min</td>\n",
       "      <td>1</td>\n",
       "      <td>1</td>\n",
       "      <td>1</td>\n",
       "      <td>1</td>\n",
       "      <td>1</td>\n",
       "      <td>1</td>\n",
       "      <td>1</td>\n",
       "      <td>1</td>\n",
       "      <td>1</td>\n",
       "      <td>1</td>\n",
       "      <td>1</td>\n",
       "      <td>1</td>\n",
       "    </tr>\n",
       "    <tr>\n",
       "      <td>3</td>\n",
       "      <td>6.178742</td>\n",
       "      <td>7.585845</td>\n",
       "      <td>B:min</td>\n",
       "      <td>1</td>\n",
       "      <td>1</td>\n",
       "      <td>1</td>\n",
       "      <td>1</td>\n",
       "      <td>1</td>\n",
       "      <td>1</td>\n",
       "      <td>1</td>\n",
       "      <td>1</td>\n",
       "      <td>1</td>\n",
       "      <td>1</td>\n",
       "      <td>1</td>\n",
       "      <td>1</td>\n",
       "    </tr>\n",
       "    <tr>\n",
       "      <td>4</td>\n",
       "      <td>7.585845</td>\n",
       "      <td>9.027834</td>\n",
       "      <td>A</td>\n",
       "      <td>0</td>\n",
       "      <td>1</td>\n",
       "      <td>0</td>\n",
       "      <td>0</td>\n",
       "      <td>1</td>\n",
       "      <td>0</td>\n",
       "      <td>0</td>\n",
       "      <td>0</td>\n",
       "      <td>0</td>\n",
       "      <td>1</td>\n",
       "      <td>0</td>\n",
       "      <td>0</td>\n",
       "    </tr>\n",
       "    <tr>\n",
       "      <td>...</td>\n",
       "      <td>...</td>\n",
       "      <td>...</td>\n",
       "      <td>...</td>\n",
       "      <td>...</td>\n",
       "      <td>...</td>\n",
       "      <td>...</td>\n",
       "      <td>...</td>\n",
       "      <td>...</td>\n",
       "      <td>...</td>\n",
       "      <td>...</td>\n",
       "      <td>...</td>\n",
       "      <td>...</td>\n",
       "      <td>...</td>\n",
       "      <td>...</td>\n",
       "      <td>...</td>\n",
       "    </tr>\n",
       "    <tr>\n",
       "      <td>81</td>\n",
       "      <td>138.388235</td>\n",
       "      <td>139.562757</td>\n",
       "      <td>E:min</td>\n",
       "      <td>1</td>\n",
       "      <td>1</td>\n",
       "      <td>1</td>\n",
       "      <td>1</td>\n",
       "      <td>1</td>\n",
       "      <td>1</td>\n",
       "      <td>1</td>\n",
       "      <td>1</td>\n",
       "      <td>1</td>\n",
       "      <td>1</td>\n",
       "      <td>1</td>\n",
       "      <td>1</td>\n",
       "    </tr>\n",
       "    <tr>\n",
       "      <td>82</td>\n",
       "      <td>139.562757</td>\n",
       "      <td>141.109407</td>\n",
       "      <td>A</td>\n",
       "      <td>0</td>\n",
       "      <td>1</td>\n",
       "      <td>0</td>\n",
       "      <td>0</td>\n",
       "      <td>1</td>\n",
       "      <td>0</td>\n",
       "      <td>0</td>\n",
       "      <td>0</td>\n",
       "      <td>0</td>\n",
       "      <td>1</td>\n",
       "      <td>0</td>\n",
       "      <td>0</td>\n",
       "    </tr>\n",
       "    <tr>\n",
       "      <td>83</td>\n",
       "      <td>141.109407</td>\n",
       "      <td>142.342076</td>\n",
       "      <td>E:min</td>\n",
       "      <td>1</td>\n",
       "      <td>1</td>\n",
       "      <td>1</td>\n",
       "      <td>1</td>\n",
       "      <td>1</td>\n",
       "      <td>1</td>\n",
       "      <td>1</td>\n",
       "      <td>1</td>\n",
       "      <td>1</td>\n",
       "      <td>1</td>\n",
       "      <td>1</td>\n",
       "      <td>1</td>\n",
       "    </tr>\n",
       "    <tr>\n",
       "      <td>84</td>\n",
       "      <td>142.342076</td>\n",
       "      <td>144.391973</td>\n",
       "      <td>A</td>\n",
       "      <td>0</td>\n",
       "      <td>1</td>\n",
       "      <td>0</td>\n",
       "      <td>0</td>\n",
       "      <td>1</td>\n",
       "      <td>0</td>\n",
       "      <td>0</td>\n",
       "      <td>0</td>\n",
       "      <td>0</td>\n",
       "      <td>1</td>\n",
       "      <td>0</td>\n",
       "      <td>0</td>\n",
       "    </tr>\n",
       "    <tr>\n",
       "      <td>85</td>\n",
       "      <td>144.391973</td>\n",
       "      <td>149.613264</td>\n",
       "      <td>N</td>\n",
       "      <td>0</td>\n",
       "      <td>0</td>\n",
       "      <td>0</td>\n",
       "      <td>0</td>\n",
       "      <td>0</td>\n",
       "      <td>0</td>\n",
       "      <td>0</td>\n",
       "      <td>0</td>\n",
       "      <td>0</td>\n",
       "      <td>0</td>\n",
       "      <td>0</td>\n",
       "      <td>0</td>\n",
       "    </tr>\n",
       "  </tbody>\n",
       "</table>\n",
       "<p>86 rows × 15 columns</p>\n",
       "</div>"
      ],
      "text/plain": [
       "        Starts        Ends  Chord  C  C#  D  D#  E  F  F#  G  G#  A  A#  B\n",
       "0     0.000000    0.511897      N  0   0  0   0  0  0   0  0   0  0   0  0\n",
       "1     0.511897    3.376166      D  0   0  1   0  0  0   1  0   0  1   0  0\n",
       "2     3.376166    6.178742  E:min  1   1  1   1  1  1   1  1   1  1   1  1\n",
       "3     6.178742    7.585845  B:min  1   1  1   1  1  1   1  1   1  1   1  1\n",
       "4     7.585845    9.027834      A  0   1  0   0  1  0   0  0   0  1   0  0\n",
       "..         ...         ...    ... ..  .. ..  .. .. ..  .. ..  .. ..  .. ..\n",
       "81  138.388235  139.562757  E:min  1   1  1   1  1  1   1  1   1  1   1  1\n",
       "82  139.562757  141.109407      A  0   1  0   0  1  0   0  0   0  1   0  0\n",
       "83  141.109407  142.342076  E:min  1   1  1   1  1  1   1  1   1  1   1  1\n",
       "84  142.342076  144.391973      A  0   1  0   0  1  0   0  0   0  1   0  0\n",
       "85  144.391973  149.613264      N  0   0  0   0  0  0   0  0   0  0   0  0\n",
       "\n",
       "[86 rows x 15 columns]"
      ]
     },
     "metadata": {},
     "output_type": "display_data"
    }
   ],
   "source": [
    "#Display chordlab format\n",
    "display (Chordlab['The Beatles'][album][track_no])"
   ]
  },
  {
   "cell_type": "markdown",
   "metadata": {},
   "source": [
    "<h2>Chromagrams</h2>\n",
    "<br>\n",
    "1. Constructing chromagram from raw audio:<br>"
   ]
  },
  {
   "cell_type": "code",
   "execution_count": 13,
   "metadata": {},
   "outputs": [
    {
     "data": {
      "image/png": "[encoded data removed]",
      "text/plain": [
       "<Figure size 432x288 with 2 Axes>"
      ]
     },
     "metadata": {
      "needs_background": "light"
     },
     "output_type": "display_data"
    }
   ],
   "source": [
    "track, sr = librosa.load('Audiofiles/The Beatles/12_-_Let_It_Be/wav/06.Let It Be (Remastered 2009).wav')\n",
    "track_time = librosa.get_duration(y=track, sr=sr)\n",
    "\n",
    "hop_length = 512\n",
    "n_fft = int(track_time // (hop_length / sr))\n",
    "\n",
    "chroma = librosa.feature.chroma_stft(track, sr=sr, n_fft=n_fft, hop_length=hop_length)\n",
    "\n",
    "librosa.display.specshow(chroma, y_axis='chroma', x_axis='time')\n",
    "plt.colorbar()\n",
    "plt.title('Chromagram')\n",
    "plt.tight_layout()\n",
    "plt.show()"
   ]
  },
  {
   "cell_type": "code",
   "execution_count": 14,
   "metadata": {},
   "outputs": [
    {
     "data": {
      "text/plain": [
       "(12, 10469)"
      ]
     },
     "execution_count": 14,
     "metadata": {},
     "output_type": "execute_result"
    }
   ],
   "source": [
    "chroma.shape"
   ]
  },
  {
   "cell_type": "markdown",
   "metadata": {},
   "source": [
    "<h2>Estimation using Chromagrams (Underfitting due to the number of features)</h2>"
   ]
  },
  {
   "cell_type": "markdown",
   "metadata": {},
   "source": [
    "<h3>Loading Datasets</h3>"
   ]
  },
  {
   "cell_type": "code",
   "execution_count": 9,
   "metadata": {},
   "outputs": [],
   "source": [
    "### get all chordlab files\n",
    "Chordlab = {'The Beatles': {}}\n",
    "for filename in Path('Big-Dataset/The Beatles').glob('**/scratch/**/*.lab'):\n",
    "    \n",
    "    path, track = os.path.split(filename)\n",
    "    path, album = os.path.split(path)\n",
    "    track_no = re.search('([0-9].)_-_',track).group(1)\n",
    "    \n",
    "    if (album not in Chordlab['The Beatles']): \n",
    "        Chordlab['The Beatles'][album] = {}\n",
    "        \n",
    "    Chordlab['The Beatles'][album][track_no] = pd.read_csv(filename, names=['Starts', 'Ends', 'Chord'], sep=' ', header=None)"
   ]
  },
  {
   "cell_type": "markdown",
   "metadata": {},
   "source": [
    "<h3>Chord Vocab</h3>"
   ]
  },
  {
   "cell_type": "code",
   "execution_count": 10,
   "metadata": {},
   "outputs": [
    {
     "name": "stdout",
     "output_type": "stream",
     "text": [
      "Unique Chords in our Dataset:  407\n"
     ]
    }
   ],
   "source": [
    "### Load all chords in a dictionary\n",
    "Chords = []\n",
    "for album in Chordlab['The Beatles'].keys():\n",
    "    for track_no in Chordlab['The Beatles'][album].keys():\n",
    "        for index, row in Chordlab['The Beatles'][album][track_no].iterrows():\n",
    "            if row['Chord'] not in Chords: Chords.append(row['Chord'])\n",
    "                \n",
    "### How many chords do we have in our dataset?\n",
    "print (\"Unique Chords in our Dataset: \",len(Chords))"
   ]
  },
  {
   "cell_type": "markdown",
   "metadata": {},
   "source": [
    "<h3>Create Chromagrams</h3>"
   ]
  },
  {
   "cell_type": "code",
   "execution_count": 11,
   "metadata": {},
   "outputs": [],
   "source": [
    "hop_length = 512\n",
    "Semitones = 12\n",
    "\n",
    "### get all audio files and create chromagram for each track\n",
    "Chromagrams, Timestamps = spectrograms.create_chromagrams(hop_length, 'Audiofiles/The Beatles')"
   ]
  },
  {
   "cell_type": "markdown",
   "metadata": {},
   "source": [
    "<h3>Preprocessings</h3>"
   ]
  },
  {
   "cell_type": "markdown",
   "metadata": {},
   "source": [
    "<h4>One hot encodings with sklearn</h4>"
   ]
  },
  {
   "cell_type": "code",
   "execution_count": 12,
   "metadata": {},
   "outputs": [
    {
     "data": {
      "text/plain": [
       "OneHotEncoder(categorical_features=None, categories=None, drop=None,\n",
       "              dtype=<class 'numpy.float64'>, handle_unknown='error',\n",
       "              n_values=None, sparse=True)"
      ]
     },
     "execution_count": 12,
     "metadata": {},
     "output_type": "execute_result"
    }
   ],
   "source": [
    "encoder = OneHotEncoder()\n",
    "encoder.fit(np.array(pd.Series(Chords)).reshape(-1,1))"
   ]
  },
  {
   "cell_type": "markdown",
   "metadata": {},
   "source": [
    "<h4>Indexing chroma with timesteps</h4>"
   ]
  },
  {
   "cell_type": "code",
   "execution_count": 13,
   "metadata": {},
   "outputs": [],
   "source": [
    "chords2vec = chords_to_onehot(encoder, Timestamps, Chordlab, Chords)"
   ]
  },
  {
   "cell_type": "markdown",
   "metadata": {},
   "source": [
    "<h4>Constructing numpy arrays</h4>"
   ]
  },
  {
   "cell_type": "code",
   "execution_count": 14,
   "metadata": {},
   "outputs": [
    {
     "name": "stdout",
     "output_type": "stream",
     "text": [
      "(1248060, 12) (1248060, 407)\n"
     ]
    }
   ],
   "source": [
    "x_initial_train = np.zeros((1,Semitones))\n",
    "y_initial_train = np.zeros((1,len(Chords)))\n",
    "x_initial_test = np.zeros((1,Semitones))\n",
    "y_initial_test = np.zeros((1,len(Chords)))\n",
    "\n",
    "test_track_no = '06'\n",
    "for album in chords2vec.keys():\n",
    "    for track_no in chords2vec[album].keys():\n",
    "        if track_no != '06' or album != '12_-_Let_It_Be':\n",
    "            y_initial_train = np.append(y_initial_train, chords2vec[album][track_no].T, axis = 0)\n",
    "            x_initial_train = np.append(x_initial_train, Chromagrams['The Beatles'][album][track_no], axis = 0)\n",
    "        else:\n",
    "            y_initial_test = np.append(y_initial_test, chords2vec[album][track_no].T, axis = 0)\n",
    "            x_initial_test = np.append(x_initial_test, Chromagrams['The Beatles'][album][track_no], axis = 0)\n",
    "\n",
    "print (x_initial_train.shape, y_initial_train.shape)"
   ]
  },
  {
   "cell_type": "markdown",
   "metadata": {},
   "source": [
    "<h4>Normalization</h4>"
   ]
  },
  {
   "cell_type": "code",
   "execution_count": 15,
   "metadata": {},
   "outputs": [],
   "source": [
    "scaler = StandardScaler()\n",
    "# fit scaler on training dataset\n",
    "scaler.fit(x_initial_train)\n",
    "# transform training dataset\n",
    "x_initial_train = scaler.transform(x_initial_train)\n",
    "\n",
    "# fit scaler on training dataset\n",
    "scaler.fit(x_initial_test)\n",
    "# transform training dataset\n",
    "x_initial_test = scaler.transform(x_initial_test)"
   ]
  },
  {
   "cell_type": "markdown",
   "metadata": {},
   "source": [
    "<h4>Slicing</h4>"
   ]
  },
  {
   "cell_type": "code",
   "execution_count": 16,
   "metadata": {},
   "outputs": [],
   "source": [
    "# Find the chunk size\n",
    "chunk_size = 500"
   ]
  },
  {
   "cell_type": "code",
   "execution_count": 17,
   "metadata": {},
   "outputs": [
    {
     "name": "stdout",
     "output_type": "stream",
     "text": [
      "(2498, 500, 12)\n",
      "(2498, 500, 407)\n"
     ]
    }
   ],
   "source": [
    "# Slicing\n",
    "x_train = np.zeros((1,chunk_size,Semitones)) #num of frequencies\n",
    "y_train = np.zeros((1,chunk_size,len(Chords)))\n",
    "\n",
    "timestep = 0\n",
    "chunks = x_initial_train.shape[0]\n",
    "while timestep < chunks :\n",
    "    if (chunks - timestep) > chunk_size:\n",
    "        batch_x = np.resize(x_initial_train[timestep:timestep+chunk_size,:], (1, chunk_size, Semitones)) #num of frequencies\n",
    "        x_train = np.append(x_train, batch_x, axis = 0)\n",
    "        batch_y = np.resize(y_initial_train[timestep:timestep+chunk_size,:], (1, chunk_size,len(Chords)))\n",
    "        y_train = np.append(y_train, batch_y, axis = 0)\n",
    "    else:\n",
    "        batch_x = x_initial_train[timestep:,:]\n",
    "        batch_y = y_initial_train[timestep:,:]\n",
    "        for step in range (0, chunk_size + timestep - chunks):\n",
    "            batch_x = np.vstack((batch_x, np.zeros((1,Semitones))))\n",
    "            batch_y = np.vstack((batch_y, encoder.transform([['N']]).toarray()[0]))\n",
    "        x_train = np.append(x_train, np.array([batch_x]), axis = 0)\n",
    "        y_train = np.append(y_train, np.array([batch_y]), axis = 0)\n",
    "    timestep += chunk_size\n",
    "    \n",
    "print (x_train.shape)\n",
    "print (y_train.shape)\n",
    "\n",
    "#delete first line batch of array because its zeros"
   ]
  },
  {
   "cell_type": "code",
   "execution_count": 18,
   "metadata": {},
   "outputs": [
    {
     "name": "stdout",
     "output_type": "stream",
     "text": [
      "(22, 500, 12)\n",
      "(22, 500, 407)\n"
     ]
    }
   ],
   "source": [
    "# Slicing\n",
    "x_test = np.zeros((1,chunk_size,Semitones)) #num of frequencies\n",
    "y_test = np.zeros((1,chunk_size,len(Chords)))\n",
    "\n",
    "timestep = 0\n",
    "chunks = x_initial_test.shape[0]\n",
    "while timestep < chunks :\n",
    "    if (chunks - timestep) > chunk_size:\n",
    "        batch_x = np.resize(x_initial_test[timestep:timestep+chunk_size,:], (1, chunk_size, Semitones)) #num of frequencies\n",
    "        x_test = np.append(x_test, batch_x, axis = 0)\n",
    "        batch_y = np.resize(y_initial_test[timestep:timestep+chunk_size,:], (1, chunk_size,len(Chords)))\n",
    "        y_test = np.append(y_test, batch_y, axis = 0)\n",
    "    else:\n",
    "        batch_x = x_initial_test[timestep:,:]\n",
    "        batch_y = y_initial_test[timestep:,:]\n",
    "        for step in range (0, chunk_size + timestep - chunks):\n",
    "            batch_x = np.vstack((batch_x, np.zeros((1,Semitones))))\n",
    "            batch_y = np.vstack((batch_y, encoder.transform([['N']]).toarray()[0]))\n",
    "        x_test = np.append(x_test, np.array([batch_x]), axis = 0)\n",
    "        y_test = np.append(y_test, np.array([batch_y]), axis = 0)\n",
    "    timestep += chunk_size\n",
    "    \n",
    "print (x_test.shape)\n",
    "print (y_test.shape)\n",
    "\n",
    "#delete first line batch of array because its zeros"
   ]
  },
  {
   "cell_type": "markdown",
   "metadata": {},
   "source": [
    "Delete the first row from every array because of the append, which left it all zeros."
   ]
  },
  {
   "cell_type": "code",
   "execution_count": 19,
   "metadata": {},
   "outputs": [],
   "source": [
    "x_train = np.delete(x_train,0,0)\n",
    "y_train = np.delete(y_train,0,0)\n",
    "x_test = np.delete(x_test,0,0)\n",
    "y_test = np.delete(y_test,0,0)"
   ]
  },
  {
   "cell_type": "code",
   "execution_count": 20,
   "metadata": {},
   "outputs": [
    {
     "name": "stdout",
     "output_type": "stream",
     "text": [
      "(2497, 500, 12)\n",
      "(2497, 500, 407)\n",
      "(21, 500, 12)\n",
      "(21, 500, 407)\n"
     ]
    }
   ],
   "source": [
    "print(x_train.shape)\n",
    "print(y_train.shape)\n",
    "print (x_test.shape)\n",
    "print (y_test.shape)"
   ]
  },
  {
   "cell_type": "code",
   "execution_count": 173,
   "metadata": {},
   "outputs": [],
   "source": [
    "x_train2 = np.reshape(x_train,(2497, 500, 12, 1))\n",
    "y_train2 = np.reshape(y_train,(2497, 500, 407, 1))\n",
    "x_test2 = np.reshape(x_test,(21, 500, 12, 1))\n",
    "y_test2 = np.reshape(y_test,(21, 500, 407, 1))"
   ]
  },
  {
   "cell_type": "markdown",
   "metadata": {},
   "source": [
    "## Neural Network"
   ]
  },
  {
   "cell_type": "code",
   "execution_count": 143,
   "metadata": {},
   "outputs": [],
   "source": [
    "from tensorflow.keras.layers import Input, TimeDistributed, Embedding, LSTM, Bidirectional, Dropout, Dense, GRU, concatenate, Conv1D, Conv2D, Flatten,MaxPooling1D, LocallyConnected1D, Activation, GaussianNoise, BatchNormalization\n",
    "from tensorflow.keras.models import Model\n",
    "from tensorflow.keras.initializers import RandomNormal, RandomUniform"
   ]
  },
  {
   "cell_type": "code",
   "execution_count": 170,
   "metadata": {},
   "outputs": [],
   "source": [
    "def BLSTM_2Layer(chords_num, frequencies_num, timesteps, batch_size):\n",
    "    \n",
    "    main_input = Input(shape=(timesteps,frequencies_num), name='main_input')\n",
    "    \n",
    "    #BLSTM\n",
    "    x = Bidirectional(LSTM(units = 40, \n",
    "                           kernel_initializer = 'glorot_uniform',\n",
    "                           recurrent_activation='sigmoid',\n",
    "                           return_sequences = True))(main_input)\n",
    "    #BLSTM on the concatanted output\n",
    "    x = Bidirectional(LSTM(units = 40,\n",
    "                           kernel_initializer = 'glorot_uniform',\n",
    "                           recurrent_activation='sigmoid',\n",
    "                           return_sequences=True))(x)\n",
    "    \n",
    "    x = TimeDistributed(Activation('sigmoid'))(x)\n",
    "    #Dense for classification\n",
    "    main_output = TimeDistributed(Dense(chords_num, activation='softmax'))(x)\n",
    "    #model\n",
    "    model = Model(inputs=[main_input], outputs=[main_output])\n",
    "\n",
    "    return model"
   ]
  },
  {
   "cell_type": "code",
   "execution_count": 213,
   "metadata": {},
   "outputs": [],
   "source": [
    "def Conv1D_BLSTM_2Layer(chords_num, frequencies_num, timesteps, batch_size):\n",
    "    \n",
    "    main_input = Input(shape=(timesteps,frequencies_num,1), name='main_input')\n",
    "    \n",
    "    #Convolutional Layer\n",
    "    c =  TimeDistributed(Conv1D(filters=32, \n",
    "               kernel_size=3, \n",
    "               padding='same'), input_shape=(timesteps, frequencies_num, 1))(main_input)\n",
    "    \n",
    "    c = Dropout(0.2)(c)\n",
    "    \n",
    "    #Convolutional Layer\n",
    "    c =  TimeDistributed(Conv1D(filters=32, \n",
    "               kernel_size=3, \n",
    "               padding='same'), input_shape=(timesteps, frequencies_num, 1))(c)\n",
    "    \n",
    "    c = Dropout(0.2)(c)\n",
    "    \n",
    "    #Convolutional Layer\n",
    "    c =  TimeDistributed(Conv1D(filters=64, \n",
    "               kernel_size=5, \n",
    "               padding='same'), input_shape=(timesteps, frequencies_num, 1))(c)\n",
    "    \n",
    "    c = Dropout(0.2)(c)\n",
    "    \n",
    "    #Convolutional Layer\n",
    "    c =  TimeDistributed(Conv1D(filters=64, \n",
    "               kernel_size=5, \n",
    "               padding='same'), input_shape=(timesteps, frequencies_num, 1))(c)\n",
    "    \n",
    "    c = Dropout(0.2)(c)\n",
    "    \n",
    "    x = TimeDistributed(Flatten())(c)\n",
    "    x = BatchNormalization()(x)\n",
    "    \n",
    "    #BLSTM on the concatanted output\n",
    "    x = Bidirectional(LSTM(units = 20,\n",
    "                           kernel_initializer = 'glorot_uniform',\n",
    "                           recurrent_activation='sigmoid',\n",
    "                           return_sequences=True))(x)\n",
    "    \n",
    "    #BLSTM on the concatanted output\n",
    "    x = Bidirectional(LSTM(units = 20,\n",
    "                           kernel_initializer = 'glorot_uniform',\n",
    "                           recurrent_activation='sigmoid',\n",
    "                           return_sequences=True))(x)\n",
    "    \n",
    "    #Dense for classification\n",
    "    main_output = TimeDistributed(Dense(chords_num, activation='softmax'))(x)\n",
    "    \n",
    "    #model\n",
    "    model = Model(inputs=[main_input], outputs=[main_output])\n",
    "\n",
    "    return model"
   ]
  },
  {
   "cell_type": "code",
   "execution_count": 214,
   "metadata": {},
   "outputs": [
    {
     "name": "stdout",
     "output_type": "stream",
     "text": [
      "Train on 2497 samples, validate on 21 samples\n",
      "Epoch 1/50\n",
      "2497/2497 [==============================] - 47s 19ms/sample - loss: 4.6721 - accuracy: 0.2660 - val_loss: 3.3877 - val_accuracy: 0.2381\n",
      "Epoch 2/50\n",
      "2497/2497 [==============================] - 44s 18ms/sample - loss: 3.2981 - accuracy: 0.3304 - val_loss: 3.3037 - val_accuracy: 0.2653\n",
      "Epoch 3/50\n",
      "2497/2497 [==============================] - 44s 18ms/sample - loss: 3.0191 - accuracy: 0.3762 - val_loss: 3.0153 - val_accuracy: 0.3293\n",
      "Epoch 4/50\n",
      "2497/2497 [==============================] - 44s 18ms/sample - loss: 2.8471 - accuracy: 0.4005 - val_loss: 2.9192 - val_accuracy: 0.3793\n",
      "Epoch 5/50\n",
      "2497/2497 [==============================] - 44s 18ms/sample - loss: 2.7159 - accuracy: 0.4200 - val_loss: 2.8270 - val_accuracy: 0.3792\n",
      "Epoch 6/50\n",
      "2497/2497 [==============================] - 44s 18ms/sample - loss: 2.6395 - accuracy: 0.4287 - val_loss: 3.1510 - val_accuracy: 0.2972\n",
      "Epoch 7/50\n",
      "2497/2497 [==============================] - 44s 18ms/sample - loss: 2.5406 - accuracy: 0.4479 - val_loss: 2.6783 - val_accuracy: 0.4137\n",
      "Epoch 8/50\n",
      "2497/2497 [==============================] - 44s 18ms/sample - loss: 2.4853 - accuracy: 0.4510 - val_loss: 2.8547 - val_accuracy: 0.3860\n",
      "Epoch 9/50\n",
      "2497/2497 [==============================] - 44s 18ms/sample - loss: 2.4290 - accuracy: 0.4617 - val_loss: 2.8933 - val_accuracy: 0.3875\n",
      "Epoch 10/50\n",
      "2497/2497 [==============================] - 44s 18ms/sample - loss: 2.4029 - accuracy: 0.4676 - val_loss: 2.5855 - val_accuracy: 0.4460\n",
      "Epoch 11/50\n",
      "2497/2497 [==============================] - 44s 18ms/sample - loss: 2.3505 - accuracy: 0.4744 - val_loss: 2.6099 - val_accuracy: 0.4280\n",
      "Epoch 12/50\n",
      "2497/2497 [==============================] - 44s 18ms/sample - loss: 2.2897 - accuracy: 0.4855 - val_loss: 2.6400 - val_accuracy: 0.4457\n",
      "Epoch 13/50\n",
      "2497/2497 [==============================] - 44s 18ms/sample - loss: 2.2632 - accuracy: 0.4893 - val_loss: 2.9292 - val_accuracy: 0.3580\n",
      "Epoch 14/50\n",
      "2497/2497 [==============================] - 44s 18ms/sample - loss: 2.2372 - accuracy: 0.4936 - val_loss: 2.5336 - val_accuracy: 0.4476\n",
      "Epoch 15/50\n",
      "2497/2497 [==============================] - 44s 18ms/sample - loss: 2.1845 - accuracy: 0.5021 - val_loss: 2.5139 - val_accuracy: 0.4730\n",
      "Epoch 16/50\n",
      "2497/2497 [==============================] - 44s 18ms/sample - loss: 2.1934 - accuracy: 0.4959 - val_loss: 2.5627 - val_accuracy: 0.4517\n",
      "Epoch 17/50\n",
      "2497/2497 [==============================] - 44s 18ms/sample - loss: 2.1442 - accuracy: 0.5047 - val_loss: 2.5678 - val_accuracy: 0.4421\n",
      "Epoch 18/50\n",
      "2497/2497 [==============================] - 44s 18ms/sample - loss: 2.1052 - accuracy: 0.5102 - val_loss: 2.5575 - val_accuracy: 0.4515\n",
      "Epoch 19/50\n",
      "2497/2497 [==============================] - 44s 18ms/sample - loss: 2.0749 - accuracy: 0.5155 - val_loss: 2.4348 - val_accuracy: 0.4791\n",
      "Epoch 20/50\n",
      "2497/2497 [==============================] - 44s 18ms/sample - loss: 2.0677 - accuracy: 0.5164 - val_loss: 2.3615 - val_accuracy: 0.4970\n",
      "Epoch 21/50\n",
      "2497/2497 [==============================] - 44s 18ms/sample - loss: 2.0541 - accuracy: 0.5154 - val_loss: 2.9771 - val_accuracy: 0.3347\n",
      "Epoch 22/50\n",
      "2497/2497 [==============================] - 44s 18ms/sample - loss: 2.0595 - accuracy: 0.5138 - val_loss: 2.5639 - val_accuracy: 0.4448\n",
      "Epoch 23/50\n",
      "2497/2497 [==============================] - 44s 18ms/sample - loss: 2.0233 - accuracy: 0.5213 - val_loss: 2.7707 - val_accuracy: 0.4215\n",
      "Epoch 24/50\n",
      "2497/2497 [==============================] - 44s 18ms/sample - loss: 2.0045 - accuracy: 0.5227 - val_loss: 2.5701 - val_accuracy: 0.4627\n",
      "Epoch 25/50\n",
      "2497/2497 [==============================] - 44s 18ms/sample - loss: 1.9669 - accuracy: 0.5298 - val_loss: 2.5266 - val_accuracy: 0.4651\n",
      "Epoch 26/50\n",
      "2497/2497 [==============================] - 44s 18ms/sample - loss: 1.9629 - accuracy: 0.5299 - val_loss: 2.5170 - val_accuracy: 0.4511\n",
      "Epoch 27/50\n",
      "2497/2497 [==============================] - 44s 18ms/sample - loss: 1.9532 - accuracy: 0.5297 - val_loss: 2.4744 - val_accuracy: 0.4628\n",
      "Epoch 28/50\n",
      "2497/2497 [==============================] - 44s 18ms/sample - loss: 1.9598 - accuracy: 0.5296 - val_loss: 2.6392 - val_accuracy: 0.4295\n",
      "Epoch 29/50\n",
      "2497/2497 [==============================] - 44s 18ms/sample - loss: 1.9258 - accuracy: 0.5343 - val_loss: 2.6483 - val_accuracy: 0.4419\n",
      "Epoch 30/50\n",
      "2497/2497 [==============================] - 44s 18ms/sample - loss: 1.8984 - accuracy: 0.5400 - val_loss: 2.6823 - val_accuracy: 0.4373\n",
      "Epoch 31/50\n",
      "2497/2497 [==============================] - 44s 18ms/sample - loss: 1.8853 - accuracy: 0.5419 - val_loss: 2.6044 - val_accuracy: 0.4298\n",
      "Epoch 32/50\n",
      "2497/2497 [==============================] - 44s 18ms/sample - loss: 1.8905 - accuracy: 0.5371 - val_loss: 2.6943 - val_accuracy: 0.4122\n",
      "Epoch 33/50\n",
      "2497/2497 [==============================] - 44s 18ms/sample - loss: 1.8594 - accuracy: 0.5433 - val_loss: 2.5392 - val_accuracy: 0.4350\n",
      "Epoch 34/50\n",
      "2497/2497 [==============================] - 44s 18ms/sample - loss: 1.8569 - accuracy: 0.5432 - val_loss: 2.4565 - val_accuracy: 0.4568\n",
      "Epoch 35/50\n",
      "2497/2497 [==============================] - 44s 18ms/sample - loss: 1.8228 - accuracy: 0.5488 - val_loss: 2.5298 - val_accuracy: 0.4462\n",
      "Epoch 36/50\n",
      "2497/2497 [==============================] - 44s 18ms/sample - loss: 1.8054 - accuracy: 0.5551 - val_loss: 2.5312 - val_accuracy: 0.4361\n",
      "Epoch 37/50\n",
      "2497/2497 [==============================] - 44s 18ms/sample - loss: 1.8274 - accuracy: 0.5466 - val_loss: 2.6078 - val_accuracy: 0.4414\n",
      "Epoch 38/50\n",
      "2497/2497 [==============================] - 44s 18ms/sample - loss: 1.8302 - accuracy: 0.5484 - val_loss: 2.5380 - val_accuracy: 0.4610\n",
      "Epoch 39/50\n",
      "2497/2497 [==============================] - 44s 18ms/sample - loss: 1.7830 - accuracy: 0.5571 - val_loss: 2.5337 - val_accuracy: 0.4553\n",
      "Epoch 40/50\n",
      "2497/2497 [==============================] - 44s 18ms/sample - loss: 1.9178 - accuracy: 0.5258 - val_loss: 2.4153 - val_accuracy: 0.4558\n",
      "Epoch 41/50\n",
      "2497/2497 [==============================] - 44s 18ms/sample - loss: 1.8319 - accuracy: 0.5448 - val_loss: 2.5335 - val_accuracy: 0.4479\n",
      "Epoch 42/50\n",
      "2497/2497 [==============================] - 44s 18ms/sample - loss: 1.7877 - accuracy: 0.5525 - val_loss: 2.4026 - val_accuracy: 0.4764\n",
      "Epoch 43/50\n",
      "2497/2497 [==============================] - 44s 18ms/sample - loss: 1.7671 - accuracy: 0.5563 - val_loss: 2.5380 - val_accuracy: 0.4469\n",
      "Epoch 44/50\n",
      "2497/2497 [==============================] - 44s 18ms/sample - loss: 1.7521 - accuracy: 0.5604 - val_loss: 2.4465 - val_accuracy: 0.4833\n",
      "Epoch 45/50\n",
      "2497/2497 [==============================] - 44s 18ms/sample - loss: 1.7393 - accuracy: 0.5621 - val_loss: 2.5015 - val_accuracy: 0.4744\n",
      "Epoch 46/50\n",
      "2497/2497 [==============================] - 44s 18ms/sample - loss: 1.7399 - accuracy: 0.5603 - val_loss: 2.5057 - val_accuracy: 0.4567\n",
      "Epoch 47/50\n",
      "2497/2497 [==============================] - 44s 18ms/sample - loss: 1.7171 - accuracy: 0.5675 - val_loss: 2.3581 - val_accuracy: 0.4900\n",
      "Epoch 48/50\n",
      "2497/2497 [==============================] - 44s 18ms/sample - loss: 1.8409 - accuracy: 0.5387 - val_loss: 2.1291 - val_accuracy: 0.5375\n",
      "Epoch 49/50\n",
      "2497/2497 [==============================] - 44s 18ms/sample - loss: 1.7666 - accuracy: 0.5530 - val_loss: 2.2430 - val_accuracy: 0.5148\n",
      "Epoch 50/50\n",
      "2497/2497 [==============================] - 44s 18ms/sample - loss: 1.7210 - accuracy: 0.5665 - val_loss: 2.3731 - val_accuracy: 0.4837\n",
      "Model: \"model_67\"\n",
      "_________________________________________________________________\n",
      "Layer (type)                 Output Shape              Param #   \n",
      "=================================================================\n",
      "main_input (InputLayer)      [(None, 500, 12, 1)]      0         \n",
      "_________________________________________________________________\n",
      "time_distributed_99 (TimeDis (None, 500, 12, 32)       128       \n",
      "_________________________________________________________________\n",
      "dropout_33 (Dropout)         (None, 500, 12, 32)       0         \n",
      "_________________________________________________________________\n",
      "time_distributed_100 (TimeDi (None, 500, 12, 32)       3104      \n",
      "_________________________________________________________________\n",
      "dropout_34 (Dropout)         (None, 500, 12, 32)       0         \n",
      "_________________________________________________________________\n",
      "time_distributed_101 (TimeDi (None, 500, 12, 64)       10304     \n",
      "_________________________________________________________________\n",
      "dropout_35 (Dropout)         (None, 500, 12, 64)       0         \n",
      "_________________________________________________________________\n",
      "time_distributed_102 (TimeDi (None, 500, 12, 64)       20544     \n",
      "_________________________________________________________________\n",
      "dropout_36 (Dropout)         (None, 500, 12, 64)       0         \n",
      "_________________________________________________________________\n",
      "time_distributed_103 (TimeDi (None, 500, 768)          0         \n",
      "_________________________________________________________________\n",
      "batch_normalization_3 (Batch (None, 500, 768)          3072      \n",
      "_________________________________________________________________\n",
      "bidirectional_90 (Bidirectio (None, 500, 40)           126240    \n",
      "_________________________________________________________________\n",
      "bidirectional_91 (Bidirectio (None, 500, 40)           9760      \n",
      "_________________________________________________________________\n",
      "time_distributed_104 (TimeDi (None, 500, 407)          16687     \n",
      "=================================================================\n",
      "Total params: 189,839\n",
      "Trainable params: 188,303\n",
      "Non-trainable params: 1,536\n",
      "_________________________________________________________________\n"
     ]
    }
   ],
   "source": [
    "epochs = 50\n",
    "batch_size = 32\n",
    "\n",
    "chroma_model = Conv1D_BLSTM_2Layer(len(Chords), Semitones, chunk_size, batch_size)\n",
    "\n",
    "chroma_model.compile(optimizer=keras.optimizers.Adam(),\n",
    "              loss=keras.losses.categorical_crossentropy,\n",
    "              metrics=['accuracy'])\n",
    "\n",
    "\n",
    "# train\n",
    "callback_history = chroma_model.fit(x_train2, y_train, epochs=epochs,\n",
    "          validation_data=(x_test2, y_test), batch_size=batch_size, verbose=1)\n",
    "\n",
    "chroma_model.summary()"
   ]
  },
  {
   "cell_type": "code",
   "execution_count": 216,
   "metadata": {},
   "outputs": [
    {
     "name": "stdout",
     "output_type": "stream",
     "text": [
      "Final test loss and accuracy : [2.373098134994507, 0.48371428]\n"
     ]
    }
   ],
   "source": [
    "# evaluate on test set\n",
    "scores = chroma_model.evaluate(x_test2, y_test, verbose=0)\n",
    "print(\"Final test loss and accuracy :\", scores)"
   ]
  },
  {
   "cell_type": "code",
   "execution_count": 217,
   "metadata": {},
   "outputs": [],
   "source": [
    "predictions = chroma_model.predict(x_test2, batch_size=batch_size, use_multiprocessing=True)"
   ]
  },
  {
   "cell_type": "code",
   "execution_count": 218,
   "metadata": {},
   "outputs": [
    {
     "data": {
      "text/html": [
       "<div>\n",
       "<style scoped>\n",
       "    .dataframe tbody tr th:only-of-type {\n",
       "        vertical-align: middle;\n",
       "    }\n",
       "\n",
       "    .dataframe tbody tr th {\n",
       "        vertical-align: top;\n",
       "    }\n",
       "\n",
       "    .dataframe thead th {\n",
       "        text-align: right;\n",
       "    }\n",
       "</style>\n",
       "<table border=\"1\" class=\"dataframe\">\n",
       "  <thead>\n",
       "    <tr style=\"text-align: right;\">\n",
       "      <th></th>\n",
       "      <th>Estimated Chords</th>\n",
       "    </tr>\n",
       "  </thead>\n",
       "  <tbody>\n",
       "    <tr>\n",
       "      <td>0</td>\n",
       "      <td>C</td>\n",
       "    </tr>\n",
       "    <tr>\n",
       "      <td>1</td>\n",
       "      <td>C</td>\n",
       "    </tr>\n",
       "    <tr>\n",
       "      <td>2</td>\n",
       "      <td>C</td>\n",
       "    </tr>\n",
       "    <tr>\n",
       "      <td>3</td>\n",
       "      <td>C</td>\n",
       "    </tr>\n",
       "    <tr>\n",
       "      <td>4</td>\n",
       "      <td>C</td>\n",
       "    </tr>\n",
       "    <tr>\n",
       "      <td>...</td>\n",
       "      <td>...</td>\n",
       "    </tr>\n",
       "    <tr>\n",
       "      <td>10495</td>\n",
       "      <td>N</td>\n",
       "    </tr>\n",
       "    <tr>\n",
       "      <td>10496</td>\n",
       "      <td>N</td>\n",
       "    </tr>\n",
       "    <tr>\n",
       "      <td>10497</td>\n",
       "      <td>N</td>\n",
       "    </tr>\n",
       "    <tr>\n",
       "      <td>10498</td>\n",
       "      <td>N</td>\n",
       "    </tr>\n",
       "    <tr>\n",
       "      <td>10499</td>\n",
       "      <td>N</td>\n",
       "    </tr>\n",
       "  </tbody>\n",
       "</table>\n",
       "<p>10500 rows × 1 columns</p>\n",
       "</div>"
      ],
      "text/plain": [
       "      Estimated Chords\n",
       "0                    C\n",
       "1                    C\n",
       "2                    C\n",
       "3                    C\n",
       "4                    C\n",
       "...                ...\n",
       "10495                N\n",
       "10496                N\n",
       "10497                N\n",
       "10498                N\n",
       "10499                N\n",
       "\n",
       "[10500 rows x 1 columns]"
      ]
     },
     "metadata": {},
     "output_type": "display_data"
    }
   ],
   "source": [
    "estimated_chord_list = []\n",
    "real_chord_list = Chordlab['The Beatles']['12_-_Let_It_Be'][test_track_no]\n",
    "\n",
    "for batch_chords in predictions:\n",
    "    for chord in batch_chords:\n",
    "        estimated_chord_list.append(encoder.inverse_transform([chord]).reshape(1,)[0])\n",
    "        \n",
    "df_predictions = pd.DataFrame({'Estimated Chords' : estimated_chord_list})\n",
    "display(df_predictions)"
   ]
  },
  {
   "cell_type": "markdown",
   "metadata": {},
   "source": [
    "### Plot Efficiency of model"
   ]
  },
  {
   "cell_type": "code",
   "execution_count": 219,
   "metadata": {},
   "outputs": [
    {
     "data": {
      "image/png": "[encoded data removed]",
      "text/plain": [
       "<Figure size 1152x360 with 1 Axes>"
      ]
     },
     "metadata": {
      "needs_background": "light"
     },
     "output_type": "display_data"
    },
    {
     "data": {
      "image/png": "[encoded data removed]",
      "text/plain": [
       "<Figure size 1152x360 with 1 Axes>"
      ]
     },
     "metadata": {
      "needs_background": "light"
     },
     "output_type": "display_data"
    }
   ],
   "source": [
    "plt.figure(figsize=(16,5))\n",
    "# summarize history for accuracy\n",
    "plt.plot(callback_history.history['accuracy'])\n",
    "plt.plot(callback_history.history['val_accuracy'])\n",
    "plt.title('model accuracy')\n",
    "plt.ylabel('accuracy')\n",
    "plt.xlabel('epoch')\n",
    "plt.legend(['train', 'test'], loc='upper left')\n",
    "plt.show()\n",
    "plt.figure(figsize=(16,5))\n",
    "# summarize history for loss\n",
    "plt.plot(callback_history.history['loss'])\n",
    "plt.plot(callback_history.history['val_loss'])\n",
    "plt.title('model loss')\n",
    "plt.ylabel('loss')\n",
    "plt.xlabel('epoch')\n",
    "plt.legend(['train', 'test'], loc='upper left')\n",
    "plt.show()"
   ]
  },
  {
   "cell_type": "code",
   "execution_count": null,
   "metadata": {},
   "outputs": [],
   "source": []
  }
 ],
 "metadata": {
  "kernelspec": {
   "display_name": "Python 3",
   "language": "python",
   "name": "python3"
  },
  "language_info": {
   "codemirror_mode": {
    "name": "ipython",
    "version": 3
   },
   "file_extension": ".py",
   "mimetype": "text/x-python",
   "name": "python",
   "nbconvert_exporter": "python",
   "pygments_lexer": "ipython3",
   "version": "3.7.4"
  }
 },
 "nbformat": 4,
 "nbformat_minor": 2
}
