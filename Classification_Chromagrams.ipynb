{
 "cells": [
  {
   "cell_type": "markdown",
   "metadata": {},
   "source": [
    "<h1>Chord Representation and Indexing with Chromagrams</h1>\n",
    "<br>\n",
    "In this Notebook we are going to explore a different approach on the preprocessing of chord annotations and spectrogramms.<br>\n",
    "We used one hot encodings for every timestep of the spectrogram, and saw the enormous amount of memory that was needed.<br>\n",
    "<br>"
   ]
  },
  {
   "cell_type": "code",
   "execution_count": 1,
   "metadata": {},
   "outputs": [],
   "source": [
    "import sys\n",
    "# do this only once\n",
    "sys.path.append('./src/audio-processing/')\n",
    "sys.path.append('./src/data-processing/')"
   ]
  },
  {
   "cell_type": "code",
   "execution_count": 2,
   "metadata": {},
   "outputs": [],
   "source": [
    "import pandas as pd\n",
    "import numpy as np\n",
    "import matplotlib.pyplot as plt\n",
    "\n",
    "#python input/output and regex\n",
    "import re\n",
    "import os\n",
    "from pathlib import Path\n",
    "\n",
    "#chord info\n",
    "import pychord as pc\n",
    "\n",
    "#signal processing libraries\n",
    "from scipy.io import wavfile\n",
    "from scipy import signal\n",
    "\n",
    "#sklearn for normalization\n",
    "from sklearn.preprocessing import StandardScaler, OneHotEncoder\n",
    "\n",
    "#tensorflow\n",
    "import tensorflow as tf\n",
    "from tensorflow import keras\n",
    "\n",
    "#librosa\n",
    "import librosa\n",
    "import librosa.display\n",
    "\n",
    "#import custom modules\n",
    "import filters\n",
    "import spectrograms\n",
    "import audiofiles\n",
    "from annotation_processing import chords_to_onehot"
   ]
  },
  {
   "cell_type": "markdown",
   "metadata": {},
   "source": [
    "<h2>Chord Representations</h2><br>\n",
    "<b>Idea: </b> Instead of having one hot vectors of size N, where N is the number of unique chords in the dataset, we will connect the notes with the chords. Meaning, a <b>G</b> chord is comprised of a G, B and a D. <b>G7</b> is comprised of G,B,D,F. <b>C#</b> is comprised of C#,E#(F),G#. Etc.<br>\n",
    "<br><b>Explore the use of Chromagrams instead of spectrograms</b><br>\n",
    "https://musicinformationretrieval.com/chroma.html<br>\n",
    "<br>\n",
    "So, let's build a tool, that will <u>map</u> <b>Chords to Notes</b> and <b>Notes to Chords</b><br>"
   ]
  },
  {
   "cell_type": "code",
   "execution_count": 3,
   "metadata": {},
   "outputs": [],
   "source": [
    "Semitones = ['C', 'C#', 'D', 'D#', 'E', 'F', 'F#', 'G', 'G#', 'A', 'A#', 'B']"
   ]
  },
  {
   "cell_type": "code",
   "execution_count": 4,
   "metadata": {},
   "outputs": [],
   "source": [
    "def Chord_to_Notes(chord):\n",
    "    if chord == 'N':\n",
    "        return []\n",
    "    if chord in Semitones:\n",
    "        c = pc.Chord(chord)\n",
    "        return c.components()\n",
    "    #to get here means, this chord is augmented/diminished or inversed\n",
    "    #I need to build smthing here for them\n",
    "    return Semitones"
   ]
  },
  {
   "cell_type": "code",
   "execution_count": 5,
   "metadata": {},
   "outputs": [],
   "source": [
    "def Notes_to_Chord(Notes):\n",
    "    Chords = []\n",
    "    for Note_Set in Notes:\n",
    "        Chords.append(pc.note_to_chord(Note_Set))\n",
    "    return Chords"
   ]
  },
  {
   "cell_type": "code",
   "execution_count": 6,
   "metadata": {},
   "outputs": [],
   "source": [
    "def Extend_Annotations(filename):\n",
    "    chordlab = pd.read_csv(filename, names=['Starts', 'Ends', 'Chord'], sep=' ', header=None)\n",
    "    #init list\n",
    "    notes = []\n",
    "    for counter in range(len(Semitones)):\n",
    "        notes.append([])\n",
    "    #loop over annotation chords\n",
    "    for Annotation in chordlab['Chord']:\n",
    "        Notes_exist = Chord_to_Notes(Annotation)\n",
    "        counter = 0\n",
    "        for note in Semitones:\n",
    "            if note not in Notes_exist:\n",
    "                notes[counter].append(0)\n",
    "            else:\n",
    "                notes[counter].append(1)\n",
    "            counter += 1 \n",
    "    #append note lists on pandas dataframe\n",
    "    counter = 0\n",
    "    for note in Semitones:\n",
    "        chordlab[note] = notes[counter]\n",
    "        counter += 1\n",
    "        \n",
    "    return chordlab"
   ]
  },
  {
   "cell_type": "markdown",
   "metadata": {},
   "source": [
    "After we built these tools, we will create a dataset, where the encodings of each chord won't be of size (407,1) but of (#NumberOfNotes,1)"
   ]
  },
  {
   "cell_type": "code",
   "execution_count": 7,
   "metadata": {},
   "outputs": [],
   "source": [
    "### get all chordlab files\n",
    "Chordlab = {'The Beatles': {}}\n",
    "for filename in Path('Big-Dataset/The Beatles').glob('**/scratch/**/*.lab'):\n",
    "    \n",
    "    path, track = os.path.split(filename)\n",
    "    path, album = os.path.split(path)\n",
    "    track_no = re.search('([0-9].)_-_',track).group(1)\n",
    "    \n",
    "    if (album not in Chordlab['The Beatles']): \n",
    "        Chordlab['The Beatles'][album] = {}\n",
    "        \n",
    "    Chordlab['The Beatles'][album][track_no] = Extend_Annotations(filename)"
   ]
  },
  {
   "cell_type": "code",
   "execution_count": 8,
   "metadata": {},
   "outputs": [
    {
     "data": {
      "text/html": [
       "<div>\n",
       "<style scoped>\n",
       "    .dataframe tbody tr th:only-of-type {\n",
       "        vertical-align: middle;\n",
       "    }\n",
       "\n",
       "    .dataframe tbody tr th {\n",
       "        vertical-align: top;\n",
       "    }\n",
       "\n",
       "    .dataframe thead th {\n",
       "        text-align: right;\n",
       "    }\n",
       "</style>\n",
       "<table border=\"1\" class=\"dataframe\">\n",
       "  <thead>\n",
       "    <tr style=\"text-align: right;\">\n",
       "      <th></th>\n",
       "      <th>Starts</th>\n",
       "      <th>Ends</th>\n",
       "      <th>Chord</th>\n",
       "      <th>C</th>\n",
       "      <th>C#</th>\n",
       "      <th>D</th>\n",
       "      <th>D#</th>\n",
       "      <th>E</th>\n",
       "      <th>F</th>\n",
       "      <th>F#</th>\n",
       "      <th>G</th>\n",
       "      <th>G#</th>\n",
       "      <th>A</th>\n",
       "      <th>A#</th>\n",
       "      <th>B</th>\n",
       "    </tr>\n",
       "  </thead>\n",
       "  <tbody>\n",
       "    <tr>\n",
       "      <td>0</td>\n",
       "      <td>0.000000</td>\n",
       "      <td>0.511897</td>\n",
       "      <td>N</td>\n",
       "      <td>0</td>\n",
       "      <td>0</td>\n",
       "      <td>0</td>\n",
       "      <td>0</td>\n",
       "      <td>0</td>\n",
       "      <td>0</td>\n",
       "      <td>0</td>\n",
       "      <td>0</td>\n",
       "      <td>0</td>\n",
       "      <td>0</td>\n",
       "      <td>0</td>\n",
       "      <td>0</td>\n",
       "    </tr>\n",
       "    <tr>\n",
       "      <td>1</td>\n",
       "      <td>0.511897</td>\n",
       "      <td>3.376166</td>\n",
       "      <td>D</td>\n",
       "      <td>0</td>\n",
       "      <td>0</td>\n",
       "      <td>1</td>\n",
       "      <td>0</td>\n",
       "      <td>0</td>\n",
       "      <td>0</td>\n",
       "      <td>1</td>\n",
       "      <td>0</td>\n",
       "      <td>0</td>\n",
       "      <td>1</td>\n",
       "      <td>0</td>\n",
       "      <td>0</td>\n",
       "    </tr>\n",
       "    <tr>\n",
       "      <td>2</td>\n",
       "      <td>3.376166</td>\n",
       "      <td>6.178742</td>\n",
       "      <td>E:min</td>\n",
       "      <td>1</td>\n",
       "      <td>1</td>\n",
       "      <td>1</td>\n",
       "      <td>1</td>\n",
       "      <td>1</td>\n",
       "      <td>1</td>\n",
       "      <td>1</td>\n",
       "      <td>1</td>\n",
       "      <td>1</td>\n",
       "      <td>1</td>\n",
       "      <td>1</td>\n",
       "      <td>1</td>\n",
       "    </tr>\n",
       "    <tr>\n",
       "      <td>3</td>\n",
       "      <td>6.178742</td>\n",
       "      <td>7.585845</td>\n",
       "      <td>B:min</td>\n",
       "      <td>1</td>\n",
       "      <td>1</td>\n",
       "      <td>1</td>\n",
       "      <td>1</td>\n",
       "      <td>1</td>\n",
       "      <td>1</td>\n",
       "      <td>1</td>\n",
       "      <td>1</td>\n",
       "      <td>1</td>\n",
       "      <td>1</td>\n",
       "      <td>1</td>\n",
       "      <td>1</td>\n",
       "    </tr>\n",
       "    <tr>\n",
       "      <td>4</td>\n",
       "      <td>7.585845</td>\n",
       "      <td>9.027834</td>\n",
       "      <td>A</td>\n",
       "      <td>0</td>\n",
       "      <td>1</td>\n",
       "      <td>0</td>\n",
       "      <td>0</td>\n",
       "      <td>1</td>\n",
       "      <td>0</td>\n",
       "      <td>0</td>\n",
       "      <td>0</td>\n",
       "      <td>0</td>\n",
       "      <td>1</td>\n",
       "      <td>0</td>\n",
       "      <td>0</td>\n",
       "    </tr>\n",
       "    <tr>\n",
       "      <td>...</td>\n",
       "      <td>...</td>\n",
       "      <td>...</td>\n",
       "      <td>...</td>\n",
       "      <td>...</td>\n",
       "      <td>...</td>\n",
       "      <td>...</td>\n",
       "      <td>...</td>\n",
       "      <td>...</td>\n",
       "      <td>...</td>\n",
       "      <td>...</td>\n",
       "      <td>...</td>\n",
       "      <td>...</td>\n",
       "      <td>...</td>\n",
       "      <td>...</td>\n",
       "      <td>...</td>\n",
       "    </tr>\n",
       "    <tr>\n",
       "      <td>81</td>\n",
       "      <td>138.388235</td>\n",
       "      <td>139.562757</td>\n",
       "      <td>E:min</td>\n",
       "      <td>1</td>\n",
       "      <td>1</td>\n",
       "      <td>1</td>\n",
       "      <td>1</td>\n",
       "      <td>1</td>\n",
       "      <td>1</td>\n",
       "      <td>1</td>\n",
       "      <td>1</td>\n",
       "      <td>1</td>\n",
       "      <td>1</td>\n",
       "      <td>1</td>\n",
       "      <td>1</td>\n",
       "    </tr>\n",
       "    <tr>\n",
       "      <td>82</td>\n",
       "      <td>139.562757</td>\n",
       "      <td>141.109407</td>\n",
       "      <td>A</td>\n",
       "      <td>0</td>\n",
       "      <td>1</td>\n",
       "      <td>0</td>\n",
       "      <td>0</td>\n",
       "      <td>1</td>\n",
       "      <td>0</td>\n",
       "      <td>0</td>\n",
       "      <td>0</td>\n",
       "      <td>0</td>\n",
       "      <td>1</td>\n",
       "      <td>0</td>\n",
       "      <td>0</td>\n",
       "    </tr>\n",
       "    <tr>\n",
       "      <td>83</td>\n",
       "      <td>141.109407</td>\n",
       "      <td>142.342076</td>\n",
       "      <td>E:min</td>\n",
       "      <td>1</td>\n",
       "      <td>1</td>\n",
       "      <td>1</td>\n",
       "      <td>1</td>\n",
       "      <td>1</td>\n",
       "      <td>1</td>\n",
       "      <td>1</td>\n",
       "      <td>1</td>\n",
       "      <td>1</td>\n",
       "      <td>1</td>\n",
       "      <td>1</td>\n",
       "      <td>1</td>\n",
       "    </tr>\n",
       "    <tr>\n",
       "      <td>84</td>\n",
       "      <td>142.342076</td>\n",
       "      <td>144.391973</td>\n",
       "      <td>A</td>\n",
       "      <td>0</td>\n",
       "      <td>1</td>\n",
       "      <td>0</td>\n",
       "      <td>0</td>\n",
       "      <td>1</td>\n",
       "      <td>0</td>\n",
       "      <td>0</td>\n",
       "      <td>0</td>\n",
       "      <td>0</td>\n",
       "      <td>1</td>\n",
       "      <td>0</td>\n",
       "      <td>0</td>\n",
       "    </tr>\n",
       "    <tr>\n",
       "      <td>85</td>\n",
       "      <td>144.391973</td>\n",
       "      <td>149.613264</td>\n",
       "      <td>N</td>\n",
       "      <td>0</td>\n",
       "      <td>0</td>\n",
       "      <td>0</td>\n",
       "      <td>0</td>\n",
       "      <td>0</td>\n",
       "      <td>0</td>\n",
       "      <td>0</td>\n",
       "      <td>0</td>\n",
       "      <td>0</td>\n",
       "      <td>0</td>\n",
       "      <td>0</td>\n",
       "      <td>0</td>\n",
       "    </tr>\n",
       "  </tbody>\n",
       "</table>\n",
       "<p>86 rows × 15 columns</p>\n",
       "</div>"
      ],
      "text/plain": [
       "        Starts        Ends  Chord  C  C#  D  D#  E  F  F#  G  G#  A  A#  B\n",
       "0     0.000000    0.511897      N  0   0  0   0  0  0   0  0   0  0   0  0\n",
       "1     0.511897    3.376166      D  0   0  1   0  0  0   1  0   0  1   0  0\n",
       "2     3.376166    6.178742  E:min  1   1  1   1  1  1   1  1   1  1   1  1\n",
       "3     6.178742    7.585845  B:min  1   1  1   1  1  1   1  1   1  1   1  1\n",
       "4     7.585845    9.027834      A  0   1  0   0  1  0   0  0   0  1   0  0\n",
       "..         ...         ...    ... ..  .. ..  .. .. ..  .. ..  .. ..  .. ..\n",
       "81  138.388235  139.562757  E:min  1   1  1   1  1  1   1  1   1  1   1  1\n",
       "82  139.562757  141.109407      A  0   1  0   0  1  0   0  0   0  1   0  0\n",
       "83  141.109407  142.342076  E:min  1   1  1   1  1  1   1  1   1  1   1  1\n",
       "84  142.342076  144.391973      A  0   1  0   0  1  0   0  0   0  1   0  0\n",
       "85  144.391973  149.613264      N  0   0  0   0  0  0   0  0   0  0   0  0\n",
       "\n",
       "[86 rows x 15 columns]"
      ]
     },
     "metadata": {},
     "output_type": "display_data"
    }
   ],
   "source": [
    "#Display chordlab format\n",
    "display (Chordlab['The Beatles'][album][track_no])"
   ]
  },
  {
   "cell_type": "markdown",
   "metadata": {},
   "source": [
    "<h2>Chromagrams</h2>\n",
    "<br>\n",
    "1. Constructing chromagram from raw audio:<br>"
   ]
  },
  {
   "cell_type": "code",
   "execution_count": 13,
   "metadata": {},
   "outputs": [
    {
     "data": {
      "image/png": "[encoded data removed]",
      "text/plain": [
       "<Figure size 432x288 with 2 Axes>"
      ]
     },
     "metadata": {
      "needs_background": "light"
     },
     "output_type": "display_data"
    }
   ],
   "source": [
    "track, sr = librosa.load('Audiofiles/The Beatles/12_-_Let_It_Be/wav/06.Let It Be (Remastered 2009).wav')\n",
    "track_time = librosa.get_duration(y=track, sr=sr)\n",
    "\n",
    "hop_length = 512\n",
    "n_fft = int(track_time // (hop_length / sr))\n",
    "\n",
    "chroma = librosa.feature.chroma_stft(track, sr=sr, n_fft=n_fft, hop_length=hop_length)\n",
    "\n",
    "librosa.display.specshow(chroma, y_axis='chroma', x_axis='time')\n",
    "plt.colorbar()\n",
    "plt.title('Chromagram')\n",
    "plt.tight_layout()\n",
    "plt.show()"
   ]
  },
  {
   "cell_type": "code",
   "execution_count": 14,
   "metadata": {},
   "outputs": [
    {
     "data": {
      "text/plain": [
       "(12, 10469)"
      ]
     },
     "execution_count": 14,
     "metadata": {},
     "output_type": "execute_result"
    }
   ],
   "source": [
    "chroma.shape"
   ]
  },
  {
   "cell_type": "markdown",
   "metadata": {},
   "source": [
    "## Estimation with Chromagrams"
   ]
  },
  {
   "cell_type": "markdown",
   "metadata": {},
   "source": [
    "<h3>Loading Datasets</h3>"
   ]
  },
  {
   "cell_type": "code",
   "execution_count": 9,
   "metadata": {},
   "outputs": [],
   "source": [
    "### get all chordlab files\n",
    "Chordlab = {'The Beatles': {}}\n",
    "for filename in Path('Big-Dataset/The Beatles').glob('**/scratch/**/*.lab'):\n",
    "    \n",
    "    path, track = os.path.split(filename)\n",
    "    path, album = os.path.split(path)\n",
    "    track_no = re.search('([0-9].)_-_',track).group(1)\n",
    "    \n",
    "    if (album not in Chordlab['The Beatles']): \n",
    "        Chordlab['The Beatles'][album] = {}\n",
    "        \n",
    "    Chordlab['The Beatles'][album][track_no] = pd.read_csv(filename, names=['Starts', 'Ends', 'Chord'], sep=' ', header=None)"
   ]
  },
  {
   "cell_type": "markdown",
   "metadata": {},
   "source": [
    "<h3>Chord Vocab</h3>"
   ]
  },
  {
   "cell_type": "code",
   "execution_count": 10,
   "metadata": {},
   "outputs": [
    {
     "name": "stdout",
     "output_type": "stream",
     "text": [
      "Unique Chords in our Dataset:  407\n"
     ]
    }
   ],
   "source": [
    "### Load all chords in a dictionary\n",
    "Chords = []\n",
    "for album in Chordlab['The Beatles'].keys():\n",
    "    for track_no in Chordlab['The Beatles'][album].keys():\n",
    "        for index, row in Chordlab['The Beatles'][album][track_no].iterrows():\n",
    "            if row['Chord'] not in Chords: Chords.append(row['Chord'])\n",
    "                \n",
    "### How many chords do we have in our dataset?\n",
    "print (\"Unique Chords in our Dataset: \",len(Chords))"
   ]
  },
  {
   "cell_type": "markdown",
   "metadata": {},
   "source": [
    "<h3>Create Chromagrams</h3>"
   ]
  },
  {
   "cell_type": "code",
   "execution_count": 11,
   "metadata": {},
   "outputs": [],
   "source": [
    "hop_length = 512\n",
    "Semitones = 12\n",
    "\n",
    "### get all audio files and create chromagram for each track\n",
    "Chromagrams, Timestamps = spectrograms.create_chromagrams(hop_length, 'Audiofiles/The Beatles')"
   ]
  },
  {
   "cell_type": "markdown",
   "metadata": {},
   "source": [
    "<h3>Preprocessings</h3>"
   ]
  },
  {
   "cell_type": "markdown",
   "metadata": {},
   "source": [
    "<h4>One hot encodings with sklearn</h4>"
   ]
  },
  {
   "cell_type": "code",
   "execution_count": 12,
   "metadata": {},
   "outputs": [
    {
     "data": {
      "text/plain": [
       "OneHotEncoder(categorical_features=None, categories=None, drop=None,\n",
       "              dtype=<class 'numpy.float64'>, handle_unknown='error',\n",
       "              n_values=None, sparse=True)"
      ]
     },
     "execution_count": 12,
     "metadata": {},
     "output_type": "execute_result"
    }
   ],
   "source": [
    "encoder = OneHotEncoder()\n",
    "encoder.fit(np.array(pd.Series(Chords)).reshape(-1,1))"
   ]
  },
  {
   "cell_type": "markdown",
   "metadata": {},
   "source": [
    "<h4>Indexing chroma with timesteps</h4>"
   ]
  },
  {
   "cell_type": "code",
   "execution_count": 13,
   "metadata": {},
   "outputs": [],
   "source": [
    "chords2vec = chords_to_onehot(encoder, Timestamps, Chordlab, Chords)"
   ]
  },
  {
   "cell_type": "code",
   "execution_count": 25,
   "metadata": {},
   "outputs": [],
   "source": [
    "### STORE\n",
    "import pickle\n",
    "\n",
    "with open('chroma_indexed.pickle', 'wb') as handle:\n",
    "    pickle.dump(chords2vec, handle, protocol=pickle.HIGHEST_PROTOCOL)"
   ]
  },
  {
   "cell_type": "code",
   "execution_count": null,
   "metadata": {},
   "outputs": [],
   "source": [
    "### LOAD\n",
    "import pickle\n",
    "\n",
    "with open('chroma_indexed.pickle', 'rb') as handle:\n",
    "    chords2vec = pickle.load(handle)"
   ]
  },
  {
   "cell_type": "markdown",
   "metadata": {},
   "source": [
    "<h4>Constructing numpy arrays</h4>"
   ]
  },
  {
   "cell_type": "code",
   "execution_count": 14,
   "metadata": {},
   "outputs": [],
   "source": [
    "chunk_size = 500"
   ]
  },
  {
   "cell_type": "code",
   "execution_count": 15,
   "metadata": {},
   "outputs": [
    {
     "name": "stdout",
     "output_type": "stream",
     "text": [
      "(2591, 500, 12) (2591, 500, 407) (16, 500, 12) (16, 500, 407)\n"
     ]
    }
   ],
   "source": [
    "x_train = np.zeros((1,chunk_size,Semitones)) #num of frequencies\n",
    "y_train = np.zeros((1,chunk_size,len(Chords)))\n",
    "x_test = np.zeros((1,chunk_size,Semitones)) #num of frequencies\n",
    "y_test = np.zeros((1,chunk_size,len(Chords)))\n",
    "\n",
    "#test track\n",
    "test_track_no = '01'\n",
    "album_test_track = '09_-_Magical_Mystery_Tour'\n",
    "\n",
    "for album in chords2vec.keys():\n",
    "    for track_no in chords2vec[album].keys():\n",
    "        timestep = 0\n",
    "        # size of the current track\n",
    "        chunks = chords2vec[album][track_no].T.shape[0]\n",
    "        # track frequencies\n",
    "        spectrogram = Chromagrams['The Beatles'][album][track_no]\n",
    "        # track annotations\n",
    "        annotations = chords2vec[album][track_no].T\n",
    "        # slice and stack train-test data\n",
    "        if track_no != test_track_no or album != album_test_track:\n",
    "            # train tracks\n",
    "            while timestep < chunks :\n",
    "                if (chunks - timestep) > chunk_size:\n",
    "                    batch_x = np.resize(spectrogram[timestep:timestep+chunk_size,:], (1, chunk_size, Semitones)) #num of frequencies\n",
    "                    x_train = np.append(x_train, batch_x, axis = 0)\n",
    "                    batch_y = np.resize(annotations[timestep:timestep+chunk_size,:], (1, chunk_size, len(Chords)))\n",
    "                    y_train = np.append(y_train, batch_y, axis = 0)\n",
    "                else:\n",
    "                    batch_x = spectrogram[timestep:,:]\n",
    "                    batch_y = annotations[timestep:,:]\n",
    "                    for step in range (0, chunk_size + timestep - chunks):\n",
    "                        batch_x = np.vstack((batch_x, np.zeros((1,Semitones))))\n",
    "                        batch_y = np.vstack((batch_y, encoder.transform([['N']]).toarray()[0]))\n",
    "                    x_train = np.append(x_train, np.array([batch_x]), axis = 0)\n",
    "                    y_train = np.append(y_train, np.array([batch_y]), axis = 0)\n",
    "                timestep += chunk_size\n",
    "        else:\n",
    "            # test tracks\n",
    "            while timestep < chunks :\n",
    "                if (chunks - timestep) > chunk_size:\n",
    "                    batch_x = np.resize(spectrogram[timestep:timestep+chunk_size,:], (1, chunk_size, Semitones)) #num of frequencies\n",
    "                    x_test = np.append(x_test, batch_x, axis = 0)\n",
    "                    batch_y = np.resize(annotations[timestep:timestep+chunk_size,:], (1, chunk_size, len(Chords)))\n",
    "                    y_test = np.append(y_test, batch_y, axis = 0)\n",
    "                else:\n",
    "                    batch_x = spectrogram[timestep:,:]\n",
    "                    batch_y = annotations[timestep:,:]\n",
    "                    for step in range (0, chunk_size + timestep - chunks):\n",
    "                        batch_x = np.vstack((batch_x, np.zeros((1,Semitones))))\n",
    "                        batch_y = np.vstack((batch_y, encoder.transform([['N']]).toarray()[0]))\n",
    "                    x_test = np.append(x_test, np.array([batch_x]), axis = 0)\n",
    "                    y_test = np.append(y_test, np.array([batch_y]), axis = 0)\n",
    "                # augment timesteps\n",
    "                timestep += chunk_size\n",
    "\n",
    "print (x_train.shape, y_train.shape, x_test.shape, y_test.shape)"
   ]
  },
  {
   "cell_type": "markdown",
   "metadata": {},
   "source": [
    "Delete the first row from every array because of the append, which left it all zeros."
   ]
  },
  {
   "cell_type": "code",
   "execution_count": 16,
   "metadata": {},
   "outputs": [],
   "source": [
    "x_train = np.delete(x_train,0,0)\n",
    "y_train = np.delete(y_train,0,0)\n",
    "x_test = np.delete(x_test,0,0)\n",
    "y_test = np.delete(y_test,0,0)"
   ]
  },
  {
   "cell_type": "code",
   "execution_count": 17,
   "metadata": {},
   "outputs": [
    {
     "name": "stdout",
     "output_type": "stream",
     "text": [
      "(2590, 500, 12)\n",
      "(2590, 500, 407)\n",
      "(15, 500, 12)\n",
      "(15, 500, 407)\n"
     ]
    }
   ],
   "source": [
    "print(x_train.shape)\n",
    "print(y_train.shape)\n",
    "print (x_test.shape)\n",
    "print (y_test.shape)"
   ]
  },
  {
   "cell_type": "code",
   "execution_count": 18,
   "metadata": {},
   "outputs": [],
   "source": [
    "x_train2 = np.reshape(x_train,(x_train.shape[0], x_train.shape[1], x_train.shape[2], 1))\n",
    "y_train2 = np.reshape(y_train,(y_train.shape[0], y_train.shape[1], y_train.shape[2], 1))\n",
    "x_test2 = np.reshape(x_test,(x_test.shape[0], x_test.shape[1], x_test.shape[2], 1))\n",
    "y_test2 = np.reshape(y_test,(y_test.shape[0], y_test.shape[1], y_test.shape[2], 1))"
   ]
  },
  {
   "cell_type": "markdown",
   "metadata": {},
   "source": [
    "## Neural Network"
   ]
  },
  {
   "cell_type": "code",
   "execution_count": 19,
   "metadata": {},
   "outputs": [],
   "source": [
    "from tensorflow.keras.layers import Input, TimeDistributed, Embedding, LSTM, Bidirectional, Dropout, Dense, GRU, concatenate, Conv1D, Conv2D, Flatten,MaxPooling1D, LocallyConnected1D, Activation, GaussianNoise, BatchNormalization\n",
    "from tensorflow.keras.models import Model\n",
    "from tensorflow.keras.initializers import RandomNormal, RandomUniform"
   ]
  },
  {
   "cell_type": "markdown",
   "metadata": {},
   "source": [
    "#### BLSTM_2Layer"
   ]
  },
  {
   "cell_type": "code",
   "execution_count": 81,
   "metadata": {},
   "outputs": [],
   "source": [
    "def BLSTM_2Layer(chords_num, features, timesteps, batch_size):\n",
    "    \n",
    "    main_input = Input(shape=(timesteps,features), name='main_input')\n",
    "    \n",
    "    #BLSTM\n",
    "    x = Bidirectional(LSTM(units = 30, \n",
    "                           kernel_initializer = 'glorot_uniform',\n",
    "                           bias_initializer = RandomNormal(),\n",
    "                           recurrent_activation='sigmoid',\n",
    "                           recurrent_regularizer='l2',\n",
    "                           return_sequences=True))(main_input)\n",
    "    x = Dropout(0.1)(x)\n",
    "    #BLSTM\n",
    "    x = Bidirectional(LSTM(units = 30,\n",
    "                           kernel_initializer = 'glorot_uniform',\n",
    "                           bias_initializer = RandomNormal(),\n",
    "                           recurrent_activation='sigmoid',\n",
    "                           recurrent_regularizer='l2',\n",
    "                           return_sequences=True))(x)\n",
    "    \n",
    "    x = Dropout(0.1)(x)\n",
    "    #Dense for classification\n",
    "    main_output = TimeDistributed(Dense(chords_num, activation='softmax'))(x)\n",
    "    #model\n",
    "    model = Model(inputs=[main_input], outputs=[main_output])\n",
    "\n",
    "    return model"
   ]
  },
  {
   "cell_type": "markdown",
   "metadata": {},
   "source": [
    "#### Summary"
   ]
  },
  {
   "cell_type": "code",
   "execution_count": 82,
   "metadata": {},
   "outputs": [
    {
     "name": "stdout",
     "output_type": "stream",
     "text": [
      "Model: \"model_19\"\n",
      "_________________________________________________________________\n",
      "Layer (type)                 Output Shape              Param #   \n",
      "=================================================================\n",
      "main_input (InputLayer)      [(None, 500, 12)]         0         \n",
      "_________________________________________________________________\n",
      "bidirectional_38 (Bidirectio (None, 500, 60)           10320     \n",
      "_________________________________________________________________\n",
      "dropout_56 (Dropout)         (None, 500, 60)           0         \n",
      "_________________________________________________________________\n",
      "bidirectional_39 (Bidirectio (None, 500, 60)           21840     \n",
      "_________________________________________________________________\n",
      "dropout_57 (Dropout)         (None, 500, 60)           0         \n",
      "_________________________________________________________________\n",
      "time_distributed_74 (TimeDis (None, 500, 407)          24827     \n",
      "=================================================================\n",
      "Total params: 56,987\n",
      "Trainable params: 56,987\n",
      "Non-trainable params: 0\n",
      "_________________________________________________________________\n"
     ]
    }
   ],
   "source": [
    "chroma_model = BLSTM_2Layer(len(Chords), Semitones, chunk_size, batch_size)\n",
    "\n",
    "chroma_model.compile(optimizer=keras.optimizers.Adam(),\n",
    "              loss=keras.losses.categorical_crossentropy,\n",
    "              metrics=['accuracy'])\n",
    "\n",
    "chroma_model.summary()"
   ]
  },
  {
   "cell_type": "markdown",
   "metadata": {},
   "source": [
    "**Fit**"
   ]
  },
  {
   "cell_type": "code",
   "execution_count": 83,
   "metadata": {},
   "outputs": [
    {
     "name": "stdout",
     "output_type": "stream",
     "text": [
      "Train on 2590 samples, validate on 15 samples\n",
      "Epoch 1/20\n",
      "2590/2590 [==============================] - 23s 9ms/sample - loss: 5.2396 - accuracy: 0.0933 - val_loss: 3.7298 - val_accuracy: 0.1616\n",
      "Epoch 2/20\n",
      "2590/2590 [==============================] - 19s 7ms/sample - loss: 3.9882 - accuracy: 0.1494 - val_loss: 3.2197 - val_accuracy: 0.4323\n",
      "Epoch 3/20\n",
      "2590/2590 [==============================] - 19s 7ms/sample - loss: 3.6139 - accuracy: 0.2631 - val_loss: 2.8435 - val_accuracy: 0.4761\n",
      "Epoch 4/20\n",
      "2590/2590 [==============================] - 19s 7ms/sample - loss: 3.3171 - accuracy: 0.3135 - val_loss: 2.5896 - val_accuracy: 0.5356\n",
      "Epoch 5/20\n",
      "2590/2590 [==============================] - 19s 7ms/sample - loss: 3.0773 - accuracy: 0.3680 - val_loss: 2.3940 - val_accuracy: 0.5420\n",
      "Epoch 6/20\n",
      "2590/2590 [==============================] - 18s 7ms/sample - loss: 2.8934 - accuracy: 0.3958 - val_loss: 2.3185 - val_accuracy: 0.5339\n",
      "Epoch 7/20\n",
      "2590/2590 [==============================] - 19s 7ms/sample - loss: 2.7998 - accuracy: 0.4057 - val_loss: 2.1771 - val_accuracy: 0.5461\n",
      "Epoch 8/20\n",
      "2590/2590 [==============================] - 19s 7ms/sample - loss: 2.6849 - accuracy: 0.4218 - val_loss: 2.0857 - val_accuracy: 0.5509\n",
      "Epoch 9/20\n",
      "2590/2590 [==============================] - 19s 7ms/sample - loss: 2.5776 - accuracy: 0.4409 - val_loss: 2.1163 - val_accuracy: 0.5361\n",
      "Epoch 10/20\n",
      "2590/2590 [==============================] - 18s 7ms/sample - loss: 2.5160 - accuracy: 0.4508 - val_loss: 2.1116 - val_accuracy: 0.5240\n",
      "Epoch 11/20\n",
      "2590/2590 [==============================] - 19s 7ms/sample - loss: 2.4642 - accuracy: 0.4602 - val_loss: 1.9926 - val_accuracy: 0.5473\n",
      "Epoch 12/20\n",
      "2590/2590 [==============================] - 19s 7ms/sample - loss: 2.3975 - accuracy: 0.4735 - val_loss: 2.0213 - val_accuracy: 0.5324\n",
      "Epoch 13/20\n",
      "2590/2590 [==============================] - 19s 7ms/sample - loss: 2.3463 - accuracy: 0.4793 - val_loss: 2.0229 - val_accuracy: 0.5359\n",
      "Epoch 14/20\n",
      "2590/2590 [==============================] - 19s 7ms/sample - loss: 2.3040 - accuracy: 0.4856 - val_loss: 2.0370 - val_accuracy: 0.5359\n",
      "Epoch 15/20\n",
      "2590/2590 [==============================] - 19s 7ms/sample - loss: 2.2660 - accuracy: 0.4912 - val_loss: 2.0471 - val_accuracy: 0.5303\n",
      "Epoch 16/20\n",
      "2590/2590 [==============================] - 19s 7ms/sample - loss: 2.2346 - accuracy: 0.4943 - val_loss: 1.9893 - val_accuracy: 0.5511\n",
      "Epoch 17/20\n",
      "2590/2590 [==============================] - 19s 7ms/sample - loss: 2.1992 - accuracy: 0.4988 - val_loss: 1.9672 - val_accuracy: 0.5593\n",
      "Epoch 18/20\n",
      "2590/2590 [==============================] - 19s 7ms/sample - loss: 2.1739 - accuracy: 0.5003 - val_loss: 2.0229 - val_accuracy: 0.5504\n",
      "Epoch 19/20\n",
      "2590/2590 [==============================] - 19s 7ms/sample - loss: 2.1497 - accuracy: 0.5040 - val_loss: 1.9579 - val_accuracy: 0.5503\n",
      "Epoch 20/20\n",
      "2590/2590 [==============================] - 19s 7ms/sample - loss: 2.1075 - accuracy: 0.5094 - val_loss: 1.9884 - val_accuracy: 0.5448\n"
     ]
    }
   ],
   "source": [
    "epochs = 20\n",
    "batch_size = 32\n",
    "\n",
    "# train\n",
    "callback_history = chroma_model.fit(x_train, y_train, epochs=epochs,\n",
    "          validation_data=(x_test, y_test), batch_size=batch_size, verbose=1)"
   ]
  },
  {
   "cell_type": "code",
   "execution_count": 84,
   "metadata": {},
   "outputs": [
    {
     "name": "stdout",
     "output_type": "stream",
     "text": [
      "Loss: \t\t 1.988 \n",
      "Accuracy: \t 54.48 %\n"
     ]
    }
   ],
   "source": [
    "# evaluate on test set\n",
    "loss, accuracy = chroma_model.evaluate([x_test], y_test, verbose=0)\n",
    "print(\"Loss: \\t\\t% 3.3f \\nAccuracy: \\t% 3.2f %%\" %(loss, 100*accuracy))"
   ]
  },
  {
   "cell_type": "markdown",
   "metadata": {},
   "source": [
    "**Predictions -> Chords**"
   ]
  },
  {
   "cell_type": "code",
   "execution_count": 85,
   "metadata": {},
   "outputs": [],
   "source": [
    "predictions = chroma_model.predict(x_test, batch_size=batch_size, use_multiprocessing=True)"
   ]
  },
  {
   "cell_type": "code",
   "execution_count": 86,
   "metadata": {},
   "outputs": [
    {
     "data": {
      "text/html": [
       "<div>\n",
       "<style scoped>\n",
       "    .dataframe tbody tr th:only-of-type {\n",
       "        vertical-align: middle;\n",
       "    }\n",
       "\n",
       "    .dataframe tbody tr th {\n",
       "        vertical-align: top;\n",
       "    }\n",
       "\n",
       "    .dataframe thead th {\n",
       "        text-align: right;\n",
       "    }\n",
       "</style>\n",
       "<table border=\"1\" class=\"dataframe\">\n",
       "  <thead>\n",
       "    <tr style=\"text-align: right;\">\n",
       "      <th></th>\n",
       "      <th>Estimated Chords</th>\n",
       "    </tr>\n",
       "  </thead>\n",
       "  <tbody>\n",
       "    <tr>\n",
       "      <td>0</td>\n",
       "      <td>N</td>\n",
       "    </tr>\n",
       "    <tr>\n",
       "      <td>1</td>\n",
       "      <td>N</td>\n",
       "    </tr>\n",
       "    <tr>\n",
       "      <td>2</td>\n",
       "      <td>N</td>\n",
       "    </tr>\n",
       "    <tr>\n",
       "      <td>3</td>\n",
       "      <td>N</td>\n",
       "    </tr>\n",
       "    <tr>\n",
       "      <td>4</td>\n",
       "      <td>N</td>\n",
       "    </tr>\n",
       "    <tr>\n",
       "      <td>...</td>\n",
       "      <td>...</td>\n",
       "    </tr>\n",
       "    <tr>\n",
       "      <td>7495</td>\n",
       "      <td>N</td>\n",
       "    </tr>\n",
       "    <tr>\n",
       "      <td>7496</td>\n",
       "      <td>N</td>\n",
       "    </tr>\n",
       "    <tr>\n",
       "      <td>7497</td>\n",
       "      <td>N</td>\n",
       "    </tr>\n",
       "    <tr>\n",
       "      <td>7498</td>\n",
       "      <td>N</td>\n",
       "    </tr>\n",
       "    <tr>\n",
       "      <td>7499</td>\n",
       "      <td>N</td>\n",
       "    </tr>\n",
       "  </tbody>\n",
       "</table>\n",
       "<p>7500 rows × 1 columns</p>\n",
       "</div>"
      ],
      "text/plain": [
       "     Estimated Chords\n",
       "0                   N\n",
       "1                   N\n",
       "2                   N\n",
       "3                   N\n",
       "4                   N\n",
       "...               ...\n",
       "7495                N\n",
       "7496                N\n",
       "7497                N\n",
       "7498                N\n",
       "7499                N\n",
       "\n",
       "[7500 rows x 1 columns]"
      ]
     },
     "metadata": {},
     "output_type": "display_data"
    }
   ],
   "source": [
    "estimated_chord_list = []\n",
    "real_chord_list = Chordlab['The Beatles'][album_test_track][test_track_no]\n",
    "\n",
    "for batch_chords in predictions:\n",
    "    for chord in batch_chords:\n",
    "        estimated_chord_list.append(encoder.inverse_transform([chord]).reshape(1,)[0])\n",
    "        \n",
    "df_predictions = pd.DataFrame({'Estimated Chords' : estimated_chord_list})\n",
    "display(df_predictions)"
   ]
  },
  {
   "cell_type": "markdown",
   "metadata": {},
   "source": [
    "### Plot Efficiency of model"
   ]
  },
  {
   "cell_type": "code",
   "execution_count": 87,
   "metadata": {},
   "outputs": [
    {
     "data": {
      "image/png": "[encoded data removed]",
      "text/plain": [
       "<Figure size 1152x360 with 1 Axes>"
      ]
     },
     "metadata": {
      "needs_background": "light"
     },
     "output_type": "display_data"
    },
    {
     "data": {
      "image/png": "[encoded data removed]",
      "text/plain": [
       "<Figure size 1152x360 with 1 Axes>"
      ]
     },
     "metadata": {
      "needs_background": "light"
     },
     "output_type": "display_data"
    }
   ],
   "source": [
    "plt.figure(figsize=(16,5))\n",
    "# summarize history for accuracy\n",
    "plt.plot(callback_history.history['accuracy'])\n",
    "plt.plot(callback_history.history['val_accuracy'])\n",
    "plt.title('model accuracy')\n",
    "plt.ylabel('accuracy')\n",
    "plt.xlabel('epoch')\n",
    "plt.legend(['train', 'test'], loc='upper left')\n",
    "plt.show()\n",
    "plt.figure(figsize=(16,5))\n",
    "# summarize history for loss\n",
    "plt.plot(callback_history.history['loss'])\n",
    "plt.plot(callback_history.history['val_loss'])\n",
    "plt.title('model loss')\n",
    "plt.ylabel('loss')\n",
    "plt.xlabel('epoch')\n",
    "plt.legend(['train', 'test'], loc='upper left')\n",
    "plt.show()"
   ]
  },
  {
   "cell_type": "markdown",
   "metadata": {},
   "source": [
    "#### Conv1D_BLSTM_2Layer"
   ]
  },
  {
   "cell_type": "code",
   "execution_count": 105,
   "metadata": {},
   "outputs": [],
   "source": [
    "def Conv1D_BLSTM_2Layer(chords_num, features, timesteps, batch_size):\n",
    "    \n",
    "    main_input = Input(shape=(timesteps,features,1), name='main_input')\n",
    "    \n",
    "    #Convolutional Stack 1\n",
    "    c =  TimeDistributed(Conv1D(filters=32, \n",
    "               kernel_size=3, \n",
    "               padding='same'))(main_input)\n",
    "    \n",
    "    c =  TimeDistributed(Conv1D(filters=32, \n",
    "               kernel_size=3, \n",
    "               padding='same'))(c)\n",
    "    c = Dropout(0.25)(c)\n",
    "    \n",
    "    #Convolutional Stack 1\n",
    "    c =  TimeDistributed(Conv1D(filters=32, \n",
    "               kernel_size=3, \n",
    "               padding='same'))(c)\n",
    "    \n",
    "    c =  TimeDistributed(Conv1D(filters=32, \n",
    "               kernel_size=3, \n",
    "               padding='same'))(c)\n",
    "    c = Dropout(0.25)(c)\n",
    "    \n",
    "    \n",
    "    #Convolutional Stack 2\n",
    "    c =  TimeDistributed(Conv1D(filters=64, \n",
    "               kernel_size=3, \n",
    "               padding='same'))(c)\n",
    "    \n",
    "    c =  TimeDistributed(Conv1D(filters=64, \n",
    "               kernel_size=3, \n",
    "               padding='same'))(c)\n",
    "    c = Dropout(0.25)(c)\n",
    "    \n",
    "    #Convolutional Stack 2\n",
    "    c =  TimeDistributed(Conv1D(filters=64, \n",
    "               kernel_size=3, \n",
    "               padding='same'))(c)\n",
    "    \n",
    "    c =  TimeDistributed(Conv1D(filters=64, \n",
    "               kernel_size=3, \n",
    "               padding='same'))(c)\n",
    "    c = Dropout(0.25)(c)\n",
    "\n",
    "    \n",
    "    x = TimeDistributed(Flatten())(c)\n",
    "    x = BatchNormalization()(x)\n",
    "\n",
    "    #BLSTM on the concatanted output\n",
    "    x = Bidirectional(LSTM(units = 30,\n",
    "                           kernel_initializer = 'glorot_uniform',\n",
    "                           bias_initializer = RandomNormal(),\n",
    "                           recurrent_activation='sigmoid',\n",
    "                           recurrent_regularizer='l2',\n",
    "                           return_sequences=True))(x)\n",
    "    x = Dropout(0.15)(x)\n",
    "    #BLSTM on the concatanted output\n",
    "    x = Bidirectional(LSTM(units = 30,\n",
    "                           kernel_initializer = 'glorot_uniform',\n",
    "                           bias_initializer = RandomNormal(),\n",
    "                           recurrent_activation='sigmoid',\n",
    "                           recurrent_regularizer='l2',\n",
    "                           return_sequences=True))(x)\n",
    "    \n",
    "    x = Dropout(0.25)(x)\n",
    "    #Dense for classification\n",
    "    main_output = TimeDistributed(Dense(chords_num, activation='softmax'))(x)\n",
    "    \n",
    "    #model\n",
    "    model = Model(inputs=[main_input], outputs=[main_output])\n",
    "\n",
    "    return model"
   ]
  },
  {
   "cell_type": "markdown",
   "metadata": {},
   "source": [
    "#### Summary"
   ]
  },
  {
   "cell_type": "code",
   "execution_count": 106,
   "metadata": {},
   "outputs": [
    {
     "name": "stdout",
     "output_type": "stream",
     "text": [
      "Model: \"model_24\"\n",
      "_________________________________________________________________\n",
      "Layer (type)                 Output Shape              Param #   \n",
      "=================================================================\n",
      "main_input (InputLayer)      [(None, 500, 12, 1)]      0         \n",
      "_________________________________________________________________\n",
      "time_distributed_109 (TimeDi (None, 500, 12, 32)       128       \n",
      "_________________________________________________________________\n",
      "time_distributed_110 (TimeDi (None, 500, 12, 32)       3104      \n",
      "_________________________________________________________________\n",
      "dropout_71 (Dropout)         (None, 500, 12, 32)       0         \n",
      "_________________________________________________________________\n",
      "time_distributed_111 (TimeDi (None, 500, 12, 32)       3104      \n",
      "_________________________________________________________________\n",
      "time_distributed_112 (TimeDi (None, 500, 12, 32)       3104      \n",
      "_________________________________________________________________\n",
      "dropout_72 (Dropout)         (None, 500, 12, 32)       0         \n",
      "_________________________________________________________________\n",
      "time_distributed_113 (TimeDi (None, 500, 12, 64)       6208      \n",
      "_________________________________________________________________\n",
      "time_distributed_114 (TimeDi (None, 500, 12, 64)       12352     \n",
      "_________________________________________________________________\n",
      "dropout_73 (Dropout)         (None, 500, 12, 64)       0         \n",
      "_________________________________________________________________\n",
      "time_distributed_115 (TimeDi (None, 500, 12, 64)       12352     \n",
      "_________________________________________________________________\n",
      "time_distributed_116 (TimeDi (None, 500, 12, 64)       12352     \n",
      "_________________________________________________________________\n",
      "dropout_74 (Dropout)         (None, 500, 12, 64)       0         \n",
      "_________________________________________________________________\n",
      "time_distributed_117 (TimeDi (None, 500, 768)          0         \n",
      "_________________________________________________________________\n",
      "batch_normalization_14 (Batc (None, 500, 768)          3072      \n",
      "_________________________________________________________________\n",
      "bidirectional_48 (Bidirectio (None, 500, 60)           191760    \n",
      "_________________________________________________________________\n",
      "dropout_75 (Dropout)         (None, 500, 60)           0         \n",
      "_________________________________________________________________\n",
      "bidirectional_49 (Bidirectio (None, 500, 60)           21840     \n",
      "_________________________________________________________________\n",
      "dropout_76 (Dropout)         (None, 500, 60)           0         \n",
      "_________________________________________________________________\n",
      "time_distributed_118 (TimeDi (None, 500, 407)          24827     \n",
      "=================================================================\n",
      "Total params: 294,203\n",
      "Trainable params: 292,667\n",
      "Non-trainable params: 1,536\n",
      "_________________________________________________________________\n"
     ]
    }
   ],
   "source": [
    "chroma_model = Conv1D_BLSTM_2Layer(len(Chords), Semitones, chunk_size, batch_size)\n",
    "\n",
    "chroma_model.compile(optimizer=keras.optimizers.Adam(),\n",
    "              loss=keras.losses.categorical_crossentropy,\n",
    "              metrics=['accuracy'])\n",
    "\n",
    "chroma_model.summary()"
   ]
  },
  {
   "cell_type": "markdown",
   "metadata": {},
   "source": [
    "#### Fit"
   ]
  },
  {
   "cell_type": "code",
   "execution_count": 107,
   "metadata": {},
   "outputs": [
    {
     "name": "stdout",
     "output_type": "stream",
     "text": [
      "Train on 2590 samples, validate on 15 samples\n",
      "Epoch 1/20\n",
      "2590/2590 [==============================] - 64s 25ms/sample - loss: 5.1047 - accuracy: 0.2851 - val_loss: 2.9957 - val_accuracy: 0.4717\n",
      "Epoch 2/20\n",
      "2590/2590 [==============================] - 61s 23ms/sample - loss: 3.1645 - accuracy: 0.4019 - val_loss: 2.5735 - val_accuracy: 0.4809\n",
      "Epoch 3/20\n",
      "2590/2590 [==============================] - 61s 24ms/sample - loss: 2.7407 - accuracy: 0.4418 - val_loss: 2.3234 - val_accuracy: 0.5084\n",
      "Epoch 4/20\n",
      "2590/2590 [==============================] - 62s 24ms/sample - loss: 2.5333 - accuracy: 0.4658 - val_loss: 2.1580 - val_accuracy: 0.5511\n",
      "Epoch 5/20\n",
      "2590/2590 [==============================] - 60s 23ms/sample - loss: 2.4020 - accuracy: 0.4831 - val_loss: 2.1168 - val_accuracy: 0.5455\n",
      "Epoch 6/20\n",
      "2590/2590 [==============================] - 60s 23ms/sample - loss: 2.3094 - accuracy: 0.4945 - val_loss: 2.0539 - val_accuracy: 0.5511\n",
      "Epoch 7/20\n",
      "2590/2590 [==============================] - 62s 24ms/sample - loss: 2.2355 - accuracy: 0.5044 - val_loss: 1.9779 - val_accuracy: 0.5751\n",
      "Epoch 8/20\n",
      "2590/2590 [==============================] - 60s 23ms/sample - loss: 2.1732 - accuracy: 0.5111 - val_loss: 2.0414 - val_accuracy: 0.5529\n",
      "Epoch 9/20\n",
      "2590/2590 [==============================] - 59s 23ms/sample - loss: 2.1292 - accuracy: 0.5174 - val_loss: 2.0171 - val_accuracy: 0.5543\n",
      "Epoch 10/20\n",
      "2590/2590 [==============================] - 59s 23ms/sample - loss: 2.0925 - accuracy: 0.5196 - val_loss: 1.9719 - val_accuracy: 0.5589\n",
      "Epoch 11/20\n",
      "2590/2590 [==============================] - 59s 23ms/sample - loss: 2.0584 - accuracy: 0.5249 - val_loss: 1.9179 - val_accuracy: 0.5683\n",
      "Epoch 12/20\n",
      "2590/2590 [==============================] - 59s 23ms/sample - loss: 2.0094 - accuracy: 0.5329 - val_loss: 1.9113 - val_accuracy: 0.5660\n",
      "Epoch 13/20\n",
      "2590/2590 [==============================] - 59s 23ms/sample - loss: 1.9618 - accuracy: 0.5413 - val_loss: 1.9140 - val_accuracy: 0.5728\n",
      "Epoch 14/20\n",
      "2590/2590 [==============================] - 59s 23ms/sample - loss: 1.9406 - accuracy: 0.5398 - val_loss: 1.9680 - val_accuracy: 0.5951\n",
      "Epoch 15/20\n",
      "2590/2590 [==============================] - 59s 23ms/sample - loss: 1.9191 - accuracy: 0.5437 - val_loss: 1.7743 - val_accuracy: 0.6007\n",
      "Epoch 16/20\n",
      "2590/2590 [==============================] - 59s 23ms/sample - loss: 1.8734 - accuracy: 0.5517 - val_loss: 1.8792 - val_accuracy: 0.5721\n",
      "Epoch 17/20\n",
      "2590/2590 [==============================] - 59s 23ms/sample - loss: 1.8428 - accuracy: 0.5569 - val_loss: 1.7326 - val_accuracy: 0.6255\n",
      "Epoch 18/20\n",
      "2590/2590 [==============================] - 59s 23ms/sample - loss: 1.8220 - accuracy: 0.5598 - val_loss: 1.8618 - val_accuracy: 0.5756\n",
      "Epoch 19/20\n",
      "2590/2590 [==============================] - 59s 23ms/sample - loss: 1.8219 - accuracy: 0.5588 - val_loss: 1.8772 - val_accuracy: 0.5976\n",
      "Epoch 20/20\n",
      "2590/2590 [==============================] - 59s 23ms/sample - loss: 1.7959 - accuracy: 0.5644 - val_loss: 1.8846 - val_accuracy: 0.5889\n"
     ]
    }
   ],
   "source": [
    "epochs = 20\n",
    "batch_size = 32\n",
    "\n",
    "# train\n",
    "callback_history_2 = chroma_model.fit(x_train2, y_train, epochs=epochs,\n",
    "          validation_data=(x_test2, y_test), batch_size=batch_size, verbose=1)"
   ]
  },
  {
   "cell_type": "code",
   "execution_count": 108,
   "metadata": {},
   "outputs": [
    {
     "name": "stdout",
     "output_type": "stream",
     "text": [
      "Loss: \t\t 1.885 \n",
      "Accuracy: \t 58.89 %\n"
     ]
    }
   ],
   "source": [
    "# evaluate on test set\n",
    "loss, accuracy = chroma_model.evaluate([x_test2], y_test, verbose=0)\n",
    "print(\"Loss: \\t\\t% 3.3f \\nAccuracy: \\t% 3.2f %%\" %(loss, 100*accuracy))"
   ]
  },
  {
   "cell_type": "markdown",
   "metadata": {},
   "source": [
    "### Plot Efficiency of model"
   ]
  },
  {
   "cell_type": "code",
   "execution_count": 109,
   "metadata": {},
   "outputs": [
    {
     "data": {
      "image/png": "[encoded data removed]",
      "text/plain": [
       "<Figure size 1152x360 with 1 Axes>"
      ]
     },
     "metadata": {
      "needs_background": "light"
     },
     "output_type": "display_data"
    },
    {
     "data": {
      "image/png": "[encoded data removed]",
      "text/plain": [
       "<Figure size 1152x360 with 1 Axes>"
      ]
     },
     "metadata": {
      "needs_background": "light"
     },
     "output_type": "display_data"
    }
   ],
   "source": [
    "plt.figure(figsize=(16,5))\n",
    "# summarize history for accuracy\n",
    "plt.plot(callback_history_2.history['accuracy'])\n",
    "plt.plot(callback_history_2.history['val_accuracy'])\n",
    "plt.title('model accuracy')\n",
    "plt.ylabel('accuracy')\n",
    "plt.xlabel('epoch')\n",
    "plt.legend(['train', 'test'], loc='upper left')\n",
    "plt.show()\n",
    "plt.figure(figsize=(16,5))\n",
    "# summarize history for loss\n",
    "plt.plot(callback_history_2.history['loss'])\n",
    "plt.plot(callback_history_2.history['val_loss'])\n",
    "plt.title('model loss')\n",
    "plt.ylabel('loss')\n",
    "plt.xlabel('epoch')\n",
    "plt.legend(['train', 'test'], loc='upper left')\n",
    "plt.show()"
   ]
  },
  {
   "cell_type": "code",
   "execution_count": null,
   "metadata": {},
   "outputs": [],
   "source": []
  }
 ],
 "metadata": {
  "kernelspec": {
   "display_name": "Python 3",
   "language": "python",
   "name": "python3"
  },
  "language_info": {
   "codemirror_mode": {
    "name": "ipython",
    "version": 3
   },
   "file_extension": ".py",
   "mimetype": "text/x-python",
   "name": "python",
   "nbconvert_exporter": "python",
   "pygments_lexer": "ipython3",
   "version": "3.7.4"
  }
 },
 "nbformat": 4,
 "nbformat_minor": 2
}
