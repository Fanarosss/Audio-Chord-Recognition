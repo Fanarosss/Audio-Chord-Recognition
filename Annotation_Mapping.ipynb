{
 "cells": [
  {
   "cell_type": "markdown",
   "metadata": {},
   "source": [
    "<h2>Chord Representation and Indexing with Spectrograms</h2>\n",
    "<br>\n",
    "In this Notebook we are going to explore a different approach on the preprocessing of chord annotations and spectrogramms.<br>\n",
    "We used one hot encodings for every timestep of the spectrogram, and saw the enormous amount of memory that was needed.<br>\n",
    "<br>\n",
    "<h3>Chord Representations</h3>\n",
    "<b>Idea: </b> Instead of having one hot vectors of size N, where N is the number of unique chords in the dataset, we will connect the notes with the chords. Meaning, a <b>G</b> chord is comprised of a G, B and a D. <b>G7</b> is comprised of G,B,D,F. <b>C#</b> is comprised of C#,E#(F),A#. Etc.<br>\n",
    "<br>\n",
    "So, let's build a tool, that will <u>map</u> <b>Chords to Notes</b> and <b>Notes to Chords</b><br>"
   ]
  },
  {
   "cell_type": "code",
   "execution_count": 4,
   "metadata": {},
   "outputs": [],
   "source": [
    "def Chord_to_Notes():\n",
    "    return"
   ]
  },
  {
   "cell_type": "code",
   "execution_count": 5,
   "metadata": {},
   "outputs": [],
   "source": [
    "def Notes_to_Chord():\n",
    "    return"
   ]
  },
  {
   "cell_type": "markdown",
   "metadata": {},
   "source": [
    "After we built these tools, we will create a dataset, where the encodings of each chord won't be of size (407,1) but of (#NumberOfNotes,1)"
   ]
  },
  {
   "cell_type": "code",
   "execution_count": null,
   "metadata": {},
   "outputs": [],
   "source": []
  }
 ],
 "metadata": {
  "kernelspec": {
   "display_name": "Python 3",
   "language": "python",
   "name": "python3"
  },
  "language_info": {
   "codemirror_mode": {
    "name": "ipython",
    "version": 3
   },
   "file_extension": ".py",
   "mimetype": "text/x-python",
   "name": "python",
   "nbconvert_exporter": "python",
   "pygments_lexer": "ipython3",
   "version": "3.7.4"
  }
 },
 "nbformat": 4,
 "nbformat_minor": 2
}
